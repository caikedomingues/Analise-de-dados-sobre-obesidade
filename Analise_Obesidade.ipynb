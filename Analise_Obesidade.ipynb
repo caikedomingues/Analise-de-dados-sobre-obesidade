{
 "cells": [
  {
   "cell_type": "markdown",
   "metadata": {},
   "source": [
    "                             Sobre o conjunto de dados\n",
    "\n",
    "Visão geral:\n",
    "Este conjunto de dados inclui dados para a estimativa dos níveis de obesidade em indivíduos dos países do México, Peru e Colômbia, com base em seus hábitos alimentares e condição física.\n",
    "Os dados contêm 17 atributos e 2111 registros, os registros são rotulados com a variável de classe NObesity (Nível de obesidade), que permite a classificação dos dados usando os valores de Peso insuficiente, Peso normal, Sobrepeso nível I, Sobrepeso nível II, Obesidade tipo I, Obesidade tipo II e Obesidade tipo III."
   ]
  },
  {
   "cell_type": "markdown",
   "metadata": {},
   "source": [
    "                        Detalhes da base de dadosDetalhes dos dados:\n",
    "\n",
    "Gênero: Gênero\n",
    "Idade: Idade\n",
    "Altura: em metros\n",
    "Peso: em kgs\n",
    "family_history: Algum membro da família sofreu ou sofre de excesso de peso?\n",
    "FAVC: Você come alimentos altamente calóricos com frequência?\n",
    "FCVC: Você costuma comer vegetais nas suas refeições?\n",
    "NCP: Quantas refeições principais você faz diariamente?\n",
    "CAEC: Você come alguma coisa entre as refeições?\n",
    "FUMAÇA: Você fuma?\n",
    "CH2O: Quanta água você bebe diariamente?\n",
    "SCC: Você monitora as calorias que ingere diariamente?\n",
    "FAF: Com que frequência você pratica atividade física?\n",
    "TER: Quanto tempo você usa dispositivos tecnológicos como celular, videogame, televisão, computador e outros?\n",
    "CALC: Com que frequência você bebe álcool?\n",
    "MTRANS: Qual meio de transporte você costuma usar?\n",
    "Nível de obesidade (coluna alvo): Nível de obesidade\n"
   ]
  },
  {
   "cell_type": "markdown",
   "metadata": {},
   "source": [
    "Import das bibliotecas necessárias para a análise"
   ]
  },
  {
   "cell_type": "code",
   "execution_count": 1,
   "metadata": {},
   "outputs": [],
   "source": [
    "# Import da biblioteca que irá acessar e manipular os dados\n",
    "import pandas as pd\n",
    "\n",
    "# Import da biblioteca que irá manipular, exibir e criar gráficos\n",
    "import matplotlib.pyplot as plt\n",
    "\n",
    "# Import da bivlioteca que irá possibilitar a criação de vários\n",
    "# tipos de gráficos (é baseado no matplotlib)\n",
    "import seaborn as sns\n",
    "\n",
    "# Import da biblioteca que serve para manipular e\n",
    "# realizar operações com arrays\n",
    "\n",
    "import numpy as np"
   ]
  },
  {
   "cell_type": "markdown",
   "metadata": {},
   "source": [
    "Acessando a base de dados"
   ]
  },
  {
   "cell_type": "code",
   "execution_count": 2,
   "metadata": {},
   "outputs": [],
   "source": [
    "base_dados = pd.read_csv('Obesity prediction.csv')"
   ]
  },
  {
   "cell_type": "markdown",
   "metadata": {},
   "source": [
    "Analisando as 10 primeiras linhas"
   ]
  },
  {
   "cell_type": "code",
   "execution_count": 3,
   "metadata": {},
   "outputs": [
    {
     "data": {
      "text/html": [
       "<div>\n",
       "<style scoped>\n",
       "    .dataframe tbody tr th:only-of-type {\n",
       "        vertical-align: middle;\n",
       "    }\n",
       "\n",
       "    .dataframe tbody tr th {\n",
       "        vertical-align: top;\n",
       "    }\n",
       "\n",
       "    .dataframe thead th {\n",
       "        text-align: right;\n",
       "    }\n",
       "</style>\n",
       "<table border=\"1\" class=\"dataframe\">\n",
       "  <thead>\n",
       "    <tr style=\"text-align: right;\">\n",
       "      <th></th>\n",
       "      <th>Gender</th>\n",
       "      <th>Age</th>\n",
       "      <th>Height</th>\n",
       "      <th>Weight</th>\n",
       "      <th>family_history</th>\n",
       "      <th>FAVC</th>\n",
       "      <th>FCVC</th>\n",
       "      <th>NCP</th>\n",
       "      <th>CAEC</th>\n",
       "      <th>SMOKE</th>\n",
       "      <th>CH2O</th>\n",
       "      <th>SCC</th>\n",
       "      <th>FAF</th>\n",
       "      <th>TUE</th>\n",
       "      <th>CALC</th>\n",
       "      <th>MTRANS</th>\n",
       "      <th>Obesity</th>\n",
       "    </tr>\n",
       "  </thead>\n",
       "  <tbody>\n",
       "    <tr>\n",
       "      <th>0</th>\n",
       "      <td>Female</td>\n",
       "      <td>21.0</td>\n",
       "      <td>1.62</td>\n",
       "      <td>64.0</td>\n",
       "      <td>yes</td>\n",
       "      <td>no</td>\n",
       "      <td>2.0</td>\n",
       "      <td>3.0</td>\n",
       "      <td>Sometimes</td>\n",
       "      <td>no</td>\n",
       "      <td>2.0</td>\n",
       "      <td>no</td>\n",
       "      <td>0.0</td>\n",
       "      <td>1.0</td>\n",
       "      <td>no</td>\n",
       "      <td>Public_Transportation</td>\n",
       "      <td>Normal_Weight</td>\n",
       "    </tr>\n",
       "    <tr>\n",
       "      <th>1</th>\n",
       "      <td>Female</td>\n",
       "      <td>21.0</td>\n",
       "      <td>1.52</td>\n",
       "      <td>56.0</td>\n",
       "      <td>yes</td>\n",
       "      <td>no</td>\n",
       "      <td>3.0</td>\n",
       "      <td>3.0</td>\n",
       "      <td>Sometimes</td>\n",
       "      <td>yes</td>\n",
       "      <td>3.0</td>\n",
       "      <td>yes</td>\n",
       "      <td>3.0</td>\n",
       "      <td>0.0</td>\n",
       "      <td>Sometimes</td>\n",
       "      <td>Public_Transportation</td>\n",
       "      <td>Normal_Weight</td>\n",
       "    </tr>\n",
       "    <tr>\n",
       "      <th>2</th>\n",
       "      <td>Male</td>\n",
       "      <td>23.0</td>\n",
       "      <td>1.80</td>\n",
       "      <td>77.0</td>\n",
       "      <td>yes</td>\n",
       "      <td>no</td>\n",
       "      <td>2.0</td>\n",
       "      <td>3.0</td>\n",
       "      <td>Sometimes</td>\n",
       "      <td>no</td>\n",
       "      <td>2.0</td>\n",
       "      <td>no</td>\n",
       "      <td>2.0</td>\n",
       "      <td>1.0</td>\n",
       "      <td>Frequently</td>\n",
       "      <td>Public_Transportation</td>\n",
       "      <td>Normal_Weight</td>\n",
       "    </tr>\n",
       "    <tr>\n",
       "      <th>3</th>\n",
       "      <td>Male</td>\n",
       "      <td>27.0</td>\n",
       "      <td>1.80</td>\n",
       "      <td>87.0</td>\n",
       "      <td>no</td>\n",
       "      <td>no</td>\n",
       "      <td>3.0</td>\n",
       "      <td>3.0</td>\n",
       "      <td>Sometimes</td>\n",
       "      <td>no</td>\n",
       "      <td>2.0</td>\n",
       "      <td>no</td>\n",
       "      <td>2.0</td>\n",
       "      <td>0.0</td>\n",
       "      <td>Frequently</td>\n",
       "      <td>Walking</td>\n",
       "      <td>Overweight_Level_I</td>\n",
       "    </tr>\n",
       "    <tr>\n",
       "      <th>4</th>\n",
       "      <td>Male</td>\n",
       "      <td>22.0</td>\n",
       "      <td>1.78</td>\n",
       "      <td>89.8</td>\n",
       "      <td>no</td>\n",
       "      <td>no</td>\n",
       "      <td>2.0</td>\n",
       "      <td>1.0</td>\n",
       "      <td>Sometimes</td>\n",
       "      <td>no</td>\n",
       "      <td>2.0</td>\n",
       "      <td>no</td>\n",
       "      <td>0.0</td>\n",
       "      <td>0.0</td>\n",
       "      <td>Sometimes</td>\n",
       "      <td>Public_Transportation</td>\n",
       "      <td>Overweight_Level_II</td>\n",
       "    </tr>\n",
       "    <tr>\n",
       "      <th>5</th>\n",
       "      <td>Male</td>\n",
       "      <td>29.0</td>\n",
       "      <td>1.62</td>\n",
       "      <td>53.0</td>\n",
       "      <td>no</td>\n",
       "      <td>yes</td>\n",
       "      <td>2.0</td>\n",
       "      <td>3.0</td>\n",
       "      <td>Sometimes</td>\n",
       "      <td>no</td>\n",
       "      <td>2.0</td>\n",
       "      <td>no</td>\n",
       "      <td>0.0</td>\n",
       "      <td>0.0</td>\n",
       "      <td>Sometimes</td>\n",
       "      <td>Automobile</td>\n",
       "      <td>Normal_Weight</td>\n",
       "    </tr>\n",
       "    <tr>\n",
       "      <th>6</th>\n",
       "      <td>Female</td>\n",
       "      <td>23.0</td>\n",
       "      <td>1.50</td>\n",
       "      <td>55.0</td>\n",
       "      <td>yes</td>\n",
       "      <td>yes</td>\n",
       "      <td>3.0</td>\n",
       "      <td>3.0</td>\n",
       "      <td>Sometimes</td>\n",
       "      <td>no</td>\n",
       "      <td>2.0</td>\n",
       "      <td>no</td>\n",
       "      <td>1.0</td>\n",
       "      <td>0.0</td>\n",
       "      <td>Sometimes</td>\n",
       "      <td>Motorbike</td>\n",
       "      <td>Normal_Weight</td>\n",
       "    </tr>\n",
       "    <tr>\n",
       "      <th>7</th>\n",
       "      <td>Male</td>\n",
       "      <td>22.0</td>\n",
       "      <td>1.64</td>\n",
       "      <td>53.0</td>\n",
       "      <td>no</td>\n",
       "      <td>no</td>\n",
       "      <td>2.0</td>\n",
       "      <td>3.0</td>\n",
       "      <td>Sometimes</td>\n",
       "      <td>no</td>\n",
       "      <td>2.0</td>\n",
       "      <td>no</td>\n",
       "      <td>3.0</td>\n",
       "      <td>0.0</td>\n",
       "      <td>Sometimes</td>\n",
       "      <td>Public_Transportation</td>\n",
       "      <td>Normal_Weight</td>\n",
       "    </tr>\n",
       "    <tr>\n",
       "      <th>8</th>\n",
       "      <td>Male</td>\n",
       "      <td>24.0</td>\n",
       "      <td>1.78</td>\n",
       "      <td>64.0</td>\n",
       "      <td>yes</td>\n",
       "      <td>yes</td>\n",
       "      <td>3.0</td>\n",
       "      <td>3.0</td>\n",
       "      <td>Sometimes</td>\n",
       "      <td>no</td>\n",
       "      <td>2.0</td>\n",
       "      <td>no</td>\n",
       "      <td>1.0</td>\n",
       "      <td>1.0</td>\n",
       "      <td>Frequently</td>\n",
       "      <td>Public_Transportation</td>\n",
       "      <td>Normal_Weight</td>\n",
       "    </tr>\n",
       "    <tr>\n",
       "      <th>9</th>\n",
       "      <td>Male</td>\n",
       "      <td>22.0</td>\n",
       "      <td>1.72</td>\n",
       "      <td>68.0</td>\n",
       "      <td>yes</td>\n",
       "      <td>yes</td>\n",
       "      <td>2.0</td>\n",
       "      <td>3.0</td>\n",
       "      <td>Sometimes</td>\n",
       "      <td>no</td>\n",
       "      <td>2.0</td>\n",
       "      <td>no</td>\n",
       "      <td>1.0</td>\n",
       "      <td>1.0</td>\n",
       "      <td>no</td>\n",
       "      <td>Public_Transportation</td>\n",
       "      <td>Normal_Weight</td>\n",
       "    </tr>\n",
       "  </tbody>\n",
       "</table>\n",
       "</div>"
      ],
      "text/plain": [
       "   Gender   Age  Height  Weight family_history FAVC  FCVC  NCP       CAEC  \\\n",
       "0  Female  21.0    1.62    64.0            yes   no   2.0  3.0  Sometimes   \n",
       "1  Female  21.0    1.52    56.0            yes   no   3.0  3.0  Sometimes   \n",
       "2    Male  23.0    1.80    77.0            yes   no   2.0  3.0  Sometimes   \n",
       "3    Male  27.0    1.80    87.0             no   no   3.0  3.0  Sometimes   \n",
       "4    Male  22.0    1.78    89.8             no   no   2.0  1.0  Sometimes   \n",
       "5    Male  29.0    1.62    53.0             no  yes   2.0  3.0  Sometimes   \n",
       "6  Female  23.0    1.50    55.0            yes  yes   3.0  3.0  Sometimes   \n",
       "7    Male  22.0    1.64    53.0             no   no   2.0  3.0  Sometimes   \n",
       "8    Male  24.0    1.78    64.0            yes  yes   3.0  3.0  Sometimes   \n",
       "9    Male  22.0    1.72    68.0            yes  yes   2.0  3.0  Sometimes   \n",
       "\n",
       "  SMOKE  CH2O  SCC  FAF  TUE        CALC                 MTRANS  \\\n",
       "0    no   2.0   no  0.0  1.0          no  Public_Transportation   \n",
       "1   yes   3.0  yes  3.0  0.0   Sometimes  Public_Transportation   \n",
       "2    no   2.0   no  2.0  1.0  Frequently  Public_Transportation   \n",
       "3    no   2.0   no  2.0  0.0  Frequently                Walking   \n",
       "4    no   2.0   no  0.0  0.0   Sometimes  Public_Transportation   \n",
       "5    no   2.0   no  0.0  0.0   Sometimes             Automobile   \n",
       "6    no   2.0   no  1.0  0.0   Sometimes              Motorbike   \n",
       "7    no   2.0   no  3.0  0.0   Sometimes  Public_Transportation   \n",
       "8    no   2.0   no  1.0  1.0  Frequently  Public_Transportation   \n",
       "9    no   2.0   no  1.0  1.0          no  Public_Transportation   \n",
       "\n",
       "               Obesity  \n",
       "0        Normal_Weight  \n",
       "1        Normal_Weight  \n",
       "2        Normal_Weight  \n",
       "3   Overweight_Level_I  \n",
       "4  Overweight_Level_II  \n",
       "5        Normal_Weight  \n",
       "6        Normal_Weight  \n",
       "7        Normal_Weight  \n",
       "8        Normal_Weight  \n",
       "9        Normal_Weight  "
      ]
     },
     "execution_count": 3,
     "metadata": {},
     "output_type": "execute_result"
    }
   ],
   "source": [
    "base_dados.head(10)"
   ]
  },
  {
   "cell_type": "markdown",
   "metadata": {},
   "source": [
    "Para facilitar o trabalho, vamos renomear as colunas da tabela"
   ]
  },
  {
   "cell_type": "code",
   "execution_count": 4,
   "metadata": {},
   "outputs": [],
   "source": [
    "base_dados.rename(columns={\n",
    "    \n",
    "    'Gender': 'Genero',\n",
    "    'Age': 'Idade',\n",
    "    'Height': 'Altura',\n",
    "    'Weight': 'Peso',\n",
    "    'family_history':'Historico_Familiar',\n",
    "    'FAVC': 'Frequencia_em_alimentos_caloricos',\n",
    "    'FCVC': 'Come_vegetais_nas_refeiçoes',\n",
    "    'NCP': 'Quant_refeiçoes_principais',\n",
    "    'CAEC':'Come_algo_entre_as_refeiçoes',\n",
    "    'SMOKE': 'Fuma',\n",
    "    'CH2O': 'Quant_agua_ingerida_diariamente',\n",
    "    'SCC': 'Monitora_calorias_diariamente',\n",
    "    'FAF': 'Frequencia_de_atividade_fisica',\n",
    "    'TUE': 'Tempo_em_dispositivos_eletronicos',\n",
    "    'CALC':'Frequencia_que_ingere_alcool',\n",
    "    'MTRANS': 'Transporte_utilizado',\n",
    "    'Obesity': 'Nivel_Obesidade'\n",
    "    \n",
    "    \n",
    "}, inplace=True)"
   ]
  },
  {
   "cell_type": "markdown",
   "metadata": {},
   "source": [
    "Verificando se as colunas foram alteradas"
   ]
  },
  {
   "cell_type": "code",
   "execution_count": 5,
   "metadata": {},
   "outputs": [
    {
     "data": {
      "text/plain": [
       "Index(['Genero', 'Idade', 'Altura', 'Peso', 'Historico_Familiar',\n",
       "       'Frequencia_em_alimentos_caloricos', 'Come_vegetais_nas_refeiçoes',\n",
       "       'Quant_refeiçoes_principais', 'Come_algo_entre_as_refeiçoes', 'Fuma',\n",
       "       'Quant_agua_ingerida_diariamente', 'Monitora_calorias_diariamente',\n",
       "       'Frequencia_de_atividade_fisica', 'Tempo_em_dispositivos_eletronicos',\n",
       "       'Frequencia_que_ingere_alcool', 'Transporte_utilizado',\n",
       "       'Nivel_Obesidade'],\n",
       "      dtype='object')"
      ]
     },
     "execution_count": 5,
     "metadata": {},
     "output_type": "execute_result"
    }
   ],
   "source": [
    "base_dados.columns"
   ]
  },
  {
   "cell_type": "markdown",
   "metadata": {},
   "source": [
    "Verificando o tipo de cada tabela"
   ]
  },
  {
   "cell_type": "code",
   "execution_count": 6,
   "metadata": {},
   "outputs": [
    {
     "data": {
      "text/plain": [
       "Genero                                object\n",
       "Idade                                float64\n",
       "Altura                               float64\n",
       "Peso                                 float64\n",
       "Historico_Familiar                    object\n",
       "Frequencia_em_alimentos_caloricos     object\n",
       "Come_vegetais_nas_refeiçoes          float64\n",
       "Quant_refeiçoes_principais           float64\n",
       "Come_algo_entre_as_refeiçoes          object\n",
       "Fuma                                  object\n",
       "Quant_agua_ingerida_diariamente      float64\n",
       "Monitora_calorias_diariamente         object\n",
       "Frequencia_de_atividade_fisica       float64\n",
       "Tempo_em_dispositivos_eletronicos    float64\n",
       "Frequencia_que_ingere_alcool          object\n",
       "Transporte_utilizado                  object\n",
       "Nivel_Obesidade                       object\n",
       "dtype: object"
      ]
     },
     "execution_count": 6,
     "metadata": {},
     "output_type": "execute_result"
    }
   ],
   "source": [
    "base_dados.dtypes"
   ]
  },
  {
   "cell_type": "markdown",
   "metadata": {},
   "source": [
    "Verificando a quantidade de valores nulos"
   ]
  },
  {
   "cell_type": "code",
   "execution_count": 7,
   "metadata": {},
   "outputs": [
    {
     "data": {
      "text/plain": [
       "Genero                               0\n",
       "Idade                                0\n",
       "Altura                               0\n",
       "Peso                                 0\n",
       "Historico_Familiar                   0\n",
       "Frequencia_em_alimentos_caloricos    0\n",
       "Come_vegetais_nas_refeiçoes          0\n",
       "Quant_refeiçoes_principais           0\n",
       "Come_algo_entre_as_refeiçoes         0\n",
       "Fuma                                 0\n",
       "Quant_agua_ingerida_diariamente      0\n",
       "Monitora_calorias_diariamente        0\n",
       "Frequencia_de_atividade_fisica       0\n",
       "Tempo_em_dispositivos_eletronicos    0\n",
       "Frequencia_que_ingere_alcool         0\n",
       "Transporte_utilizado                 0\n",
       "Nivel_Obesidade                      0\n",
       "dtype: int64"
      ]
     },
     "execution_count": 7,
     "metadata": {},
     "output_type": "execute_result"
    }
   ],
   "source": [
    "base_dados.isnull().sum()"
   ]
  },
  {
   "cell_type": "markdown",
   "metadata": {},
   "source": [
    "Verificando a quantidade de linhas e colunas da tabela"
   ]
  },
  {
   "cell_type": "code",
   "execution_count": 8,
   "metadata": {},
   "outputs": [
    {
     "data": {
      "text/plain": [
       "(2111, 17)"
      ]
     },
     "execution_count": 8,
     "metadata": {},
     "output_type": "execute_result"
    }
   ],
   "source": [
    "base_dados.shape"
   ]
  },
  {
   "cell_type": "markdown",
   "metadata": {},
   "source": [
    "                                     ANÁLISE DESCRITIVA"
   ]
  },
  {
   "cell_type": "markdown",
   "metadata": {},
   "source": [
    "Medidas de tendência central: Calcular a média, mediana e a moda para variáveis numéricas como idade, altura, peso, quantidade de refeições principais, quantidade de água ingerida diaramente e tempo em dispositivos eletrônicos"
   ]
  },
  {
   "cell_type": "markdown",
   "metadata": {},
   "source": [
    "Média: média aritmética dos valores da coluna\n",
    "\n",
    "Moda: Valor que aparece com mais frequência em um conjunto de valores\n",
    "\n",
    "mediana: Valor que se encontra no centro de um conjunto de valores."
   ]
  },
  {
   "cell_type": "markdown",
   "metadata": {},
   "source": [
    "Visualizando novamente os nomes das colunas para facilitar a criação da solução"
   ]
  },
  {
   "cell_type": "code",
   "execution_count": 9,
   "metadata": {},
   "outputs": [
    {
     "data": {
      "text/plain": [
       "Index(['Genero', 'Idade', 'Altura', 'Peso', 'Historico_Familiar',\n",
       "       'Frequencia_em_alimentos_caloricos', 'Come_vegetais_nas_refeiçoes',\n",
       "       'Quant_refeiçoes_principais', 'Come_algo_entre_as_refeiçoes', 'Fuma',\n",
       "       'Quant_agua_ingerida_diariamente', 'Monitora_calorias_diariamente',\n",
       "       'Frequencia_de_atividade_fisica', 'Tempo_em_dispositivos_eletronicos',\n",
       "       'Frequencia_que_ingere_alcool', 'Transporte_utilizado',\n",
       "       'Nivel_Obesidade'],\n",
       "      dtype='object')"
      ]
     },
     "execution_count": 9,
     "metadata": {},
     "output_type": "execute_result"
    }
   ],
   "source": [
    "base_dados.columns"
   ]
  },
  {
   "cell_type": "markdown",
   "metadata": {},
   "source": [
    "primeiro, vamos criar uma função para facilitar o nosso processo, já que, com a\n",
    "criação dela, não precisaremos repetir o processo várias vezes"
   ]
  },
  {
   "cell_type": "code",
   "execution_count": 6,
   "metadata": {},
   "outputs": [],
   "source": [
    "# A função terá como objetivo mostrar no console a média, a mediana e a moda\n",
    "# de cada coluna. A função ira receber como parametro o nome da coluna que \n",
    "# terá os valores impressos\n",
    "\n",
    "# Criação da função que ira imprimir os valores\n",
    "def imprimirValores(coluna):\n",
    "    \n",
    "    # impressão dos valores\n",
    "    \n",
    "    # Name: Ira mostrar o nome da coluna informada nos colchetes da base de dados\n",
    "    \n",
    "    # round: Serve para arredontar os valores. Basicamente, ele analisa se o primeiro\n",
    "    # valor após a virgula é menor ou maior que 5, se for maior ele arredonta pra cima,\n",
    "    # se for menor que 5 ele arredonta pra baixo. A função recebe 2 valores o valor e \n",
    "    # a quatidade de casas decimais que devem aparecer após a virgula.\n",
    "    \n",
    "    # mean: Cálcula a média dos valores\n",
    "    \n",
    "    # median: calcula a mediana dos valores\n",
    "    \n",
    "    # mode: Cálcula a moda dos valores. Ira retorna 2 valores: o indice da moda \n",
    "    # (pois pode haver mais de uma moda) e o valor da moda em si\n",
    "    \n",
    "    print(\"Média dos valores da coluna de \", base_dados[coluna].name,\": \", round(base_dados[coluna].mean(), 2))\n",
    "    \n",
    "    print(\"Mediana dos valores da coluna de \", base_dados[coluna].name,\": \", round(base_dados[coluna].median(), 2))\n",
    "    \n",
    "    print(\"Moda dos valores da coluna de \", base_dados[coluna].name,\": \", round(base_dados[coluna].mode(), 2))"
   ]
  },
  {
   "cell_type": "markdown",
   "metadata": {},
   "source": [
    "Calculando os valores da idade"
   ]
  },
  {
   "cell_type": "code",
   "execution_count": 7,
   "metadata": {},
   "outputs": [
    {
     "name": "stdout",
     "output_type": "stream",
     "text": [
      "Média dos valores da coluna de  Idade :  24.31\n",
      "Mediana dos valores da coluna de  Idade :  22.78\n",
      "Moda dos valores da coluna de  Idade :  0    18.0\n",
      "Name: Idade, dtype: float64\n"
     ]
    }
   ],
   "source": [
    "# Chamada da função\n",
    "\n",
    "imprimirValores('Idade')"
   ]
  },
  {
   "cell_type": "markdown",
   "metadata": {},
   "source": [
    "Calculando os valores da altura"
   ]
  },
  {
   "cell_type": "code",
   "execution_count": 8,
   "metadata": {},
   "outputs": [
    {
     "name": "stdout",
     "output_type": "stream",
     "text": [
      "Média dos valores da coluna de  Altura :  1.7\n",
      "Mediana dos valores da coluna de  Altura :  1.7\n",
      "Moda dos valores da coluna de  Altura :  0    1.7\n",
      "Name: Altura, dtype: float64\n"
     ]
    }
   ],
   "source": [
    "# Chamada da função\n",
    "\n",
    "imprimirValores('Altura')"
   ]
  },
  {
   "cell_type": "markdown",
   "metadata": {},
   "source": [
    "Calculando os valores da coluna de peso"
   ]
  },
  {
   "cell_type": "code",
   "execution_count": 9,
   "metadata": {},
   "outputs": [
    {
     "name": "stdout",
     "output_type": "stream",
     "text": [
      "Média dos valores da coluna de  Peso :  86.59\n",
      "Mediana dos valores da coluna de  Peso :  83.0\n",
      "Moda dos valores da coluna de  Peso :  0    80.0\n",
      "Name: Peso, dtype: float64\n"
     ]
    }
   ],
   "source": [
    "# Chamada da função\n",
    "\n",
    "imprimirValores('Peso')"
   ]
  },
  {
   "cell_type": "markdown",
   "metadata": {},
   "source": [
    "Valores da coluna de quantidade de refeições principais"
   ]
  },
  {
   "cell_type": "code",
   "execution_count": 10,
   "metadata": {},
   "outputs": [
    {
     "name": "stdout",
     "output_type": "stream",
     "text": [
      "Média dos valores da coluna de  Quant_refeiçoes_principais :  2.69\n",
      "Mediana dos valores da coluna de  Quant_refeiçoes_principais :  3.0\n",
      "Moda dos valores da coluna de  Quant_refeiçoes_principais :  0    3.0\n",
      "Name: Quant_refeiçoes_principais, dtype: float64\n"
     ]
    }
   ],
   "source": [
    "# chamada do método\n",
    "\n",
    "imprimirValores('Quant_refeiçoes_principais')"
   ]
  },
  {
   "cell_type": "markdown",
   "metadata": {},
   "source": [
    "Valores da coluna de quantidade de agua ingerida diariamente"
   ]
  },
  {
   "cell_type": "code",
   "execution_count": 11,
   "metadata": {},
   "outputs": [
    {
     "name": "stdout",
     "output_type": "stream",
     "text": [
      "Média dos valores da coluna de  Quant_agua_ingerida_diariamente :  2.01\n",
      "Mediana dos valores da coluna de  Quant_agua_ingerida_diariamente :  2.0\n",
      "Moda dos valores da coluna de  Quant_agua_ingerida_diariamente :  0    2.0\n",
      "Name: Quant_agua_ingerida_diariamente, dtype: float64\n"
     ]
    }
   ],
   "source": [
    "# chamada da função\n",
    "\n",
    "imprimirValores('Quant_agua_ingerida_diariamente')"
   ]
  },
  {
   "cell_type": "markdown",
   "metadata": {},
   "source": [
    "Valores da coluna de quantidade de tempo em dispositivos eletrônicos"
   ]
  },
  {
   "cell_type": "code",
   "execution_count": 12,
   "metadata": {},
   "outputs": [
    {
     "name": "stdout",
     "output_type": "stream",
     "text": [
      "Média dos valores da coluna de  Tempo_em_dispositivos_eletronicos :  0.66\n",
      "Mediana dos valores da coluna de  Tempo_em_dispositivos_eletronicos :  0.63\n",
      "Moda dos valores da coluna de  Tempo_em_dispositivos_eletronicos :  0    0.0\n",
      "Name: Tempo_em_dispositivos_eletronicos, dtype: float64\n"
     ]
    }
   ],
   "source": [
    "# Chamada da função\n",
    "\n",
    "imprimirValores('Tempo_em_dispositivos_eletronicos')"
   ]
  },
  {
   "cell_type": "markdown",
   "metadata": {},
   "source": [
    "Medidas de dispersão: Calcular o desvio padrão e variância para as mesmas\n",
    "variáveis"
   ]
  },
  {
   "cell_type": "markdown",
   "metadata": {},
   "source": [
    "Desvio padrão: distância que os valores estão da média \n",
    "\n",
    "Variância:  A variância nos mostra a dispersão dos dados em relação à média, mas ela é expressa em unidades ao quadrado. Isso significa que, se os dados originais forem em metros, a variância estará em metros quadrados. Essa unidade pode dificultar a interpretação direta."
   ]
  },
  {
   "cell_type": "markdown",
   "metadata": {},
   "source": [
    "Vamos seguir a mesma pratica de anteriormente, vamos criar uma função\n",
    "para realizar a mesma tarefa quantas vezes for necessária"
   ]
  },
  {
   "cell_type": "code",
   "execution_count": 13,
   "metadata": {},
   "outputs": [
    {
     "data": {
      "text/plain": [
       "Index(['Genero', 'Idade', 'Altura', 'Peso', 'Historico_Familiar',\n",
       "       'Frequencia_em_alimentos_caloricos', 'Come_vegetais_nas_refeiçoes',\n",
       "       'Quant_refeiçoes_principais', 'Come_algo_entre_as_refeiçoes', 'Fuma',\n",
       "       'Quant_agua_ingerida_diariamente', 'Monitora_calorias_diariamente',\n",
       "       'Frequencia_de_atividade_fisica', 'Tempo_em_dispositivos_eletronicos',\n",
       "       'Frequencia_que_ingere_alcool', 'Transporte_utilizado',\n",
       "       'Nivel_Obesidade'],\n",
       "      dtype='object')"
      ]
     },
     "execution_count": 13,
     "metadata": {},
     "output_type": "execute_result"
    }
   ],
   "source": [
    "base_dados.columns"
   ]
  },
  {
   "cell_type": "code",
   "execution_count": 14,
   "metadata": {},
   "outputs": [],
   "source": [
    "# Função que irá calcular a variância e o desvio padrão \n",
    "# das colunas numéricas\n",
    "def calc_desvio_variancia(coluna):\n",
    "    \n",
    "    # Variável que irá conter a função std da biblioteca numpy \n",
    "    # que tem como objetivo calcular o desvio padrão de uma\n",
    "    # coluna numérica\n",
    "    desvio_padrao = np.std(base_dados[coluna])\n",
    "    \n",
    "    # Variável que irá conter a função var da biblioteca numpy\n",
    "    # que tem como objetivo calcular a variância de uma coluna\n",
    "    # numérica.\n",
    "    variancia = np.var(base_dados[coluna])\n",
    "    \n",
    "    # Impressão dos resultados com o round que ira limitar a aparição de casas após a virgula, \n",
    "    # no nosso caso queremos apenas 2 casas após a virgula.\n",
    "    # O name ira capturar apenas o nome da coluna\n",
    "    print('Desvio padrão da coluna de ', base_dados[coluna].name,\": \", round(desvio_padrao, 2))\n",
    "    print('Variância da coluna de ', base_dados[coluna].name,\": \", round(variancia, 2))\n",
    "    \n",
    "    "
   ]
  },
  {
   "cell_type": "markdown",
   "metadata": {},
   "source": [
    "Desvio padrão e variância da coluna de idade"
   ]
  },
  {
   "cell_type": "code",
   "execution_count": 15,
   "metadata": {},
   "outputs": [
    {
     "name": "stdout",
     "output_type": "stream",
     "text": [
      "Desvio padrão da coluna de  Idade :  6.34\n",
      "Variância da coluna de  Idade :  40.25\n"
     ]
    }
   ],
   "source": [
    "calc_desvio_variancia('Idade')"
   ]
  },
  {
   "cell_type": "markdown",
   "metadata": {},
   "source": [
    "Desvio padrão e variância da coluna de altura"
   ]
  },
  {
   "cell_type": "code",
   "execution_count": 16,
   "metadata": {},
   "outputs": [
    {
     "name": "stdout",
     "output_type": "stream",
     "text": [
      "Desvio padrão da coluna de  Altura :  0.09\n",
      "Variância da coluna de  Altura :  0.01\n"
     ]
    }
   ],
   "source": [
    "calc_desvio_variancia('Altura')"
   ]
  },
  {
   "cell_type": "markdown",
   "metadata": {},
   "source": [
    "Desvio padrão e variância da coluna de peso"
   ]
  },
  {
   "cell_type": "code",
   "execution_count": 17,
   "metadata": {},
   "outputs": [
    {
     "name": "stdout",
     "output_type": "stream",
     "text": [
      "Desvio padrão da coluna de  Peso :  26.18\n",
      "Variância da coluna de  Peso :  685.65\n"
     ]
    }
   ],
   "source": [
    "calc_desvio_variancia('Peso')"
   ]
  },
  {
   "cell_type": "markdown",
   "metadata": {},
   "source": [
    "Desvio padrão e variância da coluna de quantidade de refeições principais"
   ]
  },
  {
   "cell_type": "code",
   "execution_count": 18,
   "metadata": {},
   "outputs": [
    {
     "name": "stdout",
     "output_type": "stream",
     "text": [
      "Desvio padrão da coluna de  Quant_refeiçoes_principais :  0.78\n",
      "Variância da coluna de  Quant_refeiçoes_principais :  0.61\n"
     ]
    }
   ],
   "source": [
    "calc_desvio_variancia('Quant_refeiçoes_principais')"
   ]
  },
  {
   "cell_type": "markdown",
   "metadata": {},
   "source": [
    "Desvio padrão e variância da coluna de quantidade de agua ingerida diariamente"
   ]
  },
  {
   "cell_type": "code",
   "execution_count": 19,
   "metadata": {},
   "outputs": [
    {
     "name": "stdout",
     "output_type": "stream",
     "text": [
      "Desvio padrão da coluna de  Quant_agua_ingerida_diariamente :  0.61\n",
      "Variância da coluna de  Quant_agua_ingerida_diariamente :  0.38\n"
     ]
    }
   ],
   "source": [
    "calc_desvio_variancia('Quant_agua_ingerida_diariamente')"
   ]
  },
  {
   "cell_type": "markdown",
   "metadata": {},
   "source": [
    "Variância e desvio padrão da coluna de tempo em dispositivos eletrônicos"
   ]
  },
  {
   "cell_type": "code",
   "execution_count": 20,
   "metadata": {},
   "outputs": [
    {
     "name": "stdout",
     "output_type": "stream",
     "text": [
      "Desvio padrão da coluna de  Tempo_em_dispositivos_eletronicos :  0.61\n",
      "Variância da coluna de  Tempo_em_dispositivos_eletronicos :  0.37\n"
     ]
    }
   ],
   "source": [
    "calc_desvio_variancia('Tempo_em_dispositivos_eletronicos')"
   ]
  },
  {
   "cell_type": "markdown",
   "metadata": {},
   "source": [
    "Frequências: Contar a frequência de cada categoria para variáveis categóricas\n",
    "como gênero, histórico familiar, se a pessoa fuma ou não e o transporte utilizado."
   ]
  },
  {
   "cell_type": "markdown",
   "metadata": {},
   "source": [
    "Definição: A frequência representa a quantidade de vezes que os valores únicos de uma coluna\n",
    "aparecem, por exemplo, podemos calcular quantas vezes o valor categórico \"sim\" aparece em uma \n",
    "tabela.\n",
    "Ela pode ser dividida em:\n",
    "\n",
    "frequencia absoluta: Quantidade de vezes que o valor aparece.\n",
    "\n",
    "frequência relativa: Porcentagem das vezes que o valor aparece."
   ]
  },
  {
   "cell_type": "markdown",
   "metadata": {},
   "source": [
    "Criação da função que irá calcular a frequência de cada valor nas colunas categóricas"
   ]
  },
  {
   "cell_type": "code",
   "execution_count": 21,
   "metadata": {},
   "outputs": [],
   "source": [
    "# Função que ira calcular a frequência dos valores.\n",
    "# A função irá receber como parametro o nome da \n",
    "# coluna que queremos calcular a frequência.\n",
    "def calc_frequencia(coluna_categorica):\n",
    "    \n",
    "    # Variável que irá conter a função value_counts que tem como objetivo\n",
    "    # contar a quantidade de vezes um valor aparece na coluna. A função\n",
    "    # recebe como parametro o normalize=True que tem como objetivo calcular\n",
    "    # a frequência relativa (porcentagem das vezes que o valor aparece) dos\n",
    "    # valores da coluna.\n",
    "    calculo_frequência = base_dados[coluna_categorica].value_counts(normalize=True)\n",
    "    \n",
    "    # impressão dos resultados usando o round que ira limitar a aparição de casas decimais\n",
    "    # após a virgula, no nosso caso iremos limitar a apenas 2 casas decimais\n",
    "    print('Calculo da frequência dos valores da coluna: ', round(calculo_frequência,2))\n",
    "    \n",
    "    "
   ]
  },
  {
   "cell_type": "markdown",
   "metadata": {},
   "source": [
    "Visualizando as colunas para facilitar a chamada da função"
   ]
  },
  {
   "cell_type": "code",
   "execution_count": 27,
   "metadata": {},
   "outputs": [
    {
     "data": {
      "text/plain": [
       "Index(['Genero', 'Idade', 'Altura', 'Peso', 'Historico_Familiar',\n",
       "       'Frequencia_em_alimentos_caloricos', 'Come_vegetais_nas_refeiçoes',\n",
       "       'Quant_refeiçoes_principais', 'Come_algo_entre_as_refeiçoes', 'Fuma',\n",
       "       'Quant_agua_ingerida_diariamente', 'Monitora_calorias_diariamente',\n",
       "       'Frequencia_de_atividade_fisica', 'Tempo_em_dispositivos_eletronicos',\n",
       "       'Frequencia_que_ingere_alcool', 'Transporte_utilizado',\n",
       "       'Nivel_Obesidade'],\n",
       "      dtype='object')"
      ]
     },
     "execution_count": 27,
     "metadata": {},
     "output_type": "execute_result"
    }
   ],
   "source": [
    "base_dados.columns"
   ]
  },
  {
   "cell_type": "markdown",
   "metadata": {},
   "source": [
    "Frequência relativa (porcentagem) dos valores da coluna de generos"
   ]
  },
  {
   "cell_type": "code",
   "execution_count": 22,
   "metadata": {},
   "outputs": [
    {
     "name": "stdout",
     "output_type": "stream",
     "text": [
      "Calculo da frequência dos valores da coluna:  Genero\n",
      "Male      0.51\n",
      "Female    0.49\n",
      "Name: proportion, dtype: float64\n"
     ]
    }
   ],
   "source": [
    "calc_frequencia('Genero')"
   ]
  },
  {
   "cell_type": "markdown",
   "metadata": {},
   "source": [
    "frequência relativa (porcentagem) da coluna de históricos familiar"
   ]
  },
  {
   "cell_type": "code",
   "execution_count": 41,
   "metadata": {},
   "outputs": [
    {
     "name": "stdout",
     "output_type": "stream",
     "text": [
      "Calculo da frequência dos valores da coluna:  Historico_Familiar\n",
      "yes    0.82\n",
      "no     0.18\n",
      "Name: proportion, dtype: float64\n"
     ]
    }
   ],
   "source": [
    "calc_frequencia('Historico_Familiar')"
   ]
  },
  {
   "cell_type": "markdown",
   "metadata": {},
   "source": [
    "Porcentagem relativa (porcentagem) da coluna Fuma"
   ]
  },
  {
   "cell_type": "code",
   "execution_count": 42,
   "metadata": {},
   "outputs": [
    {
     "name": "stdout",
     "output_type": "stream",
     "text": [
      "Calculo da frequência dos valores da coluna:  Fuma\n",
      "no     0.98\n",
      "yes    0.02\n",
      "Name: proportion, dtype: float64\n"
     ]
    }
   ],
   "source": [
    "calc_frequencia('Fuma')"
   ]
  },
  {
   "cell_type": "markdown",
   "metadata": {},
   "source": [
    "Porcentagem relativa da coluna de transportes utilizados"
   ]
  },
  {
   "cell_type": "code",
   "execution_count": 44,
   "metadata": {},
   "outputs": [
    {
     "name": "stdout",
     "output_type": "stream",
     "text": [
      "Calculo da frequência dos valores da coluna:  Transporte_utilizado\n",
      "Public_Transportation    0.75\n",
      "Automobile               0.22\n",
      "Walking                  0.03\n",
      "Motorbike                0.01\n",
      "Bike                     0.00\n",
      "Name: proportion, dtype: float64\n"
     ]
    }
   ],
   "source": [
    "calc_frequencia('Transporte_utilizado')"
   ]
  },
  {
   "cell_type": "markdown",
   "metadata": {},
   "source": [
    "Tabelas de Contingência: Criar tabelas cruzadas para analisar a relação entre duas variáveis categóricas, por exemplo, genêro e nivel de obesidade"
   ]
  },
  {
   "cell_type": "markdown",
   "metadata": {},
   "source": [
    "Primeiro vamos filtrar apenas as colunas categóricas para facilitar a \n",
    "visualização das colunas que temos que trabalhar."
   ]
  },
  {
   "cell_type": "markdown",
   "metadata": {},
   "source": [
    "Tabelas cruzadas: Uma tabela cruzada, também conhecida como tabulação cruzada ou tabela de contingência, é uma ferramenta estatística que permite comparar os resultados de duas ou mais variáveis categóricas. Ela organiza os dados em uma tabela, cruzando as categorias de cada variável para mostrar a frequência com que ocorrem em conjunto."
   ]
  },
  {
   "cell_type": "code",
   "execution_count": 23,
   "metadata": {},
   "outputs": [],
   "source": [
    "# Vamos usar o a função select_dtypes do pandas que tem como objetivo\n",
    "# filtrar as colunas por tipo de dados. A função recebe como parametro\n",
    "# o include = ['tipo do dado que você quer filtrar']\n",
    "colunas_categoricas = base_dados.select_dtypes(include=['object'])"
   ]
  },
  {
   "cell_type": "markdown",
   "metadata": {},
   "source": [
    "Verificando as colunas categóricas"
   ]
  },
  {
   "cell_type": "code",
   "execution_count": 24,
   "metadata": {},
   "outputs": [
    {
     "data": {
      "text/plain": [
       "Index(['Genero', 'Historico_Familiar', 'Frequencia_em_alimentos_caloricos',\n",
       "       'Come_algo_entre_as_refeiçoes', 'Fuma', 'Monitora_calorias_diariamente',\n",
       "       'Frequencia_que_ingere_alcool', 'Transporte_utilizado',\n",
       "       'Nivel_Obesidade'],\n",
       "      dtype='object')"
      ]
     },
     "execution_count": 24,
     "metadata": {},
     "output_type": "execute_result"
    }
   ],
   "source": [
    "colunas_categoricas.columns"
   ]
  },
  {
   "cell_type": "markdown",
   "metadata": {},
   "source": [
    "Agora, vamos criar uma função que ira construir as tabelas cruzadas entre 2 variáveis\n",
    "categóricas"
   ]
  },
  {
   "cell_type": "markdown",
   "metadata": {},
   "source": [
    "Observação: Irei analisar individualmente cada tabela cruzada."
   ]
  },
  {
   "cell_type": "code",
   "execution_count": 25,
   "metadata": {},
   "outputs": [],
   "source": [
    "# Função que ira criar as tabelas cruzadas. A função ira receber como parametro o nome das 2 colunas que serão utilizadas na construção da tabela \n",
    "# cruzada.\n",
    "\n",
    "def tabela_cruzada(coluna1, coluna2):\n",
    "    \n",
    "    # Ira receber a função do pandas que ira construir a tabela cruzada \n",
    "    tabela = pd.crosstab(colunas_categoricas[coluna1], colunas_categoricas[coluna2])\n",
    "    \n",
    "    return tabela"
   ]
  },
  {
   "cell_type": "markdown",
   "metadata": {},
   "source": [
    "Primeiro, vamos fazer a relação entre gênero e nivel de obesidade"
   ]
  },
  {
   "cell_type": "markdown",
   "metadata": {},
   "source": [
    "Como vamos observar abaixo, para realizarmos uma análise um pouco mais detalhada teremos que pontuar a diferença percentual entre os valores,para\n",
    "isso, vamos criar uma função que seguira a segunite fórmula matemática\n",
    "para calculos de diferenças percentuais.\n",
    "\n",
    "Calculo da porcentagem:\n",
    "\n",
    "Diferença: valor maior  - valor menor\n",
    "\n",
    "Dividindo pela base = diferença / valor menor\n",
    "\n",
    "porcentagem = resulta da divisão pela base * 100 \n",
    "\n"
   ]
  },
  {
   "cell_type": "markdown",
   "metadata": {},
   "source": [
    "Criação da função de calculos percentuais"
   ]
  },
  {
   "cell_type": "code",
   "execution_count": 26,
   "metadata": {},
   "outputs": [],
   "source": [
    "# Função que ira calcular a diferença percentual. A \n",
    "# A função irá receber 2 argumentos o valor maior\n",
    "# e o valor menor\n",
    "def calc_diferenca_percentual(valormaior, valormenor):\n",
    "    \n",
    "    diferenca = valormaior - valormenor\n",
    "    \n",
    "    divisao_pela_base = diferenca / valormenor\n",
    "    \n",
    "    porcentagem = divisao_pela_base * 100\n",
    "    \n",
    "    # Retorno do valor que queremos descobrir\n",
    "    return porcentagem\n",
    "    "
   ]
  },
  {
   "cell_type": "code",
   "execution_count": 27,
   "metadata": {},
   "outputs": [
    {
     "data": {
      "text/html": [
       "<div>\n",
       "<style scoped>\n",
       "    .dataframe tbody tr th:only-of-type {\n",
       "        vertical-align: middle;\n",
       "    }\n",
       "\n",
       "    .dataframe tbody tr th {\n",
       "        vertical-align: top;\n",
       "    }\n",
       "\n",
       "    .dataframe thead th {\n",
       "        text-align: right;\n",
       "    }\n",
       "</style>\n",
       "<table border=\"1\" class=\"dataframe\">\n",
       "  <thead>\n",
       "    <tr style=\"text-align: right;\">\n",
       "      <th>Nivel_Obesidade</th>\n",
       "      <th>Insufficient_Weight</th>\n",
       "      <th>Normal_Weight</th>\n",
       "      <th>Obesity_Type_I</th>\n",
       "      <th>Obesity_Type_II</th>\n",
       "      <th>Obesity_Type_III</th>\n",
       "      <th>Overweight_Level_I</th>\n",
       "      <th>Overweight_Level_II</th>\n",
       "    </tr>\n",
       "    <tr>\n",
       "      <th>Genero</th>\n",
       "      <th></th>\n",
       "      <th></th>\n",
       "      <th></th>\n",
       "      <th></th>\n",
       "      <th></th>\n",
       "      <th></th>\n",
       "      <th></th>\n",
       "    </tr>\n",
       "  </thead>\n",
       "  <tbody>\n",
       "    <tr>\n",
       "      <th>Female</th>\n",
       "      <td>173</td>\n",
       "      <td>141</td>\n",
       "      <td>156</td>\n",
       "      <td>2</td>\n",
       "      <td>323</td>\n",
       "      <td>145</td>\n",
       "      <td>103</td>\n",
       "    </tr>\n",
       "    <tr>\n",
       "      <th>Male</th>\n",
       "      <td>99</td>\n",
       "      <td>146</td>\n",
       "      <td>195</td>\n",
       "      <td>295</td>\n",
       "      <td>1</td>\n",
       "      <td>145</td>\n",
       "      <td>187</td>\n",
       "    </tr>\n",
       "  </tbody>\n",
       "</table>\n",
       "</div>"
      ],
      "text/plain": [
       "Nivel_Obesidade  Insufficient_Weight  Normal_Weight  Obesity_Type_I  \\\n",
       "Genero                                                                \n",
       "Female                           173            141             156   \n",
       "Male                              99            146             195   \n",
       "\n",
       "Nivel_Obesidade  Obesity_Type_II  Obesity_Type_III  Overweight_Level_I  \\\n",
       "Genero                                                                   \n",
       "Female                         2               323                 145   \n",
       "Male                         295                 1                 145   \n",
       "\n",
       "Nivel_Obesidade  Overweight_Level_II  \n",
       "Genero                                \n",
       "Female                           103  \n",
       "Male                             187  "
      ]
     },
     "execution_count": 27,
     "metadata": {},
     "output_type": "execute_result"
    }
   ],
   "source": [
    "tabela_cruzada('Genero', 'Nivel_Obesidade')"
   ]
  },
  {
   "cell_type": "code",
   "execution_count": 68,
   "metadata": {},
   "outputs": [
    {
     "data": {
      "text/plain": [
       "81.55339805825243"
      ]
     },
     "execution_count": 68,
     "metadata": {},
     "output_type": "execute_result"
    }
   ],
   "source": [
    "# Chamada da função de cálculos de porcentagem\n",
    "\n",
    "calc_diferenca_percentual(187, 103)"
   ]
  },
  {
   "cell_type": "markdown",
   "metadata": {},
   "source": [
    "Conclusão da tabela: Analisando a tabela, percebemos que no geral os homens sofrem com o peso mais do\n",
    "que as mulheres, entretanto, os casos em que as mulheres sofrem mais, o valor é muito discrepante,\n",
    "sendo muito maior que os dos homens, como no caso da obesidade 3 por exemplo.\n",
    "\n",
    "Peso insuficiente: O grupo das mulheres com peso insuficiente é 74% maior que o grupo de homens com\n",
    "peso insuficiente\n",
    "\n",
    "peso normal: O grupo de homens com peso normal é 3.54% maior que o grupo de mulheres com\n",
    "peso normal\n",
    "\n",
    "obesidade tipo 1:  O grupo de homens com obesidade tipo 1 é 25% maior que o grupo de mulheres com\n",
    "obesidade tipo 1\n",
    "\n",
    "Obesidade tipo 2:  O grupo de homens com obesidade tipo 2 é 14650% maior que o grupo de mulheres com\n",
    "obesidade tipo 2.\n",
    "\n",
    "Obesidade tipo 3:  O grupo das mulheres com obesidade tipo 3 é 32200% maior que o grupo de homens com\n",
    "obesidade tipo 3\n",
    "\n",
    "sobrepeso nivel 1: não há diferença entre os valores\n",
    "\n",
    "sobrepeso nivel 2:  O grupo dos homens com sobrepeso nivel 2  é 81.53% maior que o grupo das mulheres com\n",
    "sobrepeso nivel 2"
   ]
  },
  {
   "cell_type": "markdown",
   "metadata": {},
   "source": [
    "validação entre o histórico familiar e a frequencia de calorias consumidas"
   ]
  },
  {
   "cell_type": "code",
   "execution_count": 55,
   "metadata": {},
   "outputs": [
    {
     "data": {
      "text/html": [
       "<div>\n",
       "<style scoped>\n",
       "    .dataframe tbody tr th:only-of-type {\n",
       "        vertical-align: middle;\n",
       "    }\n",
       "\n",
       "    .dataframe tbody tr th {\n",
       "        vertical-align: top;\n",
       "    }\n",
       "\n",
       "    .dataframe thead th {\n",
       "        text-align: right;\n",
       "    }\n",
       "</style>\n",
       "<table border=\"1\" class=\"dataframe\">\n",
       "  <thead>\n",
       "    <tr style=\"text-align: right;\">\n",
       "      <th>Frequencia_em_alimentos_caloricos</th>\n",
       "      <th>no</th>\n",
       "      <th>yes</th>\n",
       "    </tr>\n",
       "    <tr>\n",
       "      <th>Historico_Familiar</th>\n",
       "      <th></th>\n",
       "      <th></th>\n",
       "    </tr>\n",
       "  </thead>\n",
       "  <tbody>\n",
       "    <tr>\n",
       "      <th>no</th>\n",
       "      <td>99</td>\n",
       "      <td>286</td>\n",
       "    </tr>\n",
       "    <tr>\n",
       "      <th>yes</th>\n",
       "      <td>146</td>\n",
       "      <td>1580</td>\n",
       "    </tr>\n",
       "  </tbody>\n",
       "</table>\n",
       "</div>"
      ],
      "text/plain": [
       "Frequencia_em_alimentos_caloricos   no   yes\n",
       "Historico_Familiar                          \n",
       "no                                  99   286\n",
       "yes                                146  1580"
      ]
     },
     "execution_count": 55,
     "metadata": {},
     "output_type": "execute_result"
    }
   ],
   "source": [
    "tabela_cruzada('Historico_Familiar', 'Frequencia_em_alimentos_caloricos')"
   ]
  },
  {
   "cell_type": "code",
   "execution_count": 69,
   "metadata": {},
   "outputs": [
    {
     "data": {
      "text/plain": [
       "452.4475524475524"
      ]
     },
     "execution_count": 69,
     "metadata": {},
     "output_type": "execute_result"
    }
   ],
   "source": [
    "# Chamada da função de calculo de diferenças percentuais\n",
    "\n",
    "calc_diferenca_percentual(1580, 286)"
   ]
  },
  {
   "cell_type": "markdown",
   "metadata": {},
   "source": [
    "Conclusão da tabela: podemos observar que pessoas com histórico familiar \n",
    "consomem 452% mais alimentos calóricos que as pessoas sem histórico familiar."
   ]
  },
  {
   "cell_type": "markdown",
   "metadata": {},
   "source": [
    "Relação entre a frequência de consumo de alimentos calóricos e o \n",
    "nivel de obesidade"
   ]
  },
  {
   "cell_type": "code",
   "execution_count": 57,
   "metadata": {},
   "outputs": [
    {
     "data": {
      "text/html": [
       "<div>\n",
       "<style scoped>\n",
       "    .dataframe tbody tr th:only-of-type {\n",
       "        vertical-align: middle;\n",
       "    }\n",
       "\n",
       "    .dataframe tbody tr th {\n",
       "        vertical-align: top;\n",
       "    }\n",
       "\n",
       "    .dataframe thead th {\n",
       "        text-align: right;\n",
       "    }\n",
       "</style>\n",
       "<table border=\"1\" class=\"dataframe\">\n",
       "  <thead>\n",
       "    <tr style=\"text-align: right;\">\n",
       "      <th>Nivel_Obesidade</th>\n",
       "      <th>Insufficient_Weight</th>\n",
       "      <th>Normal_Weight</th>\n",
       "      <th>Obesity_Type_I</th>\n",
       "      <th>Obesity_Type_II</th>\n",
       "      <th>Obesity_Type_III</th>\n",
       "      <th>Overweight_Level_I</th>\n",
       "      <th>Overweight_Level_II</th>\n",
       "    </tr>\n",
       "    <tr>\n",
       "      <th>Frequencia_em_alimentos_caloricos</th>\n",
       "      <th></th>\n",
       "      <th></th>\n",
       "      <th></th>\n",
       "      <th></th>\n",
       "      <th></th>\n",
       "      <th></th>\n",
       "      <th></th>\n",
       "    </tr>\n",
       "  </thead>\n",
       "  <tbody>\n",
       "    <tr>\n",
       "      <th>no</th>\n",
       "      <td>51</td>\n",
       "      <td>79</td>\n",
       "      <td>11</td>\n",
       "      <td>7</td>\n",
       "      <td>1</td>\n",
       "      <td>22</td>\n",
       "      <td>74</td>\n",
       "    </tr>\n",
       "    <tr>\n",
       "      <th>yes</th>\n",
       "      <td>221</td>\n",
       "      <td>208</td>\n",
       "      <td>340</td>\n",
       "      <td>290</td>\n",
       "      <td>323</td>\n",
       "      <td>268</td>\n",
       "      <td>216</td>\n",
       "    </tr>\n",
       "  </tbody>\n",
       "</table>\n",
       "</div>"
      ],
      "text/plain": [
       "Nivel_Obesidade                    Insufficient_Weight  Normal_Weight  \\\n",
       "Frequencia_em_alimentos_caloricos                                       \n",
       "no                                                  51             79   \n",
       "yes                                                221            208   \n",
       "\n",
       "Nivel_Obesidade                    Obesity_Type_I  Obesity_Type_II  \\\n",
       "Frequencia_em_alimentos_caloricos                                    \n",
       "no                                             11                7   \n",
       "yes                                           340              290   \n",
       "\n",
       "Nivel_Obesidade                    Obesity_Type_III  Overweight_Level_I  \\\n",
       "Frequencia_em_alimentos_caloricos                                         \n",
       "no                                                1                  22   \n",
       "yes                                             323                 268   \n",
       "\n",
       "Nivel_Obesidade                    Overweight_Level_II  \n",
       "Frequencia_em_alimentos_caloricos                       \n",
       "no                                                  74  \n",
       "yes                                                216  "
      ]
     },
     "execution_count": 57,
     "metadata": {},
     "output_type": "execute_result"
    }
   ],
   "source": [
    "tabela_cruzada('Frequencia_em_alimentos_caloricos', 'Nivel_Obesidade')"
   ]
  },
  {
   "cell_type": "code",
   "execution_count": 72,
   "metadata": {},
   "outputs": [
    {
     "data": {
      "text/plain": [
       "333.33333333333337"
      ]
     },
     "execution_count": 72,
     "metadata": {},
     "output_type": "execute_result"
    }
   ],
   "source": [
    "# Chamada da função de cálculo de diferenças percentuais\n",
    "\n",
    "calc_diferenca_percentual(221, 51)"
   ]
  },
  {
   "cell_type": "markdown",
   "metadata": {},
   "source": [
    "Conclusão da tabela: Podemos observar que pessoas com consomem calorias frequentemente possuem um\n",
    "nivel bem mais alto em todas as categorias do que pessoas que não consomem calorias frequentemente\n",
    "\n",
    "\n",
    "\n",
    "peso insuficiente: o grupo de pessoas que consomem calorias é 333% maior que o grupo de pessoas que não\n",
    "consomem calorias frequentemente\n",
    "\n",
    "peso normal: o grupo de pessoas que consomem calorias é 163% maior que o grupo de pessoas que não\n",
    "consomem calorias frequentemente.\n",
    "\n",
    "obesidade tipo 1: o grupo de pessoas que consomem calorias é 2990% maior que o grupo de pessoas que não\n",
    "consomem calorias frequentemente. \n",
    "\n",
    "Obesidade tipo 2: o grupo de pessoas que consomem calorias é 4042% maior que o grupo de pessoas que não\n",
    "consomem calorias frequentemente.\n",
    "\n",
    "Obesidade tipo 3: o grupo de pessoas que consomem calorias é 32200% maior que o grupo de pessoas que não\n",
    "consomem calorias frequentemente.\n",
    "\n",
    "Sobrepeso nivel 1: o grupo de pessoas que consomem calorias é 1118% maior que o grupo de pessoas que não\n",
    "consomem calorias frequentemente.\n",
    "\n",
    "sobrepeso nivel 2: o grupo de pessoas que consomem calorias é 191% maior que o grupo de pessoas que não\n",
    "consomem calorias frequentemente."
   ]
  },
  {
   "cell_type": "markdown",
   "metadata": {},
   "source": [
    "relação entre o transporte utilizado e o nivel de obesidade"
   ]
  },
  {
   "cell_type": "code",
   "execution_count": 28,
   "metadata": {},
   "outputs": [
    {
     "data": {
      "text/html": [
       "<div>\n",
       "<style scoped>\n",
       "    .dataframe tbody tr th:only-of-type {\n",
       "        vertical-align: middle;\n",
       "    }\n",
       "\n",
       "    .dataframe tbody tr th {\n",
       "        vertical-align: top;\n",
       "    }\n",
       "\n",
       "    .dataframe thead th {\n",
       "        text-align: right;\n",
       "    }\n",
       "</style>\n",
       "<table border=\"1\" class=\"dataframe\">\n",
       "  <thead>\n",
       "    <tr style=\"text-align: right;\">\n",
       "      <th>Transporte_utilizado</th>\n",
       "      <th>Automobile</th>\n",
       "      <th>Bike</th>\n",
       "      <th>Motorbike</th>\n",
       "      <th>Public_Transportation</th>\n",
       "      <th>Walking</th>\n",
       "    </tr>\n",
       "    <tr>\n",
       "      <th>Nivel_Obesidade</th>\n",
       "      <th></th>\n",
       "      <th></th>\n",
       "      <th></th>\n",
       "      <th></th>\n",
       "      <th></th>\n",
       "    </tr>\n",
       "  </thead>\n",
       "  <tbody>\n",
       "    <tr>\n",
       "      <th>Insufficient_Weight</th>\n",
       "      <td>46</td>\n",
       "      <td>0</td>\n",
       "      <td>0</td>\n",
       "      <td>220</td>\n",
       "      <td>6</td>\n",
       "    </tr>\n",
       "    <tr>\n",
       "      <th>Normal_Weight</th>\n",
       "      <td>45</td>\n",
       "      <td>4</td>\n",
       "      <td>6</td>\n",
       "      <td>200</td>\n",
       "      <td>32</td>\n",
       "    </tr>\n",
       "    <tr>\n",
       "      <th>Obesity_Type_I</th>\n",
       "      <td>110</td>\n",
       "      <td>0</td>\n",
       "      <td>3</td>\n",
       "      <td>236</td>\n",
       "      <td>2</td>\n",
       "    </tr>\n",
       "    <tr>\n",
       "      <th>Obesity_Type_II</th>\n",
       "      <td>95</td>\n",
       "      <td>1</td>\n",
       "      <td>0</td>\n",
       "      <td>200</td>\n",
       "      <td>1</td>\n",
       "    </tr>\n",
       "    <tr>\n",
       "      <th>Obesity_Type_III</th>\n",
       "      <td>1</td>\n",
       "      <td>0</td>\n",
       "      <td>0</td>\n",
       "      <td>323</td>\n",
       "      <td>0</td>\n",
       "    </tr>\n",
       "    <tr>\n",
       "      <th>Overweight_Level_I</th>\n",
       "      <td>66</td>\n",
       "      <td>2</td>\n",
       "      <td>1</td>\n",
       "      <td>212</td>\n",
       "      <td>9</td>\n",
       "    </tr>\n",
       "    <tr>\n",
       "      <th>Overweight_Level_II</th>\n",
       "      <td>94</td>\n",
       "      <td>0</td>\n",
       "      <td>1</td>\n",
       "      <td>189</td>\n",
       "      <td>6</td>\n",
       "    </tr>\n",
       "  </tbody>\n",
       "</table>\n",
       "</div>"
      ],
      "text/plain": [
       "Transporte_utilizado  Automobile  Bike  Motorbike  Public_Transportation  \\\n",
       "Nivel_Obesidade                                                            \n",
       "Insufficient_Weight           46     0          0                    220   \n",
       "Normal_Weight                 45     4          6                    200   \n",
       "Obesity_Type_I               110     0          3                    236   \n",
       "Obesity_Type_II               95     1          0                    200   \n",
       "Obesity_Type_III               1     0          0                    323   \n",
       "Overweight_Level_I            66     2          1                    212   \n",
       "Overweight_Level_II           94     0          1                    189   \n",
       "\n",
       "Transporte_utilizado  Walking  \n",
       "Nivel_Obesidade                \n",
       "Insufficient_Weight         6  \n",
       "Normal_Weight              32  \n",
       "Obesity_Type_I              2  \n",
       "Obesity_Type_II             1  \n",
       "Obesity_Type_III            0  \n",
       "Overweight_Level_I          9  \n",
       "Overweight_Level_II         6  "
      ]
     },
     "execution_count": 28,
     "metadata": {},
     "output_type": "execute_result"
    }
   ],
   "source": [
    "# Chamada da função de construção de tabelas cruzadas\n",
    "tabela_cruzada('Nivel_Obesidade', 'Transporte_utilizado')"
   ]
  },
  {
   "cell_type": "code",
   "execution_count": 29,
   "metadata": {},
   "outputs": [
    {
     "data": {
      "text/plain": [
       "61.5"
      ]
     },
     "execution_count": 29,
     "metadata": {},
     "output_type": "execute_result"
    }
   ],
   "source": [
    "# Chamada da função de calculo de diferenças percentuais\n",
    "\n",
    "calc_diferenca_percentual(323, 200)"
   ]
  },
  {
   "cell_type": "markdown",
   "metadata": {},
   "source": [
    "Conclusão da tabela: De modo geral, podemos observar que, boa parte\n",
    "das categorias de peso possuem uma grande quantidade de pessoas que\n",
    "andam de transporte público e veiculos automotivos, o que pode indicar\n",
    "que a falta de exercicios fisicos (no caso uma caminhada até o destino)\n",
    "pode cooperar com os problemas de obesidade.Tanto que o numero com obesidade\n",
    "tipo 3 e que usam transporte público é 61.5% maior que o numero de pessoas\n",
    "que possuem o peso normal e utilizam o transporte público. Outro fator que \n",
    "corrobora com a teoria de que a falta de caminhada auxilia nos problemas de\n",
    "obesidade, é o fato de que as pessoas do grupo que caminham (walking) possuem\n",
    "um peso normal, já que nas outras categorias esse grupo é extremamente menor."
   ]
  },
  {
   "cell_type": "markdown",
   "metadata": {},
   "source": [
    "Relação entre consumo de alimentos calóricos e monitoramento da ingestão calórica"
   ]
  },
  {
   "cell_type": "code",
   "execution_count": 32,
   "metadata": {},
   "outputs": [
    {
     "data": {
      "text/html": [
       "<div>\n",
       "<style scoped>\n",
       "    .dataframe tbody tr th:only-of-type {\n",
       "        vertical-align: middle;\n",
       "    }\n",
       "\n",
       "    .dataframe tbody tr th {\n",
       "        vertical-align: top;\n",
       "    }\n",
       "\n",
       "    .dataframe thead th {\n",
       "        text-align: right;\n",
       "    }\n",
       "</style>\n",
       "<table border=\"1\" class=\"dataframe\">\n",
       "  <thead>\n",
       "    <tr style=\"text-align: right;\">\n",
       "      <th>Monitora_calorias_diariamente</th>\n",
       "      <th>no</th>\n",
       "      <th>yes</th>\n",
       "    </tr>\n",
       "    <tr>\n",
       "      <th>Frequencia_em_alimentos_caloricos</th>\n",
       "      <th></th>\n",
       "      <th></th>\n",
       "    </tr>\n",
       "  </thead>\n",
       "  <tbody>\n",
       "    <tr>\n",
       "      <th>no</th>\n",
       "      <td>207</td>\n",
       "      <td>38</td>\n",
       "    </tr>\n",
       "    <tr>\n",
       "      <th>yes</th>\n",
       "      <td>1808</td>\n",
       "      <td>58</td>\n",
       "    </tr>\n",
       "  </tbody>\n",
       "</table>\n",
       "</div>"
      ],
      "text/plain": [
       "Monitora_calorias_diariamente        no  yes\n",
       "Frequencia_em_alimentos_caloricos           \n",
       "no                                  207   38\n",
       "yes                                1808   58"
      ]
     },
     "execution_count": 32,
     "metadata": {},
     "output_type": "execute_result"
    }
   ],
   "source": [
    "# Chamada da função de tabelas cruzadas\n",
    "\n",
    "tabela_cruzada('Frequencia_em_alimentos_caloricos', 'Monitora_calorias_diariamente')"
   ]
  },
  {
   "cell_type": "markdown",
   "metadata": {},
   "source": [
    "Conclusão da tabela: Podemos concluir que a maioria das pessoas que consomem alimentos calóricos com frequência não monitora a quantidade de calorias que ingere. Essa conclusão se baseia na comparação entre os números 1808 (pessoas que consomem alimentos calóricos com frequência e não monitoram) e 58 (pessoas que consomem alimentos calóricos com frequência e monitoram)."
   ]
  },
  {
   "cell_type": "markdown",
   "metadata": {},
   "source": [
    "                        Análise exploratória dos dados"
   ]
  },
  {
   "cell_type": "markdown",
   "metadata": {},
   "source": [
    "                                Visualizações"
   ]
  },
  {
   "cell_type": "markdown",
   "metadata": {},
   "source": [
    "Histograma: Visualizar a distribuição de variaveis numéricas como idade, peso e altura."
   ]
  },
  {
   "cell_type": "markdown",
   "metadata": {},
   "source": [
    "Primeiro vamos filtrar as colunas numéricas usando o select_dtypes"
   ]
  },
  {
   "cell_type": "code",
   "execution_count": 42,
   "metadata": {},
   "outputs": [],
   "source": [
    "colunas_numericas = base_dados.select_dtypes(include=[int, float])"
   ]
  },
  {
   "cell_type": "markdown",
   "metadata": {},
   "source": [
    "Visualizando as colunas numéricas"
   ]
  },
  {
   "cell_type": "code",
   "execution_count": 43,
   "metadata": {},
   "outputs": [
    {
     "data": {
      "text/plain": [
       "Index(['Idade', 'Altura', 'Peso', 'Come_vegetais_nas_refeiçoes',\n",
       "       'Quant_refeiçoes_principais', 'Quant_agua_ingerida_diariamente',\n",
       "       'Frequencia_de_atividade_fisica', 'Tempo_em_dispositivos_eletronicos'],\n",
       "      dtype='object')"
      ]
     },
     "execution_count": 43,
     "metadata": {},
     "output_type": "execute_result"
    }
   ],
   "source": [
    "colunas_numericas.columns"
   ]
  },
  {
   "cell_type": "markdown",
   "metadata": {},
   "source": [
    "Como vamos ter que criar um histograma pra cada coluna numérica vamos criar uma função de criação de histogramas"
   ]
  },
  {
   "cell_type": "code",
   "execution_count": 64,
   "metadata": {},
   "outputs": [],
   "source": [
    "def criar_histograma(coluna, cor_da_barra):\n",
    "    \n",
    "    # Ira criar o titulo do gráfico\n",
    "   plt.title(f'Histograma da coluna de {coluna}')\n",
    "    \n",
    "    # Ira definir o rótulo do eixo x\n",
    "   plt.xlabel(f'{coluna}')\n",
    "    \n",
    "    # Irá definir o rótulo do eixo y\n",
    "   plt.ylabel('Quantidade de pessoas')\n",
    "    \n",
    "    # função do matplotlib que irá constriur o gráfico de\n",
    "    # histograma, a função irá receber como parametro 2\n",
    "    # Valores, a base de dados analisada e a coluna\n",
    "    # que irá ocupar o eixo x. O color irá definir a \n",
    "    # cor do gráfico de barras\n",
    "   plt.hist(data=colunas_numericas, x=coluna, color=cor_da_barra)\n",
    "    \n",
    "    # Ira exibir o gráfico no terminal\n",
    "   plt.show()"
   ]
  },
  {
   "cell_type": "markdown",
   "metadata": {},
   "source": [
    "Histograma das idades"
   ]
  },
  {
   "cell_type": "code",
   "execution_count": 65,
   "metadata": {},
   "outputs": [
    {
     "data": {
      "image/png": "[encoded data removed]",
      "text/plain": [
       "<Figure size 640x480 with 1 Axes>"
      ]
     },
     "metadata": {},
     "output_type": "display_data"
    }
   ],
   "source": [
    "criar_histograma('Idade', 'blue')"
   ]
  },
  {
   "cell_type": "markdown",
   "metadata": {},
   "source": [
    "                                Conclusão do histograma das idades\n",
    "A maioria das pessoas que fazem parte da pesquisa posuem entre 20 e 30 anos.\n",
    "\n",
    "A minoria das pessoas das pessoas possuem mais que 50 anos e menos que 60 anos.\n",
    "\n",
    "Podemos obeservar que a pesquisa é composta predominantemente por jovens"
   ]
  },
  {
   "cell_type": "markdown",
   "metadata": {},
   "source": [
    "Histograma dos pesos"
   ]
  },
  {
   "cell_type": "code",
   "execution_count": 66,
   "metadata": {},
   "outputs": [
    {
     "data": {
      "image/png": "[encoded data removed]",
      "text/plain": [
       "<Figure size 640x480 with 1 Axes>"
      ]
     },
     "metadata": {},
     "output_type": "display_data"
    }
   ],
   "source": [
    "criar_histograma('Peso', 'red')"
   ]
  },
  {
   "cell_type": "markdown",
   "metadata": {},
   "source": [
    "                                                                     Conclusão do histograma de pesos\n",
    "-> Boa parte das pessoas possuem o peso na faixa dos 60 e 80 kilos\n",
    "\n",
    "-> A minoria das pessoas possuem mais de 160 kilos\n",
    "\n",
    "-> Podemos observar que a faixa dos 120 e 160 são menores que as demais\n",
    "faixas\n",
    "\n"
   ]
  }
 ],
 "metadata": {
  "kernelspec": {
   "display_name": "Python 3",
   "language": "python",
   "name": "python3"
  },
  "language_info": {
   "codemirror_mode": {
    "name": "ipython",
    "version": 3
   },
   "file_extension": ".py",
   "mimetype": "text/x-python",
   "name": "python",
   "nbconvert_exporter": "python",
   "pygments_lexer": "ipython3",
   "version": "3.12.8"
  }
 },
 "nbformat": 4,
 "nbformat_minor": 2
}
