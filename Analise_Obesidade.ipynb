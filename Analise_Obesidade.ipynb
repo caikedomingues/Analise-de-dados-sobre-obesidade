{
 "cells": [
  {
   "cell_type": "markdown",
   "metadata": {},
   "source": [
    "                             Sobre o conjunto de dados\n",
    "\n",
    "Visão geral:\n",
    "Este conjunto de dados inclui dados para a estimativa dos níveis de obesidade em indivíduos dos países do México, Peru e Colômbia, com base em seus hábitos alimentares e condição física.\n",
    "Os dados contêm 17 atributos e 2111 registros, os registros são rotulados com a variável de classe NObesity (Nível de obesidade), que permite a classificação dos dados usando os valores de Peso insuficiente, Peso normal, Sobrepeso nível I, Sobrepeso nível II, Obesidade tipo I, Obesidade tipo II e Obesidade tipo III."
   ]
  },
  {
   "cell_type": "markdown",
   "metadata": {},
   "source": [
    "                        Detalhes da base de dadosDetalhes dos dados:\n",
    "\n",
    "Gênero: Gênero\n",
    "Idade: Idade\n",
    "Altura: em metros\n",
    "Peso: em kgs\n",
    "family_history: Algum membro da família sofreu ou sofre de excesso de peso?\n",
    "FAVC: Você come alimentos altamente calóricos com frequência?\n",
    "FCVC: Você costuma comer vegetais nas suas refeições?\n",
    "NCP: Quantas refeições principais você faz diariamente?\n",
    "CAEC: Você come alguma coisa entre as refeições?\n",
    "FUMAÇA: Você fuma?\n",
    "CH2O: Quanta água você bebe diariamente?\n",
    "SCC: Você monitora as calorias que ingere diariamente?\n",
    "FAF: Com que frequência você pratica atividade física?\n",
    "TER: Quanto tempo você usa dispositivos tecnológicos como celular, videogame, televisão, computador e outros?\n",
    "CALC: Com que frequência você bebe álcool?\n",
    "MTRANS: Qual meio de transporte você costuma usar?\n",
    "Nível de obesidade (coluna alvo): Nível de obesidade\n"
   ]
  },
  {
   "cell_type": "markdown",
   "metadata": {},
   "source": [
    "Import das bibliotecas necessárias para a análise"
   ]
  },
  {
   "cell_type": "code",
   "execution_count": 1,
   "metadata": {},
   "outputs": [],
   "source": [
    "# Import da biblioteca que irá acessar e manipular os dados\n",
    "import pandas as pd\n",
    "\n",
    "# Import da biblioteca que irá manipular, exibir e criar gráficos\n",
    "import matplotlib.pyplot as plt\n",
    "\n",
    "# Import da bivlioteca que irá possibilitar a criação de vários\n",
    "# tipos de gráficos (é baseado no matplotlib)\n",
    "import seaborn as sns\n",
    "\n",
    "# Import da biblioteca que serve para manipular e\n",
    "# realizar operações com arrays\n",
    "\n",
    "import numpy as np\n",
    "\n",
    "# import da biblioteca que administra warnings\n",
    "import warnings\n",
    "\n",
    "warnings.filterwarnings('ignore')"
   ]
  },
  {
   "cell_type": "markdown",
   "metadata": {},
   "source": [
    "Acessando a base de dados"
   ]
  },
  {
   "cell_type": "code",
   "execution_count": 2,
   "metadata": {},
   "outputs": [],
   "source": [
    "base_dados = pd.read_csv('Obesity prediction.csv')"
   ]
  },
  {
   "cell_type": "markdown",
   "metadata": {},
   "source": [
    "Analisando as 10 primeiras linhas"
   ]
  },
  {
   "cell_type": "code",
   "execution_count": 3,
   "metadata": {},
   "outputs": [
    {
     "data": {
      "text/html": [
       "<div>\n",
       "<style scoped>\n",
       "    .dataframe tbody tr th:only-of-type {\n",
       "        vertical-align: middle;\n",
       "    }\n",
       "\n",
       "    .dataframe tbody tr th {\n",
       "        vertical-align: top;\n",
       "    }\n",
       "\n",
       "    .dataframe thead th {\n",
       "        text-align: right;\n",
       "    }\n",
       "</style>\n",
       "<table border=\"1\" class=\"dataframe\">\n",
       "  <thead>\n",
       "    <tr style=\"text-align: right;\">\n",
       "      <th></th>\n",
       "      <th>Gender</th>\n",
       "      <th>Age</th>\n",
       "      <th>Height</th>\n",
       "      <th>Weight</th>\n",
       "      <th>family_history</th>\n",
       "      <th>FAVC</th>\n",
       "      <th>FCVC</th>\n",
       "      <th>NCP</th>\n",
       "      <th>CAEC</th>\n",
       "      <th>SMOKE</th>\n",
       "      <th>CH2O</th>\n",
       "      <th>SCC</th>\n",
       "      <th>FAF</th>\n",
       "      <th>TUE</th>\n",
       "      <th>CALC</th>\n",
       "      <th>MTRANS</th>\n",
       "      <th>Obesity</th>\n",
       "    </tr>\n",
       "  </thead>\n",
       "  <tbody>\n",
       "    <tr>\n",
       "      <th>0</th>\n",
       "      <td>Female</td>\n",
       "      <td>21.0</td>\n",
       "      <td>1.62</td>\n",
       "      <td>64.0</td>\n",
       "      <td>yes</td>\n",
       "      <td>no</td>\n",
       "      <td>2.0</td>\n",
       "      <td>3.0</td>\n",
       "      <td>Sometimes</td>\n",
       "      <td>no</td>\n",
       "      <td>2.0</td>\n",
       "      <td>no</td>\n",
       "      <td>0.0</td>\n",
       "      <td>1.0</td>\n",
       "      <td>no</td>\n",
       "      <td>Public_Transportation</td>\n",
       "      <td>Normal_Weight</td>\n",
       "    </tr>\n",
       "    <tr>\n",
       "      <th>1</th>\n",
       "      <td>Female</td>\n",
       "      <td>21.0</td>\n",
       "      <td>1.52</td>\n",
       "      <td>56.0</td>\n",
       "      <td>yes</td>\n",
       "      <td>no</td>\n",
       "      <td>3.0</td>\n",
       "      <td>3.0</td>\n",
       "      <td>Sometimes</td>\n",
       "      <td>yes</td>\n",
       "      <td>3.0</td>\n",
       "      <td>yes</td>\n",
       "      <td>3.0</td>\n",
       "      <td>0.0</td>\n",
       "      <td>Sometimes</td>\n",
       "      <td>Public_Transportation</td>\n",
       "      <td>Normal_Weight</td>\n",
       "    </tr>\n",
       "    <tr>\n",
       "      <th>2</th>\n",
       "      <td>Male</td>\n",
       "      <td>23.0</td>\n",
       "      <td>1.80</td>\n",
       "      <td>77.0</td>\n",
       "      <td>yes</td>\n",
       "      <td>no</td>\n",
       "      <td>2.0</td>\n",
       "      <td>3.0</td>\n",
       "      <td>Sometimes</td>\n",
       "      <td>no</td>\n",
       "      <td>2.0</td>\n",
       "      <td>no</td>\n",
       "      <td>2.0</td>\n",
       "      <td>1.0</td>\n",
       "      <td>Frequently</td>\n",
       "      <td>Public_Transportation</td>\n",
       "      <td>Normal_Weight</td>\n",
       "    </tr>\n",
       "    <tr>\n",
       "      <th>3</th>\n",
       "      <td>Male</td>\n",
       "      <td>27.0</td>\n",
       "      <td>1.80</td>\n",
       "      <td>87.0</td>\n",
       "      <td>no</td>\n",
       "      <td>no</td>\n",
       "      <td>3.0</td>\n",
       "      <td>3.0</td>\n",
       "      <td>Sometimes</td>\n",
       "      <td>no</td>\n",
       "      <td>2.0</td>\n",
       "      <td>no</td>\n",
       "      <td>2.0</td>\n",
       "      <td>0.0</td>\n",
       "      <td>Frequently</td>\n",
       "      <td>Walking</td>\n",
       "      <td>Overweight_Level_I</td>\n",
       "    </tr>\n",
       "    <tr>\n",
       "      <th>4</th>\n",
       "      <td>Male</td>\n",
       "      <td>22.0</td>\n",
       "      <td>1.78</td>\n",
       "      <td>89.8</td>\n",
       "      <td>no</td>\n",
       "      <td>no</td>\n",
       "      <td>2.0</td>\n",
       "      <td>1.0</td>\n",
       "      <td>Sometimes</td>\n",
       "      <td>no</td>\n",
       "      <td>2.0</td>\n",
       "      <td>no</td>\n",
       "      <td>0.0</td>\n",
       "      <td>0.0</td>\n",
       "      <td>Sometimes</td>\n",
       "      <td>Public_Transportation</td>\n",
       "      <td>Overweight_Level_II</td>\n",
       "    </tr>\n",
       "    <tr>\n",
       "      <th>5</th>\n",
       "      <td>Male</td>\n",
       "      <td>29.0</td>\n",
       "      <td>1.62</td>\n",
       "      <td>53.0</td>\n",
       "      <td>no</td>\n",
       "      <td>yes</td>\n",
       "      <td>2.0</td>\n",
       "      <td>3.0</td>\n",
       "      <td>Sometimes</td>\n",
       "      <td>no</td>\n",
       "      <td>2.0</td>\n",
       "      <td>no</td>\n",
       "      <td>0.0</td>\n",
       "      <td>0.0</td>\n",
       "      <td>Sometimes</td>\n",
       "      <td>Automobile</td>\n",
       "      <td>Normal_Weight</td>\n",
       "    </tr>\n",
       "    <tr>\n",
       "      <th>6</th>\n",
       "      <td>Female</td>\n",
       "      <td>23.0</td>\n",
       "      <td>1.50</td>\n",
       "      <td>55.0</td>\n",
       "      <td>yes</td>\n",
       "      <td>yes</td>\n",
       "      <td>3.0</td>\n",
       "      <td>3.0</td>\n",
       "      <td>Sometimes</td>\n",
       "      <td>no</td>\n",
       "      <td>2.0</td>\n",
       "      <td>no</td>\n",
       "      <td>1.0</td>\n",
       "      <td>0.0</td>\n",
       "      <td>Sometimes</td>\n",
       "      <td>Motorbike</td>\n",
       "      <td>Normal_Weight</td>\n",
       "    </tr>\n",
       "    <tr>\n",
       "      <th>7</th>\n",
       "      <td>Male</td>\n",
       "      <td>22.0</td>\n",
       "      <td>1.64</td>\n",
       "      <td>53.0</td>\n",
       "      <td>no</td>\n",
       "      <td>no</td>\n",
       "      <td>2.0</td>\n",
       "      <td>3.0</td>\n",
       "      <td>Sometimes</td>\n",
       "      <td>no</td>\n",
       "      <td>2.0</td>\n",
       "      <td>no</td>\n",
       "      <td>3.0</td>\n",
       "      <td>0.0</td>\n",
       "      <td>Sometimes</td>\n",
       "      <td>Public_Transportation</td>\n",
       "      <td>Normal_Weight</td>\n",
       "    </tr>\n",
       "    <tr>\n",
       "      <th>8</th>\n",
       "      <td>Male</td>\n",
       "      <td>24.0</td>\n",
       "      <td>1.78</td>\n",
       "      <td>64.0</td>\n",
       "      <td>yes</td>\n",
       "      <td>yes</td>\n",
       "      <td>3.0</td>\n",
       "      <td>3.0</td>\n",
       "      <td>Sometimes</td>\n",
       "      <td>no</td>\n",
       "      <td>2.0</td>\n",
       "      <td>no</td>\n",
       "      <td>1.0</td>\n",
       "      <td>1.0</td>\n",
       "      <td>Frequently</td>\n",
       "      <td>Public_Transportation</td>\n",
       "      <td>Normal_Weight</td>\n",
       "    </tr>\n",
       "    <tr>\n",
       "      <th>9</th>\n",
       "      <td>Male</td>\n",
       "      <td>22.0</td>\n",
       "      <td>1.72</td>\n",
       "      <td>68.0</td>\n",
       "      <td>yes</td>\n",
       "      <td>yes</td>\n",
       "      <td>2.0</td>\n",
       "      <td>3.0</td>\n",
       "      <td>Sometimes</td>\n",
       "      <td>no</td>\n",
       "      <td>2.0</td>\n",
       "      <td>no</td>\n",
       "      <td>1.0</td>\n",
       "      <td>1.0</td>\n",
       "      <td>no</td>\n",
       "      <td>Public_Transportation</td>\n",
       "      <td>Normal_Weight</td>\n",
       "    </tr>\n",
       "  </tbody>\n",
       "</table>\n",
       "</div>"
      ],
      "text/plain": [
       "   Gender   Age  Height  Weight family_history FAVC  FCVC  NCP       CAEC  \\\n",
       "0  Female  21.0    1.62    64.0            yes   no   2.0  3.0  Sometimes   \n",
       "1  Female  21.0    1.52    56.0            yes   no   3.0  3.0  Sometimes   \n",
       "2    Male  23.0    1.80    77.0            yes   no   2.0  3.0  Sometimes   \n",
       "3    Male  27.0    1.80    87.0             no   no   3.0  3.0  Sometimes   \n",
       "4    Male  22.0    1.78    89.8             no   no   2.0  1.0  Sometimes   \n",
       "5    Male  29.0    1.62    53.0             no  yes   2.0  3.0  Sometimes   \n",
       "6  Female  23.0    1.50    55.0            yes  yes   3.0  3.0  Sometimes   \n",
       "7    Male  22.0    1.64    53.0             no   no   2.0  3.0  Sometimes   \n",
       "8    Male  24.0    1.78    64.0            yes  yes   3.0  3.0  Sometimes   \n",
       "9    Male  22.0    1.72    68.0            yes  yes   2.0  3.0  Sometimes   \n",
       "\n",
       "  SMOKE  CH2O  SCC  FAF  TUE        CALC                 MTRANS  \\\n",
       "0    no   2.0   no  0.0  1.0          no  Public_Transportation   \n",
       "1   yes   3.0  yes  3.0  0.0   Sometimes  Public_Transportation   \n",
       "2    no   2.0   no  2.0  1.0  Frequently  Public_Transportation   \n",
       "3    no   2.0   no  2.0  0.0  Frequently                Walking   \n",
       "4    no   2.0   no  0.0  0.0   Sometimes  Public_Transportation   \n",
       "5    no   2.0   no  0.0  0.0   Sometimes             Automobile   \n",
       "6    no   2.0   no  1.0  0.0   Sometimes              Motorbike   \n",
       "7    no   2.0   no  3.0  0.0   Sometimes  Public_Transportation   \n",
       "8    no   2.0   no  1.0  1.0  Frequently  Public_Transportation   \n",
       "9    no   2.0   no  1.0  1.0          no  Public_Transportation   \n",
       "\n",
       "               Obesity  \n",
       "0        Normal_Weight  \n",
       "1        Normal_Weight  \n",
       "2        Normal_Weight  \n",
       "3   Overweight_Level_I  \n",
       "4  Overweight_Level_II  \n",
       "5        Normal_Weight  \n",
       "6        Normal_Weight  \n",
       "7        Normal_Weight  \n",
       "8        Normal_Weight  \n",
       "9        Normal_Weight  "
      ]
     },
     "execution_count": 3,
     "metadata": {},
     "output_type": "execute_result"
    }
   ],
   "source": [
    "base_dados.head(10)"
   ]
  },
  {
   "cell_type": "markdown",
   "metadata": {},
   "source": [
    "Para facilitar o trabalho, vamos renomear as colunas da tabela"
   ]
  },
  {
   "cell_type": "code",
   "execution_count": 4,
   "metadata": {},
   "outputs": [],
   "source": [
    "base_dados.rename(columns={\n",
    "    \n",
    "    'Gender': 'Genero',\n",
    "    'Age': 'Idade',\n",
    "    'Height': 'Altura',\n",
    "    'Weight': 'Peso',\n",
    "    'family_history':'Historico_Familiar',\n",
    "    'FAVC': 'Frequencia_em_alimentos_caloricos',\n",
    "    'FCVC': 'Come_vegetais_nas_refeiçoes',\n",
    "    'NCP': 'Quant_refeiçoes_principais',\n",
    "    'CAEC':'Come_algo_entre_as_refeiçoes',\n",
    "    'SMOKE': 'Fuma',\n",
    "    'CH2O': 'Quant_agua_ingerida_diariamente',\n",
    "    'SCC': 'Monitora_calorias_diariamente',\n",
    "    'FAF': 'Frequencia_de_atividade_fisica',\n",
    "    'TUE': 'Tempo_em_dispositivos_eletronicos',\n",
    "    'CALC':'Frequencia_que_ingere_alcool',\n",
    "    'MTRANS': 'Transporte_utilizado',\n",
    "    'Obesity': 'Nivel_Obesidade'\n",
    "    \n",
    "    \n",
    "}, inplace=True)"
   ]
  },
  {
   "cell_type": "markdown",
   "metadata": {},
   "source": [
    "Verificando se as colunas foram alteradas"
   ]
  },
  {
   "cell_type": "code",
   "execution_count": 5,
   "metadata": {},
   "outputs": [
    {
     "data": {
      "text/plain": [
       "Index(['Genero', 'Idade', 'Altura', 'Peso', 'Historico_Familiar',\n",
       "       'Frequencia_em_alimentos_caloricos', 'Come_vegetais_nas_refeiçoes',\n",
       "       'Quant_refeiçoes_principais', 'Come_algo_entre_as_refeiçoes', 'Fuma',\n",
       "       'Quant_agua_ingerida_diariamente', 'Monitora_calorias_diariamente',\n",
       "       'Frequencia_de_atividade_fisica', 'Tempo_em_dispositivos_eletronicos',\n",
       "       'Frequencia_que_ingere_alcool', 'Transporte_utilizado',\n",
       "       'Nivel_Obesidade'],\n",
       "      dtype='object')"
      ]
     },
     "execution_count": 5,
     "metadata": {},
     "output_type": "execute_result"
    }
   ],
   "source": [
    "base_dados.columns"
   ]
  },
  {
   "cell_type": "markdown",
   "metadata": {},
   "source": [
    "Verificando o tipo de cada tabela"
   ]
  },
  {
   "cell_type": "code",
   "execution_count": 6,
   "metadata": {},
   "outputs": [
    {
     "data": {
      "text/plain": [
       "Genero                                object\n",
       "Idade                                float64\n",
       "Altura                               float64\n",
       "Peso                                 float64\n",
       "Historico_Familiar                    object\n",
       "Frequencia_em_alimentos_caloricos     object\n",
       "Come_vegetais_nas_refeiçoes          float64\n",
       "Quant_refeiçoes_principais           float64\n",
       "Come_algo_entre_as_refeiçoes          object\n",
       "Fuma                                  object\n",
       "Quant_agua_ingerida_diariamente      float64\n",
       "Monitora_calorias_diariamente         object\n",
       "Frequencia_de_atividade_fisica       float64\n",
       "Tempo_em_dispositivos_eletronicos    float64\n",
       "Frequencia_que_ingere_alcool          object\n",
       "Transporte_utilizado                  object\n",
       "Nivel_Obesidade                       object\n",
       "dtype: object"
      ]
     },
     "execution_count": 6,
     "metadata": {},
     "output_type": "execute_result"
    }
   ],
   "source": [
    "base_dados.dtypes"
   ]
  },
  {
   "cell_type": "markdown",
   "metadata": {},
   "source": [
    "Verificando a quantidade de valores nulos"
   ]
  },
  {
   "cell_type": "code",
   "execution_count": 7,
   "metadata": {},
   "outputs": [
    {
     "data": {
      "text/plain": [
       "Genero                               0\n",
       "Idade                                0\n",
       "Altura                               0\n",
       "Peso                                 0\n",
       "Historico_Familiar                   0\n",
       "Frequencia_em_alimentos_caloricos    0\n",
       "Come_vegetais_nas_refeiçoes          0\n",
       "Quant_refeiçoes_principais           0\n",
       "Come_algo_entre_as_refeiçoes         0\n",
       "Fuma                                 0\n",
       "Quant_agua_ingerida_diariamente      0\n",
       "Monitora_calorias_diariamente        0\n",
       "Frequencia_de_atividade_fisica       0\n",
       "Tempo_em_dispositivos_eletronicos    0\n",
       "Frequencia_que_ingere_alcool         0\n",
       "Transporte_utilizado                 0\n",
       "Nivel_Obesidade                      0\n",
       "dtype: int64"
      ]
     },
     "execution_count": 7,
     "metadata": {},
     "output_type": "execute_result"
    }
   ],
   "source": [
    "base_dados.isnull().sum()"
   ]
  },
  {
   "cell_type": "markdown",
   "metadata": {},
   "source": [
    "Verificando a quantidade de linhas e colunas da tabela"
   ]
  },
  {
   "cell_type": "code",
   "execution_count": 8,
   "metadata": {},
   "outputs": [
    {
     "data": {
      "text/plain": [
       "(2111, 17)"
      ]
     },
     "execution_count": 8,
     "metadata": {},
     "output_type": "execute_result"
    }
   ],
   "source": [
    "base_dados.shape"
   ]
  },
  {
   "cell_type": "markdown",
   "metadata": {},
   "source": [
    "                                     ANÁLISE DESCRITIVA"
   ]
  },
  {
   "cell_type": "markdown",
   "metadata": {},
   "source": [
    "Medidas de tendência central: Calcular a média, mediana e a moda para variáveis numéricas como idade, altura, peso, quantidade de refeições principais, quantidade de água ingerida diaramente e tempo em dispositivos eletrônicos"
   ]
  },
  {
   "cell_type": "markdown",
   "metadata": {},
   "source": [
    "Média: média aritmética dos valores da coluna\n",
    "\n",
    "Moda: Valor que aparece com mais frequência em um conjunto de valores\n",
    "\n",
    "mediana: Valor que se encontra no centro de um conjunto de valores."
   ]
  },
  {
   "cell_type": "markdown",
   "metadata": {},
   "source": [
    "Visualizando novamente os nomes das colunas para facilitar a criação da solução"
   ]
  },
  {
   "cell_type": "code",
   "execution_count": 9,
   "metadata": {},
   "outputs": [
    {
     "data": {
      "text/plain": [
       "Index(['Genero', 'Idade', 'Altura', 'Peso', 'Historico_Familiar',\n",
       "       'Frequencia_em_alimentos_caloricos', 'Come_vegetais_nas_refeiçoes',\n",
       "       'Quant_refeiçoes_principais', 'Come_algo_entre_as_refeiçoes', 'Fuma',\n",
       "       'Quant_agua_ingerida_diariamente', 'Monitora_calorias_diariamente',\n",
       "       'Frequencia_de_atividade_fisica', 'Tempo_em_dispositivos_eletronicos',\n",
       "       'Frequencia_que_ingere_alcool', 'Transporte_utilizado',\n",
       "       'Nivel_Obesidade'],\n",
       "      dtype='object')"
      ]
     },
     "execution_count": 9,
     "metadata": {},
     "output_type": "execute_result"
    }
   ],
   "source": [
    "base_dados.columns"
   ]
  },
  {
   "cell_type": "markdown",
   "metadata": {},
   "source": [
    "primeiro, vamos criar uma função para facilitar o nosso processo, já que, com a\n",
    "criação dela, não precisaremos repetir o processo várias vezes"
   ]
  },
  {
   "cell_type": "code",
   "execution_count": 10,
   "metadata": {},
   "outputs": [],
   "source": [
    "# A função terá como objetivo mostrar no console a média, a mediana e a moda\n",
    "# de cada coluna. A função ira receber como parametro o nome da coluna que \n",
    "# terá os valores impressos\n",
    "\n",
    "# Criação da função que ira imprimir os valores\n",
    "def imprimirValores(coluna):\n",
    "    \n",
    "    # impressão dos valores\n",
    "    \n",
    "    # Name: Ira mostrar o nome da coluna informada nos colchetes da base de dados\n",
    "    \n",
    "    # round: Serve para arredontar os valores. Basicamente, ele analisa se o primeiro\n",
    "    # valor após a virgula é menor ou maior que 5, se for maior ele arredonta pra cima,\n",
    "    # se for menor que 5 ele arredonta pra baixo. A função recebe 2 valores o valor e \n",
    "    # a quatidade de casas decimais que devem aparecer após a virgula.\n",
    "    \n",
    "    # mean: Cálcula a média dos valores\n",
    "    \n",
    "    # median: calcula a mediana dos valores\n",
    "    \n",
    "    # mode: Cálcula a moda dos valores. Ira retorna 2 valores: o indice da moda \n",
    "    # (pois pode haver mais de uma moda) e o valor da moda em si\n",
    "    \n",
    "    print(\"Média dos valores da coluna de \", base_dados[coluna].name,\": \", round(base_dados[coluna].mean(), 2))\n",
    "    \n",
    "    print(\"Mediana dos valores da coluna de \", base_dados[coluna].name,\": \", round(base_dados[coluna].median(), 2))\n",
    "    \n",
    "    print(\"Moda dos valores da coluna de \", base_dados[coluna].name,\": \", round(base_dados[coluna].mode(), 2))"
   ]
  },
  {
   "cell_type": "markdown",
   "metadata": {},
   "source": [
    "Calculando os valores da idade"
   ]
  },
  {
   "cell_type": "code",
   "execution_count": 11,
   "metadata": {},
   "outputs": [
    {
     "name": "stdout",
     "output_type": "stream",
     "text": [
      "Média dos valores da coluna de  Idade :  24.31\n",
      "Mediana dos valores da coluna de  Idade :  22.78\n",
      "Moda dos valores da coluna de  Idade :  0    18.0\n",
      "Name: Idade, dtype: float64\n"
     ]
    }
   ],
   "source": [
    "# Chamada da função\n",
    "\n",
    "imprimirValores('Idade')"
   ]
  },
  {
   "cell_type": "markdown",
   "metadata": {},
   "source": [
    "Calculando os valores da altura"
   ]
  },
  {
   "cell_type": "code",
   "execution_count": 12,
   "metadata": {},
   "outputs": [
    {
     "name": "stdout",
     "output_type": "stream",
     "text": [
      "Média dos valores da coluna de  Altura :  1.7\n",
      "Mediana dos valores da coluna de  Altura :  1.7\n",
      "Moda dos valores da coluna de  Altura :  0    1.7\n",
      "Name: Altura, dtype: float64\n"
     ]
    }
   ],
   "source": [
    "# Chamada da função\n",
    "\n",
    "imprimirValores('Altura')"
   ]
  },
  {
   "cell_type": "markdown",
   "metadata": {},
   "source": [
    "Calculando os valores da coluna de peso"
   ]
  },
  {
   "cell_type": "code",
   "execution_count": 13,
   "metadata": {},
   "outputs": [
    {
     "name": "stdout",
     "output_type": "stream",
     "text": [
      "Média dos valores da coluna de  Peso :  86.59\n",
      "Mediana dos valores da coluna de  Peso :  83.0\n",
      "Moda dos valores da coluna de  Peso :  0    80.0\n",
      "Name: Peso, dtype: float64\n"
     ]
    }
   ],
   "source": [
    "# Chamada da função\n",
    "\n",
    "imprimirValores('Peso')"
   ]
  },
  {
   "cell_type": "markdown",
   "metadata": {},
   "source": [
    "Valores da coluna de quantidade de refeições principais"
   ]
  },
  {
   "cell_type": "code",
   "execution_count": 14,
   "metadata": {},
   "outputs": [
    {
     "name": "stdout",
     "output_type": "stream",
     "text": [
      "Média dos valores da coluna de  Quant_refeiçoes_principais :  2.69\n",
      "Mediana dos valores da coluna de  Quant_refeiçoes_principais :  3.0\n",
      "Moda dos valores da coluna de  Quant_refeiçoes_principais :  0    3.0\n",
      "Name: Quant_refeiçoes_principais, dtype: float64\n"
     ]
    }
   ],
   "source": [
    "# chamada do método\n",
    "\n",
    "imprimirValores('Quant_refeiçoes_principais')"
   ]
  },
  {
   "cell_type": "markdown",
   "metadata": {},
   "source": [
    "Valores da coluna de quantidade de agua ingerida diariamente"
   ]
  },
  {
   "cell_type": "code",
   "execution_count": 15,
   "metadata": {},
   "outputs": [
    {
     "name": "stdout",
     "output_type": "stream",
     "text": [
      "Média dos valores da coluna de  Quant_agua_ingerida_diariamente :  2.01\n",
      "Mediana dos valores da coluna de  Quant_agua_ingerida_diariamente :  2.0\n",
      "Moda dos valores da coluna de  Quant_agua_ingerida_diariamente :  0    2.0\n",
      "Name: Quant_agua_ingerida_diariamente, dtype: float64\n"
     ]
    }
   ],
   "source": [
    "# chamada da função\n",
    "\n",
    "imprimirValores('Quant_agua_ingerida_diariamente')"
   ]
  },
  {
   "cell_type": "markdown",
   "metadata": {},
   "source": [
    "Valores da coluna de quantidade de tempo em dispositivos eletrônicos"
   ]
  },
  {
   "cell_type": "code",
   "execution_count": 16,
   "metadata": {},
   "outputs": [
    {
     "name": "stdout",
     "output_type": "stream",
     "text": [
      "Média dos valores da coluna de  Tempo_em_dispositivos_eletronicos :  0.66\n",
      "Mediana dos valores da coluna de  Tempo_em_dispositivos_eletronicos :  0.63\n",
      "Moda dos valores da coluna de  Tempo_em_dispositivos_eletronicos :  0    0.0\n",
      "Name: Tempo_em_dispositivos_eletronicos, dtype: float64\n"
     ]
    }
   ],
   "source": [
    "# Chamada da função\n",
    "\n",
    "imprimirValores('Tempo_em_dispositivos_eletronicos')"
   ]
  },
  {
   "cell_type": "markdown",
   "metadata": {},
   "source": [
    "Medidas de dispersão: Calcular o desvio padrão e variância para as mesmas\n",
    "variáveis"
   ]
  },
  {
   "cell_type": "markdown",
   "metadata": {},
   "source": [
    "Desvio padrão: distância que os valores estão da média \n",
    "\n",
    "Variância:  A variância nos mostra a dispersão dos dados em relação à média, mas ela é expressa em unidades ao quadrado. Isso significa que, se os dados originais forem em metros, a variância estará em metros quadrados. Essa unidade pode dificultar a interpretação direta."
   ]
  },
  {
   "cell_type": "markdown",
   "metadata": {},
   "source": [
    "Vamos seguir a mesma pratica de anteriormente, vamos criar uma função\n",
    "para realizar a mesma tarefa quantas vezes for necessária"
   ]
  },
  {
   "cell_type": "code",
   "execution_count": 17,
   "metadata": {},
   "outputs": [
    {
     "data": {
      "text/plain": [
       "Index(['Genero', 'Idade', 'Altura', 'Peso', 'Historico_Familiar',\n",
       "       'Frequencia_em_alimentos_caloricos', 'Come_vegetais_nas_refeiçoes',\n",
       "       'Quant_refeiçoes_principais', 'Come_algo_entre_as_refeiçoes', 'Fuma',\n",
       "       'Quant_agua_ingerida_diariamente', 'Monitora_calorias_diariamente',\n",
       "       'Frequencia_de_atividade_fisica', 'Tempo_em_dispositivos_eletronicos',\n",
       "       'Frequencia_que_ingere_alcool', 'Transporte_utilizado',\n",
       "       'Nivel_Obesidade'],\n",
       "      dtype='object')"
      ]
     },
     "execution_count": 17,
     "metadata": {},
     "output_type": "execute_result"
    }
   ],
   "source": [
    "base_dados.columns"
   ]
  },
  {
   "cell_type": "code",
   "execution_count": 18,
   "metadata": {},
   "outputs": [],
   "source": [
    "# Função que irá calcular a variância e o desvio padrão \n",
    "# das colunas numéricas\n",
    "def calc_desvio_variancia(coluna):\n",
    "    \n",
    "    # Variável que irá conter a função std da biblioteca numpy \n",
    "    # que tem como objetivo calcular o desvio padrão de uma\n",
    "    # coluna numérica\n",
    "    desvio_padrao = np.std(base_dados[coluna])\n",
    "    \n",
    "    # Variável que irá conter a função var da biblioteca numpy\n",
    "    # que tem como objetivo calcular a variância de uma coluna\n",
    "    # numérica.\n",
    "    variancia = np.var(base_dados[coluna])\n",
    "    \n",
    "    # Impressão dos resultados com o round que ira limitar a aparição de casas após a virgula, \n",
    "    # no nosso caso queremos apenas 2 casas após a virgula.\n",
    "    # O name ira capturar apenas o nome da coluna\n",
    "    print('Desvio padrão da coluna de ', base_dados[coluna].name,\": \", round(desvio_padrao, 2))\n",
    "    print('Variância da coluna de ', base_dados[coluna].name,\": \", round(variancia, 2))\n",
    "    \n",
    "    "
   ]
  },
  {
   "cell_type": "markdown",
   "metadata": {},
   "source": [
    "Desvio padrão e variância da coluna de idade"
   ]
  },
  {
   "cell_type": "code",
   "execution_count": 19,
   "metadata": {},
   "outputs": [
    {
     "name": "stdout",
     "output_type": "stream",
     "text": [
      "Desvio padrão da coluna de  Idade :  6.34\n",
      "Variância da coluna de  Idade :  40.25\n"
     ]
    }
   ],
   "source": [
    "calc_desvio_variancia('Idade')"
   ]
  },
  {
   "cell_type": "markdown",
   "metadata": {},
   "source": [
    "Desvio padrão e variância da coluna de altura"
   ]
  },
  {
   "cell_type": "code",
   "execution_count": 20,
   "metadata": {},
   "outputs": [
    {
     "name": "stdout",
     "output_type": "stream",
     "text": [
      "Desvio padrão da coluna de  Altura :  0.09\n",
      "Variância da coluna de  Altura :  0.01\n"
     ]
    }
   ],
   "source": [
    "calc_desvio_variancia('Altura')"
   ]
  },
  {
   "cell_type": "markdown",
   "metadata": {},
   "source": [
    "Desvio padrão e variância da coluna de peso"
   ]
  },
  {
   "cell_type": "code",
   "execution_count": 21,
   "metadata": {},
   "outputs": [
    {
     "name": "stdout",
     "output_type": "stream",
     "text": [
      "Desvio padrão da coluna de  Peso :  26.18\n",
      "Variância da coluna de  Peso :  685.65\n"
     ]
    }
   ],
   "source": [
    "calc_desvio_variancia('Peso')"
   ]
  },
  {
   "cell_type": "markdown",
   "metadata": {},
   "source": [
    "Desvio padrão e variância da coluna de quantidade de refeições principais"
   ]
  },
  {
   "cell_type": "code",
   "execution_count": 22,
   "metadata": {},
   "outputs": [
    {
     "name": "stdout",
     "output_type": "stream",
     "text": [
      "Desvio padrão da coluna de  Quant_refeiçoes_principais :  0.78\n",
      "Variância da coluna de  Quant_refeiçoes_principais :  0.61\n"
     ]
    }
   ],
   "source": [
    "calc_desvio_variancia('Quant_refeiçoes_principais')"
   ]
  },
  {
   "cell_type": "markdown",
   "metadata": {},
   "source": [
    "Desvio padrão e variância da coluna de quantidade de agua ingerida diariamente"
   ]
  },
  {
   "cell_type": "code",
   "execution_count": 23,
   "metadata": {},
   "outputs": [
    {
     "name": "stdout",
     "output_type": "stream",
     "text": [
      "Desvio padrão da coluna de  Quant_agua_ingerida_diariamente :  0.61\n",
      "Variância da coluna de  Quant_agua_ingerida_diariamente :  0.38\n"
     ]
    }
   ],
   "source": [
    "calc_desvio_variancia('Quant_agua_ingerida_diariamente')"
   ]
  },
  {
   "cell_type": "markdown",
   "metadata": {},
   "source": [
    "Variância e desvio padrão da coluna de tempo em dispositivos eletrônicos"
   ]
  },
  {
   "cell_type": "code",
   "execution_count": 24,
   "metadata": {},
   "outputs": [
    {
     "name": "stdout",
     "output_type": "stream",
     "text": [
      "Desvio padrão da coluna de  Tempo_em_dispositivos_eletronicos :  0.61\n",
      "Variância da coluna de  Tempo_em_dispositivos_eletronicos :  0.37\n"
     ]
    }
   ],
   "source": [
    "calc_desvio_variancia('Tempo_em_dispositivos_eletronicos')"
   ]
  },
  {
   "cell_type": "markdown",
   "metadata": {},
   "source": [
    "Frequências: Contar a frequência de cada categoria para variáveis categóricas\n",
    "como gênero, histórico familiar, se a pessoa fuma ou não e o transporte utilizado."
   ]
  },
  {
   "cell_type": "markdown",
   "metadata": {},
   "source": [
    "Definição: A frequência representa a quantidade de vezes que os valores únicos de uma coluna\n",
    "aparecem, por exemplo, podemos calcular quantas vezes o valor categórico \"sim\" aparece em uma \n",
    "tabela.\n",
    "Ela pode ser dividida em:\n",
    "\n",
    "frequencia absoluta: Quantidade de vezes que o valor aparece.\n",
    "\n",
    "frequência relativa: Porcentagem das vezes que o valor aparece."
   ]
  },
  {
   "cell_type": "markdown",
   "metadata": {},
   "source": [
    "Criação da função que irá calcular a frequência de cada valor nas colunas categóricas"
   ]
  },
  {
   "cell_type": "code",
   "execution_count": 25,
   "metadata": {},
   "outputs": [],
   "source": [
    "# Função que ira calcular a frequência dos valores.\n",
    "# A função irá receber como parametro o nome da \n",
    "# coluna que queremos calcular a frequência.\n",
    "def calc_frequencia(coluna_categorica):\n",
    "    \n",
    "    # Variável que irá conter a função value_counts que tem como objetivo\n",
    "    # contar a quantidade de vezes um valor aparece na coluna. A função\n",
    "    # recebe como parametro o normalize=True que tem como objetivo calcular\n",
    "    # a frequência relativa (porcentagem das vezes que o valor aparece) dos\n",
    "    # valores da coluna.\n",
    "    calculo_frequência = base_dados[coluna_categorica].value_counts(normalize=True)\n",
    "    \n",
    "    # impressão dos resultados usando o round que ira limitar a aparição de casas decimais\n",
    "    # após a virgula, no nosso caso iremos limitar a apenas 2 casas decimais\n",
    "    print('Calculo da frequência dos valores da coluna: ', round(calculo_frequência,2))\n",
    "    \n",
    "    "
   ]
  },
  {
   "cell_type": "markdown",
   "metadata": {},
   "source": [
    "Visualizando as colunas para facilitar a chamada da função"
   ]
  },
  {
   "cell_type": "code",
   "execution_count": 26,
   "metadata": {},
   "outputs": [
    {
     "data": {
      "text/plain": [
       "Index(['Genero', 'Idade', 'Altura', 'Peso', 'Historico_Familiar',\n",
       "       'Frequencia_em_alimentos_caloricos', 'Come_vegetais_nas_refeiçoes',\n",
       "       'Quant_refeiçoes_principais', 'Come_algo_entre_as_refeiçoes', 'Fuma',\n",
       "       'Quant_agua_ingerida_diariamente', 'Monitora_calorias_diariamente',\n",
       "       'Frequencia_de_atividade_fisica', 'Tempo_em_dispositivos_eletronicos',\n",
       "       'Frequencia_que_ingere_alcool', 'Transporte_utilizado',\n",
       "       'Nivel_Obesidade'],\n",
       "      dtype='object')"
      ]
     },
     "execution_count": 26,
     "metadata": {},
     "output_type": "execute_result"
    }
   ],
   "source": [
    "base_dados.columns"
   ]
  },
  {
   "cell_type": "markdown",
   "metadata": {},
   "source": [
    "Frequência relativa (porcentagem) dos valores da coluna de generos"
   ]
  },
  {
   "cell_type": "code",
   "execution_count": 27,
   "metadata": {},
   "outputs": [
    {
     "name": "stdout",
     "output_type": "stream",
     "text": [
      "Calculo da frequência dos valores da coluna:  Genero\n",
      "Male      0.51\n",
      "Female    0.49\n",
      "Name: proportion, dtype: float64\n"
     ]
    }
   ],
   "source": [
    "calc_frequencia('Genero')"
   ]
  },
  {
   "cell_type": "markdown",
   "metadata": {},
   "source": [
    "frequência relativa (porcentagem) da coluna de históricos familiar"
   ]
  },
  {
   "cell_type": "code",
   "execution_count": 28,
   "metadata": {},
   "outputs": [
    {
     "name": "stdout",
     "output_type": "stream",
     "text": [
      "Calculo da frequência dos valores da coluna:  Historico_Familiar\n",
      "yes    0.82\n",
      "no     0.18\n",
      "Name: proportion, dtype: float64\n"
     ]
    }
   ],
   "source": [
    "calc_frequencia('Historico_Familiar')"
   ]
  },
  {
   "cell_type": "markdown",
   "metadata": {},
   "source": [
    "Porcentagem relativa (porcentagem) da coluna Fuma"
   ]
  },
  {
   "cell_type": "code",
   "execution_count": 29,
   "metadata": {},
   "outputs": [
    {
     "name": "stdout",
     "output_type": "stream",
     "text": [
      "Calculo da frequência dos valores da coluna:  Fuma\n",
      "no     0.98\n",
      "yes    0.02\n",
      "Name: proportion, dtype: float64\n"
     ]
    }
   ],
   "source": [
    "calc_frequencia('Fuma')"
   ]
  },
  {
   "cell_type": "markdown",
   "metadata": {},
   "source": [
    "Porcentagem relativa da coluna de transportes utilizados"
   ]
  },
  {
   "cell_type": "code",
   "execution_count": 30,
   "metadata": {},
   "outputs": [
    {
     "name": "stdout",
     "output_type": "stream",
     "text": [
      "Calculo da frequência dos valores da coluna:  Transporte_utilizado\n",
      "Public_Transportation    0.75\n",
      "Automobile               0.22\n",
      "Walking                  0.03\n",
      "Motorbike                0.01\n",
      "Bike                     0.00\n",
      "Name: proportion, dtype: float64\n"
     ]
    }
   ],
   "source": [
    "calc_frequencia('Transporte_utilizado')"
   ]
  },
  {
   "cell_type": "markdown",
   "metadata": {},
   "source": [
    "Tabelas de Contingência: Criar tabelas cruzadas para analisar a relação entre duas variáveis categóricas, por exemplo, genêro e nivel de obesidade"
   ]
  },
  {
   "cell_type": "markdown",
   "metadata": {},
   "source": [
    "Primeiro vamos filtrar apenas as colunas categóricas para facilitar a \n",
    "visualização das colunas que temos que trabalhar."
   ]
  },
  {
   "cell_type": "markdown",
   "metadata": {},
   "source": [
    "Tabelas cruzadas: Uma tabela cruzada, também conhecida como tabulação cruzada ou tabela de contingência, é uma ferramenta estatística que permite comparar os resultados de duas ou mais variáveis categóricas. Ela organiza os dados em uma tabela, cruzando as categorias de cada variável para mostrar a frequência com que ocorrem em conjunto."
   ]
  },
  {
   "cell_type": "code",
   "execution_count": 31,
   "metadata": {},
   "outputs": [],
   "source": [
    "# Vamos usar o a função select_dtypes do pandas que tem como objetivo\n",
    "# filtrar as colunas por tipo de dados. A função recebe como parametro\n",
    "# o include = ['tipo do dado que você quer filtrar']\n",
    "colunas_categoricas = base_dados.select_dtypes(include=['object'])"
   ]
  },
  {
   "cell_type": "markdown",
   "metadata": {},
   "source": [
    "Verificando as colunas categóricas"
   ]
  },
  {
   "cell_type": "code",
   "execution_count": 32,
   "metadata": {},
   "outputs": [
    {
     "data": {
      "text/plain": [
       "Index(['Genero', 'Historico_Familiar', 'Frequencia_em_alimentos_caloricos',\n",
       "       'Come_algo_entre_as_refeiçoes', 'Fuma', 'Monitora_calorias_diariamente',\n",
       "       'Frequencia_que_ingere_alcool', 'Transporte_utilizado',\n",
       "       'Nivel_Obesidade'],\n",
       "      dtype='object')"
      ]
     },
     "execution_count": 32,
     "metadata": {},
     "output_type": "execute_result"
    }
   ],
   "source": [
    "colunas_categoricas.columns"
   ]
  },
  {
   "cell_type": "markdown",
   "metadata": {},
   "source": [
    "Agora, vamos criar uma função que ira construir as tabelas cruzadas entre 2 variáveis\n",
    "categóricas"
   ]
  },
  {
   "cell_type": "markdown",
   "metadata": {},
   "source": [
    "Observação: Irei analisar individualmente cada tabela cruzada."
   ]
  },
  {
   "cell_type": "code",
   "execution_count": 33,
   "metadata": {},
   "outputs": [],
   "source": [
    "# Função que ira criar as tabelas cruzadas. A função ira receber como parametro o nome das 2 colunas que serão utilizadas na construção da tabela \n",
    "# cruzada.\n",
    "\n",
    "def tabela_cruzada(coluna1, coluna2):\n",
    "    \n",
    "    # Ira receber a função do pandas que ira construir a tabela cruzada \n",
    "    tabela = pd.crosstab(colunas_categoricas[coluna1], colunas_categoricas[coluna2])\n",
    "    \n",
    "    return tabela"
   ]
  },
  {
   "cell_type": "markdown",
   "metadata": {},
   "source": [
    "Primeiro, vamos fazer a relação entre gênero e nivel de obesidade"
   ]
  },
  {
   "cell_type": "markdown",
   "metadata": {},
   "source": [
    "Como vamos observar abaixo, para realizarmos uma análise um pouco mais detalhada teremos que pontuar a diferença percentual entre os valores,para\n",
    "isso, vamos criar uma função que seguira a segunite fórmula matemática\n",
    "para calculos de diferenças percentuais.\n",
    "\n",
    "Calculo da porcentagem:\n",
    "\n",
    "Diferença: valor maior  - valor menor\n",
    "\n",
    "Dividindo pela base = diferença / valor menor\n",
    "\n",
    "porcentagem = resulta da divisão pela base * 100 \n",
    "\n"
   ]
  },
  {
   "cell_type": "markdown",
   "metadata": {},
   "source": [
    "Criação da função de calculos percentuais"
   ]
  },
  {
   "cell_type": "code",
   "execution_count": 34,
   "metadata": {},
   "outputs": [],
   "source": [
    "# Função que ira calcular a diferença percentual. A \n",
    "# A função irá receber 2 argumentos o valor maior\n",
    "# e o valor menor\n",
    "def calc_diferenca_percentual(valormaior, valormenor):\n",
    "    \n",
    "    diferenca = valormaior - valormenor\n",
    "    \n",
    "    divisao_pela_base = diferenca / valormenor\n",
    "    \n",
    "    porcentagem = divisao_pela_base * 100\n",
    "    \n",
    "    # Retorno do valor que queremos descobrir\n",
    "    return porcentagem\n",
    "    "
   ]
  },
  {
   "cell_type": "code",
   "execution_count": 35,
   "metadata": {},
   "outputs": [
    {
     "data": {
      "text/html": [
       "<div>\n",
       "<style scoped>\n",
       "    .dataframe tbody tr th:only-of-type {\n",
       "        vertical-align: middle;\n",
       "    }\n",
       "\n",
       "    .dataframe tbody tr th {\n",
       "        vertical-align: top;\n",
       "    }\n",
       "\n",
       "    .dataframe thead th {\n",
       "        text-align: right;\n",
       "    }\n",
       "</style>\n",
       "<table border=\"1\" class=\"dataframe\">\n",
       "  <thead>\n",
       "    <tr style=\"text-align: right;\">\n",
       "      <th>Nivel_Obesidade</th>\n",
       "      <th>Insufficient_Weight</th>\n",
       "      <th>Normal_Weight</th>\n",
       "      <th>Obesity_Type_I</th>\n",
       "      <th>Obesity_Type_II</th>\n",
       "      <th>Obesity_Type_III</th>\n",
       "      <th>Overweight_Level_I</th>\n",
       "      <th>Overweight_Level_II</th>\n",
       "    </tr>\n",
       "    <tr>\n",
       "      <th>Genero</th>\n",
       "      <th></th>\n",
       "      <th></th>\n",
       "      <th></th>\n",
       "      <th></th>\n",
       "      <th></th>\n",
       "      <th></th>\n",
       "      <th></th>\n",
       "    </tr>\n",
       "  </thead>\n",
       "  <tbody>\n",
       "    <tr>\n",
       "      <th>Female</th>\n",
       "      <td>173</td>\n",
       "      <td>141</td>\n",
       "      <td>156</td>\n",
       "      <td>2</td>\n",
       "      <td>323</td>\n",
       "      <td>145</td>\n",
       "      <td>103</td>\n",
       "    </tr>\n",
       "    <tr>\n",
       "      <th>Male</th>\n",
       "      <td>99</td>\n",
       "      <td>146</td>\n",
       "      <td>195</td>\n",
       "      <td>295</td>\n",
       "      <td>1</td>\n",
       "      <td>145</td>\n",
       "      <td>187</td>\n",
       "    </tr>\n",
       "  </tbody>\n",
       "</table>\n",
       "</div>"
      ],
      "text/plain": [
       "Nivel_Obesidade  Insufficient_Weight  Normal_Weight  Obesity_Type_I  \\\n",
       "Genero                                                                \n",
       "Female                           173            141             156   \n",
       "Male                              99            146             195   \n",
       "\n",
       "Nivel_Obesidade  Obesity_Type_II  Obesity_Type_III  Overweight_Level_I  \\\n",
       "Genero                                                                   \n",
       "Female                         2               323                 145   \n",
       "Male                         295                 1                 145   \n",
       "\n",
       "Nivel_Obesidade  Overweight_Level_II  \n",
       "Genero                                \n",
       "Female                           103  \n",
       "Male                             187  "
      ]
     },
     "execution_count": 35,
     "metadata": {},
     "output_type": "execute_result"
    }
   ],
   "source": [
    "tabela_cruzada('Genero', 'Nivel_Obesidade')"
   ]
  },
  {
   "cell_type": "code",
   "execution_count": 36,
   "metadata": {},
   "outputs": [
    {
     "data": {
      "text/plain": [
       "81.55339805825243"
      ]
     },
     "execution_count": 36,
     "metadata": {},
     "output_type": "execute_result"
    }
   ],
   "source": [
    "# Chamada da função de cálculos de porcentagem\n",
    "\n",
    "calc_diferenca_percentual(187, 103)"
   ]
  },
  {
   "cell_type": "markdown",
   "metadata": {},
   "source": [
    "Conclusão da tabela: Analisando a tabela, percebemos que no geral os homens sofrem com o peso mais do\n",
    "que as mulheres, entretanto, os casos em que as mulheres sofrem mais, o valor é muito discrepante,\n",
    "sendo muito maior que os dos homens, como no caso da obesidade 3 por exemplo.\n",
    "\n",
    "Peso insuficiente: O grupo das mulheres com peso insuficiente é 74% maior que o grupo de homens com\n",
    "peso insuficiente\n",
    "\n",
    "peso normal: O grupo de homens com peso normal é 3.54% maior que o grupo de mulheres com\n",
    "peso normal\n",
    "\n",
    "obesidade tipo 1:  O grupo de homens com obesidade tipo 1 é 25% maior que o grupo de mulheres com\n",
    "obesidade tipo 1\n",
    "\n",
    "Obesidade tipo 2:  O grupo de homens com obesidade tipo 2 é 14650% maior que o grupo de mulheres com\n",
    "obesidade tipo 2.\n",
    "\n",
    "Obesidade tipo 3:  O grupo das mulheres com obesidade tipo 3 é 32200% maior que o grupo de homens com\n",
    "obesidade tipo 3\n",
    "\n",
    "sobrepeso nivel 1: não há diferença entre os valores\n",
    "\n",
    "sobrepeso nivel 2:  O grupo dos homens com sobrepeso nivel 2  é 81.53% maior que o grupo das mulheres com\n",
    "sobrepeso nivel 2"
   ]
  },
  {
   "cell_type": "markdown",
   "metadata": {},
   "source": [
    "validação entre o histórico familiar e a frequencia de calorias consumidas"
   ]
  },
  {
   "cell_type": "code",
   "execution_count": 37,
   "metadata": {},
   "outputs": [
    {
     "data": {
      "text/html": [
       "<div>\n",
       "<style scoped>\n",
       "    .dataframe tbody tr th:only-of-type {\n",
       "        vertical-align: middle;\n",
       "    }\n",
       "\n",
       "    .dataframe tbody tr th {\n",
       "        vertical-align: top;\n",
       "    }\n",
       "\n",
       "    .dataframe thead th {\n",
       "        text-align: right;\n",
       "    }\n",
       "</style>\n",
       "<table border=\"1\" class=\"dataframe\">\n",
       "  <thead>\n",
       "    <tr style=\"text-align: right;\">\n",
       "      <th>Frequencia_em_alimentos_caloricos</th>\n",
       "      <th>no</th>\n",
       "      <th>yes</th>\n",
       "    </tr>\n",
       "    <tr>\n",
       "      <th>Historico_Familiar</th>\n",
       "      <th></th>\n",
       "      <th></th>\n",
       "    </tr>\n",
       "  </thead>\n",
       "  <tbody>\n",
       "    <tr>\n",
       "      <th>no</th>\n",
       "      <td>99</td>\n",
       "      <td>286</td>\n",
       "    </tr>\n",
       "    <tr>\n",
       "      <th>yes</th>\n",
       "      <td>146</td>\n",
       "      <td>1580</td>\n",
       "    </tr>\n",
       "  </tbody>\n",
       "</table>\n",
       "</div>"
      ],
      "text/plain": [
       "Frequencia_em_alimentos_caloricos   no   yes\n",
       "Historico_Familiar                          \n",
       "no                                  99   286\n",
       "yes                                146  1580"
      ]
     },
     "execution_count": 37,
     "metadata": {},
     "output_type": "execute_result"
    }
   ],
   "source": [
    "tabela_cruzada('Historico_Familiar', 'Frequencia_em_alimentos_caloricos')"
   ]
  },
  {
   "cell_type": "code",
   "execution_count": 38,
   "metadata": {},
   "outputs": [
    {
     "data": {
      "text/plain": [
       "452.4475524475524"
      ]
     },
     "execution_count": 38,
     "metadata": {},
     "output_type": "execute_result"
    }
   ],
   "source": [
    "# Chamada da função de calculo de diferenças percentuais\n",
    "\n",
    "calc_diferenca_percentual(1580, 286)"
   ]
  },
  {
   "cell_type": "markdown",
   "metadata": {},
   "source": [
    "Conclusão da tabela: podemos observar que pessoas com histórico familiar \n",
    "consomem 452% mais alimentos calóricos que as pessoas sem histórico familiar."
   ]
  },
  {
   "cell_type": "markdown",
   "metadata": {},
   "source": [
    "Relação entre a frequência de consumo de alimentos calóricos e o \n",
    "nivel de obesidade"
   ]
  },
  {
   "cell_type": "code",
   "execution_count": 39,
   "metadata": {},
   "outputs": [
    {
     "data": {
      "text/html": [
       "<div>\n",
       "<style scoped>\n",
       "    .dataframe tbody tr th:only-of-type {\n",
       "        vertical-align: middle;\n",
       "    }\n",
       "\n",
       "    .dataframe tbody tr th {\n",
       "        vertical-align: top;\n",
       "    }\n",
       "\n",
       "    .dataframe thead th {\n",
       "        text-align: right;\n",
       "    }\n",
       "</style>\n",
       "<table border=\"1\" class=\"dataframe\">\n",
       "  <thead>\n",
       "    <tr style=\"text-align: right;\">\n",
       "      <th>Nivel_Obesidade</th>\n",
       "      <th>Insufficient_Weight</th>\n",
       "      <th>Normal_Weight</th>\n",
       "      <th>Obesity_Type_I</th>\n",
       "      <th>Obesity_Type_II</th>\n",
       "      <th>Obesity_Type_III</th>\n",
       "      <th>Overweight_Level_I</th>\n",
       "      <th>Overweight_Level_II</th>\n",
       "    </tr>\n",
       "    <tr>\n",
       "      <th>Frequencia_em_alimentos_caloricos</th>\n",
       "      <th></th>\n",
       "      <th></th>\n",
       "      <th></th>\n",
       "      <th></th>\n",
       "      <th></th>\n",
       "      <th></th>\n",
       "      <th></th>\n",
       "    </tr>\n",
       "  </thead>\n",
       "  <tbody>\n",
       "    <tr>\n",
       "      <th>no</th>\n",
       "      <td>51</td>\n",
       "      <td>79</td>\n",
       "      <td>11</td>\n",
       "      <td>7</td>\n",
       "      <td>1</td>\n",
       "      <td>22</td>\n",
       "      <td>74</td>\n",
       "    </tr>\n",
       "    <tr>\n",
       "      <th>yes</th>\n",
       "      <td>221</td>\n",
       "      <td>208</td>\n",
       "      <td>340</td>\n",
       "      <td>290</td>\n",
       "      <td>323</td>\n",
       "      <td>268</td>\n",
       "      <td>216</td>\n",
       "    </tr>\n",
       "  </tbody>\n",
       "</table>\n",
       "</div>"
      ],
      "text/plain": [
       "Nivel_Obesidade                    Insufficient_Weight  Normal_Weight  \\\n",
       "Frequencia_em_alimentos_caloricos                                       \n",
       "no                                                  51             79   \n",
       "yes                                                221            208   \n",
       "\n",
       "Nivel_Obesidade                    Obesity_Type_I  Obesity_Type_II  \\\n",
       "Frequencia_em_alimentos_caloricos                                    \n",
       "no                                             11                7   \n",
       "yes                                           340              290   \n",
       "\n",
       "Nivel_Obesidade                    Obesity_Type_III  Overweight_Level_I  \\\n",
       "Frequencia_em_alimentos_caloricos                                         \n",
       "no                                                1                  22   \n",
       "yes                                             323                 268   \n",
       "\n",
       "Nivel_Obesidade                    Overweight_Level_II  \n",
       "Frequencia_em_alimentos_caloricos                       \n",
       "no                                                  74  \n",
       "yes                                                216  "
      ]
     },
     "execution_count": 39,
     "metadata": {},
     "output_type": "execute_result"
    }
   ],
   "source": [
    "tabela_cruzada('Frequencia_em_alimentos_caloricos', 'Nivel_Obesidade')"
   ]
  },
  {
   "cell_type": "code",
   "execution_count": 40,
   "metadata": {},
   "outputs": [
    {
     "data": {
      "text/plain": [
       "333.33333333333337"
      ]
     },
     "execution_count": 40,
     "metadata": {},
     "output_type": "execute_result"
    }
   ],
   "source": [
    "# Chamada da função de cálculo de diferenças percentuais\n",
    "\n",
    "calc_diferenca_percentual(221, 51)"
   ]
  },
  {
   "cell_type": "markdown",
   "metadata": {},
   "source": [
    "Conclusão da tabela: Podemos observar que pessoas com consomem calorias frequentemente possuem um\n",
    "nivel bem mais alto em todas as categorias do que pessoas que não consomem calorias frequentemente\n",
    "\n",
    "\n",
    "\n",
    "peso insuficiente: o grupo de pessoas que consomem calorias é 333% maior que o grupo de pessoas que não\n",
    "consomem calorias frequentemente\n",
    "\n",
    "peso normal: o grupo de pessoas que consomem calorias é 163% maior que o grupo de pessoas que não\n",
    "consomem calorias frequentemente.\n",
    "\n",
    "obesidade tipo 1: o grupo de pessoas que consomem calorias é 2990% maior que o grupo de pessoas que não\n",
    "consomem calorias frequentemente. \n",
    "\n",
    "Obesidade tipo 2: o grupo de pessoas que consomem calorias é 4042% maior que o grupo de pessoas que não\n",
    "consomem calorias frequentemente.\n",
    "\n",
    "Obesidade tipo 3: o grupo de pessoas que consomem calorias é 32200% maior que o grupo de pessoas que não\n",
    "consomem calorias frequentemente.\n",
    "\n",
    "Sobrepeso nivel 1: o grupo de pessoas que consomem calorias é 1118% maior que o grupo de pessoas que não\n",
    "consomem calorias frequentemente.\n",
    "\n",
    "sobrepeso nivel 2: o grupo de pessoas que consomem calorias é 191% maior que o grupo de pessoas que não\n",
    "consomem calorias frequentemente."
   ]
  },
  {
   "cell_type": "markdown",
   "metadata": {},
   "source": [
    "relação entre o transporte utilizado e o nivel de obesidade"
   ]
  },
  {
   "cell_type": "code",
   "execution_count": 41,
   "metadata": {},
   "outputs": [
    {
     "data": {
      "text/html": [
       "<div>\n",
       "<style scoped>\n",
       "    .dataframe tbody tr th:only-of-type {\n",
       "        vertical-align: middle;\n",
       "    }\n",
       "\n",
       "    .dataframe tbody tr th {\n",
       "        vertical-align: top;\n",
       "    }\n",
       "\n",
       "    .dataframe thead th {\n",
       "        text-align: right;\n",
       "    }\n",
       "</style>\n",
       "<table border=\"1\" class=\"dataframe\">\n",
       "  <thead>\n",
       "    <tr style=\"text-align: right;\">\n",
       "      <th>Transporte_utilizado</th>\n",
       "      <th>Automobile</th>\n",
       "      <th>Bike</th>\n",
       "      <th>Motorbike</th>\n",
       "      <th>Public_Transportation</th>\n",
       "      <th>Walking</th>\n",
       "    </tr>\n",
       "    <tr>\n",
       "      <th>Nivel_Obesidade</th>\n",
       "      <th></th>\n",
       "      <th></th>\n",
       "      <th></th>\n",
       "      <th></th>\n",
       "      <th></th>\n",
       "    </tr>\n",
       "  </thead>\n",
       "  <tbody>\n",
       "    <tr>\n",
       "      <th>Insufficient_Weight</th>\n",
       "      <td>46</td>\n",
       "      <td>0</td>\n",
       "      <td>0</td>\n",
       "      <td>220</td>\n",
       "      <td>6</td>\n",
       "    </tr>\n",
       "    <tr>\n",
       "      <th>Normal_Weight</th>\n",
       "      <td>45</td>\n",
       "      <td>4</td>\n",
       "      <td>6</td>\n",
       "      <td>200</td>\n",
       "      <td>32</td>\n",
       "    </tr>\n",
       "    <tr>\n",
       "      <th>Obesity_Type_I</th>\n",
       "      <td>110</td>\n",
       "      <td>0</td>\n",
       "      <td>3</td>\n",
       "      <td>236</td>\n",
       "      <td>2</td>\n",
       "    </tr>\n",
       "    <tr>\n",
       "      <th>Obesity_Type_II</th>\n",
       "      <td>95</td>\n",
       "      <td>1</td>\n",
       "      <td>0</td>\n",
       "      <td>200</td>\n",
       "      <td>1</td>\n",
       "    </tr>\n",
       "    <tr>\n",
       "      <th>Obesity_Type_III</th>\n",
       "      <td>1</td>\n",
       "      <td>0</td>\n",
       "      <td>0</td>\n",
       "      <td>323</td>\n",
       "      <td>0</td>\n",
       "    </tr>\n",
       "    <tr>\n",
       "      <th>Overweight_Level_I</th>\n",
       "      <td>66</td>\n",
       "      <td>2</td>\n",
       "      <td>1</td>\n",
       "      <td>212</td>\n",
       "      <td>9</td>\n",
       "    </tr>\n",
       "    <tr>\n",
       "      <th>Overweight_Level_II</th>\n",
       "      <td>94</td>\n",
       "      <td>0</td>\n",
       "      <td>1</td>\n",
       "      <td>189</td>\n",
       "      <td>6</td>\n",
       "    </tr>\n",
       "  </tbody>\n",
       "</table>\n",
       "</div>"
      ],
      "text/plain": [
       "Transporte_utilizado  Automobile  Bike  Motorbike  Public_Transportation  \\\n",
       "Nivel_Obesidade                                                            \n",
       "Insufficient_Weight           46     0          0                    220   \n",
       "Normal_Weight                 45     4          6                    200   \n",
       "Obesity_Type_I               110     0          3                    236   \n",
       "Obesity_Type_II               95     1          0                    200   \n",
       "Obesity_Type_III               1     0          0                    323   \n",
       "Overweight_Level_I            66     2          1                    212   \n",
       "Overweight_Level_II           94     0          1                    189   \n",
       "\n",
       "Transporte_utilizado  Walking  \n",
       "Nivel_Obesidade                \n",
       "Insufficient_Weight         6  \n",
       "Normal_Weight              32  \n",
       "Obesity_Type_I              2  \n",
       "Obesity_Type_II             1  \n",
       "Obesity_Type_III            0  \n",
       "Overweight_Level_I          9  \n",
       "Overweight_Level_II         6  "
      ]
     },
     "execution_count": 41,
     "metadata": {},
     "output_type": "execute_result"
    }
   ],
   "source": [
    "# Chamada da função de construção de tabelas cruzadas\n",
    "tabela_cruzada('Nivel_Obesidade', 'Transporte_utilizado')"
   ]
  },
  {
   "cell_type": "code",
   "execution_count": 42,
   "metadata": {},
   "outputs": [
    {
     "data": {
      "text/plain": [
       "61.5"
      ]
     },
     "execution_count": 42,
     "metadata": {},
     "output_type": "execute_result"
    }
   ],
   "source": [
    "# Chamada da função de calculo de diferenças percentuais\n",
    "\n",
    "calc_diferenca_percentual(323, 200)"
   ]
  },
  {
   "cell_type": "markdown",
   "metadata": {},
   "source": [
    "Conclusão da tabela: De modo geral, podemos observar que, boa parte\n",
    "das categorias de peso possuem uma grande quantidade de pessoas que\n",
    "andam de transporte público e veiculos automotivos, o que pode indicar\n",
    "que a falta de exercicios fisicos (no caso uma caminhada até o destino)\n",
    "pode cooperar com os problemas de obesidade.Tanto que o numero com obesidade\n",
    "tipo 3 e que usam transporte público é 61.5% maior que o numero de pessoas\n",
    "que possuem o peso normal e utilizam o transporte público. Outro fator que \n",
    "corrobora com a teoria de que a falta de caminhada auxilia nos problemas de\n",
    "obesidade, é o fato de que as pessoas do grupo que caminham (walking) possuem\n",
    "um peso normal, já que nas outras categorias esse grupo é extremamente menor."
   ]
  },
  {
   "cell_type": "markdown",
   "metadata": {},
   "source": [
    "Relação entre consumo de alimentos calóricos e monitoramento da ingestão calórica"
   ]
  },
  {
   "cell_type": "code",
   "execution_count": 43,
   "metadata": {},
   "outputs": [
    {
     "data": {
      "text/html": [
       "<div>\n",
       "<style scoped>\n",
       "    .dataframe tbody tr th:only-of-type {\n",
       "        vertical-align: middle;\n",
       "    }\n",
       "\n",
       "    .dataframe tbody tr th {\n",
       "        vertical-align: top;\n",
       "    }\n",
       "\n",
       "    .dataframe thead th {\n",
       "        text-align: right;\n",
       "    }\n",
       "</style>\n",
       "<table border=\"1\" class=\"dataframe\">\n",
       "  <thead>\n",
       "    <tr style=\"text-align: right;\">\n",
       "      <th>Monitora_calorias_diariamente</th>\n",
       "      <th>no</th>\n",
       "      <th>yes</th>\n",
       "    </tr>\n",
       "    <tr>\n",
       "      <th>Frequencia_em_alimentos_caloricos</th>\n",
       "      <th></th>\n",
       "      <th></th>\n",
       "    </tr>\n",
       "  </thead>\n",
       "  <tbody>\n",
       "    <tr>\n",
       "      <th>no</th>\n",
       "      <td>207</td>\n",
       "      <td>38</td>\n",
       "    </tr>\n",
       "    <tr>\n",
       "      <th>yes</th>\n",
       "      <td>1808</td>\n",
       "      <td>58</td>\n",
       "    </tr>\n",
       "  </tbody>\n",
       "</table>\n",
       "</div>"
      ],
      "text/plain": [
       "Monitora_calorias_diariamente        no  yes\n",
       "Frequencia_em_alimentos_caloricos           \n",
       "no                                  207   38\n",
       "yes                                1808   58"
      ]
     },
     "execution_count": 43,
     "metadata": {},
     "output_type": "execute_result"
    }
   ],
   "source": [
    "# Chamada da função de tabelas cruzadas\n",
    "\n",
    "tabela_cruzada('Frequencia_em_alimentos_caloricos', 'Monitora_calorias_diariamente')"
   ]
  },
  {
   "cell_type": "markdown",
   "metadata": {},
   "source": [
    "Conclusão da tabela: Podemos concluir que a maioria das pessoas que consomem alimentos calóricos com frequência não monitora a quantidade de calorias que ingere. Essa conclusão se baseia na comparação entre os números 1808 (pessoas que consomem alimentos calóricos com frequência e não monitoram) e 58 (pessoas que consomem alimentos calóricos com frequência e monitoram)."
   ]
  },
  {
   "cell_type": "markdown",
   "metadata": {},
   "source": [
    "                        Análise exploratória dos dados"
   ]
  },
  {
   "cell_type": "markdown",
   "metadata": {},
   "source": [
    "                                Visualizações"
   ]
  },
  {
   "cell_type": "markdown",
   "metadata": {},
   "source": [
    "Histograma: Visualizar a distribuição de variaveis numéricas como idade, peso e altura."
   ]
  },
  {
   "cell_type": "markdown",
   "metadata": {},
   "source": [
    "Primeiro vamos filtrar as colunas numéricas usando o select_dtypes"
   ]
  },
  {
   "cell_type": "code",
   "execution_count": 44,
   "metadata": {},
   "outputs": [],
   "source": [
    "colunas_numericas = base_dados.select_dtypes(include=[int, float])"
   ]
  },
  {
   "cell_type": "markdown",
   "metadata": {},
   "source": [
    "Visualizando as colunas numéricas"
   ]
  },
  {
   "cell_type": "code",
   "execution_count": 45,
   "metadata": {},
   "outputs": [
    {
     "data": {
      "text/plain": [
       "Index(['Idade', 'Altura', 'Peso', 'Come_vegetais_nas_refeiçoes',\n",
       "       'Quant_refeiçoes_principais', 'Quant_agua_ingerida_diariamente',\n",
       "       'Frequencia_de_atividade_fisica', 'Tempo_em_dispositivos_eletronicos'],\n",
       "      dtype='object')"
      ]
     },
     "execution_count": 45,
     "metadata": {},
     "output_type": "execute_result"
    }
   ],
   "source": [
    "colunas_numericas.columns"
   ]
  },
  {
   "cell_type": "markdown",
   "metadata": {},
   "source": [
    "Como vamos ter que criar um histograma pra cada coluna numérica vamos criar uma função de criação de histogramas"
   ]
  },
  {
   "cell_type": "code",
   "execution_count": 46,
   "metadata": {},
   "outputs": [],
   "source": [
    "# Função que irá criar histogramas: A função irá receber como argumento\n",
    "# a coluna que será utilizada na análise, a cor da barra e a largura\n",
    "# da barra (argumento que será opcional, sendo assim, ela rrecebe como\n",
    "# valor padrão o None(nenhum))\n",
    "def criar_histograma(coluna, cor_da_barra, largura_da_barra = None):\n",
    "    \n",
    "    # Ira criar o titulo do gráfico\n",
    "   plt.title(f'Histograma da coluna de {coluna}')\n",
    "    \n",
    "    # Ira definir o rótulo do eixo x\n",
    "   plt.xlabel(f'{coluna}')\n",
    "    \n",
    "    # Irá definir o rótulo do eixo y\n",
    "   plt.ylabel('Quantidade de pessoas')\n",
    "    \n",
    "    # Como o parametro width não aceita o tipo None, vamos fazer uma validação\n",
    "    # que ira verificar se o argumento foi ou não passado na função. Basicamente\n",
    "    # vamos verificar se o None foi substituido por um valor numérico (valor\n",
    "    # da largura da barra)\n",
    "   if largura_da_barra is not None:\n",
    "        \n",
    "        # Se o usuário passar um valor para a largura da barra, vamos passar como argumento pro \n",
    "        # plt.hist a base de dados análisada, a coluna que será utilizada na análise, a cor e a\n",
    "        # largura da barra.\n",
    "        plt.hist(data=colunas_numericas, x = coluna, color = cor_da_barra , width=largura_da_barra)\n",
    "        \n",
    "   else:\n",
    "       \n",
    "       # Caso o usuário não passe uma largura para a barra, vamos simplesmente\n",
    "       # omitir o parametro width da função plt.hist\n",
    "       plt.hist(data=colunas_numericas, x = coluna, color=cor_da_barra)\n",
    "        \n",
    "       \n",
    "    \n",
    "   # Ira exibir o gráfico no terminal\n",
    "   plt.show()"
   ]
  },
  {
   "cell_type": "markdown",
   "metadata": {},
   "source": [
    "Histograma das idades"
   ]
  },
  {
   "cell_type": "code",
   "execution_count": 47,
   "metadata": {},
   "outputs": [
    {
     "data": {
      "image/png": "[encoded data removed]",
      "text/plain": [
       "<Figure size 640x480 with 1 Axes>"
      ]
     },
     "metadata": {},
     "output_type": "display_data"
    }
   ],
   "source": [
    "criar_histograma('Idade', 'blue', 3)"
   ]
  },
  {
   "cell_type": "markdown",
   "metadata": {},
   "source": [
    "                                Conclusão do histograma das idades\n",
    "A maioria das pessoas que fazem parte da pesquisa posuem entre 20 e 30 anos.\n",
    "\n",
    "A minoria das pessoas das pessoas possuem mais que 50 anos e menos que 60 anos.\n",
    "\n",
    "Podemos obeservar que a pesquisa é composta predominantemente por jovens"
   ]
  },
  {
   "cell_type": "markdown",
   "metadata": {},
   "source": [
    "Histograma das alturas"
   ]
  },
  {
   "cell_type": "code",
   "execution_count": 48,
   "metadata": {},
   "outputs": [
    {
     "data": {
      "image/png": "[encoded data removed]",
      "text/plain": [
       "<Figure size 640x480 with 1 Axes>"
      ]
     },
     "metadata": {},
     "output_type": "display_data"
    }
   ],
   "source": [
    "criar_histograma('Altura','yellow')"
   ]
  },
  {
   "cell_type": "markdown",
   "metadata": {},
   "source": [
    "                                                            Conclusão dos histograma de altura\n",
    "-> A maioria das pessoas estão concentradas na faixa dos 1.6 a 1.8\n",
    "-> A minoria das pessoas estão concentradas na dos 1.9 a 2.0.\n",
    "-> A quantidade de pessoas que possuem 1.9 de altura é maior \n",
    "que a quantidade de pessoas que possuem 1.5 de altura.\n",
    "-> O grupo das pessoas na faixa dos 1.7 a 1.8 ultrapassa dos 400 \n",
    "integrantes"
   ]
  },
  {
   "cell_type": "markdown",
   "metadata": {},
   "source": [
    "Histograma dos pesos"
   ]
  },
  {
   "cell_type": "code",
   "execution_count": 49,
   "metadata": {},
   "outputs": [
    {
     "data": {
      "image/png": "[encoded data removed]",
      "text/plain": [
       "<Figure size 640x480 with 1 Axes>"
      ]
     },
     "metadata": {},
     "output_type": "display_data"
    }
   ],
   "source": [
    "criar_histograma('Peso', 'red')"
   ]
  },
  {
   "cell_type": "markdown",
   "metadata": {},
   "source": [
    "                                                                     Conclusão do histograma de pesos\n",
    "-> Boa parte das pessoas possuem o peso na faixa dos 60 e 80 kilos\n",
    "\n",
    "-> A minoria das pessoas possuem mais de 160 kilos\n",
    "\n",
    "-> Podemos observar que a faixa dos 120 e 160 são menores que as demais\n",
    "faixas\n",
    "\n"
   ]
  },
  {
   "cell_type": "markdown",
   "metadata": {},
   "source": [
    " Histogramas das pessoas que comem vegetais nas refeições"
   ]
  },
  {
   "cell_type": "markdown",
   "metadata": {},
   "source": [
    "Como estamos lidando com quantidade de vegetais, talvez o formato de inteiros\n",
    "seja o mais adequado."
   ]
  },
  {
   "cell_type": "code",
   "execution_count": 50,
   "metadata": {},
   "outputs": [],
   "source": [
    "# Conversão de float para inteiro: Primeiro vamos acessar a coluna\n",
    "# de quantidade de vegetais. Depois, o astype irá converter todos os valores\n",
    "# de float para int. A função irá receber conmo parametro\n",
    "colunas_numericas['Come_vegetais_nas_refeiçoes'] = colunas_numericas['Come_vegetais_nas_refeiçoes'].astype(int)"
   ]
  },
  {
   "cell_type": "code",
   "execution_count": 51,
   "metadata": {},
   "outputs": [
    {
     "data": {
      "image/png": "[encoded data removed]",
      "text/plain": [
       "<Figure size 640x480 with 1 Axes>"
      ]
     },
     "metadata": {},
     "output_type": "display_data"
    }
   ],
   "source": [
    "criar_histograma('Come_vegetais_nas_refeiçoes', 'green')"
   ]
  },
  {
   "cell_type": "markdown",
   "metadata": {},
   "source": [
    "Antes de análisar a conclusão vamos verificar a quantidade de vegetais que cada pessoa\n",
    "consumiu"
   ]
  },
  {
   "cell_type": "code",
   "execution_count": 52,
   "metadata": {},
   "outputs": [
    {
     "data": {
      "text/plain": [
       "Come_vegetais_nas_refeiçoes\n",
       "2    1257\n",
       "3     652\n",
       "1     202\n",
       "Name: count, dtype: int64"
      ]
     },
     "execution_count": 52,
     "metadata": {},
     "output_type": "execute_result"
    }
   ],
   "source": [
    "colunas_numericas['Come_vegetais_nas_refeiçoes'].value_counts()"
   ]
  },
  {
   "cell_type": "markdown",
   "metadata": {},
   "source": [
    "Agora, vamos criar uma função para calcular a porcentagem de pessoas\n",
    "que consumiram uma determinada quantidade de vegetais (no caso, a porcentagem\n",
    "que consumiu vegetais 1, 2 ou 3 vezes)"
   ]
  },
  {
   "cell_type": "code",
   "execution_count": 53,
   "metadata": {},
   "outputs": [],
   "source": [
    "# Função que irá calcular a porcentagem de pessoas que consomem algo\n",
    "# ou realizam determinada ação. A função ira receber como parametro\n",
    "# a base de dados análisada, a coluna que queremos e o valor que \n",
    "# que queremos calcular.\n",
    "def calc_porcentagem_pessoas(base_dados, coluna, valor):\n",
    "    \n",
    "    # Ira filtrar os valores diferentes 0, pois, eles não devem\n",
    "    # entrar na contagem (principalmente quando convertemos as \n",
    "    # colunas de float para inteiro)\n",
    "    valores_diferentes_de_0 = base_dados[coluna] != 0\n",
    "    \n",
    "    # Ira receber o total de colunas diferentes de 0\n",
    "    total_pessoas = valores_diferentes_de_0.sum()\n",
    "    \n",
    "    # Cálculo da porcentagem\n",
    "    porcentagem = (valor / total_pessoas) * 100\n",
    "    \n",
    "    # Impressão dos resultados.\n",
    "    print('Das ', total_pessoas, ' entrevistadas,', round(porcentagem,2),'%',' das pessoas consomem essa quantidade')"
   ]
  },
  {
   "cell_type": "code",
   "execution_count": 54,
   "metadata": {},
   "outputs": [
    {
     "name": "stdout",
     "output_type": "stream",
     "text": [
      "Das  2111  entrevistadas, 59.55 %  das pessoas consomem essa quantidade\n"
     ]
    }
   ],
   "source": [
    "# Chamada da função\n",
    "calc_porcentagem_pessoas(colunas_numericas,'Come_vegetais_nas_refeiçoes', 1257)"
   ]
  },
  {
   "cell_type": "markdown",
   "metadata": {},
   "source": [
    "                                                                    Conclusão do histograma de quantidade de vegetais\n",
    "-> Dos 2116 entrevistados,a maioria das pessoas (59.55%) comem 2 vezes vegetais nas refeições\n",
    "\n",
    "-> A minoria das pessoas (9.57%) comem vegetais apenas 1 vez\n",
    "\n",
    "-> uma quantidade consideravel de pessoas (30.89%) comem vegetais 3 vezes em suas refeições"
   ]
  },
  {
   "cell_type": "markdown",
   "metadata": {},
   "source": [
    "Histograma da quantidade de refeições principais"
   ]
  },
  {
   "cell_type": "markdown",
   "metadata": {},
   "source": [
    "Como nesse caso também vamos falar de quantidade, precisamos converter para inteiro"
   ]
  },
  {
   "cell_type": "code",
   "execution_count": 55,
   "metadata": {},
   "outputs": [],
   "source": [
    "# Vamos selecionar a coluna que queremos trabalhar e converter os valores\n",
    "# para inteiro usando o astype\n",
    "colunas_numericas['Quant_refeiçoes_principais'] = colunas_numericas['Quant_refeiçoes_principais'].astype(int)"
   ]
  },
  {
   "cell_type": "markdown",
   "metadata": {},
   "source": [
    "Analisando a quantidade de pessoas de maneira mais exata"
   ]
  },
  {
   "cell_type": "code",
   "execution_count": 56,
   "metadata": {},
   "outputs": [
    {
     "data": {
      "text/plain": [
       "Quant_refeiçoes_principais\n",
       "3    1362\n",
       "1     395\n",
       "2     285\n",
       "4      69\n",
       "Name: count, dtype: int64"
      ]
     },
     "execution_count": 56,
     "metadata": {},
     "output_type": "execute_result"
    }
   ],
   "source": [
    "colunas_numericas['Quant_refeiçoes_principais'].value_counts()"
   ]
  },
  {
   "cell_type": "code",
   "execution_count": 57,
   "metadata": {},
   "outputs": [
    {
     "data": {
      "image/png": "[encoded data removed]",
      "text/plain": [
       "<Figure size 640x480 with 1 Axes>"
      ]
     },
     "metadata": {},
     "output_type": "display_data"
    }
   ],
   "source": [
    "criar_histograma('Quant_refeiçoes_principais', 'orange')"
   ]
  },
  {
   "cell_type": "markdown",
   "metadata": {},
   "source": [
    "Para aprimorar a nossa análise vamos chamar a função de cálculo de porcentagens"
   ]
  },
  {
   "cell_type": "code",
   "execution_count": 58,
   "metadata": {},
   "outputs": [
    {
     "name": "stdout",
     "output_type": "stream",
     "text": [
      "Das  2111  entrevistadas, 3.27 %  das pessoas consomem essa quantidade\n"
     ]
    }
   ],
   "source": [
    "calc_porcentagem_pessoas(colunas_numericas,'Quant_refeiçoes_principais',  69)"
   ]
  },
  {
   "cell_type": "markdown",
   "metadata": {},
   "source": [
    "                                                               Conclusão do histograma de quantidade de refeições principais\n",
    "-> A maioria dos entrevistados (64,52%) fazem 3 refeições por dia\n",
    "\n",
    "-> Em segundo lugar, temos o grupo que faz apenas 1 refeição por dia.\n",
    "Esse grupo representa 18,71% dos entrevistados.\n",
    "\n",
    "-> No grupo das pessoas que fazem apenas 2 refeições por dia, temos\n",
    "13,5% dos entrevistados\n",
    "\n",
    "-> Já a minoria dos entrevistados (3,27%) fazem 4 refeiçoes por dia."
   ]
  },
  {
   "cell_type": "markdown",
   "metadata": {},
   "source": [
    "Histograma da quantidade de refeições principais"
   ]
  },
  {
   "cell_type": "code",
   "execution_count": 59,
   "metadata": {},
   "outputs": [
    {
     "data": {
      "image/png": "[encoded data removed]",
      "text/plain": [
       "<Figure size 640x480 with 1 Axes>"
      ]
     },
     "metadata": {},
     "output_type": "display_data"
    }
   ],
   "source": [
    "criar_histograma('Quant_agua_ingerida_diariamente', 'gray')"
   ]
  },
  {
   "cell_type": "markdown",
   "metadata": {},
   "source": [
    "Visualizando os numeros com mais precisão: Para facilitar a nossa análise vamos verificar os valores usando o value counts com o intuito de tornar\n",
    "a nossa análise mais assertiva"
   ]
  },
  {
   "cell_type": "code",
   "execution_count": 60,
   "metadata": {},
   "outputs": [
    {
     "data": {
      "text/plain": [
       "Quant_agua_ingerida_diariamente\n",
       "2.000000    448\n",
       "1.000000    211\n",
       "3.000000    162\n",
       "1.636326      3\n",
       "2.825629      3\n",
       "           ... \n",
       "2.722276      1\n",
       "2.634342      1\n",
       "2.619390      1\n",
       "2.786780      1\n",
       "2.863513      1\n",
       "Name: count, Length: 1268, dtype: int64"
      ]
     },
     "execution_count": 60,
     "metadata": {},
     "output_type": "execute_result"
    }
   ],
   "source": [
    "colunas_numericas['Quant_agua_ingerida_diariamente'].value_counts()"
   ]
  },
  {
   "cell_type": "markdown",
   "metadata": {},
   "source": [
    "Chamando a função de cálculo de percentuais de pessoas"
   ]
  },
  {
   "cell_type": "code",
   "execution_count": 61,
   "metadata": {},
   "outputs": [
    {
     "name": "stdout",
     "output_type": "stream",
     "text": [
      "Das  2111  entrevistadas, 7.67 %  das pessoas consomem essa quantidade\n"
     ]
    }
   ],
   "source": [
    "calc_porcentagem_pessoas(colunas_numericas, 'Quant_agua_ingerida_diariamente', 162)"
   ]
  },
  {
   "cell_type": "markdown",
   "metadata": {},
   "source": [
    "                Conclusão do histograma de quantidade de água ingerida\n",
    "-> A maioria dos entrevistados (21,22%) consomem 2 litros de água por dia\n",
    "\n",
    "-> Em segundo lugar temos o grupo que ingere apenas 1 litro de água por\n",
    "dia (10% das pessoas)\n",
    "\n",
    "-> Ja á minoria das pessoas(7,67% das pessoas) consomem 3 litros de água por dia\n",
    "\n",
    "-> Nessa análise foram consideradas os totais de pessoas de cada faixa ou seja, a quantidade total de pessoas que ingerem 1, 2 ou 3 litros de água \n",
    "por dia\n"
   ]
  },
  {
   "cell_type": "markdown",
   "metadata": {},
   "source": [
    "Histograma das frequências de atividades fisicas"
   ]
  },
  {
   "cell_type": "markdown",
   "metadata": {},
   "source": [
    "Como a frequência de atividade fisica se refere a quantidade de vezes que uma\n",
    "pessoa prática exercicios fisicos ou vai á academia, precisamos converter esses valores de float para inteiros"
   ]
  },
  {
   "cell_type": "code",
   "execution_count": 62,
   "metadata": {},
   "outputs": [],
   "source": [
    "# Priemeiro vamos selecionar a coluna que queremos converter e depois usarameos a função astype\n",
    "# para converter todos os valores da coluna para inteiro\n",
    "colunas_numericas['Frequencia_de_atividade_fisica'] = colunas_numericas['Frequencia_de_atividade_fisica'].astype(int)"
   ]
  },
  {
   "cell_type": "code",
   "execution_count": 63,
   "metadata": {},
   "outputs": [
    {
     "data": {
      "image/png": "[encoded data removed]",
      "text/plain": [
       "<Figure size 640x480 with 1 Axes>"
      ]
     },
     "metadata": {},
     "output_type": "display_data"
    }
   ],
   "source": [
    "criar_histograma('Frequencia_de_atividade_fisica','black')"
   ]
  },
  {
   "cell_type": "markdown",
   "metadata": {},
   "source": [
    "Verificando os valores com mais precisão"
   ]
  },
  {
   "cell_type": "code",
   "execution_count": 64,
   "metadata": {},
   "outputs": [
    {
     "data": {
      "text/plain": [
       "Frequencia_de_atividade_fisica\n",
       "0    1011\n",
       "1     724\n",
       "2     301\n",
       "3      75\n",
       "Name: count, dtype: int64"
      ]
     },
     "execution_count": 64,
     "metadata": {},
     "output_type": "execute_result"
    }
   ],
   "source": [
    "colunas_numericas['Frequencia_de_atividade_fisica'].value_counts()"
   ]
  },
  {
   "cell_type": "markdown",
   "metadata": {},
   "source": [
    "Como nesse caso temos a contagem de pessoas que não praticam exercicios fisicos, vamos calcular manualmente a porcentagem de cada categoria, pois,\n",
    "a nossa função de calculos percentuais de pessoas filtra valores diferentes\n",
    "de 0."
   ]
  },
  {
   "cell_type": "code",
   "execution_count": 65,
   "metadata": {},
   "outputs": [
    {
     "name": "stdout",
     "output_type": "stream",
     "text": [
      "Porcentagem de pessoas que não praticam exercicios:  65.18\n",
      "Porcentagem de pesssoas que praticam apenas 1 vez:  46.68\n",
      "Porcentagem de pesssoas que praticam 2 vezes:  19.41\n",
      "Porcentagem de pessoas que praticam 3 vezes:  4.84\n"
     ]
    }
   ],
   "source": [
    "total_pessoas = colunas_numericas['Frequencia_de_atividade_fisica'].sum()\n",
    "\n",
    "nao_praticam_exercicio = (1011 / total_pessoas) * 100\n",
    "\n",
    "praticam_1_vez = (724 / total_pessoas) * 100\n",
    "\n",
    "praticam_2_vezes = (301 / total_pessoas) * 100  \n",
    "\n",
    "praticam_3_vezes = (75 / total_pessoas) * 100\n",
    "\n",
    "print('Porcentagem de pessoas que não praticam exercicios: ', round(nao_praticam_exercicio,2))\n",
    "\n",
    "print('Porcentagem de pesssoas que praticam apenas 1 vez: ', round(praticam_1_vez, 2))\n",
    "\n",
    "print('Porcentagem de pesssoas que praticam 2 vezes: ', round(praticam_2_vezes, 2))\n",
    "\n",
    "print('Porcentagem de pessoas que praticam 3 vezes: ', round(praticam_3_vezes, 2))"
   ]
  },
  {
   "cell_type": "markdown",
   "metadata": {},
   "source": [
    "                                                               Conclusão do histograma de frequências de atividades fisicas\n",
    "-> 65.18%% das pessoas não praticam atividades fisicas, que no caso desse histograma,\n",
    "é a maioria das pessoas.\n",
    "\n",
    "-> Das pessoas que praticam exercicios, 46.68% (que é a maioria do grupo dos que praticam \n",
    "exercicios) fazem exercicios 1 vez por semana.\n",
    "\n",
    "-> 19,41% das pessoas fazem exercicios 2 vezes por semana.\n",
    "\n",
    "-> Do grupo que pratica exercicios mais vezes durante a semana, apenas 4.84% das pessoas\n",
    "fazem exercicios 3 vezes por dia, que é a minoria das pessoas entrevistadas."
   ]
  },
  {
   "cell_type": "markdown",
   "metadata": {},
   "source": [
    "histograma do tempo em dispositivos eletrônicos"
   ]
  },
  {
   "cell_type": "code",
   "execution_count": 66,
   "metadata": {},
   "outputs": [
    {
     "data": {
      "image/png": "[encoded data removed]",
      "text/plain": [
       "<Figure size 640x480 with 1 Axes>"
      ]
     },
     "metadata": {},
     "output_type": "display_data"
    }
   ],
   "source": [
    "criar_histograma('Tempo_em_dispositivos_eletronicos','green')"
   ]
  },
  {
   "cell_type": "markdown",
   "metadata": {},
   "source": [
    "Visualizando os valores com mais precisão"
   ]
  },
  {
   "cell_type": "code",
   "execution_count": 67,
   "metadata": {},
   "outputs": [
    {
     "data": {
      "text/plain": [
       "Tempo_em_dispositivos_eletronicos\n",
       "0.000000    557\n",
       "1.000000    292\n",
       "2.000000    109\n",
       "0.630866      4\n",
       "1.119877      3\n",
       "           ... \n",
       "0.091711      1\n",
       "0.178301      1\n",
       "0.171034      1\n",
       "0.097760      1\n",
       "0.813235      1\n",
       "Name: count, Length: 1129, dtype: int64"
      ]
     },
     "execution_count": 67,
     "metadata": {},
     "output_type": "execute_result"
    }
   ],
   "source": [
    "colunas_numericas['Tempo_em_dispositivos_eletronicos'].value_counts()"
   ]
  },
  {
   "cell_type": "markdown",
   "metadata": {},
   "source": [
    "Vamos novamente fazer manualmente já que nesse caso também consideramos quem também não\n",
    "utiliza dispositivos eletrônicos. Nesse caso também vamos considerar na análise, apenas\n",
    "o total que é formado pelas faixas de tempo que representam as categorias 0 (não utilizam\n",
    "dispositivos eletronicos), 1 hora, 2 horas."
   ]
  },
  {
   "cell_type": "code",
   "execution_count": 68,
   "metadata": {},
   "outputs": [
    {
     "name": "stdout",
     "output_type": "stream",
     "text": [
      "Porcentagem das pessoas que não utilizam dispositivos eletrônicos:  40.11\n",
      "Porcentagem das pessoas que utilizam dispositivos eletrônicos por 1 hora:  21.03\n",
      "Porcentagem das pessoas que utilzam dispositivos eletrônicos durante 2 horas:  7.85\n",
      "Total de entrevistados:  1388.75\n"
     ]
    }
   ],
   "source": [
    "total_pessoas = colunas_numericas['Tempo_em_dispositivos_eletronicos'].sum()\n",
    "\n",
    "nao_utilzam = (557 / total_pessoas) * 100\n",
    "\n",
    "utilizam_1_hora = (292 / total_pessoas) * 100\n",
    "\n",
    "utilizam_2_horas = (109 / total_pessoas) * 100\n",
    "\n",
    "print('Porcentagem das pessoas que não utilizam dispositivos eletrônicos: ', round(nao_utilzam, 2))\n",
    "\n",
    "print('Porcentagem das pessoas que utilizam dispositivos eletrônicos por 1 hora: ', round(utilizam_1_hora, 2))\n",
    "\n",
    "print('Porcentagem das pessoas que utilzam dispositivos eletrônicos durante 2 horas: ', round(utilizam_2_horas, 2))\n",
    "\n",
    "print('Total de entrevistados: ', round(total_pessoas, 2))"
   ]
  },
  {
   "cell_type": "markdown",
   "metadata": {},
   "source": [
    "                                                       Conclusão do histograma de tempo em dispositivos eletrônicos\n",
    "-> A maioria das pessoas (40,11 %) não utilizam dispositivos eletrônicos\n",
    "\n",
    "-> Do grupo que utiliza dispositivos eletrônicos, a maioria utiliza por \n",
    "apenas 1 hora, sendo 21,03% das pessoas\n",
    "\n",
    "-> Ja a minoria dos entrevistados utilizam dispositivos eletrônicos por 2 horas.\n",
    "\n",
    "-> Vale lembrar que utilizamos o total de cada faixa de horário no calculo das\n",
    "porcentagens"
   ]
  },
  {
   "cell_type": "markdown",
   "metadata": {},
   "source": [
    "Boxplot: Identifcar outliers e comparar a distribuição de variáveis \n",
    "numéricas entre grupos (por exemplo, homens e mulheres)."
   ]
  },
  {
   "cell_type": "markdown",
   "metadata": {},
   "source": [
    "A minha idéia é criar uma função que cria subplots que irá colocar \n",
    "2 boxplots um do lado do outro para verificarmos a distribuição dos\n",
    "dados entre os grupos de variáveis numéricas."
   ]
  },
  {
   "cell_type": "code",
   "execution_count": 69,
   "metadata": {},
   "outputs": [],
   "source": [
    "\n",
    "# Função que irá criar os subplots de boxplot: A função ira receber\n",
    "# como argumento o nome das colunas que serão analisadas no subplot\n",
    "def criar_boxplot(coluna1, coluna2 ):\n",
    "    \n",
    "    # Ira definir o tamanho da imagem que ira conter os 2 boxplots\n",
    "    plt.figure(figsize=(15,6))\n",
    "    \n",
    "    # Os nossos subplots irão ter 1 linha 2 e colunas\n",
    "    \n",
    "    # O primeiro subplot irá ocupar o 1° espaço (que está sendo representado\n",
    "    #  pelo último valor da função)\n",
    "    plt.subplot(1,2,1)\n",
    "    \n",
    "    # Ira definir o titulo do gráfico alinhado a esquerda e com tamanho da fonte 14\n",
    "    # o name serve para capturar o nome da 1° coluna\n",
    "    plt.title(f'Boxplot da coluna {colunas_numericas[coluna1].name}', fontsize=14, loc='center')\n",
    "\n",
    "    # Ira definir o rótulo do eixo usando o nome da 1° coluna\n",
    "    plt.xlabel(colunas_numericas[coluna1].name)\n",
    "    \n",
    "    # função que irá criar o boxplot: A função receberá como argumento\n",
    "    # a base de dados analisada e a 1° coluna como valor do eixo X.\n",
    "    sns.boxplot(data=colunas_numericas, x=coluna1)\n",
    "    \n",
    "    # O segundo subplot irá ocupar o 2° espaço da imagem\n",
    "    plt.subplot(1,2, 2)\n",
    "    \n",
    "     # Ira definir o titulo do gráfico alinhado a esquerda e com tamanho da fonte 14\n",
    "     # O name serve para capturar o nome da 2° coluna\n",
    "    plt.title(f'Boxplot da coluna {colunas_numericas[coluna2].name}', fontsize=14, loc='center')\n",
    "    \n",
    "    # Ira definir o rótulo do eixo usando o nome da 2° coluna\n",
    "    plt.xlabel(colunas_numericas[coluna2].name)\n",
    "    \n",
    "    # função que irá criar o boxplot: A função receberá como argumento\n",
    "    # a base de dados analisada e a 2° coluna como valor do eixo X.\n",
    "    sns.boxplot(data=colunas_numericas, x=coluna2)\n",
    "    \n",
    "    # Ira exibir os gráficos\n",
    "    plt.show()\n",
    "    \n",
    "    \n",
    "    "
   ]
  },
  {
   "cell_type": "markdown",
   "metadata": {},
   "source": [
    "Boxplot de frequencia de atividades fisicas e quantidade de águas \n",
    "ingeridas"
   ]
  },
  {
   "cell_type": "code",
   "execution_count": 70,
   "metadata": {},
   "outputs": [
    {
     "data": {
      "image/png": "[encoded data removed]",
      "text/plain": [
       "<Figure size 1500x600 with 2 Axes>"
      ]
     },
     "metadata": {},
     "output_type": "display_data"
    }
   ],
   "source": [
    "\n",
    "criar_boxplot('Frequencia_de_atividade_fisica', 'Quant_agua_ingerida_diariamente')"
   ]
  },
  {
   "cell_type": "markdown",
   "metadata": {},
   "source": [
    "Como a coluna de atividades fisícas é do tipo inteiro, o boxplot teve \n",
    "dificuldades em traçar a linha da mediana, então, resolvi chamar a\n",
    "função de imprimirValores para descobrir a mediana da coluna."
   ]
  },
  {
   "cell_type": "code",
   "execution_count": 71,
   "metadata": {},
   "outputs": [
    {
     "name": "stdout",
     "output_type": "stream",
     "text": [
      "Média dos valores da coluna de  Frequencia_de_atividade_fisica :  1.01\n",
      "Mediana dos valores da coluna de  Frequencia_de_atividade_fisica :  1.0\n",
      "Moda dos valores da coluna de  Frequencia_de_atividade_fisica :  0    0.0\n",
      "Name: Frequencia_de_atividade_fisica, dtype: float64\n"
     ]
    }
   ],
   "source": [
    "imprimirValores('Frequencia_de_atividade_fisica')"
   ]
  },
  {
   "cell_type": "markdown",
   "metadata": {},
   "source": [
    "                            Conclusão do boxplot\n",
    "-> O boxplot de atividades fisicas indica que o menor valor da coluna é 0\n",
    "(pessoas que não praticam atividade fisica) e o maior valor é 2 (pessoas\n",
    "que praticam exercicios fisicos 2 vezes na semana).\n",
    "\n",
    "-> O boxplot de atividades fisicas tem o valor 1 como mediana. Há poucos \n",
    " outliers (valor fora do padrão) no 3 (que é a minoria das pessoas,\n",
    " que como verificamos anteriormente, praticam exercicios fisicos 3\n",
    " vezes na semana ).\n",
    "\n",
    " -> O boxplot de quantidade de água ingerida indica que o menor valor\n",
    " da coluna é 1 (litro) e o maior valor é 3 (litros)\n",
    "\n",
    " -> A mediana da coluna de aguas ingeridas é de 2 litros e não\n",
    " há valores fora do pradrão, ou seja, não há outliers.\n",
    "\n",
    " -> A parte das distribuições está balanceada, ou seja, eles possuem\n",
    " quase os mesmos numeros de pessoas, porém, a coluna sobre a quantidade\n",
    " de águas ingeridas possui um pouco mais de pessoas. É possivel observar\n",
    " a diferença se percebemos que o primeiro boxplot vai de 0 a 1 e o segundo\n",
    " vai de 1.50 a 2.50"
   ]
  },
  {
   "cell_type": "markdown",
   "metadata": {},
   "source": [
    "Boxplot do consumo de vegetais e peso"
   ]
  },
  {
   "cell_type": "code",
   "execution_count": 72,
   "metadata": {},
   "outputs": [
    {
     "data": {
      "image/png": "[encoded data removed]",
      "text/plain": [
       "<Figure size 1500x600 with 2 Axes>"
      ]
     },
     "metadata": {},
     "output_type": "display_data"
    }
   ],
   "source": [
    "criar_boxplot('Come_vegetais_nas_refeiçoes', 'Peso')"
   ]
  },
  {
   "cell_type": "markdown",
   "metadata": {},
   "source": [
    "Como a coluna de consumo vegetais é do tipo inteiro vamos usar a coluna de imprimir valores para \n",
    "verificar de forma exata a mediana. Como falamos anteriormente o o boxplot tem dificuldades em\n",
    "traçar a linha da mediana das colunas de tipo inteiro"
   ]
  },
  {
   "cell_type": "code",
   "execution_count": 73,
   "metadata": {},
   "outputs": [
    {
     "name": "stdout",
     "output_type": "stream",
     "text": [
      "Média dos valores da coluna de  Come_vegetais_nas_refeiçoes :  2.42\n",
      "Mediana dos valores da coluna de  Come_vegetais_nas_refeiçoes :  2.39\n",
      "Moda dos valores da coluna de  Come_vegetais_nas_refeiçoes :  0    3.0\n",
      "Name: Come_vegetais_nas_refeiçoes, dtype: float64\n"
     ]
    }
   ],
   "source": [
    "imprimirValores('Come_vegetais_nas_refeiçoes')"
   ]
  },
  {
   "cell_type": "markdown",
   "metadata": {},
   "source": [
    "Como a linha da mediana do boxplot de peso está um pouco ácima do 80, também vamos usar\n",
    "a função imprimirValores para ver o valor de forma exata"
   ]
  },
  {
   "cell_type": "code",
   "execution_count": 74,
   "metadata": {},
   "outputs": [
    {
     "name": "stdout",
     "output_type": "stream",
     "text": [
      "Média dos valores da coluna de  Peso :  86.59\n",
      "Mediana dos valores da coluna de  Peso :  83.0\n",
      "Moda dos valores da coluna de  Peso :  0    80.0\n",
      "Name: Peso, dtype: float64\n"
     ]
    }
   ],
   "source": [
    "imprimirValores('Peso')"
   ]
  },
  {
   "cell_type": "markdown",
   "metadata": {},
   "source": [
    "          Conclusão do boxplot\n",
    "-> o boxplot de quantidade de vegetais indica que o maior valor de vegetais\n",
    "consumidom é o 3 e o menor valor é o 1. A mediana da coluna de vegetais é 2.39.\n",
    "\n",
    "-> Não há outliers na coluna de quantidade de vegetais, o que indica que os \n",
    "valores estão bem distribuidos nessa coluna.\n",
    "\n",
    "-> O menor valor da coluna de peso é 40 e o maior valor é o 160. O valor\n",
    "da mediana, ou seja, o valor que divide os em 50% é o 83.\n",
    "\n",
    "-> Podemos observar que há pequenos outliers que se encontram acima do maior\n",
    "valor, 0 160 (que representam uma minoria de pessoas que possuem peso superior a 160), entretanto, ainda podemos considerar que a coluna de peso é bem\n",
    "distribuida.\n",
    "\n",
    "-> Concluindo: se formos comaparar, ambas variaveis estão bem distribuidas,\n",
    "mas, vale lembrar que a coluna de peso possui uma pequena assimetria, representada pelos outliers.\n",
    "\n",
    "Assimetria: Se refere a falta de simetria em uma distribuição de dados.\n",
    "Imagine um gráfico de barras: se ele for perfeitamente simétrico, \n",
    "significará que há mais valores concentrados em uma determinada região\n",
    "do gráfico e menos em outra."
   ]
  },
  {
   "cell_type": "markdown",
   "metadata": {},
   "source": [
    "Gráficos de barras: Verificar a frequência de categorias para variáveis categóricas"
   ]
  },
  {
   "cell_type": "markdown",
   "metadata": {},
   "source": [
    "Primeiro, Vamos visualizar as colunas categóricas para facilitar o nosso processo de análise"
   ]
  },
  {
   "cell_type": "code",
   "execution_count": 75,
   "metadata": {},
   "outputs": [
    {
     "data": {
      "text/plain": [
       "Index(['Genero', 'Historico_Familiar', 'Frequencia_em_alimentos_caloricos',\n",
       "       'Come_algo_entre_as_refeiçoes', 'Fuma', 'Monitora_calorias_diariamente',\n",
       "       'Frequencia_que_ingere_alcool', 'Transporte_utilizado',\n",
       "       'Nivel_Obesidade'],\n",
       "      dtype='object')"
      ]
     },
     "execution_count": 75,
     "metadata": {},
     "output_type": "execute_result"
    }
   ],
   "source": [
    "colunas_categoricas.columns"
   ]
  },
  {
   "cell_type": "markdown",
   "metadata": {},
   "source": [
    "Nesse caso não irei criar uma função, pois, cada coluna terá uma quantidade diferente de\n",
    "valores únicos, ou seja, cada gráfico terá as suas particularidades em sua construção"
   ]
  },
  {
   "cell_type": "markdown",
   "metadata": {},
   "source": [
    "Grafico de barras da coluna de gênero"
   ]
  },
  {
   "cell_type": "code",
   "execution_count": 76,
   "metadata": {},
   "outputs": [
    {
     "data": {
      "image/png": "[encoded data removed]",
      "text/plain": [
       "<Figure size 640x480 with 1 Axes>"
      ]
     },
     "metadata": {},
     "output_type": "display_data"
    }
   ],
   "source": [
    "# Ira definir o titulo do gráfico\n",
    "plt.title('Distribuição por gênero', fontsize=14, loc='center')\n",
    "\n",
    "# Ira definir o rótulo do eixo x\n",
    "plt.xlabel('Gêneros')\n",
    "\n",
    "# Ira definir o rótulo do eixo y\n",
    "plt.ylabel('Distribuição (quantidade de pessoas)')\n",
    "\n",
    "# O countplot é uma função da biblioteca seaborn que permite visualizar\n",
    "# a contagem de observações para cada categoria de uma variável categórica.\n",
    "# Em outras palavras ele cria um gráfico de barras que representa a frequência de uma determinada categoria.\n",
    "sns.countplot(data=colunas_categoricas, x='Genero', palette=['pink', 'blue'], width=0.1)\n",
    "\n",
    "# Irá definir a legenda do gráfico\n",
    "plt.legend(labels=['Mulheres', 'Homens'], loc='center')\n",
    "\n",
    "# Ira exibir o gráfico \n",
    "plt.show()"
   ]
  },
  {
   "cell_type": "markdown",
   "metadata": {},
   "source": [
    "Vamos usar o value_counts para visulizar os valores exatos"
   ]
  },
  {
   "cell_type": "code",
   "execution_count": 77,
   "metadata": {},
   "outputs": [
    {
     "data": {
      "text/plain": [
       "Genero\n",
       "Male      1068\n",
       "Female    1043\n",
       "Name: count, dtype: int64"
      ]
     },
     "execution_count": 77,
     "metadata": {},
     "output_type": "execute_result"
    }
   ],
   "source": [
    "colunas_categoricas['Genero'].value_counts()"
   ]
  },
  {
   "cell_type": "markdown",
   "metadata": {},
   "source": [
    "Chamando a função de calculo de porcentagens"
   ]
  },
  {
   "cell_type": "code",
   "execution_count": 78,
   "metadata": {},
   "outputs": [
    {
     "data": {
      "text/plain": [
       "2.3969319271332696"
      ]
     },
     "execution_count": 78,
     "metadata": {},
     "output_type": "execute_result"
    }
   ],
   "source": [
    "calc_diferenca_percentual(1068, 1043)"
   ]
  },
  {
   "cell_type": "markdown",
   "metadata": {},
   "source": [
    "Conclusão do gráfico de distribuição de gêneros:\n",
    "\n",
    "-> É possivel notar pelo gráfico que a distribuição está bem equilibrada\n",
    "\n",
    "->É possivel notar que há mais homens do que mulheres, onde o grupo dos \n",
    " homens é 2,39% maior que o grupo das mulheres."
   ]
  },
  {
   "cell_type": "markdown",
   "metadata": {},
   "source": [
    "Gráfico de barras da coluna de históricos familiar"
   ]
  },
  {
   "cell_type": "code",
   "execution_count": 79,
   "metadata": {},
   "outputs": [
    {
     "data": {
      "image/png": "[encoded data removed]",
      "text/plain": [
       "<Figure size 640x480 with 1 Axes>"
      ]
     },
     "metadata": {},
     "output_type": "display_data"
    }
   ],
   "source": [
    "# Titulo do gráfico alinhado no centro e com tamanho da fonte 14\n",
    "plt.title('Distribuição dos históricos familiares', fontsize=14, loc='center')\n",
    "\n",
    "# Titulo do eixo x\n",
    "plt.xlabel('Histórico familiar')\n",
    "\n",
    "# Titulo do eixo x\n",
    "plt.ylabel('Quantidade de pessoas')\n",
    "\n",
    "# Função da biblioteca seaborn que conta a frequencia (observações de cada categoria) de uma coluna.\n",
    "# A função irá receber como parâmetro a base de dados análisada, os valores do eixo x, a largura da \n",
    "# barra e a paleta de cores\n",
    "sns.countplot(data=colunas_categoricas, x='Historico_Familiar' , width=0.1, palette=['blue', 'red'])\n",
    "\n",
    "# Função que irá criar a legenda do gráfico: A função irá receber como paramêtro\n",
    "# um labels que ira definir o titulo de cada categoria e um loc que irá definir\n",
    "# a posição da legenda no gráfico.\n",
    "plt.legend(labels=['Possui histórico', 'Não possui histórico'],loc='upper right')\n",
    "plt.show()"
   ]
  },
  {
   "cell_type": "markdown",
   "metadata": {},
   "source": [
    "Usando o value_counts para visualizar os valores de forma mais exata"
   ]
  },
  {
   "cell_type": "code",
   "execution_count": 80,
   "metadata": {},
   "outputs": [
    {
     "data": {
      "text/plain": [
       "Historico_Familiar\n",
       "yes    1726\n",
       "no      385\n",
       "Name: count, dtype: int64"
      ]
     },
     "execution_count": 80,
     "metadata": {},
     "output_type": "execute_result"
    }
   ],
   "source": [
    "colunas_categoricas['Historico_Familiar'].value_counts()"
   ]
  },
  {
   "cell_type": "markdown",
   "metadata": {},
   "source": [
    "Chamando a função de diferenças percentuais"
   ]
  },
  {
   "cell_type": "code",
   "execution_count": 81,
   "metadata": {},
   "outputs": [
    {
     "data": {
      "text/plain": [
       "348.31168831168833"
      ]
     },
     "execution_count": 81,
     "metadata": {},
     "output_type": "execute_result"
    }
   ],
   "source": [
    "calc_diferenca_percentual(1726, 385)"
   ]
  },
  {
   "cell_type": "markdown",
   "metadata": {},
   "source": [
    "Chamada da função de calculos percentuais"
   ]
  },
  {
   "cell_type": "code",
   "execution_count": 82,
   "metadata": {},
   "outputs": [
    {
     "name": "stdout",
     "output_type": "stream",
     "text": [
      "Das  2111  entrevistadas, 18.24 %  das pessoas consomem essa quantidade\n"
     ]
    }
   ],
   "source": [
    "calc_porcentagem_pessoas(colunas_categoricas, 'Historico_Familiar', 385)"
   ]
  },
  {
   "cell_type": "markdown",
   "metadata": {},
   "source": [
    "Conclusão do gráfico de barras dos históricos familiares:\n",
    "\n",
    "-> É possivel notar que a quantidade de pessoas com histórico familiares de\n",
    "obesidade (81,76% dos entrevistados) é muito maior do que as pessoas que não possuem um histórico de \n",
    "obesidade(18,24% dos entrevistados).\n",
    "\n",
    "-> Podemos observar que o grupo de pessoas que possuem o historico de obesidade\n",
    "´348% maior que o grupo que não possui históricos de obesidade"
   ]
  },
  {
   "cell_type": "markdown",
   "metadata": {},
   "source": [
    "Gráfico de barras da frequência em alimentos calóricos"
   ]
  },
  {
   "cell_type": "code",
   "execution_count": 83,
   "metadata": {},
   "outputs": [
    {
     "data": {
      "image/png": "[encoded data removed]",
      "text/plain": [
       "<Figure size 640x480 with 1 Axes>"
      ]
     },
     "metadata": {},
     "output_type": "display_data"
    }
   ],
   "source": [
    "\n",
    "# Titulo do gráfico alinhado ao centro e com tamanho da fonte 14\n",
    "plt.title('Frequência de alimentos calóricos', loc='center', fontsize=14)\n",
    "\n",
    "# Titulo do eixo x\n",
    "plt.xlabel('Frequência em alimentos calóricos')\n",
    "\n",
    "# Titulo do eixo Y\n",
    "plt.ylabel('Quantidade de pessoas')\n",
    "\n",
    "# Função do seaborn que constrói um gráfico de barras com as frequências (observações) de cada categoria\n",
    "# da coluna. A função ira receber como parametro a a base de dados analisada,  a largura das barras e a\n",
    "# paleta de cores que será utilizada nas barras\n",
    "sns.countplot(data=colunas_categoricas, x='Frequencia_em_alimentos_caloricos', width=0.1, palette=['red', 'blue'])\n",
    "\n",
    "# Função do matplotlib que irá criar a legenda do gráfico. A função ira receber como parâmetro\n",
    "# o labels com os titulos das categorias na legenda e o loc que irá definir a posição da legenda\n",
    "# no gráfico.\n",
    "plt.legend(labels=['Não consome com frequência', 'consome com frequência'], loc = 'upper left')\n",
    "\n",
    "# Irá exibir o gráfico\n",
    "plt.show()\n",
    "\n"
   ]
  },
  {
   "cell_type": "markdown",
   "metadata": {},
   "source": [
    "Analisando os valores com mais precisão"
   ]
  },
  {
   "cell_type": "code",
   "execution_count": 84,
   "metadata": {},
   "outputs": [
    {
     "data": {
      "text/plain": [
       "Frequencia_em_alimentos_caloricos\n",
       "yes    1866\n",
       "no      245\n",
       "Name: count, dtype: int64"
      ]
     },
     "execution_count": 84,
     "metadata": {},
     "output_type": "execute_result"
    }
   ],
   "source": [
    "colunas_categoricas['Frequencia_em_alimentos_caloricos'].value_counts()"
   ]
  },
  {
   "cell_type": "markdown",
   "metadata": {},
   "source": [
    "Calculando a diferença percentual"
   ]
  },
  {
   "cell_type": "code",
   "execution_count": 85,
   "metadata": {},
   "outputs": [
    {
     "data": {
      "text/plain": [
       "661.6326530612245"
      ]
     },
     "execution_count": 85,
     "metadata": {},
     "output_type": "execute_result"
    }
   ],
   "source": [
    "calc_diferenca_percentual(1866, 245)"
   ]
  },
  {
   "cell_type": "markdown",
   "metadata": {},
   "source": [
    "Chamada da função de cálculos percentuais"
   ]
  },
  {
   "cell_type": "code",
   "execution_count": 86,
   "metadata": {},
   "outputs": [
    {
     "name": "stdout",
     "output_type": "stream",
     "text": [
      "Das  2111  entrevistadas, 11.61 %  das pessoas consomem essa quantidade\n"
     ]
    }
   ],
   "source": [
    "calc_porcentagem_pessoas(colunas_categoricas, 'Frequencia_em_alimentos_caloricos', 245)"
   ]
  },
  {
   "cell_type": "markdown",
   "metadata": {},
   "source": [
    "Conclusão do gráfico de barras de frequência de calorias:\n",
    "\n",
    "-> Podemos observar no gráfico que a quantidade de pessoas que consomem\n",
    "com frequência (88,39% dos entrevistados) é extremamente maior que o grupo que não consomem calorias\n",
    "com frequência(11,61% dos entrevistados).\n",
    "\n",
    "-> O grupo que consomem calorias com frequência é 661% maior que o grupo de pessoas que não consomem calorias frequentemente."
   ]
  },
  {
   "cell_type": "markdown",
   "metadata": {},
   "source": [
    "Gráfico de barras da coluna de pessoas que comem algo durante as refeições."
   ]
  },
  {
   "cell_type": "code",
   "execution_count": 87,
   "metadata": {},
   "outputs": [
    {
     "data": {
      "image/png": "[encoded data removed]",
      "text/plain": [
       "<Figure size 640x480 with 1 Axes>"
      ]
     },
     "metadata": {},
     "output_type": "display_data"
    }
   ],
   "source": [
    "\n",
    "# Titulo do gráfico alinhado ao centro e com tamanho da fonte 14.\n",
    "plt.title('Distribuição das pessoas que comem algo durante as refeições', loc='center', fontsize=14)\n",
    "\n",
    "# Titulo do eixo x\n",
    "plt.xlabel('Categoria das pessoas que comem algo durante as refeições')\n",
    "\n",
    "# Titulo do eixo Y\n",
    "plt.ylabel('Quantidade de pessoas')\n",
    "\n",
    "# Função da biblioteca seaborn que ira criar um gráfico de barras com as frequências de cada categoria\n",
    "# da coluna. A função ira receber como parametro a base de dados análisada, os valores do eixo x, a \n",
    "# largura das barras e a paleta de cores das barras do gráfico. \n",
    "sns.countplot(data=colunas_categoricas, x='Come_algo_entre_as_refeiçoes', width=0.1, palette=['yellow', 'green', 'red', 'blue'])\n",
    "\n",
    "# Função do matplotlib que ira criar a legenda do gráfico. A função irá ter como parametro,\n",
    "# o labels que ira definir o titulo das categorias na legenda e o loc que irá definir a posiçaõ\n",
    "# da legenda no gráfico\n",
    "plt.legend(labels=['As vezes', 'frequentemente', 'sempre', 'não comem'], loc='upper right')\n",
    "\n",
    "plt.show()"
   ]
  },
  {
   "cell_type": "markdown",
   "metadata": {},
   "source": [
    "Visualizando os dados com mais precisão"
   ]
  },
  {
   "cell_type": "code",
   "execution_count": 88,
   "metadata": {},
   "outputs": [
    {
     "data": {
      "text/plain": [
       "Come_algo_entre_as_refeiçoes\n",
       "Sometimes     1765\n",
       "Frequently     242\n",
       "Always          53\n",
       "no              51\n",
       "Name: count, dtype: int64"
      ]
     },
     "execution_count": 88,
     "metadata": {},
     "output_type": "execute_result"
    }
   ],
   "source": [
    "colunas_categoricas['Come_algo_entre_as_refeiçoes'].value_counts()"
   ]
  },
  {
   "cell_type": "markdown",
   "metadata": {},
   "source": [
    "Calculando a diferença percentual"
   ]
  },
  {
   "cell_type": "code",
   "execution_count": 89,
   "metadata": {},
   "outputs": [
    {
     "data": {
      "text/plain": [
       "3.9215686274509802"
      ]
     },
     "execution_count": 89,
     "metadata": {},
     "output_type": "execute_result"
    }
   ],
   "source": [
    "calc_diferenca_percentual(53, 51)"
   ]
  },
  {
   "cell_type": "markdown",
   "metadata": {},
   "source": [
    "Chamada da função de cálculos percentuais"
   ]
  },
  {
   "cell_type": "code",
   "execution_count": 90,
   "metadata": {},
   "outputs": [
    {
     "name": "stdout",
     "output_type": "stream",
     "text": [
      "Das  2111  entrevistadas, 11.46 %  das pessoas consomem essa quantidade\n"
     ]
    }
   ],
   "source": [
    "calc_porcentagem_pessoas(colunas_categoricas, 'Come_algo_entre_as_refeiçoes', 242)"
   ]
  },
  {
   "cell_type": "markdown",
   "metadata": {},
   "source": [
    "Conclusão do grafico de barras das pessoas que comem algo entre as refeições:\n",
    "\n",
    "-> A maioria das pessoas as vezes consomem algo entre as refeições (83,16%\n",
    "dos entrevistados).\n",
    "\n",
    "-> A minoria das pessoas não consomem algo entre as refeições (2,42%\n",
    "dos entrevistados)\n",
    "\n",
    "-> O grupo de pessoas que consomem algo frequentemente é o 2° maior\n",
    "grupo das categorias (11,46% dos entrevistados).\n",
    "\n",
    "->A diferença percentual entre o grupo always (sempre consomem) e o grupo no(não consomem) é de apenas 3,9%, ou seja, é uma diferença relativamente pequena."
   ]
  },
  {
   "cell_type": "markdown",
   "metadata": {},
   "source": [
    "Grafico de barras da frequência de pessoas que fumam"
   ]
  },
  {
   "cell_type": "code",
   "execution_count": 91,
   "metadata": {},
   "outputs": [
    {
     "data": {
      "image/png": "[encoded data removed]",
      "text/plain": [
       "<Figure size 640x480 with 1 Axes>"
      ]
     },
     "metadata": {},
     "output_type": "display_data"
    }
   ],
   "source": [
    "\n",
    "# Titulo do grafico alinhado ao centro e com tamanho da fonte 12\n",
    "plt.title('Distribuição das pessoas que fumam', loc='center', fontsize=12)\n",
    "\n",
    "# Titulo do eixo X\n",
    "plt.xlabel('Categoria das pessoas que fumam')\n",
    "\n",
    "# Titulo do eixo Y\n",
    "plt.ylabel('Quantidade de pessoas')\n",
    "\n",
    "# Função da biblioteca seaborn que irá construir um gráfico de barras com a frequência\n",
    "# (observações) de cada categoria da coluna. A função irá receber como parametro a\n",
    "# base de dados utilizada, os valores do eixo x, a largura e a paleta de cores das \n",
    "# barras do gráfico\n",
    "sns.countplot(data=colunas_categoricas, x='Fuma', width=0.1, palette=['green', 'red'])\n",
    "\n",
    "# Função do matplotlib que irá criar as legendas do gráfico. A função ira receber\n",
    "# como parametro o labels (que ira definir o titulo de cada categoria na legenda)\n",
    "# e o loc( que ira definir a posição da legenda no gráfico)\n",
    "plt.legend(labels=['Pessoas que não fumam', 'Pessoas que fumam'], loc='upper right')\n",
    "\n",
    "# Ira exibir o grafico\n",
    "plt.show()"
   ]
  },
  {
   "cell_type": "markdown",
   "metadata": {},
   "source": [
    "Visualizando os valores com mais frequência"
   ]
  },
  {
   "cell_type": "code",
   "execution_count": 92,
   "metadata": {},
   "outputs": [
    {
     "data": {
      "text/plain": [
       "Fuma\n",
       "no     2067\n",
       "yes      44\n",
       "Name: count, dtype: int64"
      ]
     },
     "execution_count": 92,
     "metadata": {},
     "output_type": "execute_result"
    }
   ],
   "source": [
    "colunas_categoricas['Fuma'].value_counts()"
   ]
  },
  {
   "cell_type": "markdown",
   "metadata": {},
   "source": [
    "Chamando a função de diferença percentual"
   ]
  },
  {
   "cell_type": "code",
   "execution_count": 93,
   "metadata": {},
   "outputs": [
    {
     "data": {
      "text/plain": [
       "4597.727272727273"
      ]
     },
     "execution_count": 93,
     "metadata": {},
     "output_type": "execute_result"
    }
   ],
   "source": [
    "calc_diferenca_percentual(2067, 44)"
   ]
  },
  {
   "cell_type": "markdown",
   "metadata": {},
   "source": [
    "Chamando a função de calculo percentual de pessoas"
   ]
  },
  {
   "cell_type": "code",
   "execution_count": 94,
   "metadata": {},
   "outputs": [
    {
     "name": "stdout",
     "output_type": "stream",
     "text": [
      "Das  2111  entrevistadas, 97.92 %  das pessoas consomem essa quantidade\n"
     ]
    }
   ],
   "source": [
    "calc_porcentagem_pessoas(colunas_categoricas, 'Fuma', 2067)"
   ]
  },
  {
   "cell_type": "markdown",
   "metadata": {},
   "source": [
    "conclusão do grafico de barras de pessoas que fumam:\n",
    "\n",
    "-> A maioria das pessoas não fumam.\n",
    "\n",
    "-> A minoria das pessoas fumam.\n",
    "\n",
    "-> O grupo de não fumantes é 4597,7% maior que o grupo de fumantes\n",
    "\n",
    "-> 2,08% das pessoas entrevistadas fumam\n",
    "\n",
    "-> 97,92% das pessoas entrevistadas não fumam."
   ]
  },
  {
   "cell_type": "markdown",
   "metadata": {},
   "source": [
    "Grafico de barras com a frequência de pessoas que monitoram a suas calorias diariamente"
   ]
  },
  {
   "cell_type": "code",
   "execution_count": 95,
   "metadata": {},
   "outputs": [
    {
     "data": {
      "image/png": "[encoded data removed]",
      "text/plain": [
       "<Figure size 640x480 with 1 Axes>"
      ]
     },
     "metadata": {},
     "output_type": "display_data"
    }
   ],
   "source": [
    "# Irá definir o titulo do gráfico\n",
    "plt.title('Distribuição das pessoas que monitoram calorias diariamente', loc='center', fontsize=12)\n",
    "\n",
    "# Irá definir o titulo do eixo X\n",
    "plt.xlabel ('Categoria das pessoas que monitoram calorias')\n",
    "\n",
    "# Irá definir o titulo do eixo Y.\n",
    "plt.ylabel('Distribuição (quantidade de pessoas)')\n",
    "\n",
    "# Função da biblioteca seaborn que irá criar um grafico de barras com as frequências (observações) de cada categoria\n",
    "# da coluna. A função irá receber como parametro a base de dados, os valores do eixo x, a largura e a paleta de cores\n",
    "# das barras do gráfico\n",
    "sns.countplot(data=colunas_categoricas, x='Monitora_calorias_diariamente', width=0.1, palette=['red', 'green'])\n",
    "\n",
    "# Função da biblioteca matplotlib que irá criar as legendas do gráfico. A função irá receber como \n",
    "# parametro o labels (que irá definir os titulos de cada categoria na legenda) e o loc(que irá\n",
    "# definir a posição da legenda no gráfico)\n",
    "plt.legend(labels=['Não monitoram calorias', 'monitoram calorias'], loc='upper right')\n",
    "\n",
    "plt.show()"
   ]
  },
  {
   "cell_type": "markdown",
   "metadata": {},
   "source": [
    "Visualizando os dados com mais precisão"
   ]
  },
  {
   "cell_type": "code",
   "execution_count": 96,
   "metadata": {},
   "outputs": [
    {
     "data": {
      "text/plain": [
       "Monitora_calorias_diariamente\n",
       "no     2015\n",
       "yes      96\n",
       "Name: count, dtype: int64"
      ]
     },
     "execution_count": 96,
     "metadata": {},
     "output_type": "execute_result"
    }
   ],
   "source": [
    "colunas_categoricas['Monitora_calorias_diariamente'].value_counts()"
   ]
  },
  {
   "cell_type": "markdown",
   "metadata": {},
   "source": [
    "Chamando a função de cálculos de diferenças percentuais"
   ]
  },
  {
   "cell_type": "code",
   "execution_count": 97,
   "metadata": {},
   "outputs": [
    {
     "data": {
      "text/plain": [
       "1998.9583333333333"
      ]
     },
     "execution_count": 97,
     "metadata": {},
     "output_type": "execute_result"
    }
   ],
   "source": [
    "calc_diferenca_percentual(2015, 96)"
   ]
  },
  {
   "cell_type": "markdown",
   "metadata": {},
   "source": [
    "Chamando a função de calculos percentuais"
   ]
  },
  {
   "cell_type": "code",
   "execution_count": 98,
   "metadata": {},
   "outputs": [
    {
     "name": "stdout",
     "output_type": "stream",
     "text": [
      "Das  2111  entrevistadas, 4.55 %  das pessoas consomem essa quantidade\n"
     ]
    }
   ],
   "source": [
    "calc_porcentagem_pessoas(colunas_categoricas, 'Monitora_calorias_diariamente', 96)"
   ]
  },
  {
   "cell_type": "markdown",
   "metadata": {},
   "source": [
    "Conclusão do gráfico de barras de pessoas que monitoram calorias\n",
    "\n",
    "-> A maioria das pessoas não monitoram as suas calorias diariamente, sendo\n",
    "95,45% dos entrevistados\n",
    "\n",
    "-> A minoria dos entrevistados (4,55%) monitoram as suas calorias\n",
    "diariamente.\n",
    "\n",
    "-> O grupo de pessoas que não monitoram calorias é 1998,95% maior que \n",
    "o grupo que monitora as suas calorias diariamente."
   ]
  },
  {
   "cell_type": "markdown",
   "metadata": {},
   "source": [
    "Grafico de barras da frequência de pessoas que ingerem alcool diariamente"
   ]
  },
  {
   "cell_type": "code",
   "execution_count": 99,
   "metadata": {},
   "outputs": [
    {
     "data": {
      "image/png": "[encoded data removed]",
      "text/plain": [
       "<Figure size 640x480 with 1 Axes>"
      ]
     },
     "metadata": {},
     "output_type": "display_data"
    }
   ],
   "source": [
    "plt.title('Distribuição das pessoas que ingerem alcool frequentemente', loc='center', fontsize=12)\n",
    "\n",
    "plt.xlabel('Categoria das pessoas que ingerem alcool')\n",
    "\n",
    "plt.ylabel('Distribuição (quantidade de pessoas)')\n",
    "\n",
    "sns.countplot(data=colunas_categoricas, x='Frequencia_que_ingere_alcool', width=0.1, palette=['red', 'blue', 'yellow', 'green'])\n",
    "\n",
    "plt.legend(labels=['Não consomem álcool', 'As vezes consomem álcool', 'consomem álcool frequentemente', 'sempre consomem álcool'], loc='upper right')\n",
    "\n",
    "plt.show()"
   ]
  },
  {
   "cell_type": "markdown",
   "metadata": {},
   "source": [
    "Visualizando os dados com mais precisão"
   ]
  },
  {
   "cell_type": "code",
   "execution_count": 100,
   "metadata": {},
   "outputs": [
    {
     "data": {
      "text/plain": [
       "Frequencia_que_ingere_alcool\n",
       "Sometimes     1401\n",
       "no             639\n",
       "Frequently      70\n",
       "Always           1\n",
       "Name: count, dtype: int64"
      ]
     },
     "execution_count": 100,
     "metadata": {},
     "output_type": "execute_result"
    }
   ],
   "source": [
    "colunas_categoricas['Frequencia_que_ingere_alcool'].value_counts()"
   ]
  },
  {
   "cell_type": "markdown",
   "metadata": {},
   "source": [
    "Chamada da função de cálculos percentuais"
   ]
  },
  {
   "cell_type": "code",
   "execution_count": 101,
   "metadata": {},
   "outputs": [
    {
     "name": "stdout",
     "output_type": "stream",
     "text": [
      "Das  2111  entrevistadas, 3.32 %  das pessoas consomem essa quantidade\n"
     ]
    }
   ],
   "source": [
    "calc_porcentagem_pessoas(colunas_categoricas, 'Frequencia_que_ingere_alcool', 70)"
   ]
  },
  {
   "cell_type": "markdown",
   "metadata": {},
   "source": [
    "Conclusão do grafico de barras da distribuição de pessoas que ingerem álcool\n",
    "\n",
    "-> A maioria das pessoas, 66,37% dos entrevistados as vezes consomem álcool.\n",
    "\n",
    "-> A minoria dos entrevistados, 0,05% sempre consomem bebidas álcoolicas.\n",
    "\n",
    "-> O segundo maior grupo é o das pessoas que não consomem bebidas álcoolicas,\n",
    "sendo 30,27% dos candidatos.\n",
    "\n",
    "-> Apenas 3,32% dos entrevistados consomem álcool frequentemente."
   ]
  },
  {
   "cell_type": "markdown",
   "metadata": {},
   "source": [
    "Gráfico de barras com a frequência de transportes utilizados pelas pessoas."
   ]
  },
  {
   "cell_type": "code",
   "execution_count": 102,
   "metadata": {},
   "outputs": [
    {
     "data": {
      "image/png": "[encoded data removed]",
      "text/plain": [
       "<Figure size 640x480 with 1 Axes>"
      ]
     },
     "metadata": {},
     "output_type": "display_data"
    }
   ],
   "source": [
    "# Titulo do gráfico alinhado ao centro e com tamanho da fonte 12\n",
    "plt.title('Distribuição dos transportes utilizados', loc='center', fontsize=12)\n",
    "\n",
    "# Rótulo do eixo X\n",
    "plt.xlabel('Transporte utilizado')\n",
    "\n",
    "# Rótulo do eixo Y\n",
    "plt.ylabel('Quantidade de pessoas que utilizam o transporte')\n",
    "\n",
    "# Ira rotacionar os rótulos do eixo X em 45 graus para deixar\n",
    "# os nomes na vertical\n",
    "plt.xticks(rotation=45)\n",
    "\n",
    "# Função da biblioteca seaborn que irá criar um gráfico de barras com as frequências (observações) de cada categoria. A função\n",
    "# irá receber como parametro a base de dados análisada, a largura e a cor das barras do gráfico.\n",
    "sns.countplot(data=colunas_categoricas, x='Transporte_utilizado', width=0.1, palette=['red', 'blue', 'green', 'yellow','orange'])\n",
    "\n",
    "# Função do matplotlib que irá criar as legendas dos gráficos. A função irá receber como parâmetro o labels(que irá\n",
    "# definir o titulo de cada categoria na legenda) e o loc(que irá definir a posição da legenda no gráfico).\n",
    "plt.legend(labels=['Transporte público', 'Pessoas que caminham', 'Automóveis', 'Moto', 'Bicicleta'], loc='upper right')\n",
    "\n",
    "# Exibição do gráfico\n",
    "plt.show()"
   ]
  },
  {
   "cell_type": "markdown",
   "metadata": {},
   "source": [
    "Visualizando os dados com mais precisão"
   ]
  },
  {
   "cell_type": "code",
   "execution_count": 103,
   "metadata": {},
   "outputs": [
    {
     "data": {
      "text/plain": [
       "Transporte_utilizado\n",
       "Public_Transportation    1580\n",
       "Automobile                457\n",
       "Walking                    56\n",
       "Motorbike                  11\n",
       "Bike                        7\n",
       "Name: count, dtype: int64"
      ]
     },
     "execution_count": 103,
     "metadata": {},
     "output_type": "execute_result"
    }
   ],
   "source": [
    "colunas_categoricas['Transporte_utilizado'].value_counts()"
   ]
  },
  {
   "cell_type": "markdown",
   "metadata": {},
   "source": [
    "Chamada da função de cálculos percentuais"
   ]
  },
  {
   "cell_type": "code",
   "execution_count": 104,
   "metadata": {},
   "outputs": [
    {
     "name": "stdout",
     "output_type": "stream",
     "text": [
      "Das  2111  entrevistadas, 2.65 %  das pessoas consomem essa quantidade\n"
     ]
    }
   ],
   "source": [
    "calc_porcentagem_pessoas(colunas_categoricas,'Transporte_utilizado', 56)"
   ]
  },
  {
   "cell_type": "code",
   "execution_count": 105,
   "metadata": {},
   "outputs": [
    {
     "data": {
      "text/plain": [
       "57.14285714285714"
      ]
     },
     "execution_count": 105,
     "metadata": {},
     "output_type": "execute_result"
    }
   ],
   "source": [
    "calc_diferenca_percentual(11, 7)"
   ]
  },
  {
   "cell_type": "markdown",
   "metadata": {},
   "source": [
    "Chamada da função de calculo de diferenças percentuais"
   ]
  },
  {
   "cell_type": "markdown",
   "metadata": {},
   "source": [
    "Conclusão do grafico de barras da frequência de transportes utilizados.\n",
    "\n",
    "-> A maioria dos entrevistados, 74,85% utilizam o transporte público em seu dia-a-dia.\n",
    "\n",
    "-> A minoria dos entrevistados, 0,33% utilizam a bicicleta como meio de locomoção.\n",
    "\n",
    "-> O segundo maior grupo utilizam o automóvel como meio de locomoção. Esse grupo\n",
    "representa 21,65% dos entrevistados.\n",
    "\n",
    "->0,52% dos entrevistados utilizam moto\n",
    "\n",
    "-> O grupo de pessoas que utilizam moto é 57,14% maior que o grupo que utiliza\n",
    "bicicletas.\n",
    "\n",
    "-> Apenas 2,65% dos entrevistados caminham em seu dia-a-dia."
   ]
  },
  {
   "cell_type": "markdown",
   "metadata": {},
   "source": [
    "Gráfico de barras da frequência de niveis de obesidade"
   ]
  },
  {
   "cell_type": "code",
   "execution_count": 106,
   "metadata": {},
   "outputs": [
    {
     "data": {
      "image/png": "[encoded data removed]",
      "text/plain": [
       "<Figure size 640x480 with 1 Axes>"
      ]
     },
     "metadata": {},
     "output_type": "display_data"
    }
   ],
   "source": [
    "\n",
    "# Titulo do gráfico alinhado ao centro e com tamanho da fonte 12\n",
    "plt.title('Distribuição dos niveis de obesidade', loc='center', fontsize=12)\n",
    "\n",
    "# Rótulo do eixo X\n",
    "plt.xlabel('Niveis de obesidade')\n",
    "\n",
    "# Rótulos do eixo Y\n",
    "plt.ylabel('Quantidade de pessoas')\n",
    "\n",
    "# Ira deixar os rótulos do eixo x em 45 graus\n",
    "# para deixa-los na vertical.\n",
    "plt.xticks(rotation=45)\n",
    "\n",
    "# Função que irá criar o gráfico de barras usando a frequência (observações) de cada categoria da coluna. A função terá\n",
    "# como parametro a base de dados análisada, os valores do eixo x, a largura e a paleta de cores das barras.\n",
    "sns.countplot(data=colunas_categoricas, x='Nivel_Obesidade', width=0.1, palette=['red', 'orange', 'yellow', 'blue', 'green', 'black', 'pink'])\n",
    "\n",
    "# Função do matplotlib que irá definir a legenda do grafico. A função irá receber como parametro o labels\n",
    "# (que irá definir os titulos de cada categoria) e loc (que irá definir a posição da legenda no gráfico). \n",
    "plt.legend(labels=['Peso normal', 'Sobrepeso nivel 1', 'Sobrepeso nivel 2','Obesidade tipo 1', 'Peso insuficiente',\n",
    "                   'Obesidade tipo 2', 'Obesidade tipo 3'], loc='lower center')\n",
    "\n",
    "plt.tight_layout()\n",
    "\n",
    "plt.show()"
   ]
  },
  {
   "cell_type": "markdown",
   "metadata": {},
   "source": [
    "Visualizando os dados com mais precisão"
   ]
  },
  {
   "cell_type": "code",
   "execution_count": 107,
   "metadata": {},
   "outputs": [
    {
     "data": {
      "text/plain": [
       "Nivel_Obesidade\n",
       "Obesity_Type_I         351\n",
       "Obesity_Type_III       324\n",
       "Obesity_Type_II        297\n",
       "Overweight_Level_I     290\n",
       "Overweight_Level_II    290\n",
       "Normal_Weight          287\n",
       "Insufficient_Weight    272\n",
       "Name: count, dtype: int64"
      ]
     },
     "execution_count": 107,
     "metadata": {},
     "output_type": "execute_result"
    }
   ],
   "source": [
    "colunas_categoricas['Nivel_Obesidade'].value_counts()"
   ]
  },
  {
   "cell_type": "markdown",
   "metadata": {},
   "source": [
    "Chamada da função de cálculos percentuais"
   ]
  },
  {
   "cell_type": "code",
   "execution_count": 118,
   "metadata": {},
   "outputs": [
    {
     "name": "stdout",
     "output_type": "stream",
     "text": [
      "Das  2111  entrevistadas, 13.6 %  das pessoas consomem essa quantidade\n"
     ]
    }
   ],
   "source": [
    "calc_porcentagem_pessoas(colunas_categoricas, 'Nivel_Obesidade', 287)"
   ]
  },
  {
   "cell_type": "markdown",
   "metadata": {},
   "source": [
    "Chamada da função de calculo de diferença percentual."
   ]
  },
  {
   "cell_type": "code",
   "execution_count": 121,
   "metadata": {},
   "outputs": [
    {
     "data": {
      "text/plain": [
       "29.044117647058826"
      ]
     },
     "execution_count": 121,
     "metadata": {},
     "output_type": "execute_result"
    }
   ],
   "source": [
    "calc_diferenca_percentual(351, 272)"
   ]
  },
  {
   "cell_type": "markdown",
   "metadata": {},
   "source": [
    "como 2 categorias tem a mesma quantidade de pessoas (por que as pessoas que possuem sobrepeso nivel 1 também possuem sobrepeso nivel 2), devemos considerar esse valor 2 vezes ao calcular a diferença percentual com outras categorias"
   ]
  },
  {
   "cell_type": "code",
   "execution_count": 122,
   "metadata": {},
   "outputs": [
    {
     "name": "stdout",
     "output_type": "stream",
     "text": [
      "Diferença percentual entre sobrepeso 1 e 2 e obesidade nivel 2:  13.405968735196588\n"
     ]
    }
   ],
   "source": [
    "# Irá calcular o total de pessoas que possuem sobrepeso 1 e 2\n",
    "total_pessoas_com_sobrepeso = 290 +290\n",
    "\n",
    "# Irá calcular a diferença entre o total de pessoas com sobrepeso 1 e 2 e as \n",
    "# pessoas com obesidade nivel 2\n",
    "diferenca_entre_sobrepeso_e_obesidade_nivel_2 = total_pessoas_com_sobrepeso - 297\n",
    "\n",
    "# Agora vamos pegar o valor da diferença para descobrirmos a porcentagem desse valor\n",
    "# em relação ao total.\n",
    "porcentagem_diferenca = (diferenca_entre_sobrepeso_e_obesidade_nivel_2 / 2111) * 100\n",
    "\n",
    "# Impressão dos resultados\n",
    "print('Diferença percentual entre sobrepeso 1 e 2 e obesidade nivel 2: ', porcentagem_diferenca)"
   ]
  },
  {
   "cell_type": "markdown",
   "metadata": {},
   "source": [
    "Conclusão do gráfico de barras sobre nivel de obesidade:\n",
    "\n",
    "-> A maioria dos entrevistados, 16,63%, possiem obesidade do tipo 1\n",
    "\n",
    "-> A minoria dos entrevistados possuem peso insuficiente. Esse grupo\n",
    "representa 12,88% dos entrevistados.\n",
    "\n",
    "-> 15,35% dos entrevistados possuem obesidade do tipo 3\n",
    "\n",
    "-> 14,07% dos entrevistados possuem obesidade do tipo 2.\n",
    "\n",
    "-> 13,74% dos entrevistados possuem sobrepeso nivel 1 e sobrepeso nivel 2\n",
    "\n",
    "-> 13.6% dos entrevistados possuem o peso normal.\n",
    "\n",
    "-> O maior grupo (obesidade tipo 1) é apenas 29% maior que o menor grupo (o grupo\n",
    "de pessoas que possuem pesos insuficientes).\n",
    "\n",
    "-> A diferença entre o grupo que possuem sobrepeso nivel 1 e sobrepeso nivel 2  e o\n",
    "grupo de obesidade nivel 2 também é pequeno, de apenas 13,40%"
   ]
  }
 ],
 "metadata": {
  "kernelspec": {
   "display_name": "Python 3",
   "language": "python",
   "name": "python3"
  },
  "language_info": {
   "codemirror_mode": {
    "name": "ipython",
    "version": 3
   },
   "file_extension": ".py",
   "mimetype": "text/x-python",
   "name": "python",
   "nbconvert_exporter": "python",
   "pygments_lexer": "ipython3",
   "version": "3.12.8"
  }
 },
 "nbformat": 4,
 "nbformat_minor": 2
}
