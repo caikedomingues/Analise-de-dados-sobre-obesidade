{
 "cells": [
  {
   "cell_type": "markdown",
   "metadata": {},
   "source": [
    "                             Sobre o conjunto de dados\n",
    "\n",
    "Visão geral:\n",
    "Este conjunto de dados inclui dados para a estimativa dos níveis de obesidade em indivíduos dos países do México, Peru e Colômbia, com base em seus hábitos alimentares e condição física.\n",
    "Os dados contêm 17 atributos e 2111 registros, os registros são rotulados com a variável de classe NObesity (Nível de obesidade), que permite a classificação dos dados usando os valores de Peso insuficiente, Peso normal, Sobrepeso nível I, Sobrepeso nível II, Obesidade tipo I, Obesidade tipo II e Obesidade tipo III."
   ]
  },
  {
   "cell_type": "markdown",
   "metadata": {},
   "source": [
    "                        Detalhes da base de dadosDetalhes dos dados:\n",
    "\n",
    "Gênero: Gênero\n",
    "Idade: Idade\n",
    "Altura: em metros\n",
    "Peso: em kgs\n",
    "family_history: Algum membro da família sofreu ou sofre de excesso de peso?\n",
    "FAVC: Você come alimentos altamente calóricos com frequência?\n",
    "FCVC: Você costuma comer vegetais nas suas refeições?\n",
    "NCP: Quantas refeições principais você faz diariamente?\n",
    "CAEC: Você come alguma coisa entre as refeições?\n",
    "FUMAÇA: Você fuma?\n",
    "CH2O: Quanta água você bebe diariamente?\n",
    "SCC: Você monitora as calorias que ingere diariamente?\n",
    "FAF: Com que frequência você pratica atividade física?\n",
    "TER: Quanto tempo você usa dispositivos tecnológicos como celular, videogame, televisão, computador e outros?\n",
    "CALC: Com que frequência você bebe álcool?\n",
    "MTRANS: Qual meio de transporte você costuma usar?\n",
    "Nível de obesidade (coluna alvo): Nível de obesidade\n"
   ]
  },
  {
   "cell_type": "markdown",
   "metadata": {},
   "source": [
    "Import das bibliotecas necessárias para a análise"
   ]
  },
  {
   "cell_type": "code",
   "execution_count": 39,
   "metadata": {},
   "outputs": [],
   "source": [
    "# Import da biblioteca que irá acessar e manipular os dados\n",
    "import pandas as pd\n",
    "\n",
    "# Import da biblioteca que irá manipular, exibir e criar gráficos\n",
    "import matplotlib.pyplot as plt\n",
    "\n",
    "# Import da bivlioteca que irá possibilitar a criação de vários\n",
    "# tipos de gráficos (é baseado no matplotlib)\n",
    "import seaborn as sns\n",
    "\n",
    "# Import da biblioteca que serve para manipular e\n",
    "# realizar operações com arrays\n",
    "\n",
    "import numpy as np"
   ]
  },
  {
   "cell_type": "markdown",
   "metadata": {},
   "source": [
    "Acessando a base de dados"
   ]
  },
  {
   "cell_type": "code",
   "execution_count": 2,
   "metadata": {},
   "outputs": [],
   "source": [
    "base_dados = pd.read_csv('Obesity prediction.csv')"
   ]
  },
  {
   "cell_type": "markdown",
   "metadata": {},
   "source": [
    "Analisando as 10 primeiras linhas"
   ]
  },
  {
   "cell_type": "code",
   "execution_count": 3,
   "metadata": {},
   "outputs": [
    {
     "data": {
      "text/html": [
       "<div>\n",
       "<style scoped>\n",
       "    .dataframe tbody tr th:only-of-type {\n",
       "        vertical-align: middle;\n",
       "    }\n",
       "\n",
       "    .dataframe tbody tr th {\n",
       "        vertical-align: top;\n",
       "    }\n",
       "\n",
       "    .dataframe thead th {\n",
       "        text-align: right;\n",
       "    }\n",
       "</style>\n",
       "<table border=\"1\" class=\"dataframe\">\n",
       "  <thead>\n",
       "    <tr style=\"text-align: right;\">\n",
       "      <th></th>\n",
       "      <th>Gender</th>\n",
       "      <th>Age</th>\n",
       "      <th>Height</th>\n",
       "      <th>Weight</th>\n",
       "      <th>family_history</th>\n",
       "      <th>FAVC</th>\n",
       "      <th>FCVC</th>\n",
       "      <th>NCP</th>\n",
       "      <th>CAEC</th>\n",
       "      <th>SMOKE</th>\n",
       "      <th>CH2O</th>\n",
       "      <th>SCC</th>\n",
       "      <th>FAF</th>\n",
       "      <th>TUE</th>\n",
       "      <th>CALC</th>\n",
       "      <th>MTRANS</th>\n",
       "      <th>Obesity</th>\n",
       "    </tr>\n",
       "  </thead>\n",
       "  <tbody>\n",
       "    <tr>\n",
       "      <th>0</th>\n",
       "      <td>Female</td>\n",
       "      <td>21.0</td>\n",
       "      <td>1.62</td>\n",
       "      <td>64.0</td>\n",
       "      <td>yes</td>\n",
       "      <td>no</td>\n",
       "      <td>2.0</td>\n",
       "      <td>3.0</td>\n",
       "      <td>Sometimes</td>\n",
       "      <td>no</td>\n",
       "      <td>2.0</td>\n",
       "      <td>no</td>\n",
       "      <td>0.0</td>\n",
       "      <td>1.0</td>\n",
       "      <td>no</td>\n",
       "      <td>Public_Transportation</td>\n",
       "      <td>Normal_Weight</td>\n",
       "    </tr>\n",
       "    <tr>\n",
       "      <th>1</th>\n",
       "      <td>Female</td>\n",
       "      <td>21.0</td>\n",
       "      <td>1.52</td>\n",
       "      <td>56.0</td>\n",
       "      <td>yes</td>\n",
       "      <td>no</td>\n",
       "      <td>3.0</td>\n",
       "      <td>3.0</td>\n",
       "      <td>Sometimes</td>\n",
       "      <td>yes</td>\n",
       "      <td>3.0</td>\n",
       "      <td>yes</td>\n",
       "      <td>3.0</td>\n",
       "      <td>0.0</td>\n",
       "      <td>Sometimes</td>\n",
       "      <td>Public_Transportation</td>\n",
       "      <td>Normal_Weight</td>\n",
       "    </tr>\n",
       "    <tr>\n",
       "      <th>2</th>\n",
       "      <td>Male</td>\n",
       "      <td>23.0</td>\n",
       "      <td>1.80</td>\n",
       "      <td>77.0</td>\n",
       "      <td>yes</td>\n",
       "      <td>no</td>\n",
       "      <td>2.0</td>\n",
       "      <td>3.0</td>\n",
       "      <td>Sometimes</td>\n",
       "      <td>no</td>\n",
       "      <td>2.0</td>\n",
       "      <td>no</td>\n",
       "      <td>2.0</td>\n",
       "      <td>1.0</td>\n",
       "      <td>Frequently</td>\n",
       "      <td>Public_Transportation</td>\n",
       "      <td>Normal_Weight</td>\n",
       "    </tr>\n",
       "    <tr>\n",
       "      <th>3</th>\n",
       "      <td>Male</td>\n",
       "      <td>27.0</td>\n",
       "      <td>1.80</td>\n",
       "      <td>87.0</td>\n",
       "      <td>no</td>\n",
       "      <td>no</td>\n",
       "      <td>3.0</td>\n",
       "      <td>3.0</td>\n",
       "      <td>Sometimes</td>\n",
       "      <td>no</td>\n",
       "      <td>2.0</td>\n",
       "      <td>no</td>\n",
       "      <td>2.0</td>\n",
       "      <td>0.0</td>\n",
       "      <td>Frequently</td>\n",
       "      <td>Walking</td>\n",
       "      <td>Overweight_Level_I</td>\n",
       "    </tr>\n",
       "    <tr>\n",
       "      <th>4</th>\n",
       "      <td>Male</td>\n",
       "      <td>22.0</td>\n",
       "      <td>1.78</td>\n",
       "      <td>89.8</td>\n",
       "      <td>no</td>\n",
       "      <td>no</td>\n",
       "      <td>2.0</td>\n",
       "      <td>1.0</td>\n",
       "      <td>Sometimes</td>\n",
       "      <td>no</td>\n",
       "      <td>2.0</td>\n",
       "      <td>no</td>\n",
       "      <td>0.0</td>\n",
       "      <td>0.0</td>\n",
       "      <td>Sometimes</td>\n",
       "      <td>Public_Transportation</td>\n",
       "      <td>Overweight_Level_II</td>\n",
       "    </tr>\n",
       "    <tr>\n",
       "      <th>5</th>\n",
       "      <td>Male</td>\n",
       "      <td>29.0</td>\n",
       "      <td>1.62</td>\n",
       "      <td>53.0</td>\n",
       "      <td>no</td>\n",
       "      <td>yes</td>\n",
       "      <td>2.0</td>\n",
       "      <td>3.0</td>\n",
       "      <td>Sometimes</td>\n",
       "      <td>no</td>\n",
       "      <td>2.0</td>\n",
       "      <td>no</td>\n",
       "      <td>0.0</td>\n",
       "      <td>0.0</td>\n",
       "      <td>Sometimes</td>\n",
       "      <td>Automobile</td>\n",
       "      <td>Normal_Weight</td>\n",
       "    </tr>\n",
       "    <tr>\n",
       "      <th>6</th>\n",
       "      <td>Female</td>\n",
       "      <td>23.0</td>\n",
       "      <td>1.50</td>\n",
       "      <td>55.0</td>\n",
       "      <td>yes</td>\n",
       "      <td>yes</td>\n",
       "      <td>3.0</td>\n",
       "      <td>3.0</td>\n",
       "      <td>Sometimes</td>\n",
       "      <td>no</td>\n",
       "      <td>2.0</td>\n",
       "      <td>no</td>\n",
       "      <td>1.0</td>\n",
       "      <td>0.0</td>\n",
       "      <td>Sometimes</td>\n",
       "      <td>Motorbike</td>\n",
       "      <td>Normal_Weight</td>\n",
       "    </tr>\n",
       "    <tr>\n",
       "      <th>7</th>\n",
       "      <td>Male</td>\n",
       "      <td>22.0</td>\n",
       "      <td>1.64</td>\n",
       "      <td>53.0</td>\n",
       "      <td>no</td>\n",
       "      <td>no</td>\n",
       "      <td>2.0</td>\n",
       "      <td>3.0</td>\n",
       "      <td>Sometimes</td>\n",
       "      <td>no</td>\n",
       "      <td>2.0</td>\n",
       "      <td>no</td>\n",
       "      <td>3.0</td>\n",
       "      <td>0.0</td>\n",
       "      <td>Sometimes</td>\n",
       "      <td>Public_Transportation</td>\n",
       "      <td>Normal_Weight</td>\n",
       "    </tr>\n",
       "    <tr>\n",
       "      <th>8</th>\n",
       "      <td>Male</td>\n",
       "      <td>24.0</td>\n",
       "      <td>1.78</td>\n",
       "      <td>64.0</td>\n",
       "      <td>yes</td>\n",
       "      <td>yes</td>\n",
       "      <td>3.0</td>\n",
       "      <td>3.0</td>\n",
       "      <td>Sometimes</td>\n",
       "      <td>no</td>\n",
       "      <td>2.0</td>\n",
       "      <td>no</td>\n",
       "      <td>1.0</td>\n",
       "      <td>1.0</td>\n",
       "      <td>Frequently</td>\n",
       "      <td>Public_Transportation</td>\n",
       "      <td>Normal_Weight</td>\n",
       "    </tr>\n",
       "    <tr>\n",
       "      <th>9</th>\n",
       "      <td>Male</td>\n",
       "      <td>22.0</td>\n",
       "      <td>1.72</td>\n",
       "      <td>68.0</td>\n",
       "      <td>yes</td>\n",
       "      <td>yes</td>\n",
       "      <td>2.0</td>\n",
       "      <td>3.0</td>\n",
       "      <td>Sometimes</td>\n",
       "      <td>no</td>\n",
       "      <td>2.0</td>\n",
       "      <td>no</td>\n",
       "      <td>1.0</td>\n",
       "      <td>1.0</td>\n",
       "      <td>no</td>\n",
       "      <td>Public_Transportation</td>\n",
       "      <td>Normal_Weight</td>\n",
       "    </tr>\n",
       "  </tbody>\n",
       "</table>\n",
       "</div>"
      ],
      "text/plain": [
       "   Gender   Age  Height  Weight family_history FAVC  FCVC  NCP       CAEC  \\\n",
       "0  Female  21.0    1.62    64.0            yes   no   2.0  3.0  Sometimes   \n",
       "1  Female  21.0    1.52    56.0            yes   no   3.0  3.0  Sometimes   \n",
       "2    Male  23.0    1.80    77.0            yes   no   2.0  3.0  Sometimes   \n",
       "3    Male  27.0    1.80    87.0             no   no   3.0  3.0  Sometimes   \n",
       "4    Male  22.0    1.78    89.8             no   no   2.0  1.0  Sometimes   \n",
       "5    Male  29.0    1.62    53.0             no  yes   2.0  3.0  Sometimes   \n",
       "6  Female  23.0    1.50    55.0            yes  yes   3.0  3.0  Sometimes   \n",
       "7    Male  22.0    1.64    53.0             no   no   2.0  3.0  Sometimes   \n",
       "8    Male  24.0    1.78    64.0            yes  yes   3.0  3.0  Sometimes   \n",
       "9    Male  22.0    1.72    68.0            yes  yes   2.0  3.0  Sometimes   \n",
       "\n",
       "  SMOKE  CH2O  SCC  FAF  TUE        CALC                 MTRANS  \\\n",
       "0    no   2.0   no  0.0  1.0          no  Public_Transportation   \n",
       "1   yes   3.0  yes  3.0  0.0   Sometimes  Public_Transportation   \n",
       "2    no   2.0   no  2.0  1.0  Frequently  Public_Transportation   \n",
       "3    no   2.0   no  2.0  0.0  Frequently                Walking   \n",
       "4    no   2.0   no  0.0  0.0   Sometimes  Public_Transportation   \n",
       "5    no   2.0   no  0.0  0.0   Sometimes             Automobile   \n",
       "6    no   2.0   no  1.0  0.0   Sometimes              Motorbike   \n",
       "7    no   2.0   no  3.0  0.0   Sometimes  Public_Transportation   \n",
       "8    no   2.0   no  1.0  1.0  Frequently  Public_Transportation   \n",
       "9    no   2.0   no  1.0  1.0          no  Public_Transportation   \n",
       "\n",
       "               Obesity  \n",
       "0        Normal_Weight  \n",
       "1        Normal_Weight  \n",
       "2        Normal_Weight  \n",
       "3   Overweight_Level_I  \n",
       "4  Overweight_Level_II  \n",
       "5        Normal_Weight  \n",
       "6        Normal_Weight  \n",
       "7        Normal_Weight  \n",
       "8        Normal_Weight  \n",
       "9        Normal_Weight  "
      ]
     },
     "execution_count": 3,
     "metadata": {},
     "output_type": "execute_result"
    }
   ],
   "source": [
    "base_dados.head(10)"
   ]
  },
  {
   "cell_type": "markdown",
   "metadata": {},
   "source": [
    "Para facilitar o trabalho, vamos renomear as colunas da tabela"
   ]
  },
  {
   "cell_type": "code",
   "execution_count": 5,
   "metadata": {},
   "outputs": [],
   "source": [
    "base_dados.rename(columns={\n",
    "    \n",
    "    'Gender': 'Genero',\n",
    "    'Age': 'Idade',\n",
    "    'Height': 'Altura',\n",
    "    'Weight': 'Peso',\n",
    "    'family_history':'Historico_Familiar',\n",
    "    'FAVC': 'Frequencia_em_alimentos_caloricos',\n",
    "    'FCVC': 'Come_vegetais_nas_refeiçoes',\n",
    "    'NCP': 'Quant_refeiçoes_principais',\n",
    "    'CAEC':'Come_algo_entre_as_refeiçoes',\n",
    "    'SMOKE': 'Fuma',\n",
    "    'CH2O': 'Quant_agua_ingerida_diariamente',\n",
    "    'SCC': 'Monitora_calorias_diariamente',\n",
    "    'FAF': 'Frequencia_de_atividade_fisica',\n",
    "    'TUE': 'Tempo_em_dispositivos_eletronicos',\n",
    "    'CALC':'Frequencia_que_ingere_alcool',\n",
    "    'MTRANS': 'Transporte_utilizado',\n",
    "    'Obesity': 'Nivel_Obesidade'\n",
    "    \n",
    "    \n",
    "}, inplace=True)"
   ]
  },
  {
   "cell_type": "markdown",
   "metadata": {},
   "source": [
    "Verificando se as colunas foram alteradas"
   ]
  },
  {
   "cell_type": "code",
   "execution_count": 6,
   "metadata": {},
   "outputs": [
    {
     "data": {
      "text/plain": [
       "Index(['Genero', 'Idade', 'Altura', 'Peso', 'Historico_Familiar',\n",
       "       'Frequencia_em_alimentos_caloricos', 'Come_vegetais_nas_refeiçoes',\n",
       "       'Quant_refeiçoes_principais', 'Come_algo_entre_as_refeiçoes', 'Fuma',\n",
       "       'Quant_agua_ingerida_diariamente', 'Monitora_calorias_diariamente',\n",
       "       'Frequencia_de_atividade_fisica', 'Tempo_em_dispositivos_eletronicos',\n",
       "       'Frequencia_que_ingere_alcool', 'Transporte_utilizado',\n",
       "       'Nivel_Obesidade'],\n",
       "      dtype='object')"
      ]
     },
     "execution_count": 6,
     "metadata": {},
     "output_type": "execute_result"
    }
   ],
   "source": [
    "base_dados.columns"
   ]
  },
  {
   "cell_type": "markdown",
   "metadata": {},
   "source": [
    "Verificando o tipo de cada tabela"
   ]
  },
  {
   "cell_type": "code",
   "execution_count": 7,
   "metadata": {},
   "outputs": [
    {
     "data": {
      "text/plain": [
       "Genero                                object\n",
       "Idade                                float64\n",
       "Altura                               float64\n",
       "Peso                                 float64\n",
       "Historico_Familiar                    object\n",
       "Frequencia_em_alimentos_caloricos     object\n",
       "Come_vegetais_nas_refeiçoes          float64\n",
       "Quant_refeiçoes_principais           float64\n",
       "Come_algo_entre_as_refeiçoes          object\n",
       "Fuma                                  object\n",
       "Quant_agua_ingerida_diariamente      float64\n",
       "Monitora_calorias_diariamente         object\n",
       "Frequencia_de_atividade_fisica       float64\n",
       "Tempo_em_dispositivos_eletronicos    float64\n",
       "Frequencia_que_ingere_alcool          object\n",
       "Transporte_utilizado                  object\n",
       "Nivel_Obesidade                       object\n",
       "dtype: object"
      ]
     },
     "execution_count": 7,
     "metadata": {},
     "output_type": "execute_result"
    }
   ],
   "source": [
    "base_dados.dtypes"
   ]
  },
  {
   "cell_type": "markdown",
   "metadata": {},
   "source": [
    "Verificando a quantidade de valores nulos"
   ]
  },
  {
   "cell_type": "code",
   "execution_count": 8,
   "metadata": {},
   "outputs": [
    {
     "data": {
      "text/plain": [
       "Genero                               0\n",
       "Idade                                0\n",
       "Altura                               0\n",
       "Peso                                 0\n",
       "Historico_Familiar                   0\n",
       "Frequencia_em_alimentos_caloricos    0\n",
       "Come_vegetais_nas_refeiçoes          0\n",
       "Quant_refeiçoes_principais           0\n",
       "Come_algo_entre_as_refeiçoes         0\n",
       "Fuma                                 0\n",
       "Quant_agua_ingerida_diariamente      0\n",
       "Monitora_calorias_diariamente        0\n",
       "Frequencia_de_atividade_fisica       0\n",
       "Tempo_em_dispositivos_eletronicos    0\n",
       "Frequencia_que_ingere_alcool         0\n",
       "Transporte_utilizado                 0\n",
       "Nivel_Obesidade                      0\n",
       "dtype: int64"
      ]
     },
     "execution_count": 8,
     "metadata": {},
     "output_type": "execute_result"
    }
   ],
   "source": [
    "base_dados.isnull().sum()"
   ]
  },
  {
   "cell_type": "markdown",
   "metadata": {},
   "source": [
    "Verificando a quantidade de linhas e colunas da tabela"
   ]
  },
  {
   "cell_type": "code",
   "execution_count": 9,
   "metadata": {},
   "outputs": [
    {
     "data": {
      "text/plain": [
       "(2111, 17)"
      ]
     },
     "execution_count": 9,
     "metadata": {},
     "output_type": "execute_result"
    }
   ],
   "source": [
    "base_dados.shape"
   ]
  },
  {
   "cell_type": "markdown",
   "metadata": {},
   "source": [
    "                                     ANÁLISE DESCRITIVA"
   ]
  },
  {
   "cell_type": "markdown",
   "metadata": {},
   "source": [
    "Medidas de tendência central: Calcular a média, mediana e a moda para variáveis numéricas como idade, altura, peso, quantidade de refeições principais, quantidade de água ingerida diaramente e tempo em dispositivos eletrônicos"
   ]
  },
  {
   "cell_type": "markdown",
   "metadata": {},
   "source": [
    "Média: média aritmética dos valores da coluna\n",
    "\n",
    "Moda: Valor que aparece com mais frequência em um conjunto de valores\n",
    "\n",
    "mediana: Valor que se encontra no centro de um conjunto de valores."
   ]
  },
  {
   "cell_type": "markdown",
   "metadata": {},
   "source": [
    "Visualizando novamente os nomes das colunas para facilitar a criação da solução"
   ]
  },
  {
   "cell_type": "code",
   "execution_count": 19,
   "metadata": {},
   "outputs": [
    {
     "data": {
      "text/plain": [
       "Index(['Genero', 'Idade', 'Altura', 'Peso', 'Historico_Familiar',\n",
       "       'Frequencia_em_alimentos_caloricos', 'Come_vegetais_nas_refeiçoes',\n",
       "       'Quant_refeiçoes_principais', 'Come_algo_entre_as_refeiçoes', 'Fuma',\n",
       "       'Quant_agua_ingerida_diariamente', 'Monitora_calorias_diariamente',\n",
       "       'Frequencia_de_atividade_fisica', 'Tempo_em_dispositivos_eletronicos',\n",
       "       'Frequencia_que_ingere_alcool', 'Transporte_utilizado',\n",
       "       'Nivel_Obesidade'],\n",
       "      dtype='object')"
      ]
     },
     "execution_count": 19,
     "metadata": {},
     "output_type": "execute_result"
    }
   ],
   "source": [
    "base_dados.columns"
   ]
  },
  {
   "cell_type": "markdown",
   "metadata": {},
   "source": [
    "primeiro, vamos criar uma função para facilitar o nosso processo, já que, com a\n",
    "criação dela, não precisaremos repetir o processo várias vezes"
   ]
  },
  {
   "cell_type": "code",
   "execution_count": 31,
   "metadata": {},
   "outputs": [],
   "source": [
    "# A função terá como objetivo mostrar no console a média, a mediana e a moda\n",
    "# de cada coluna. A função ira receber como parametro o nome da coluna que \n",
    "# terá os valores impressos\n",
    "\n",
    "# Criação da função que ira imprimir os valores\n",
    "def imprimirValores(coluna):\n",
    "    \n",
    "    # impressão dos valores\n",
    "    \n",
    "    # Name: Ira mostrar o nome da coluna informada nos colchetes da base de dados\n",
    "    \n",
    "    # round: Serve para arredontar os valores. Basicamente, ele analisa se o primeiro\n",
    "    # valor após a virgula é menor ou maior que 5, se for maior ele arredonta pra cima,\n",
    "    # se for menor que 5 ele arredonta pra baixo. A função recebe 2 valores o valor e \n",
    "    # a quatidade de casas decimais que devem aparecer após a virgula.\n",
    "    \n",
    "    # mean: Cálcula a média dos valores\n",
    "    \n",
    "    # median: calcula a mediana dos valores\n",
    "    \n",
    "    # mode: Cálcula a moda dos valores. Ira retorna 2 valores: o indice da moda \n",
    "    # (pois pode haver mais de uma moda) e o valor da moda em si\n",
    "    \n",
    "    print(\"Média dos valores da coluna de \", base_dados[coluna].name,\": \", round(base_dados[coluna].mean(), 2))\n",
    "    \n",
    "    print(\"Mediana dos valores da coluna de \", base_dados[coluna].name,\": \", round(base_dados[coluna].median(), 2))\n",
    "    \n",
    "    print(\"Moda dos valores da coluna de \", base_dados[coluna].name,\": \", round(base_dados[coluna].mode(), 2))"
   ]
  },
  {
   "cell_type": "markdown",
   "metadata": {},
   "source": [
    "Calculando os valores da idade"
   ]
  },
  {
   "cell_type": "code",
   "execution_count": 30,
   "metadata": {},
   "outputs": [
    {
     "name": "stdout",
     "output_type": "stream",
     "text": [
      "Média dos valores da coluna de  Idade :  24.31\n",
      "Mediana dos valores da coluna de  Idade :  22.78\n",
      "Moda dos valores da coluna de  Idade :  0    18.0\n",
      "Name: Idade, dtype: float64\n"
     ]
    }
   ],
   "source": [
    "# Chamada da função\n",
    "\n",
    "imprimirValores('Idade')"
   ]
  },
  {
   "cell_type": "markdown",
   "metadata": {},
   "source": [
    "Calculando os valores da altura"
   ]
  },
  {
   "cell_type": "code",
   "execution_count": 32,
   "metadata": {},
   "outputs": [
    {
     "name": "stdout",
     "output_type": "stream",
     "text": [
      "Média dos valores da coluna de  Altura :  1.7\n",
      "Mediana dos valores da coluna de  Altura :  1.7\n",
      "Moda dos valores da coluna de  Altura :  0    1.7\n",
      "Name: Altura, dtype: float64\n"
     ]
    }
   ],
   "source": [
    "# Chamada da função\n",
    "\n",
    "imprimirValores('Altura')"
   ]
  },
  {
   "cell_type": "markdown",
   "metadata": {},
   "source": [
    "Calculando os valores da coluna de peso"
   ]
  },
  {
   "cell_type": "code",
   "execution_count": 33,
   "metadata": {},
   "outputs": [
    {
     "name": "stdout",
     "output_type": "stream",
     "text": [
      "Média dos valores da coluna de  Peso :  86.59\n",
      "Mediana dos valores da coluna de  Peso :  83.0\n",
      "Moda dos valores da coluna de  Peso :  0    80.0\n",
      "Name: Peso, dtype: float64\n"
     ]
    }
   ],
   "source": [
    "# Chamada da função\n",
    "\n",
    "imprimirValores('Peso')"
   ]
  },
  {
   "cell_type": "markdown",
   "metadata": {},
   "source": [
    "Valores da coluna de quentidade de refeições principais"
   ]
  },
  {
   "cell_type": "code",
   "execution_count": 35,
   "metadata": {},
   "outputs": [
    {
     "name": "stdout",
     "output_type": "stream",
     "text": [
      "Média dos valores da coluna de  Quant_refeiçoes_principais :  2.69\n",
      "Mediana dos valores da coluna de  Quant_refeiçoes_principais :  3.0\n",
      "Moda dos valores da coluna de  Quant_refeiçoes_principais :  0    3.0\n",
      "Name: Quant_refeiçoes_principais, dtype: float64\n"
     ]
    }
   ],
   "source": [
    "# chamada do método\n",
    "\n",
    "imprimirValores('Quant_refeiçoes_principais')"
   ]
  },
  {
   "cell_type": "markdown",
   "metadata": {},
   "source": [
    "Valores da coluna de quantidade de agua ingerida diariamente"
   ]
  },
  {
   "cell_type": "code",
   "execution_count": 36,
   "metadata": {},
   "outputs": [
    {
     "name": "stdout",
     "output_type": "stream",
     "text": [
      "Média dos valores da coluna de  Quant_agua_ingerida_diariamente :  2.01\n",
      "Mediana dos valores da coluna de  Quant_agua_ingerida_diariamente :  2.0\n",
      "Moda dos valores da coluna de  Quant_agua_ingerida_diariamente :  0    2.0\n",
      "Name: Quant_agua_ingerida_diariamente, dtype: float64\n"
     ]
    }
   ],
   "source": [
    "# chamada da função\n",
    "\n",
    "imprimirValores('Quant_agua_ingerida_diariamente')"
   ]
  },
  {
   "cell_type": "markdown",
   "metadata": {},
   "source": [
    "Valores da coluna de quantidade de tempo em dispositivos eletrônicos"
   ]
  },
  {
   "cell_type": "code",
   "execution_count": 40,
   "metadata": {},
   "outputs": [
    {
     "name": "stdout",
     "output_type": "stream",
     "text": [
      "Média dos valores da coluna de  Tempo_em_dispositivos_eletronicos :  0.66\n",
      "Mediana dos valores da coluna de  Tempo_em_dispositivos_eletronicos :  0.63\n",
      "Moda dos valores da coluna de  Tempo_em_dispositivos_eletronicos :  0    0.0\n",
      "Name: Tempo_em_dispositivos_eletronicos, dtype: float64\n"
     ]
    }
   ],
   "source": [
    "# Chamada da função\n",
    "\n",
    "imprimirValores('Tempo_em_dispositivos_eletronicos')"
   ]
  }
 ],
 "metadata": {
  "kernelspec": {
   "display_name": "Python 3",
   "language": "python",
   "name": "python3"
  },
  "language_info": {
   "codemirror_mode": {
    "name": "ipython",
    "version": 3
   },
   "file_extension": ".py",
   "mimetype": "text/x-python",
   "name": "python",
   "nbconvert_exporter": "python",
   "pygments_lexer": "ipython3",
   "version": "3.12.8"
  }
 },
 "nbformat": 4,
 "nbformat_minor": 2
}
