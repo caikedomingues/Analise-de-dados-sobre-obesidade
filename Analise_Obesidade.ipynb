{
 "cells": [
  {
   "cell_type": "markdown",
   "metadata": {},
   "source": [
    "                             Sobre o conjunto de dados\n",
    "\n",
    "Visão geral:\n",
    "Este conjunto de dados inclui dados para a estimativa dos níveis de obesidade em indivíduos dos países do México, Peru e Colômbia, com base em seus hábitos alimentares e condição física.\n",
    "Os dados contêm 17 atributos e 2111 registros, os registros são rotulados com a variável de classe NObesity (Nível de obesidade), que permite a classificação dos dados usando os valores de Peso insuficiente, Peso normal, Sobrepeso nível I, Sobrepeso nível II, Obesidade tipo I, Obesidade tipo II e Obesidade tipo III."
   ]
  },
  {
   "cell_type": "markdown",
   "metadata": {},
   "source": [
    "                        Detalhes da base de dadosDetalhes dos dados:\n",
    "\n",
    "Gênero: Gênero\n",
    "Idade: Idade\n",
    "Altura: em metros\n",
    "Peso: em kgs\n",
    "family_history: Algum membro da família sofreu ou sofre de excesso de peso?\n",
    "FAVC: Você come alimentos altamente calóricos com frequência?\n",
    "FCVC: Você costuma comer vegetais nas suas refeições?\n",
    "NCP: Quantas refeições principais você faz diariamente?\n",
    "CAEC: Você come alguma coisa entre as refeições?\n",
    "FUMAÇA: Você fuma?\n",
    "CH2O: Quanta água você bebe diariamente?\n",
    "SCC: Você monitora as calorias que ingere diariamente?\n",
    "FAF: Com que frequência você pratica atividade física?\n",
    "TER: Quanto tempo você usa dispositivos tecnológicos como celular, videogame, televisão, computador e outros?\n",
    "CALC: Com que frequência você bebe álcool?\n",
    "MTRANS: Qual meio de transporte você costuma usar?\n",
    "Nível de obesidade (coluna alvo): Nível de obesidade\n"
   ]
  },
  {
   "cell_type": "markdown",
   "metadata": {},
   "source": [
    "Import das bibliotecas necessárias para a análise"
   ]
  },
  {
   "cell_type": "code",
   "execution_count": 1,
   "metadata": {},
   "outputs": [],
   "source": [
    "# Import da biblioteca que irá acessar e manipular os dados\n",
    "import pandas as pd\n",
    "\n",
    "# Import da biblioteca que irá manipular, exibir e criar gráficos\n",
    "import matplotlib.pyplot as plt\n",
    "\n",
    "# Import da bivlioteca que irá possibilitar a criação de vários\n",
    "# tipos de gráficos (é baseado no matplotlib)\n",
    "import seaborn as sns\n",
    "\n",
    "# Import da biblioteca que serve para manipular e\n",
    "# realizar operações com arrays\n",
    "\n",
    "import numpy as np"
   ]
  },
  {
   "cell_type": "markdown",
   "metadata": {},
   "source": [
    "Acessando a base de dados"
   ]
  },
  {
   "cell_type": "code",
   "execution_count": 2,
   "metadata": {},
   "outputs": [],
   "source": [
    "base_dados = pd.read_csv('Obesity prediction.csv')"
   ]
  },
  {
   "cell_type": "markdown",
   "metadata": {},
   "source": [
    "Analisando as 10 primeiras linhas"
   ]
  },
  {
   "cell_type": "code",
   "execution_count": 45,
   "metadata": {},
   "outputs": [
    {
     "data": {
      "text/html": [
       "<div>\n",
       "<style scoped>\n",
       "    .dataframe tbody tr th:only-of-type {\n",
       "        vertical-align: middle;\n",
       "    }\n",
       "\n",
       "    .dataframe tbody tr th {\n",
       "        vertical-align: top;\n",
       "    }\n",
       "\n",
       "    .dataframe thead th {\n",
       "        text-align: right;\n",
       "    }\n",
       "</style>\n",
       "<table border=\"1\" class=\"dataframe\">\n",
       "  <thead>\n",
       "    <tr style=\"text-align: right;\">\n",
       "      <th></th>\n",
       "      <th>Gender</th>\n",
       "      <th>Age</th>\n",
       "      <th>Height</th>\n",
       "      <th>Weight</th>\n",
       "      <th>family_history</th>\n",
       "      <th>FAVC</th>\n",
       "      <th>FCVC</th>\n",
       "      <th>NCP</th>\n",
       "      <th>CAEC</th>\n",
       "      <th>SMOKE</th>\n",
       "      <th>CH2O</th>\n",
       "      <th>SCC</th>\n",
       "      <th>FAF</th>\n",
       "      <th>TUE</th>\n",
       "      <th>CALC</th>\n",
       "      <th>MTRANS</th>\n",
       "      <th>Obesity</th>\n",
       "    </tr>\n",
       "  </thead>\n",
       "  <tbody>\n",
       "    <tr>\n",
       "      <th>0</th>\n",
       "      <td>Female</td>\n",
       "      <td>21.0</td>\n",
       "      <td>1.62</td>\n",
       "      <td>64.0</td>\n",
       "      <td>yes</td>\n",
       "      <td>no</td>\n",
       "      <td>2.0</td>\n",
       "      <td>3.0</td>\n",
       "      <td>Sometimes</td>\n",
       "      <td>no</td>\n",
       "      <td>2.0</td>\n",
       "      <td>no</td>\n",
       "      <td>0.0</td>\n",
       "      <td>1.0</td>\n",
       "      <td>no</td>\n",
       "      <td>Public_Transportation</td>\n",
       "      <td>Normal_Weight</td>\n",
       "    </tr>\n",
       "    <tr>\n",
       "      <th>1</th>\n",
       "      <td>Female</td>\n",
       "      <td>21.0</td>\n",
       "      <td>1.52</td>\n",
       "      <td>56.0</td>\n",
       "      <td>yes</td>\n",
       "      <td>no</td>\n",
       "      <td>3.0</td>\n",
       "      <td>3.0</td>\n",
       "      <td>Sometimes</td>\n",
       "      <td>yes</td>\n",
       "      <td>3.0</td>\n",
       "      <td>yes</td>\n",
       "      <td>3.0</td>\n",
       "      <td>0.0</td>\n",
       "      <td>Sometimes</td>\n",
       "      <td>Public_Transportation</td>\n",
       "      <td>Normal_Weight</td>\n",
       "    </tr>\n",
       "    <tr>\n",
       "      <th>2</th>\n",
       "      <td>Male</td>\n",
       "      <td>23.0</td>\n",
       "      <td>1.80</td>\n",
       "      <td>77.0</td>\n",
       "      <td>yes</td>\n",
       "      <td>no</td>\n",
       "      <td>2.0</td>\n",
       "      <td>3.0</td>\n",
       "      <td>Sometimes</td>\n",
       "      <td>no</td>\n",
       "      <td>2.0</td>\n",
       "      <td>no</td>\n",
       "      <td>2.0</td>\n",
       "      <td>1.0</td>\n",
       "      <td>Frequently</td>\n",
       "      <td>Public_Transportation</td>\n",
       "      <td>Normal_Weight</td>\n",
       "    </tr>\n",
       "    <tr>\n",
       "      <th>3</th>\n",
       "      <td>Male</td>\n",
       "      <td>27.0</td>\n",
       "      <td>1.80</td>\n",
       "      <td>87.0</td>\n",
       "      <td>no</td>\n",
       "      <td>no</td>\n",
       "      <td>3.0</td>\n",
       "      <td>3.0</td>\n",
       "      <td>Sometimes</td>\n",
       "      <td>no</td>\n",
       "      <td>2.0</td>\n",
       "      <td>no</td>\n",
       "      <td>2.0</td>\n",
       "      <td>0.0</td>\n",
       "      <td>Frequently</td>\n",
       "      <td>Walking</td>\n",
       "      <td>Overweight_Level_I</td>\n",
       "    </tr>\n",
       "    <tr>\n",
       "      <th>4</th>\n",
       "      <td>Male</td>\n",
       "      <td>22.0</td>\n",
       "      <td>1.78</td>\n",
       "      <td>89.8</td>\n",
       "      <td>no</td>\n",
       "      <td>no</td>\n",
       "      <td>2.0</td>\n",
       "      <td>1.0</td>\n",
       "      <td>Sometimes</td>\n",
       "      <td>no</td>\n",
       "      <td>2.0</td>\n",
       "      <td>no</td>\n",
       "      <td>0.0</td>\n",
       "      <td>0.0</td>\n",
       "      <td>Sometimes</td>\n",
       "      <td>Public_Transportation</td>\n",
       "      <td>Overweight_Level_II</td>\n",
       "    </tr>\n",
       "    <tr>\n",
       "      <th>5</th>\n",
       "      <td>Male</td>\n",
       "      <td>29.0</td>\n",
       "      <td>1.62</td>\n",
       "      <td>53.0</td>\n",
       "      <td>no</td>\n",
       "      <td>yes</td>\n",
       "      <td>2.0</td>\n",
       "      <td>3.0</td>\n",
       "      <td>Sometimes</td>\n",
       "      <td>no</td>\n",
       "      <td>2.0</td>\n",
       "      <td>no</td>\n",
       "      <td>0.0</td>\n",
       "      <td>0.0</td>\n",
       "      <td>Sometimes</td>\n",
       "      <td>Automobile</td>\n",
       "      <td>Normal_Weight</td>\n",
       "    </tr>\n",
       "    <tr>\n",
       "      <th>6</th>\n",
       "      <td>Female</td>\n",
       "      <td>23.0</td>\n",
       "      <td>1.50</td>\n",
       "      <td>55.0</td>\n",
       "      <td>yes</td>\n",
       "      <td>yes</td>\n",
       "      <td>3.0</td>\n",
       "      <td>3.0</td>\n",
       "      <td>Sometimes</td>\n",
       "      <td>no</td>\n",
       "      <td>2.0</td>\n",
       "      <td>no</td>\n",
       "      <td>1.0</td>\n",
       "      <td>0.0</td>\n",
       "      <td>Sometimes</td>\n",
       "      <td>Motorbike</td>\n",
       "      <td>Normal_Weight</td>\n",
       "    </tr>\n",
       "    <tr>\n",
       "      <th>7</th>\n",
       "      <td>Male</td>\n",
       "      <td>22.0</td>\n",
       "      <td>1.64</td>\n",
       "      <td>53.0</td>\n",
       "      <td>no</td>\n",
       "      <td>no</td>\n",
       "      <td>2.0</td>\n",
       "      <td>3.0</td>\n",
       "      <td>Sometimes</td>\n",
       "      <td>no</td>\n",
       "      <td>2.0</td>\n",
       "      <td>no</td>\n",
       "      <td>3.0</td>\n",
       "      <td>0.0</td>\n",
       "      <td>Sometimes</td>\n",
       "      <td>Public_Transportation</td>\n",
       "      <td>Normal_Weight</td>\n",
       "    </tr>\n",
       "    <tr>\n",
       "      <th>8</th>\n",
       "      <td>Male</td>\n",
       "      <td>24.0</td>\n",
       "      <td>1.78</td>\n",
       "      <td>64.0</td>\n",
       "      <td>yes</td>\n",
       "      <td>yes</td>\n",
       "      <td>3.0</td>\n",
       "      <td>3.0</td>\n",
       "      <td>Sometimes</td>\n",
       "      <td>no</td>\n",
       "      <td>2.0</td>\n",
       "      <td>no</td>\n",
       "      <td>1.0</td>\n",
       "      <td>1.0</td>\n",
       "      <td>Frequently</td>\n",
       "      <td>Public_Transportation</td>\n",
       "      <td>Normal_Weight</td>\n",
       "    </tr>\n",
       "    <tr>\n",
       "      <th>9</th>\n",
       "      <td>Male</td>\n",
       "      <td>22.0</td>\n",
       "      <td>1.72</td>\n",
       "      <td>68.0</td>\n",
       "      <td>yes</td>\n",
       "      <td>yes</td>\n",
       "      <td>2.0</td>\n",
       "      <td>3.0</td>\n",
       "      <td>Sometimes</td>\n",
       "      <td>no</td>\n",
       "      <td>2.0</td>\n",
       "      <td>no</td>\n",
       "      <td>1.0</td>\n",
       "      <td>1.0</td>\n",
       "      <td>no</td>\n",
       "      <td>Public_Transportation</td>\n",
       "      <td>Normal_Weight</td>\n",
       "    </tr>\n",
       "  </tbody>\n",
       "</table>\n",
       "</div>"
      ],
      "text/plain": [
       "   Gender   Age  Height  Weight family_history FAVC  FCVC  NCP       CAEC  \\\n",
       "0  Female  21.0    1.62    64.0            yes   no   2.0  3.0  Sometimes   \n",
       "1  Female  21.0    1.52    56.0            yes   no   3.0  3.0  Sometimes   \n",
       "2    Male  23.0    1.80    77.0            yes   no   2.0  3.0  Sometimes   \n",
       "3    Male  27.0    1.80    87.0             no   no   3.0  3.0  Sometimes   \n",
       "4    Male  22.0    1.78    89.8             no   no   2.0  1.0  Sometimes   \n",
       "5    Male  29.0    1.62    53.0             no  yes   2.0  3.0  Sometimes   \n",
       "6  Female  23.0    1.50    55.0            yes  yes   3.0  3.0  Sometimes   \n",
       "7    Male  22.0    1.64    53.0             no   no   2.0  3.0  Sometimes   \n",
       "8    Male  24.0    1.78    64.0            yes  yes   3.0  3.0  Sometimes   \n",
       "9    Male  22.0    1.72    68.0            yes  yes   2.0  3.0  Sometimes   \n",
       "\n",
       "  SMOKE  CH2O  SCC  FAF  TUE        CALC                 MTRANS  \\\n",
       "0    no   2.0   no  0.0  1.0          no  Public_Transportation   \n",
       "1   yes   3.0  yes  3.0  0.0   Sometimes  Public_Transportation   \n",
       "2    no   2.0   no  2.0  1.0  Frequently  Public_Transportation   \n",
       "3    no   2.0   no  2.0  0.0  Frequently                Walking   \n",
       "4    no   2.0   no  0.0  0.0   Sometimes  Public_Transportation   \n",
       "5    no   2.0   no  0.0  0.0   Sometimes             Automobile   \n",
       "6    no   2.0   no  1.0  0.0   Sometimes              Motorbike   \n",
       "7    no   2.0   no  3.0  0.0   Sometimes  Public_Transportation   \n",
       "8    no   2.0   no  1.0  1.0  Frequently  Public_Transportation   \n",
       "9    no   2.0   no  1.0  1.0          no  Public_Transportation   \n",
       "\n",
       "               Obesity  \n",
       "0        Normal_Weight  \n",
       "1        Normal_Weight  \n",
       "2        Normal_Weight  \n",
       "3   Overweight_Level_I  \n",
       "4  Overweight_Level_II  \n",
       "5        Normal_Weight  \n",
       "6        Normal_Weight  \n",
       "7        Normal_Weight  \n",
       "8        Normal_Weight  \n",
       "9        Normal_Weight  "
      ]
     },
     "execution_count": 45,
     "metadata": {},
     "output_type": "execute_result"
    }
   ],
   "source": [
    "base_dados.head(10)"
   ]
  },
  {
   "cell_type": "markdown",
   "metadata": {},
   "source": [
    "Para facilitar o trabalho, vamos renomear as colunas da tabela"
   ]
  },
  {
   "cell_type": "code",
   "execution_count": 3,
   "metadata": {},
   "outputs": [],
   "source": [
    "base_dados.rename(columns={\n",
    "    \n",
    "    'Gender': 'Genero',\n",
    "    'Age': 'Idade',\n",
    "    'Height': 'Altura',\n",
    "    'Weight': 'Peso',\n",
    "    'family_history':'Historico_Familiar',\n",
    "    'FAVC': 'Frequencia_em_alimentos_caloricos',\n",
    "    'FCVC': 'Come_vegetais_nas_refeiçoes',\n",
    "    'NCP': 'Quant_refeiçoes_principais',\n",
    "    'CAEC':'Come_algo_entre_as_refeiçoes',\n",
    "    'SMOKE': 'Fuma',\n",
    "    'CH2O': 'Quant_agua_ingerida_diariamente',\n",
    "    'SCC': 'Monitora_calorias_diariamente',\n",
    "    'FAF': 'Frequencia_de_atividade_fisica',\n",
    "    'TUE': 'Tempo_em_dispositivos_eletronicos',\n",
    "    'CALC':'Frequencia_que_ingere_alcool',\n",
    "    'MTRANS': 'Transporte_utilizado',\n",
    "    'Obesity': 'Nivel_Obesidade'\n",
    "    \n",
    "    \n",
    "}, inplace=True)"
   ]
  },
  {
   "cell_type": "markdown",
   "metadata": {},
   "source": [
    "Verificando se as colunas foram alteradas"
   ]
  },
  {
   "cell_type": "code",
   "execution_count": 4,
   "metadata": {},
   "outputs": [
    {
     "data": {
      "text/plain": [
       "Index(['Genero', 'Idade', 'Altura', 'Peso', 'Historico_Familiar',\n",
       "       'Frequencia_em_alimentos_caloricos', 'Come_vegetais_nas_refeiçoes',\n",
       "       'Quant_refeiçoes_principais', 'Come_algo_entre_as_refeiçoes', 'Fuma',\n",
       "       'Quant_agua_ingerida_diariamente', 'Monitora_calorias_diariamente',\n",
       "       'Frequencia_de_atividade_fisica', 'Tempo_em_dispositivos_eletronicos',\n",
       "       'Frequencia_que_ingere_alcool', 'Transporte_utilizado',\n",
       "       'Nivel_Obesidade'],\n",
       "      dtype='object')"
      ]
     },
     "execution_count": 4,
     "metadata": {},
     "output_type": "execute_result"
    }
   ],
   "source": [
    "base_dados.columns"
   ]
  },
  {
   "cell_type": "markdown",
   "metadata": {},
   "source": [
    "Verificando o tipo de cada tabela"
   ]
  },
  {
   "cell_type": "code",
   "execution_count": 5,
   "metadata": {},
   "outputs": [
    {
     "data": {
      "text/plain": [
       "Genero                                object\n",
       "Idade                                float64\n",
       "Altura                               float64\n",
       "Peso                                 float64\n",
       "Historico_Familiar                    object\n",
       "Frequencia_em_alimentos_caloricos     object\n",
       "Come_vegetais_nas_refeiçoes          float64\n",
       "Quant_refeiçoes_principais           float64\n",
       "Come_algo_entre_as_refeiçoes          object\n",
       "Fuma                                  object\n",
       "Quant_agua_ingerida_diariamente      float64\n",
       "Monitora_calorias_diariamente         object\n",
       "Frequencia_de_atividade_fisica       float64\n",
       "Tempo_em_dispositivos_eletronicos    float64\n",
       "Frequencia_que_ingere_alcool          object\n",
       "Transporte_utilizado                  object\n",
       "Nivel_Obesidade                       object\n",
       "dtype: object"
      ]
     },
     "execution_count": 5,
     "metadata": {},
     "output_type": "execute_result"
    }
   ],
   "source": [
    "base_dados.dtypes"
   ]
  },
  {
   "cell_type": "markdown",
   "metadata": {},
   "source": [
    "Verificando a quantidade de valores nulos"
   ]
  },
  {
   "cell_type": "code",
   "execution_count": 6,
   "metadata": {},
   "outputs": [
    {
     "data": {
      "text/plain": [
       "Genero                               0\n",
       "Idade                                0\n",
       "Altura                               0\n",
       "Peso                                 0\n",
       "Historico_Familiar                   0\n",
       "Frequencia_em_alimentos_caloricos    0\n",
       "Come_vegetais_nas_refeiçoes          0\n",
       "Quant_refeiçoes_principais           0\n",
       "Come_algo_entre_as_refeiçoes         0\n",
       "Fuma                                 0\n",
       "Quant_agua_ingerida_diariamente      0\n",
       "Monitora_calorias_diariamente        0\n",
       "Frequencia_de_atividade_fisica       0\n",
       "Tempo_em_dispositivos_eletronicos    0\n",
       "Frequencia_que_ingere_alcool         0\n",
       "Transporte_utilizado                 0\n",
       "Nivel_Obesidade                      0\n",
       "dtype: int64"
      ]
     },
     "execution_count": 6,
     "metadata": {},
     "output_type": "execute_result"
    }
   ],
   "source": [
    "base_dados.isnull().sum()"
   ]
  },
  {
   "cell_type": "markdown",
   "metadata": {},
   "source": [
    "Verificando a quantidade de linhas e colunas da tabela"
   ]
  },
  {
   "cell_type": "code",
   "execution_count": 50,
   "metadata": {},
   "outputs": [
    {
     "data": {
      "text/plain": [
       "(2111, 17)"
      ]
     },
     "execution_count": 50,
     "metadata": {},
     "output_type": "execute_result"
    }
   ],
   "source": [
    "base_dados.shape"
   ]
  },
  {
   "cell_type": "markdown",
   "metadata": {},
   "source": [
    "                                     ANÁLISE DESCRITIVA"
   ]
  },
  {
   "cell_type": "markdown",
   "metadata": {},
   "source": [
    "Medidas de tendência central: Calcular a média, mediana e a moda para variáveis numéricas como idade, altura, peso, quantidade de refeições principais, quantidade de água ingerida diaramente e tempo em dispositivos eletrônicos"
   ]
  },
  {
   "cell_type": "markdown",
   "metadata": {},
   "source": [
    "Média: média aritmética dos valores da coluna\n",
    "\n",
    "Moda: Valor que aparece com mais frequência em um conjunto de valores\n",
    "\n",
    "mediana: Valor que se encontra no centro de um conjunto de valores."
   ]
  },
  {
   "cell_type": "markdown",
   "metadata": {},
   "source": [
    "Visualizando novamente os nomes das colunas para facilitar a criação da solução"
   ]
  },
  {
   "cell_type": "code",
   "execution_count": 51,
   "metadata": {},
   "outputs": [
    {
     "data": {
      "text/plain": [
       "Index(['Genero', 'Idade', 'Altura', 'Peso', 'Historico_Familiar',\n",
       "       'Frequencia_em_alimentos_caloricos', 'Come_vegetais_nas_refeiçoes',\n",
       "       'Quant_refeiçoes_principais', 'Come_algo_entre_as_refeiçoes', 'Fuma',\n",
       "       'Quant_agua_ingerida_diariamente', 'Monitora_calorias_diariamente',\n",
       "       'Frequencia_de_atividade_fisica', 'Tempo_em_dispositivos_eletronicos',\n",
       "       'Frequencia_que_ingere_alcool', 'Transporte_utilizado',\n",
       "       'Nivel_Obesidade'],\n",
       "      dtype='object')"
      ]
     },
     "execution_count": 51,
     "metadata": {},
     "output_type": "execute_result"
    }
   ],
   "source": [
    "base_dados.columns"
   ]
  },
  {
   "cell_type": "markdown",
   "metadata": {},
   "source": [
    "primeiro, vamos criar uma função para facilitar o nosso processo, já que, com a\n",
    "criação dela, não precisaremos repetir o processo várias vezes"
   ]
  },
  {
   "cell_type": "code",
   "execution_count": 4,
   "metadata": {},
   "outputs": [],
   "source": [
    "# A função terá como objetivo mostrar no console a média, a mediana e a moda\n",
    "# de cada coluna. A função ira receber como parametro o nome da coluna que \n",
    "# terá os valores impressos\n",
    "\n",
    "# Criação da função que ira imprimir os valores\n",
    "def imprimirValores(coluna):\n",
    "    \n",
    "    # impressão dos valores\n",
    "    \n",
    "    # Name: Ira mostrar o nome da coluna informada nos colchetes da base de dados\n",
    "    \n",
    "    # round: Serve para arredontar os valores. Basicamente, ele analisa se o primeiro\n",
    "    # valor após a virgula é menor ou maior que 5, se for maior ele arredonta pra cima,\n",
    "    # se for menor que 5 ele arredonta pra baixo. A função recebe 2 valores o valor e \n",
    "    # a quatidade de casas decimais que devem aparecer após a virgula.\n",
    "    \n",
    "    # mean: Cálcula a média dos valores\n",
    "    \n",
    "    # median: calcula a mediana dos valores\n",
    "    \n",
    "    # mode: Cálcula a moda dos valores. Ira retorna 2 valores: o indice da moda \n",
    "    # (pois pode haver mais de uma moda) e o valor da moda em si\n",
    "    \n",
    "    print(\"Média dos valores da coluna de \", base_dados[coluna].name,\": \", round(base_dados[coluna].mean(), 2))\n",
    "    \n",
    "    print(\"Mediana dos valores da coluna de \", base_dados[coluna].name,\": \", round(base_dados[coluna].median(), 2))\n",
    "    \n",
    "    print(\"Moda dos valores da coluna de \", base_dados[coluna].name,\": \", round(base_dados[coluna].mode(), 2))"
   ]
  },
  {
   "cell_type": "markdown",
   "metadata": {},
   "source": [
    "Calculando os valores da idade"
   ]
  },
  {
   "cell_type": "code",
   "execution_count": 8,
   "metadata": {},
   "outputs": [
    {
     "name": "stdout",
     "output_type": "stream",
     "text": [
      "Média dos valores da coluna de  Idade :  24.31\n",
      "Mediana dos valores da coluna de  Idade :  22.78\n",
      "Moda dos valores da coluna de  Idade :  0    18.0\n",
      "Name: Idade, dtype: float64\n"
     ]
    }
   ],
   "source": [
    "# Chamada da função\n",
    "\n",
    "imprimirValores('Idade')"
   ]
  },
  {
   "cell_type": "markdown",
   "metadata": {},
   "source": [
    "Calculando os valores da altura"
   ]
  },
  {
   "cell_type": "code",
   "execution_count": 54,
   "metadata": {},
   "outputs": [
    {
     "name": "stdout",
     "output_type": "stream",
     "text": [
      "Média dos valores da coluna de  Altura :  1.7\n",
      "Mediana dos valores da coluna de  Altura :  1.7\n",
      "Moda dos valores da coluna de  Altura :  0    1.7\n",
      "Name: Altura, dtype: float64\n"
     ]
    }
   ],
   "source": [
    "# Chamada da função\n",
    "\n",
    "imprimirValores('Altura')"
   ]
  },
  {
   "cell_type": "markdown",
   "metadata": {},
   "source": [
    "Calculando os valores da coluna de peso"
   ]
  },
  {
   "cell_type": "code",
   "execution_count": 55,
   "metadata": {},
   "outputs": [
    {
     "name": "stdout",
     "output_type": "stream",
     "text": [
      "Média dos valores da coluna de  Peso :  86.59\n",
      "Mediana dos valores da coluna de  Peso :  83.0\n",
      "Moda dos valores da coluna de  Peso :  0    80.0\n",
      "Name: Peso, dtype: float64\n"
     ]
    }
   ],
   "source": [
    "# Chamada da função\n",
    "\n",
    "imprimirValores('Peso')"
   ]
  },
  {
   "cell_type": "markdown",
   "metadata": {},
   "source": [
    "Valores da coluna de quantidade de refeições principais"
   ]
  },
  {
   "cell_type": "code",
   "execution_count": 56,
   "metadata": {},
   "outputs": [
    {
     "name": "stdout",
     "output_type": "stream",
     "text": [
      "Média dos valores da coluna de  Quant_refeiçoes_principais :  2.69\n",
      "Mediana dos valores da coluna de  Quant_refeiçoes_principais :  3.0\n",
      "Moda dos valores da coluna de  Quant_refeiçoes_principais :  0    3.0\n",
      "Name: Quant_refeiçoes_principais, dtype: float64\n"
     ]
    }
   ],
   "source": [
    "# chamada do método\n",
    "\n",
    "imprimirValores('Quant_refeiçoes_principais')"
   ]
  },
  {
   "cell_type": "markdown",
   "metadata": {},
   "source": [
    "Valores da coluna de quantidade de agua ingerida diariamente"
   ]
  },
  {
   "cell_type": "code",
   "execution_count": 57,
   "metadata": {},
   "outputs": [
    {
     "name": "stdout",
     "output_type": "stream",
     "text": [
      "Média dos valores da coluna de  Quant_agua_ingerida_diariamente :  2.01\n",
      "Mediana dos valores da coluna de  Quant_agua_ingerida_diariamente :  2.0\n",
      "Moda dos valores da coluna de  Quant_agua_ingerida_diariamente :  0    2.0\n",
      "Name: Quant_agua_ingerida_diariamente, dtype: float64\n"
     ]
    }
   ],
   "source": [
    "# chamada da função\n",
    "\n",
    "imprimirValores('Quant_agua_ingerida_diariamente')"
   ]
  },
  {
   "cell_type": "markdown",
   "metadata": {},
   "source": [
    "Valores da coluna de quantidade de tempo em dispositivos eletrônicos"
   ]
  },
  {
   "cell_type": "code",
   "execution_count": 58,
   "metadata": {},
   "outputs": [
    {
     "name": "stdout",
     "output_type": "stream",
     "text": [
      "Média dos valores da coluna de  Tempo_em_dispositivos_eletronicos :  0.66\n",
      "Mediana dos valores da coluna de  Tempo_em_dispositivos_eletronicos :  0.63\n",
      "Moda dos valores da coluna de  Tempo_em_dispositivos_eletronicos :  0    0.0\n",
      "Name: Tempo_em_dispositivos_eletronicos, dtype: float64\n"
     ]
    }
   ],
   "source": [
    "# Chamada da função\n",
    "\n",
    "imprimirValores('Tempo_em_dispositivos_eletronicos')"
   ]
  },
  {
   "cell_type": "markdown",
   "metadata": {},
   "source": [
    "Medidas de dispersão: Calcular o desvio padrão e variância para as mesmas\n",
    "variáveis"
   ]
  },
  {
   "cell_type": "markdown",
   "metadata": {},
   "source": [
    "Desvio padrão: distância que os valores estão da média \n",
    "\n",
    "Variância:  A variância nos mostra a dispersão dos dados em relação à média, mas ela é expressa em unidades ao quadrado. Isso significa que, se os dados originais forem em metros, a variância estará em metros quadrados. Essa unidade pode dificultar a interpretação direta."
   ]
  },
  {
   "cell_type": "markdown",
   "metadata": {},
   "source": [
    "Vamos seguir a mesma pratica de anteriormente, vamos criar uma função\n",
    "para realizar a mesma tarefa quantas vezes for necessária"
   ]
  },
  {
   "cell_type": "code",
   "execution_count": 59,
   "metadata": {},
   "outputs": [
    {
     "data": {
      "text/plain": [
       "Index(['Genero', 'Idade', 'Altura', 'Peso', 'Historico_Familiar',\n",
       "       'Frequencia_em_alimentos_caloricos', 'Come_vegetais_nas_refeiçoes',\n",
       "       'Quant_refeiçoes_principais', 'Come_algo_entre_as_refeiçoes', 'Fuma',\n",
       "       'Quant_agua_ingerida_diariamente', 'Monitora_calorias_diariamente',\n",
       "       'Frequencia_de_atividade_fisica', 'Tempo_em_dispositivos_eletronicos',\n",
       "       'Frequencia_que_ingere_alcool', 'Transporte_utilizado',\n",
       "       'Nivel_Obesidade'],\n",
       "      dtype='object')"
      ]
     },
     "execution_count": 59,
     "metadata": {},
     "output_type": "execute_result"
    }
   ],
   "source": [
    "base_dados.columns"
   ]
  },
  {
   "cell_type": "code",
   "execution_count": 5,
   "metadata": {},
   "outputs": [],
   "source": [
    "# Função que irá calcular a variância e o desvio padrão \n",
    "# das colunas numéricas\n",
    "def calc_desvio_variancia(coluna):\n",
    "    \n",
    "    # Variável que irá conter a função std da biblioteca numpy \n",
    "    # que tem como objetivo calcular o desvio padrão de uma\n",
    "    # coluna numérica\n",
    "    desvio_padrao = np.std(base_dados[coluna])\n",
    "    \n",
    "    # Variável que irá conter a função var da biblioteca numpy\n",
    "    # que tem como objetivo calcular a variância de uma coluna\n",
    "    # numérica.\n",
    "    variancia = np.var(base_dados[coluna])\n",
    "    \n",
    "    # Impressão dos resultados com o round que ira limitar a aparição de casas após a virgula, \n",
    "    # no nosso caso queremos apenas 2 casas após a virgula.\n",
    "    # O name ira capturar apenas o nome da coluna\n",
    "    print('Desvio padrão da coluna de ', base_dados[coluna].name,\": \", round(desvio_padrao, 2))\n",
    "    print('Variância da coluna de ', base_dados[coluna].name,\": \", round(variancia, 2))\n",
    "    \n",
    "    "
   ]
  },
  {
   "cell_type": "markdown",
   "metadata": {},
   "source": [
    "Desvio padrão e variância da coluna de idade"
   ]
  },
  {
   "cell_type": "code",
   "execution_count": 61,
   "metadata": {},
   "outputs": [
    {
     "name": "stdout",
     "output_type": "stream",
     "text": [
      "Desvio padrão da coluna de  Idade :  6.34\n",
      "Variância da coluna de  Idade :  40.25\n"
     ]
    }
   ],
   "source": [
    "calc_desvio_variancia('Idade')"
   ]
  },
  {
   "cell_type": "markdown",
   "metadata": {},
   "source": [
    "Desvio padrão e variância da coluna de altura"
   ]
  },
  {
   "cell_type": "code",
   "execution_count": 62,
   "metadata": {},
   "outputs": [
    {
     "name": "stdout",
     "output_type": "stream",
     "text": [
      "Desvio padrão da coluna de  Altura :  0.09\n",
      "Variância da coluna de  Altura :  0.01\n"
     ]
    }
   ],
   "source": [
    "calc_desvio_variancia('Altura')"
   ]
  },
  {
   "cell_type": "markdown",
   "metadata": {},
   "source": [
    "Desvio padrão e variância da coluna de peso"
   ]
  },
  {
   "cell_type": "code",
   "execution_count": 63,
   "metadata": {},
   "outputs": [
    {
     "name": "stdout",
     "output_type": "stream",
     "text": [
      "Desvio padrão da coluna de  Peso :  26.18\n",
      "Variância da coluna de  Peso :  685.65\n"
     ]
    }
   ],
   "source": [
    "calc_desvio_variancia('Peso')"
   ]
  },
  {
   "cell_type": "markdown",
   "metadata": {},
   "source": [
    "Desvio padrão e variância da coluna de quantidade de refeições principais"
   ]
  },
  {
   "cell_type": "code",
   "execution_count": 64,
   "metadata": {},
   "outputs": [
    {
     "name": "stdout",
     "output_type": "stream",
     "text": [
      "Desvio padrão da coluna de  Quant_refeiçoes_principais :  0.78\n",
      "Variância da coluna de  Quant_refeiçoes_principais :  0.61\n"
     ]
    }
   ],
   "source": [
    "calc_desvio_variancia('Quant_refeiçoes_principais')"
   ]
  },
  {
   "cell_type": "markdown",
   "metadata": {},
   "source": [
    "Desvio padrão e variância da coluna de quantidade de agua ingerida diariamente"
   ]
  },
  {
   "cell_type": "code",
   "execution_count": 65,
   "metadata": {},
   "outputs": [
    {
     "name": "stdout",
     "output_type": "stream",
     "text": [
      "Desvio padrão da coluna de  Quant_agua_ingerida_diariamente :  0.61\n",
      "Variância da coluna de  Quant_agua_ingerida_diariamente :  0.38\n"
     ]
    }
   ],
   "source": [
    "calc_desvio_variancia('Quant_agua_ingerida_diariamente')"
   ]
  },
  {
   "cell_type": "markdown",
   "metadata": {},
   "source": [
    "Variância e desvio padrão da coluna de tempo em dispositivos eletrônicos"
   ]
  },
  {
   "cell_type": "code",
   "execution_count": 66,
   "metadata": {},
   "outputs": [
    {
     "name": "stdout",
     "output_type": "stream",
     "text": [
      "Desvio padrão da coluna de  Tempo_em_dispositivos_eletronicos :  0.61\n",
      "Variância da coluna de  Tempo_em_dispositivos_eletronicos :  0.37\n"
     ]
    }
   ],
   "source": [
    "calc_desvio_variancia('Tempo_em_dispositivos_eletronicos')"
   ]
  },
  {
   "cell_type": "markdown",
   "metadata": {},
   "source": [
    "Frequências: Contar a frequência de cada categoria para variáveis categóricas\n",
    "como gênero, histórico familiar, se a pessoa fuma ou não e o transporte utilizado."
   ]
  },
  {
   "cell_type": "markdown",
   "metadata": {},
   "source": [
    "Definição: A frequência representa a quantidade de vezes que os valores únicos de uma coluna\n",
    "aparecem, por exemplo, podemos calcular quantas vezes o valor categórico \"sim\" aparece em uma \n",
    "tabela.\n",
    "Ela pode ser dividida em:\n",
    "\n",
    "frequencia absoluta: Quantidade de vezes que o valor aparece.\n",
    "\n",
    "frequência relativa: Porcentagem das vezes que o valor aparece."
   ]
  },
  {
   "cell_type": "markdown",
   "metadata": {},
   "source": [
    "Criação da função que irá calcular a frequência de cada valor nas colunas categóricas"
   ]
  },
  {
   "cell_type": "code",
   "execution_count": 6,
   "metadata": {},
   "outputs": [],
   "source": [
    "# Função que ira calcular a frequência dos valores.\n",
    "# A função irá receber como parametro o nome da \n",
    "# coluna que queremos calcular a frequência.\n",
    "def calc_frequencia(coluna_categorica):\n",
    "    \n",
    "    # Variável que irá conter a função value_counts que tem como objetivo\n",
    "    # contar a quantidade de vezes um valor aparece na coluna. A função\n",
    "    # recebe como parametro o normalize=True que tem como objetivo calcular\n",
    "    # a frequência relativa (porcentagem das vezes que o valor aparece) dos\n",
    "    # valores da coluna.\n",
    "    calculo_frequência = base_dados[coluna_categorica].value_counts(normalize=True)\n",
    "    \n",
    "    # impressão dos resultados usando o round que ira limitar a aparição de casas decimais\n",
    "    # após a virgula, no nosso caso iremos limitar a apenas 2 casas decimais\n",
    "    print('Calculo da frequência dos valores da coluna: ', round(calculo_frequência,2))\n",
    "    \n",
    "    "
   ]
  },
  {
   "cell_type": "markdown",
   "metadata": {},
   "source": [
    "Visualizando as colunas para facilitar a chamada da função"
   ]
  },
  {
   "cell_type": "code",
   "execution_count": 68,
   "metadata": {},
   "outputs": [
    {
     "data": {
      "text/plain": [
       "Index(['Genero', 'Idade', 'Altura', 'Peso', 'Historico_Familiar',\n",
       "       'Frequencia_em_alimentos_caloricos', 'Come_vegetais_nas_refeiçoes',\n",
       "       'Quant_refeiçoes_principais', 'Come_algo_entre_as_refeiçoes', 'Fuma',\n",
       "       'Quant_agua_ingerida_diariamente', 'Monitora_calorias_diariamente',\n",
       "       'Frequencia_de_atividade_fisica', 'Tempo_em_dispositivos_eletronicos',\n",
       "       'Frequencia_que_ingere_alcool', 'Transporte_utilizado',\n",
       "       'Nivel_Obesidade'],\n",
       "      dtype='object')"
      ]
     },
     "execution_count": 68,
     "metadata": {},
     "output_type": "execute_result"
    }
   ],
   "source": [
    "base_dados.columns"
   ]
  },
  {
   "cell_type": "markdown",
   "metadata": {},
   "source": [
    "Frequência relativa (porcentagem) dos valores da coluna de generos"
   ]
  },
  {
   "cell_type": "code",
   "execution_count": 69,
   "metadata": {},
   "outputs": [
    {
     "name": "stdout",
     "output_type": "stream",
     "text": [
      "Calculo da frequência dos valores da coluna:  Genero\n",
      "Male      0.51\n",
      "Female    0.49\n",
      "Name: proportion, dtype: float64\n"
     ]
    }
   ],
   "source": [
    "calc_frequencia('Genero')"
   ]
  },
  {
   "cell_type": "markdown",
   "metadata": {},
   "source": [
    "frequência relativa (porcentagem) da coluna de históricos familiar"
   ]
  },
  {
   "cell_type": "code",
   "execution_count": 70,
   "metadata": {},
   "outputs": [
    {
     "name": "stdout",
     "output_type": "stream",
     "text": [
      "Calculo da frequência dos valores da coluna:  Historico_Familiar\n",
      "yes    0.82\n",
      "no     0.18\n",
      "Name: proportion, dtype: float64\n"
     ]
    }
   ],
   "source": [
    "calc_frequencia('Historico_Familiar')"
   ]
  },
  {
   "cell_type": "markdown",
   "metadata": {},
   "source": [
    "Porcentagem relativa (porcentagem) da coluna Fuma"
   ]
  },
  {
   "cell_type": "code",
   "execution_count": 71,
   "metadata": {},
   "outputs": [
    {
     "name": "stdout",
     "output_type": "stream",
     "text": [
      "Calculo da frequência dos valores da coluna:  Fuma\n",
      "no     0.98\n",
      "yes    0.02\n",
      "Name: proportion, dtype: float64\n"
     ]
    }
   ],
   "source": [
    "calc_frequencia('Fuma')"
   ]
  },
  {
   "cell_type": "markdown",
   "metadata": {},
   "source": [
    "Porcentagem relativa da coluna de transportes utilizados"
   ]
  },
  {
   "cell_type": "code",
   "execution_count": 72,
   "metadata": {},
   "outputs": [
    {
     "name": "stdout",
     "output_type": "stream",
     "text": [
      "Calculo da frequência dos valores da coluna:  Transporte_utilizado\n",
      "Public_Transportation    0.75\n",
      "Automobile               0.22\n",
      "Walking                  0.03\n",
      "Motorbike                0.01\n",
      "Bike                     0.00\n",
      "Name: proportion, dtype: float64\n"
     ]
    }
   ],
   "source": [
    "calc_frequencia('Transporte_utilizado')"
   ]
  },
  {
   "cell_type": "markdown",
   "metadata": {},
   "source": [
    "Tabelas de Contingência: Criar tabelas cruzadas para analisar a relação entre duas variáveis categóricas, por exemplo, genêro e nivel de obesidade"
   ]
  },
  {
   "cell_type": "markdown",
   "metadata": {},
   "source": [
    "Primeiro vamos filtrar apenas as colunas categóricas para facilitar a \n",
    "visualização das colunas que temos que trabalhar."
   ]
  },
  {
   "cell_type": "markdown",
   "metadata": {},
   "source": [
    "Tabelas cruzadas: Uma tabela cruzada, também conhecida como tabulação cruzada ou tabela de contingência, é uma ferramenta estatística que permite comparar os resultados de duas ou mais variáveis categóricas. Ela organiza os dados em uma tabela, cruzando as categorias de cada variável para mostrar a frequência com que ocorrem em conjunto."
   ]
  },
  {
   "cell_type": "code",
   "execution_count": 7,
   "metadata": {},
   "outputs": [],
   "source": [
    "# Vamos usar o a função select_dtypes do pandas que tem como objetivo\n",
    "# filtrar as colunas por tipo de dados. A função recebe como parametro\n",
    "# o include = ['tipo do dado que você quer filtrar']\n",
    "colunas_categoricas = base_dados.select_dtypes(include=['object'])"
   ]
  },
  {
   "cell_type": "markdown",
   "metadata": {},
   "source": [
    "Verificando as colunas categóricas"
   ]
  },
  {
   "cell_type": "code",
   "execution_count": 8,
   "metadata": {},
   "outputs": [
    {
     "data": {
      "text/plain": [
       "Index(['Genero', 'Historico_Familiar', 'Frequencia_em_alimentos_caloricos',\n",
       "       'Come_algo_entre_as_refeiçoes', 'Fuma', 'Monitora_calorias_diariamente',\n",
       "       'Frequencia_que_ingere_alcool', 'Transporte_utilizado',\n",
       "       'Nivel_Obesidade'],\n",
       "      dtype='object')"
      ]
     },
     "execution_count": 8,
     "metadata": {},
     "output_type": "execute_result"
    }
   ],
   "source": [
    "colunas_categoricas.columns"
   ]
  },
  {
   "cell_type": "markdown",
   "metadata": {},
   "source": [
    "Agora, vamos criar uma função que ira construir as tabelas cruzadas entre 2 variáveis\n",
    "categóricas"
   ]
  },
  {
   "cell_type": "markdown",
   "metadata": {},
   "source": [
    "Observação: Irei analisar individualmente cada tabela cruzada."
   ]
  },
  {
   "cell_type": "code",
   "execution_count": 9,
   "metadata": {},
   "outputs": [],
   "source": [
    "# Função que ira criar as tabelas cruzadas. A função ira receber como parametro o nome das 2 colunas que serão utilizadas na construção da tabela \n",
    "# cruzada.\n",
    "\n",
    "def tabela_cruzada(coluna1, coluna2):\n",
    "    \n",
    "    # Ira receber a função do pandas que ira construir a tabela cruzada \n",
    "    tabela = pd.crosstab(colunas_categoricas[coluna1], colunas_categoricas[coluna2])\n",
    "    \n",
    "    return tabela"
   ]
  },
  {
   "cell_type": "markdown",
   "metadata": {},
   "source": [
    "Primeiro, vamos fazer a relação entre gênero e nivel de obesidade"
   ]
  },
  {
   "cell_type": "markdown",
   "metadata": {},
   "source": [
    "Como vamos observar abaixo, para realizarmos uma análise um pouco mais detalhada teremos que pontuar a diferença percentual entre os valores,para\n",
    "isso, vamos criar uma função que seguira a segunite fórmula matemática\n",
    "para calculos de diferenças percentuais.\n",
    "\n",
    "Calculo da porcentagem:\n",
    "\n",
    "Diferença: valor maior  - valor menor\n",
    "\n",
    "Dividindo pela base = diferença / valor menor\n",
    "\n",
    "porcentagem = resulta da divisão pela base * 100 \n",
    "\n"
   ]
  },
  {
   "cell_type": "markdown",
   "metadata": {},
   "source": [
    "Criação da função de calculos percentuais"
   ]
  },
  {
   "cell_type": "code",
   "execution_count": 8,
   "metadata": {},
   "outputs": [],
   "source": [
    "# Função que ira calcular a diferença percentual. A \n",
    "# A função irá receber 2 argumentos o valor maior\n",
    "# e o valor menor\n",
    "def calc_diferenca_percentual(valormaior, valormenor):\n",
    "    \n",
    "    diferenca = valormaior - valormenor\n",
    "    \n",
    "    divisao_pela_base = diferenca / valormenor\n",
    "    \n",
    "    porcentagem = divisao_pela_base * 100\n",
    "    \n",
    "    # Retorno do valor que queremos descobrir\n",
    "    return porcentagem\n",
    "    "
   ]
  },
  {
   "cell_type": "code",
   "execution_count": 77,
   "metadata": {},
   "outputs": [
    {
     "data": {
      "text/html": [
       "<div>\n",
       "<style scoped>\n",
       "    .dataframe tbody tr th:only-of-type {\n",
       "        vertical-align: middle;\n",
       "    }\n",
       "\n",
       "    .dataframe tbody tr th {\n",
       "        vertical-align: top;\n",
       "    }\n",
       "\n",
       "    .dataframe thead th {\n",
       "        text-align: right;\n",
       "    }\n",
       "</style>\n",
       "<table border=\"1\" class=\"dataframe\">\n",
       "  <thead>\n",
       "    <tr style=\"text-align: right;\">\n",
       "      <th>Nivel_Obesidade</th>\n",
       "      <th>Insufficient_Weight</th>\n",
       "      <th>Normal_Weight</th>\n",
       "      <th>Obesity_Type_I</th>\n",
       "      <th>Obesity_Type_II</th>\n",
       "      <th>Obesity_Type_III</th>\n",
       "      <th>Overweight_Level_I</th>\n",
       "      <th>Overweight_Level_II</th>\n",
       "    </tr>\n",
       "    <tr>\n",
       "      <th>Genero</th>\n",
       "      <th></th>\n",
       "      <th></th>\n",
       "      <th></th>\n",
       "      <th></th>\n",
       "      <th></th>\n",
       "      <th></th>\n",
       "      <th></th>\n",
       "    </tr>\n",
       "  </thead>\n",
       "  <tbody>\n",
       "    <tr>\n",
       "      <th>Female</th>\n",
       "      <td>173</td>\n",
       "      <td>141</td>\n",
       "      <td>156</td>\n",
       "      <td>2</td>\n",
       "      <td>323</td>\n",
       "      <td>145</td>\n",
       "      <td>103</td>\n",
       "    </tr>\n",
       "    <tr>\n",
       "      <th>Male</th>\n",
       "      <td>99</td>\n",
       "      <td>146</td>\n",
       "      <td>195</td>\n",
       "      <td>295</td>\n",
       "      <td>1</td>\n",
       "      <td>145</td>\n",
       "      <td>187</td>\n",
       "    </tr>\n",
       "  </tbody>\n",
       "</table>\n",
       "</div>"
      ],
      "text/plain": [
       "Nivel_Obesidade  Insufficient_Weight  Normal_Weight  Obesity_Type_I  \\\n",
       "Genero                                                                \n",
       "Female                           173            141             156   \n",
       "Male                              99            146             195   \n",
       "\n",
       "Nivel_Obesidade  Obesity_Type_II  Obesity_Type_III  Overweight_Level_I  \\\n",
       "Genero                                                                   \n",
       "Female                         2               323                 145   \n",
       "Male                         295                 1                 145   \n",
       "\n",
       "Nivel_Obesidade  Overweight_Level_II  \n",
       "Genero                                \n",
       "Female                           103  \n",
       "Male                             187  "
      ]
     },
     "execution_count": 77,
     "metadata": {},
     "output_type": "execute_result"
    }
   ],
   "source": [
    "tabela_cruzada('Genero', 'Nivel_Obesidade')"
   ]
  },
  {
   "cell_type": "code",
   "execution_count": 78,
   "metadata": {},
   "outputs": [
    {
     "data": {
      "text/plain": [
       "81.55339805825243"
      ]
     },
     "execution_count": 78,
     "metadata": {},
     "output_type": "execute_result"
    }
   ],
   "source": [
    "# Chamada da função de cálculos de porcentagem\n",
    "\n",
    "calc_diferenca_percentual(187, 103)"
   ]
  },
  {
   "cell_type": "markdown",
   "metadata": {},
   "source": [
    "Conclusão da tabela: Analisando a tabela, percebemos que no geral os homens sofrem com o peso mais do\n",
    "que as mulheres, entretanto, os casos em que as mulheres sofrem mais, o valor é muito discrepante,\n",
    "sendo muito maior que os dos homens, como no caso da obesidade 3 por exemplo.\n",
    "\n",
    "Peso insuficiente: O grupo das mulheres com peso insuficiente é 74% maior que o grupo de homens com\n",
    "peso insuficiente\n",
    "\n",
    "peso normal: O grupo de homens com peso normal é 3.54% maior que o grupo de mulheres com\n",
    "peso normal\n",
    "\n",
    "obesidade tipo 1:  O grupo de homens com obesidade tipo 1 é 25% maior que o grupo de mulheres com\n",
    "obesidade tipo 1\n",
    "\n",
    "Obesidade tipo 2:  O grupo de homens com obesidade tipo 2 é 14650% maior que o grupo de mulheres com\n",
    "obesidade tipo 2.\n",
    "\n",
    "Obesidade tipo 3:  O grupo das mulheres com obesidade tipo 3 é 32200% maior que o grupo de homens com\n",
    "obesidade tipo 3\n",
    "\n",
    "sobrepeso nivel 1: não há diferença entre os valores\n",
    "\n",
    "sobrepeso nivel 2:  O grupo dos homens com sobrepeso nivel 2  é 81.53% maior que o grupo das mulheres com\n",
    "sobrepeso nivel 2"
   ]
  },
  {
   "cell_type": "markdown",
   "metadata": {},
   "source": [
    "validação entre o histórico familiar e a frequencia de calorias consumidas"
   ]
  },
  {
   "cell_type": "code",
   "execution_count": 79,
   "metadata": {},
   "outputs": [
    {
     "data": {
      "text/html": [
       "<div>\n",
       "<style scoped>\n",
       "    .dataframe tbody tr th:only-of-type {\n",
       "        vertical-align: middle;\n",
       "    }\n",
       "\n",
       "    .dataframe tbody tr th {\n",
       "        vertical-align: top;\n",
       "    }\n",
       "\n",
       "    .dataframe thead th {\n",
       "        text-align: right;\n",
       "    }\n",
       "</style>\n",
       "<table border=\"1\" class=\"dataframe\">\n",
       "  <thead>\n",
       "    <tr style=\"text-align: right;\">\n",
       "      <th>Frequencia_em_alimentos_caloricos</th>\n",
       "      <th>no</th>\n",
       "      <th>yes</th>\n",
       "    </tr>\n",
       "    <tr>\n",
       "      <th>Historico_Familiar</th>\n",
       "      <th></th>\n",
       "      <th></th>\n",
       "    </tr>\n",
       "  </thead>\n",
       "  <tbody>\n",
       "    <tr>\n",
       "      <th>no</th>\n",
       "      <td>99</td>\n",
       "      <td>286</td>\n",
       "    </tr>\n",
       "    <tr>\n",
       "      <th>yes</th>\n",
       "      <td>146</td>\n",
       "      <td>1580</td>\n",
       "    </tr>\n",
       "  </tbody>\n",
       "</table>\n",
       "</div>"
      ],
      "text/plain": [
       "Frequencia_em_alimentos_caloricos   no   yes\n",
       "Historico_Familiar                          \n",
       "no                                  99   286\n",
       "yes                                146  1580"
      ]
     },
     "execution_count": 79,
     "metadata": {},
     "output_type": "execute_result"
    }
   ],
   "source": [
    "tabela_cruzada('Historico_Familiar', 'Frequencia_em_alimentos_caloricos')"
   ]
  },
  {
   "cell_type": "code",
   "execution_count": 80,
   "metadata": {},
   "outputs": [
    {
     "data": {
      "text/plain": [
       "452.4475524475524"
      ]
     },
     "execution_count": 80,
     "metadata": {},
     "output_type": "execute_result"
    }
   ],
   "source": [
    "# Chamada da função de calculo de diferenças percentuais\n",
    "\n",
    "calc_diferenca_percentual(1580, 286)"
   ]
  },
  {
   "cell_type": "markdown",
   "metadata": {},
   "source": [
    "Conclusão da tabela: podemos observar que pessoas com histórico familiar \n",
    "consomem 452% mais alimentos calóricos que as pessoas sem histórico familiar."
   ]
  },
  {
   "cell_type": "markdown",
   "metadata": {},
   "source": [
    "Relação entre a frequência de consumo de alimentos calóricos e o \n",
    "nivel de obesidade"
   ]
  },
  {
   "cell_type": "code",
   "execution_count": 81,
   "metadata": {},
   "outputs": [
    {
     "data": {
      "text/html": [
       "<div>\n",
       "<style scoped>\n",
       "    .dataframe tbody tr th:only-of-type {\n",
       "        vertical-align: middle;\n",
       "    }\n",
       "\n",
       "    .dataframe tbody tr th {\n",
       "        vertical-align: top;\n",
       "    }\n",
       "\n",
       "    .dataframe thead th {\n",
       "        text-align: right;\n",
       "    }\n",
       "</style>\n",
       "<table border=\"1\" class=\"dataframe\">\n",
       "  <thead>\n",
       "    <tr style=\"text-align: right;\">\n",
       "      <th>Nivel_Obesidade</th>\n",
       "      <th>Insufficient_Weight</th>\n",
       "      <th>Normal_Weight</th>\n",
       "      <th>Obesity_Type_I</th>\n",
       "      <th>Obesity_Type_II</th>\n",
       "      <th>Obesity_Type_III</th>\n",
       "      <th>Overweight_Level_I</th>\n",
       "      <th>Overweight_Level_II</th>\n",
       "    </tr>\n",
       "    <tr>\n",
       "      <th>Frequencia_em_alimentos_caloricos</th>\n",
       "      <th></th>\n",
       "      <th></th>\n",
       "      <th></th>\n",
       "      <th></th>\n",
       "      <th></th>\n",
       "      <th></th>\n",
       "      <th></th>\n",
       "    </tr>\n",
       "  </thead>\n",
       "  <tbody>\n",
       "    <tr>\n",
       "      <th>no</th>\n",
       "      <td>51</td>\n",
       "      <td>79</td>\n",
       "      <td>11</td>\n",
       "      <td>7</td>\n",
       "      <td>1</td>\n",
       "      <td>22</td>\n",
       "      <td>74</td>\n",
       "    </tr>\n",
       "    <tr>\n",
       "      <th>yes</th>\n",
       "      <td>221</td>\n",
       "      <td>208</td>\n",
       "      <td>340</td>\n",
       "      <td>290</td>\n",
       "      <td>323</td>\n",
       "      <td>268</td>\n",
       "      <td>216</td>\n",
       "    </tr>\n",
       "  </tbody>\n",
       "</table>\n",
       "</div>"
      ],
      "text/plain": [
       "Nivel_Obesidade                    Insufficient_Weight  Normal_Weight  \\\n",
       "Frequencia_em_alimentos_caloricos                                       \n",
       "no                                                  51             79   \n",
       "yes                                                221            208   \n",
       "\n",
       "Nivel_Obesidade                    Obesity_Type_I  Obesity_Type_II  \\\n",
       "Frequencia_em_alimentos_caloricos                                    \n",
       "no                                             11                7   \n",
       "yes                                           340              290   \n",
       "\n",
       "Nivel_Obesidade                    Obesity_Type_III  Overweight_Level_I  \\\n",
       "Frequencia_em_alimentos_caloricos                                         \n",
       "no                                                1                  22   \n",
       "yes                                             323                 268   \n",
       "\n",
       "Nivel_Obesidade                    Overweight_Level_II  \n",
       "Frequencia_em_alimentos_caloricos                       \n",
       "no                                                  74  \n",
       "yes                                                216  "
      ]
     },
     "execution_count": 81,
     "metadata": {},
     "output_type": "execute_result"
    }
   ],
   "source": [
    "tabela_cruzada('Frequencia_em_alimentos_caloricos', 'Nivel_Obesidade')"
   ]
  },
  {
   "cell_type": "code",
   "execution_count": 82,
   "metadata": {},
   "outputs": [
    {
     "data": {
      "text/plain": [
       "333.33333333333337"
      ]
     },
     "execution_count": 82,
     "metadata": {},
     "output_type": "execute_result"
    }
   ],
   "source": [
    "# Chamada da função de cálculo de diferenças percentuais\n",
    "\n",
    "calc_diferenca_percentual(221, 51)"
   ]
  },
  {
   "cell_type": "markdown",
   "metadata": {},
   "source": [
    "Conclusão da tabela: Podemos observar que pessoas com consomem calorias frequentemente possuem um\n",
    "nivel bem mais alto em todas as categorias do que pessoas que não consomem calorias frequentemente\n",
    "\n",
    "\n",
    "\n",
    "peso insuficiente: o grupo de pessoas que consomem calorias é 333% maior que o grupo de pessoas que não\n",
    "consomem calorias frequentemente\n",
    "\n",
    "peso normal: o grupo de pessoas que consomem calorias é 163% maior que o grupo de pessoas que não\n",
    "consomem calorias frequentemente.\n",
    "\n",
    "obesidade tipo 1: o grupo de pessoas que consomem calorias é 2990% maior que o grupo de pessoas que não\n",
    "consomem calorias frequentemente. \n",
    "\n",
    "Obesidade tipo 2: o grupo de pessoas que consomem calorias é 4042% maior que o grupo de pessoas que não\n",
    "consomem calorias frequentemente.\n",
    "\n",
    "Obesidade tipo 3: o grupo de pessoas que consomem calorias é 32200% maior que o grupo de pessoas que não\n",
    "consomem calorias frequentemente.\n",
    "\n",
    "Sobrepeso nivel 1: o grupo de pessoas que consomem calorias é 1118% maior que o grupo de pessoas que não\n",
    "consomem calorias frequentemente.\n",
    "\n",
    "sobrepeso nivel 2: o grupo de pessoas que consomem calorias é 191% maior que o grupo de pessoas que não\n",
    "consomem calorias frequentemente."
   ]
  },
  {
   "cell_type": "markdown",
   "metadata": {},
   "source": [
    "relação entre o transporte utilizado e o nivel de obesidade"
   ]
  },
  {
   "cell_type": "code",
   "execution_count": 83,
   "metadata": {},
   "outputs": [
    {
     "data": {
      "text/html": [
       "<div>\n",
       "<style scoped>\n",
       "    .dataframe tbody tr th:only-of-type {\n",
       "        vertical-align: middle;\n",
       "    }\n",
       "\n",
       "    .dataframe tbody tr th {\n",
       "        vertical-align: top;\n",
       "    }\n",
       "\n",
       "    .dataframe thead th {\n",
       "        text-align: right;\n",
       "    }\n",
       "</style>\n",
       "<table border=\"1\" class=\"dataframe\">\n",
       "  <thead>\n",
       "    <tr style=\"text-align: right;\">\n",
       "      <th>Transporte_utilizado</th>\n",
       "      <th>Automobile</th>\n",
       "      <th>Bike</th>\n",
       "      <th>Motorbike</th>\n",
       "      <th>Public_Transportation</th>\n",
       "      <th>Walking</th>\n",
       "    </tr>\n",
       "    <tr>\n",
       "      <th>Nivel_Obesidade</th>\n",
       "      <th></th>\n",
       "      <th></th>\n",
       "      <th></th>\n",
       "      <th></th>\n",
       "      <th></th>\n",
       "    </tr>\n",
       "  </thead>\n",
       "  <tbody>\n",
       "    <tr>\n",
       "      <th>Insufficient_Weight</th>\n",
       "      <td>46</td>\n",
       "      <td>0</td>\n",
       "      <td>0</td>\n",
       "      <td>220</td>\n",
       "      <td>6</td>\n",
       "    </tr>\n",
       "    <tr>\n",
       "      <th>Normal_Weight</th>\n",
       "      <td>45</td>\n",
       "      <td>4</td>\n",
       "      <td>6</td>\n",
       "      <td>200</td>\n",
       "      <td>32</td>\n",
       "    </tr>\n",
       "    <tr>\n",
       "      <th>Obesity_Type_I</th>\n",
       "      <td>110</td>\n",
       "      <td>0</td>\n",
       "      <td>3</td>\n",
       "      <td>236</td>\n",
       "      <td>2</td>\n",
       "    </tr>\n",
       "    <tr>\n",
       "      <th>Obesity_Type_II</th>\n",
       "      <td>95</td>\n",
       "      <td>1</td>\n",
       "      <td>0</td>\n",
       "      <td>200</td>\n",
       "      <td>1</td>\n",
       "    </tr>\n",
       "    <tr>\n",
       "      <th>Obesity_Type_III</th>\n",
       "      <td>1</td>\n",
       "      <td>0</td>\n",
       "      <td>0</td>\n",
       "      <td>323</td>\n",
       "      <td>0</td>\n",
       "    </tr>\n",
       "    <tr>\n",
       "      <th>Overweight_Level_I</th>\n",
       "      <td>66</td>\n",
       "      <td>2</td>\n",
       "      <td>1</td>\n",
       "      <td>212</td>\n",
       "      <td>9</td>\n",
       "    </tr>\n",
       "    <tr>\n",
       "      <th>Overweight_Level_II</th>\n",
       "      <td>94</td>\n",
       "      <td>0</td>\n",
       "      <td>1</td>\n",
       "      <td>189</td>\n",
       "      <td>6</td>\n",
       "    </tr>\n",
       "  </tbody>\n",
       "</table>\n",
       "</div>"
      ],
      "text/plain": [
       "Transporte_utilizado  Automobile  Bike  Motorbike  Public_Transportation  \\\n",
       "Nivel_Obesidade                                                            \n",
       "Insufficient_Weight           46     0          0                    220   \n",
       "Normal_Weight                 45     4          6                    200   \n",
       "Obesity_Type_I               110     0          3                    236   \n",
       "Obesity_Type_II               95     1          0                    200   \n",
       "Obesity_Type_III               1     0          0                    323   \n",
       "Overweight_Level_I            66     2          1                    212   \n",
       "Overweight_Level_II           94     0          1                    189   \n",
       "\n",
       "Transporte_utilizado  Walking  \n",
       "Nivel_Obesidade                \n",
       "Insufficient_Weight         6  \n",
       "Normal_Weight              32  \n",
       "Obesity_Type_I              2  \n",
       "Obesity_Type_II             1  \n",
       "Obesity_Type_III            0  \n",
       "Overweight_Level_I          9  \n",
       "Overweight_Level_II         6  "
      ]
     },
     "execution_count": 83,
     "metadata": {},
     "output_type": "execute_result"
    }
   ],
   "source": [
    "# Chamada da função de construção de tabelas cruzadas\n",
    "tabela_cruzada('Nivel_Obesidade', 'Transporte_utilizado')"
   ]
  },
  {
   "cell_type": "code",
   "execution_count": 84,
   "metadata": {},
   "outputs": [
    {
     "data": {
      "text/plain": [
       "61.5"
      ]
     },
     "execution_count": 84,
     "metadata": {},
     "output_type": "execute_result"
    }
   ],
   "source": [
    "# Chamada da função de calculo de diferenças percentuais\n",
    "\n",
    "calc_diferenca_percentual(323, 200)"
   ]
  },
  {
   "cell_type": "markdown",
   "metadata": {},
   "source": [
    "Conclusão da tabela: De modo geral, podemos observar que, boa parte\n",
    "das categorias de peso possuem uma grande quantidade de pessoas que\n",
    "andam de transporte público e veiculos automotivos, o que pode indicar\n",
    "que a falta de exercicios fisicos (no caso uma caminhada até o destino)\n",
    "pode cooperar com os problemas de obesidade.Tanto que o numero com obesidade\n",
    "tipo 3 e que usam transporte público é 61.5% maior que o numero de pessoas\n",
    "que possuem o peso normal e utilizam o transporte público. Outro fator que \n",
    "corrobora com a teoria de que a falta de caminhada auxilia nos problemas de\n",
    "obesidade, é o fato de que as pessoas do grupo que caminham (walking) possuem\n",
    "um peso normal, já que nas outras categorias esse grupo é extremamente menor."
   ]
  },
  {
   "cell_type": "markdown",
   "metadata": {},
   "source": [
    "Relação entre consumo de alimentos calóricos e monitoramento da ingestão calórica"
   ]
  },
  {
   "cell_type": "code",
   "execution_count": 85,
   "metadata": {},
   "outputs": [
    {
     "data": {
      "text/html": [
       "<div>\n",
       "<style scoped>\n",
       "    .dataframe tbody tr th:only-of-type {\n",
       "        vertical-align: middle;\n",
       "    }\n",
       "\n",
       "    .dataframe tbody tr th {\n",
       "        vertical-align: top;\n",
       "    }\n",
       "\n",
       "    .dataframe thead th {\n",
       "        text-align: right;\n",
       "    }\n",
       "</style>\n",
       "<table border=\"1\" class=\"dataframe\">\n",
       "  <thead>\n",
       "    <tr style=\"text-align: right;\">\n",
       "      <th>Monitora_calorias_diariamente</th>\n",
       "      <th>no</th>\n",
       "      <th>yes</th>\n",
       "    </tr>\n",
       "    <tr>\n",
       "      <th>Frequencia_em_alimentos_caloricos</th>\n",
       "      <th></th>\n",
       "      <th></th>\n",
       "    </tr>\n",
       "  </thead>\n",
       "  <tbody>\n",
       "    <tr>\n",
       "      <th>no</th>\n",
       "      <td>207</td>\n",
       "      <td>38</td>\n",
       "    </tr>\n",
       "    <tr>\n",
       "      <th>yes</th>\n",
       "      <td>1808</td>\n",
       "      <td>58</td>\n",
       "    </tr>\n",
       "  </tbody>\n",
       "</table>\n",
       "</div>"
      ],
      "text/plain": [
       "Monitora_calorias_diariamente        no  yes\n",
       "Frequencia_em_alimentos_caloricos           \n",
       "no                                  207   38\n",
       "yes                                1808   58"
      ]
     },
     "execution_count": 85,
     "metadata": {},
     "output_type": "execute_result"
    }
   ],
   "source": [
    "# Chamada da função de tabelas cruzadas\n",
    "\n",
    "tabela_cruzada('Frequencia_em_alimentos_caloricos', 'Monitora_calorias_diariamente')"
   ]
  },
  {
   "cell_type": "markdown",
   "metadata": {},
   "source": [
    "Conclusão da tabela: Podemos concluir que a maioria das pessoas que consomem alimentos calóricos com frequência não monitora a quantidade de calorias que ingere. Essa conclusão se baseia na comparação entre os números 1808 (pessoas que consomem alimentos calóricos com frequência e não monitoram) e 58 (pessoas que consomem alimentos calóricos com frequência e monitoram)."
   ]
  },
  {
   "cell_type": "markdown",
   "metadata": {},
   "source": [
    "                        Análise exploratória dos dados"
   ]
  },
  {
   "cell_type": "markdown",
   "metadata": {},
   "source": [
    "                                Visualizações"
   ]
  },
  {
   "cell_type": "markdown",
   "metadata": {},
   "source": [
    "Histograma: Visualizar a distribuição de variaveis numéricas como idade, peso e altura."
   ]
  },
  {
   "cell_type": "markdown",
   "metadata": {},
   "source": [
    "Primeiro vamos filtrar as colunas numéricas usando o select_dtypes"
   ]
  },
  {
   "cell_type": "code",
   "execution_count": 10,
   "metadata": {},
   "outputs": [],
   "source": [
    "colunas_numericas = base_dados.select_dtypes(include=[int, float])"
   ]
  },
  {
   "cell_type": "markdown",
   "metadata": {},
   "source": [
    "Visualizando as colunas numéricas"
   ]
  },
  {
   "cell_type": "code",
   "execution_count": 17,
   "metadata": {},
   "outputs": [
    {
     "data": {
      "text/plain": [
       "Index(['Idade', 'Altura', 'Peso', 'Come_vegetais_nas_refeiçoes',\n",
       "       'Quant_refeiçoes_principais', 'Quant_agua_ingerida_diariamente',\n",
       "       'Frequencia_de_atividade_fisica', 'Tempo_em_dispositivos_eletronicos'],\n",
       "      dtype='object')"
      ]
     },
     "execution_count": 17,
     "metadata": {},
     "output_type": "execute_result"
    }
   ],
   "source": [
    "colunas_numericas.columns"
   ]
  },
  {
   "cell_type": "markdown",
   "metadata": {},
   "source": [
    "Como vamos ter que criar um histograma pra cada coluna numérica vamos criar uma função de criação de histogramas"
   ]
  },
  {
   "cell_type": "code",
   "execution_count": 11,
   "metadata": {},
   "outputs": [],
   "source": [
    "# Função que irá criar histogramas: A função irá receber como argumento\n",
    "# a coluna que será utilizada na análise, a cor da barra e a largura\n",
    "# da barra (argumento que será opcional, sendo assim, ela rrecebe como\n",
    "# valor padrão o None(nenhum))\n",
    "def criar_histograma(coluna, cor_da_barra, largura_da_barra = None):\n",
    "    \n",
    "    # Ira criar o titulo do gráfico\n",
    "   plt.title(f'Histograma da coluna de {coluna}')\n",
    "    \n",
    "    # Ira definir o rótulo do eixo x\n",
    "   plt.xlabel(f'{coluna}')\n",
    "    \n",
    "    # Irá definir o rótulo do eixo y\n",
    "   plt.ylabel('Quantidade de pessoas')\n",
    "    \n",
    "    # Como o parametro width não aceita o tipo None, vamos fazer uma validação\n",
    "    # que ira verificar se o argumento foi ou não passado na função. Basicamente\n",
    "    # vamos verificar se o None foi substituido por um valor numérico (valor\n",
    "    # da largura da barra)\n",
    "   if largura_da_barra is not None:\n",
    "        \n",
    "        # Se o usuário passar um valor para a largura da barra, vamos passar como argumento pro \n",
    "        # plt.hist a base de dados análisada, a coluna que será utilizada na análise, a cor e a\n",
    "        # largura da barra.\n",
    "        plt.hist(data=colunas_numericas, x = coluna, color = cor_da_barra , width=largura_da_barra)\n",
    "        \n",
    "   else:\n",
    "       \n",
    "       # Caso o usuário não passe uma largura para a barra, vamos simplesmente\n",
    "       # omitir o parametro width da função plt.hist\n",
    "       plt.hist(data=colunas_numericas, x = coluna, color=cor_da_barra)\n",
    "        \n",
    "       \n",
    "    \n",
    "   # Ira exibir o gráfico no terminal\n",
    "   plt.show()"
   ]
  },
  {
   "cell_type": "markdown",
   "metadata": {},
   "source": [
    "Histograma das idades"
   ]
  },
  {
   "cell_type": "code",
   "execution_count": 19,
   "metadata": {},
   "outputs": [
    {
     "data": {
      "image/png": "[encoded data removed]",
      "text/plain": [
       "<Figure size 640x480 with 1 Axes>"
      ]
     },
     "metadata": {},
     "output_type": "display_data"
    }
   ],
   "source": [
    "criar_histograma('Idade', 'blue', 3)"
   ]
  },
  {
   "cell_type": "markdown",
   "metadata": {},
   "source": [
    "                                Conclusão do histograma das idades\n",
    "A maioria das pessoas que fazem parte da pesquisa posuem entre 20 e 30 anos.\n",
    "\n",
    "A minoria das pessoas das pessoas possuem mais que 50 anos e menos que 60 anos.\n",
    "\n",
    "Podemos obeservar que a pesquisa é composta predominantemente por jovens"
   ]
  },
  {
   "cell_type": "markdown",
   "metadata": {},
   "source": [
    "Histograma das alturas"
   ]
  },
  {
   "cell_type": "code",
   "execution_count": 90,
   "metadata": {},
   "outputs": [
    {
     "data": {
      "image/png": "[encoded data removed]",
      "text/plain": [
       "<Figure size 640x480 with 1 Axes>"
      ]
     },
     "metadata": {},
     "output_type": "display_data"
    }
   ],
   "source": [
    "criar_histograma('Altura','yellow')"
   ]
  },
  {
   "cell_type": "markdown",
   "metadata": {},
   "source": [
    "                                                            Conclusão dos histograma de altura\n",
    "-> A maioria das pessoas estão concentradas na faixa dos 1.6 a 1.8\n",
    "-> A minoria das pessoas estão concentradas na dos 1.9 a 2.0.\n",
    "-> A quantidade de pessoas que possuem 1.9 de altura é maior \n",
    "que a quantidade de pessoas que possuem 1.5 de altura.\n",
    "-> O grupo das pessoas na faixa dos 1.7 a 1.8 ultrapassa dos 400 \n",
    "integrantes"
   ]
  },
  {
   "cell_type": "markdown",
   "metadata": {},
   "source": [
    "Histograma dos pesos"
   ]
  },
  {
   "cell_type": "code",
   "execution_count": 91,
   "metadata": {},
   "outputs": [
    {
     "data": {
      "image/png": "[encoded data removed]",
      "text/plain": [
       "<Figure size 640x480 with 1 Axes>"
      ]
     },
     "metadata": {},
     "output_type": "display_data"
    }
   ],
   "source": [
    "criar_histograma('Peso', 'red')"
   ]
  },
  {
   "cell_type": "markdown",
   "metadata": {},
   "source": [
    "                                                                     Conclusão do histograma de pesos\n",
    "-> Boa parte das pessoas possuem o peso na faixa dos 60 e 80 kilos\n",
    "\n",
    "-> A minoria das pessoas possuem mais de 160 kilos\n",
    "\n",
    "-> Podemos observar que a faixa dos 120 e 160 são menores que as demais\n",
    "faixas\n",
    "\n"
   ]
  },
  {
   "cell_type": "markdown",
   "metadata": {},
   "source": [
    " Histogramas das pessoas que comem vegetais nas refeições"
   ]
  },
  {
   "cell_type": "markdown",
   "metadata": {},
   "source": [
    "Como estamos lidando com quantidade de vegetais, talvez o formato de inteiros\n",
    "seja o mais adequado."
   ]
  },
  {
   "cell_type": "code",
   "execution_count": 12,
   "metadata": {},
   "outputs": [],
   "source": [
    "# Conversão de float para inteiro: Primeiro vamos acessar a coluna\n",
    "# de quantidade de vegetais. Depois, o astype irá converter todos os valores\n",
    "# de float para int. A função irá receber conmo parametro\n",
    "colunas_numericas['Come_vegetais_nas_refeiçoes'] = colunas_numericas['Come_vegetais_nas_refeiçoes'].astype(int)"
   ]
  },
  {
   "cell_type": "code",
   "execution_count": 93,
   "metadata": {},
   "outputs": [
    {
     "data": {
      "image/png": "[encoded data removed]",
      "text/plain": [
       "<Figure size 640x480 with 1 Axes>"
      ]
     },
     "metadata": {},
     "output_type": "display_data"
    }
   ],
   "source": [
    "criar_histograma('Come_vegetais_nas_refeiçoes', 'green')"
   ]
  },
  {
   "cell_type": "markdown",
   "metadata": {},
   "source": [
    "Antes de análisar a conclusão vamos verificar a quantidade de vegetais que cada pessoa\n",
    "consumiu"
   ]
  },
  {
   "cell_type": "code",
   "execution_count": 13,
   "metadata": {},
   "outputs": [
    {
     "data": {
      "text/plain": [
       "Come_vegetais_nas_refeiçoes\n",
       "2    1257\n",
       "3     652\n",
       "1     202\n",
       "Name: count, dtype: int64"
      ]
     },
     "execution_count": 13,
     "metadata": {},
     "output_type": "execute_result"
    }
   ],
   "source": [
    "colunas_numericas['Come_vegetais_nas_refeiçoes'].value_counts()"
   ]
  },
  {
   "cell_type": "markdown",
   "metadata": {},
   "source": [
    "Agora, vamos criar uma função para calcular a porcentagem de pessoas\n",
    "que consumiram uma determinada quantidade de vegetais (no caso, a porcentagem\n",
    "que consumiu vegetais 1, 2 ou 3 vezes)"
   ]
  },
  {
   "cell_type": "code",
   "execution_count": 23,
   "metadata": {},
   "outputs": [],
   "source": [
    "# Função que irá calcular a porcentagem de pessoas que consomem algo\n",
    "# ou realizam determinada ação\n",
    "def calc_porcentagem_pessoas(coluna, valor):\n",
    "    \n",
    "    # Ira filtrar os valores diferentes 0, pois, eles não devem\n",
    "    # entrar na contagem (principalmente quando convertemos as \n",
    "    # colunas de float para inteiro)\n",
    "    valores_diferentes_de_0 = colunas_numericas[coluna] != 0\n",
    "    \n",
    "    # Ira receber o total de colunas diferentes de 0\n",
    "    total_pessoas = valores_diferentes_de_0.sum()\n",
    "    \n",
    "    # Cálculo da porcentagem\n",
    "    porcentagem = (valor / total_pessoas) * 100\n",
    "    \n",
    "    # Impressão dos resultados.\n",
    "    print('Das ', total_pessoas, ' entrevistadas,', round(porcentagem,2),'%',' das pessoas consomem essa quantidade')"
   ]
  },
  {
   "cell_type": "code",
   "execution_count": 21,
   "metadata": {},
   "outputs": [
    {
     "name": "stdout",
     "output_type": "stream",
     "text": [
      "Das  2111  entrevistadas, 59.55 %  das pessoas consomem essa quantidade\n"
     ]
    }
   ],
   "source": [
    "# Chamada da função\n",
    "calc_porcentagem_pessoas('Come_vegetais_nas_refeiçoes', 1257)"
   ]
  },
  {
   "cell_type": "markdown",
   "metadata": {},
   "source": [
    "                                                                    Conclusão do histograma de quantidade de vegetais\n",
    "-> Dos 2116 entrevistados,a maioria das pessoas (59.55%) comem 2 vezes vegetais nas refeições\n",
    "\n",
    "-> A minoria das pessoas (9.57%) comem vegetais apenas 1 vez\n",
    "\n",
    "-> uma quantidade consideravel de pessoas (30.89%) comem vegetais 3 vezes em suas refeições"
   ]
  },
  {
   "cell_type": "markdown",
   "metadata": {},
   "source": [
    "Histograma da quantidade de refeições principais"
   ]
  },
  {
   "cell_type": "markdown",
   "metadata": {},
   "source": [
    "Como nesse caso também vamos falar de quantidade, precisamos converter para inteiro"
   ]
  },
  {
   "cell_type": "code",
   "execution_count": 13,
   "metadata": {},
   "outputs": [],
   "source": [
    "# Vamos selecionar a coluna que queremos trabalhar e converter os valores\n",
    "# para inteiro usando o astype\n",
    "colunas_numericas['Quant_refeiçoes_principais'] = colunas_numericas['Quant_refeiçoes_principais'].astype(int)"
   ]
  },
  {
   "cell_type": "markdown",
   "metadata": {},
   "source": [
    "Analisando a quantidade de pessoas de maneira mais exata"
   ]
  },
  {
   "cell_type": "code",
   "execution_count": 98,
   "metadata": {},
   "outputs": [
    {
     "data": {
      "text/plain": [
       "Quant_refeiçoes_principais\n",
       "3    1362\n",
       "1     395\n",
       "2     285\n",
       "4      69\n",
       "Name: count, dtype: int64"
      ]
     },
     "execution_count": 98,
     "metadata": {},
     "output_type": "execute_result"
    }
   ],
   "source": [
    "colunas_numericas['Quant_refeiçoes_principais'].value_counts()"
   ]
  },
  {
   "cell_type": "code",
   "execution_count": 99,
   "metadata": {},
   "outputs": [
    {
     "data": {
      "image/png": "[encoded data removed]",
      "text/plain": [
       "<Figure size 640x480 with 1 Axes>"
      ]
     },
     "metadata": {},
     "output_type": "display_data"
    }
   ],
   "source": [
    "criar_histograma('Quant_refeiçoes_principais', 'orange')"
   ]
  },
  {
   "cell_type": "markdown",
   "metadata": {},
   "source": [
    "Para aprimorar a nossa análise vamos chamar a função de cálculo de porcentagens"
   ]
  },
  {
   "cell_type": "code",
   "execution_count": 100,
   "metadata": {},
   "outputs": [
    {
     "name": "stdout",
     "output_type": "stream",
     "text": [
      "Das  2111  entrevistadas, 3.27 %  das pessoas consomem essa quantidade\n"
     ]
    }
   ],
   "source": [
    "calc_porcentagem_pessoas('Quant_refeiçoes_principais',  69)"
   ]
  },
  {
   "cell_type": "markdown",
   "metadata": {},
   "source": [
    "                                                               Conclusão do histograma de quantidade de refeições principais\n",
    "-> A maioria dos entrevistados (64,52%) fazem 3 refeições por dia\n",
    "\n",
    "-> Em segundo lugar, temos o grupo que faz apenas 1 refeição por dia.\n",
    "Esse grupo representa 18,71% dos entrevistados.\n",
    "\n",
    "-> No grupo das pessoas que fazem apenas 2 refeições por dia, temos\n",
    "13,5% dos entrevistados\n",
    "\n",
    "-> Já a minoria dos entrevistados (3,27%) fazem 4 refeiçoes por dia."
   ]
  },
  {
   "cell_type": "markdown",
   "metadata": {},
   "source": [
    "Histograma da quantidade de refeições principais"
   ]
  },
  {
   "cell_type": "code",
   "execution_count": 101,
   "metadata": {},
   "outputs": [
    {
     "data": {
      "image/png": "[encoded data removed]",
      "text/plain": [
       "<Figure size 640x480 with 1 Axes>"
      ]
     },
     "metadata": {},
     "output_type": "display_data"
    }
   ],
   "source": [
    "criar_histograma('Quant_agua_ingerida_diariamente', 'gray')"
   ]
  },
  {
   "cell_type": "markdown",
   "metadata": {},
   "source": [
    "Visualizando os numeros com mais precisão: Para facilitar a nossa análise vamos verificar os valores usando o value counts com o intuito de tornar\n",
    "a nossa análise mais assertiva"
   ]
  },
  {
   "cell_type": "code",
   "execution_count": 102,
   "metadata": {},
   "outputs": [
    {
     "data": {
      "text/plain": [
       "Quant_agua_ingerida_diariamente\n",
       "2.000000    448\n",
       "1.000000    211\n",
       "3.000000    162\n",
       "1.636326      3\n",
       "2.825629      3\n",
       "1.876915      2\n",
       "2.450069      2\n",
       "1.490613      2\n",
       "2.115967      2\n",
       "2.137550      2\n",
       "1.179942      2\n",
       "1.229915      2\n",
       "2.426465      2\n",
       "1.656082      2\n",
       "1.984323      2\n",
       "2.843777      2\n",
       "1.439962      2\n",
       "2.174248      2\n",
       "2.371015      2\n",
       "2.530035      2\n",
       "2.184707      2\n",
       "2.406541      2\n",
       "2.444125      2\n",
       "2.654702      2\n",
       "2.147746      2\n",
       "1.031354      2\n",
       "2.320068      1\n",
       "1.650612      1\n",
       "1.610768      1\n",
       "1.796267      1\n",
       "1.728139      1\n",
       "2.005130      1\n",
       "2.054193      1\n",
       "2.852339      1\n",
       "1.792022      1\n",
       "2.074048      1\n",
       "2.456581      1\n",
       "1.527036      1\n",
       "1.322669      1\n",
       "1.569082      1\n",
       "2.650989      1\n",
       "2.027984      1\n",
       "1.253803      1\n",
       "1.298165      1\n",
       "1.632004      1\n",
       "2.099863      1\n",
       "1.863930      1\n",
       "1.049134      1\n",
       "1.530531      1\n",
       "2.721769      1\n",
       "2.730500      1\n",
       "1.787843      1\n",
       "2.673835      1\n",
       "1.773236      1\n",
       "2.622638      1\n",
       "2.911187      1\n",
       "2.310921      1\n",
       "2.148146      1\n",
       "2.157395      1\n",
       "2.894678      1\n",
       "2.025279      1\n",
       "1.692112      1\n",
       "1.438398      1\n",
       "1.191401      1\n",
       "1.016968      1\n",
       "1.695510      1\n",
       "2.036764      1\n",
       "1.266018      1\n",
       "2.792074      1\n",
       "1.426874      1\n",
       "1.315608      1\n",
       "1.963628      1\n",
       "1.086391      1\n",
       "1.981260      1\n",
       "2.358172      1\n",
       "2.931438      1\n",
       "1.274815      1\n",
       "1.282460      1\n",
       "2.875583      1\n",
       "1.387531      1\n",
       "1.164644      1\n",
       "1.848703      1\n",
       "1.325326      1\n",
       "2.278578      1\n",
       "1.153559      1\n",
       "2.976672      1\n",
       "2.975887      1\n",
       "2.702783      1\n",
       "2.120292      1\n",
       "2.949419      1\n",
       "1.109115      1\n",
       "1.910378      1\n",
       "1.965237      1\n",
       "1.846626      1\n",
       "1.014634      1\n",
       "1.601140      1\n",
       "2.975528      1\n",
       "1.835545      1\n",
       "2.953192      1\n",
       "2.285250      1\n",
       "2.004126      1\n",
       "1.333807      1\n",
       "2.685842      1\n",
       "2.013605      1\n",
       "1.954889      1\n",
       "1.751723      1\n",
       "2.891713      1\n",
       "2.369627      1\n",
       "2.263466      1\n",
       "2.044694      1\n",
       "2.482933      1\n",
       "1.041110      1\n",
       "2.550307      1\n",
       "2.346647      1\n",
       "2.566629      1\n",
       "1.220365      1\n",
       "1.916812      1\n",
       "2.306821      1\n",
       "2.924594      1\n",
       "2.241607      1\n",
       "2.318736      1\n",
       "1.131185      1\n",
       "1.145761      1\n",
       "1.198883      1\n",
       "1.185062      1\n",
       "1.774576      1\n",
       "1.326694      1\n",
       "2.233274      1\n",
       "2.548527      1\n",
       "2.387945      1\n",
       "1.248180      1\n",
       "1.304910      1\n",
       "1.676975      1\n",
       "1.310074      1\n",
       "1.543021      1\n",
       "1.960131      1\n",
       "2.453384      1\n",
       "2.654078      1\n",
       "1.990788      1\n",
       "1.029703      1\n",
       "1.670620      1\n",
       "2.020764      1\n",
       "2.212296      1\n",
       "1.995177      1\n",
       "2.357520      1\n",
       "1.356405      1\n",
       "2.121251      1\n",
       "1.777486      1\n",
       "1.873004      1\n",
       "2.076933      1\n",
       "2.575535      1\n",
       "2.839558      1\n",
       "2.196405      1\n",
       "2.204263      1\n",
       "2.542415      1\n",
       "2.003570      1\n",
       "2.993448      1\n",
       "2.009796      1\n",
       "1.949308      1\n",
       "1.491268      1\n",
       "1.095417      1\n",
       "1.055019      1\n",
       "1.134658      1\n",
       "1.596212      1\n",
       "2.026547      1\n",
       "1.147121      1\n",
       "2.765876      1\n",
       "1.064378      1\n",
       "1.099231      1\n",
       "1.994139      1\n",
       "1.745959      1\n",
       "1.549974      1\n",
       "1.997744      1\n",
       "1.249074      1\n",
       "2.582165      1\n",
       "2.311791      1\n",
       "1.546856      1\n",
       "1.755497      1\n",
       "1.959531      1\n",
       "1.015249      1\n",
       "1.246822      1\n",
       "2.487919      1\n",
       "1.496810      1\n",
       "1.322048      1\n",
       "1.764055      1\n",
       "1.927976      1\n",
       "2.072194      1\n",
       "1.283738      1\n",
       "1.815293      1\n",
       "1.015677      1\n",
       "2.722063      1\n",
       "1.345298      1\n",
       "1.825629      1\n",
       "2.207978      1\n",
       "1.074048      1\n",
       "1.456581      1\n",
       "2.951056      1\n",
       "2.803311      1\n",
       "1.972074      1\n",
       "2.430918      1\n",
       "2.229171      1\n",
       "2.746197      1\n",
       "1.530046      1\n",
       "1.701835      1\n",
       "2.367996      1\n",
       "2.292073      1\n",
       "1.549931      1\n",
       "2.061062      1\n",
       "1.591425      1\n",
       "1.278231      1\n",
       "2.628985      1\n",
       "2.326165      1\n",
       "1.226764      1\n",
       "1.174611      1\n",
       "2.377362      1\n",
       "1.344539      1\n",
       "2.425927      1\n",
       "1.817983      1\n",
       "1.205633      1\n",
       "2.008760      1\n",
       "2.069184      1\n",
       "2.495944      1\n",
       "1.957871      1\n",
       "2.043703      1\n",
       "2.109858      1\n",
       "2.177386      1\n",
       "2.168651      1\n",
       "2.112032      1\n",
       "1.081333      1\n",
       "1.005727      1\n",
       "2.045004      1\n",
       "1.277636      1\n",
       "2.597746      1\n",
       "2.632871      1\n",
       "2.429911      1\n",
       "2.972426      1\n",
       "1.926577      1\n",
       "1.771781      1\n",
       "2.759246      1\n",
       "2.734782      1\n",
       "2.721356      1\n",
       "2.133767      1\n",
       "2.081121      1\n",
       "2.926995      1\n",
       "2.217957      1\n",
       "1.810310      1\n",
       "1.639202      1\n",
       "2.374044      1\n",
       "2.876096      1\n",
       "2.184843      1\n",
       "2.568063      1\n",
       "1.333707      1\n",
       "1.164062      1\n",
       "2.028426      1\n",
       "2.364498      1\n",
       "2.824559      1\n",
       "1.077917      1\n",
       "1.131448      1\n",
       "1.172427      1\n",
       "1.040342      1\n",
       "1.274718      1\n",
       "1.977801      1\n",
       "1.622440      1\n",
       "1.675733      1\n",
       "1.328835      1\n",
       "2.756916      1\n",
       "1.364957      1\n",
       "1.859089      1\n",
       "2.328331      1\n",
       "1.696691      1\n",
       "1.144467      1\n",
       "1.859160      1\n",
       "1.045586      1\n",
       "2.651194      1\n",
       "2.474132      1\n",
       "2.078011      1\n",
       "2.397124      1\n",
       "2.813234      1\n",
       "2.781628      1\n",
       "2.203120      1\n",
       "1.871033      1\n",
       "1.711074      1\n",
       "1.797161      1\n",
       "1.394883      1\n",
       "2.881677      1\n",
       "2.795651      1\n",
       "2.111913      1\n",
       "1.971774      1\n",
       "1.853991      1\n",
       "2.197732      1\n",
       "1.641022      1\n",
       "1.130079      1\n",
       "1.352649      1\n",
       "1.968011      1\n",
       "2.100112      1\n",
       "1.362642      1\n",
       "2.645480      1\n",
       "1.000695      1\n",
       "2.616285      1\n",
       "2.039535      1\n",
       "2.943097      1\n",
       "2.868132      1\n",
       "2.526775      1\n",
       "2.638164      1\n",
       "2.976177      1\n",
       "1.827515      1\n",
       "1.305816      1\n",
       "2.663861      1\n",
       "2.568157      1\n",
       "2.359246      1\n",
       "2.763573      1\n",
       "2.682107      1\n",
       "2.526193      1\n",
       "2.878866      1\n",
       "2.558773      1\n",
       "2.046766      1\n",
       "1.648404      1\n",
       "1.579207      1\n",
       "2.079131      1\n",
       "1.081597      1\n",
       "1.833055      1\n",
       "1.281683      1\n",
       "2.080968      1\n",
       "2.136159      1\n",
       "2.152666      1\n",
       "2.372444      1\n",
       "1.706568      1\n",
       "2.643468      1\n",
       "1.279756      1\n",
       "1.075239      1\n",
       "1.438018      1\n",
       "2.657303      1\n",
       "1.509734      1\n",
       "1.150310      1\n",
       "2.396977      1\n",
       "2.813530      1\n",
       "1.334856      1\n",
       "2.118716      1\n",
       "1.622827      1\n",
       "1.512035      1\n",
       "1.274389      1\n",
       "1.017006      1\n",
       "1.028538      1\n",
       "2.122884      1\n",
       "2.703337      1\n",
       "2.429059      1\n",
       "1.319437      1\n",
       "2.004908      1\n",
       "2.209991      1\n",
       "1.979848      1\n",
       "2.387250      1\n",
       "2.175632      1\n",
       "1.738959      1\n",
       "1.723372      1\n",
       "1.970622      1\n",
       "2.763820      1\n",
       "1.290979      1\n",
       "1.453626      1\n",
       "2.957821      1\n",
       "1.937674      1\n",
       "1.131169      1\n",
       "1.142873      1\n",
       "2.020424      1\n",
       "1.810738      1\n",
       "1.184230      1\n",
       "2.879402      1\n",
       "1.699971      1\n",
       "1.538626      1\n",
       "2.971557      1\n",
       "1.082084      1\n",
       "2.269564      1\n",
       "2.482294      1\n",
       "2.653831      1\n",
       "1.954968      1\n",
       "1.519700      1\n",
       "1.628997      1\n",
       "2.981604      1\n",
       "1.517225      1\n",
       "1.999737      1\n",
       "1.642251      1\n",
       "2.549617      1\n",
       "2.774043      1\n",
       "1.774778      1\n",
       "2.802498      1\n",
       "2.877810      1\n",
       "1.708083      1\n",
       "2.991671      1\n",
       "2.253422      1\n",
       "2.397653      1\n",
       "2.629043      1\n",
       "2.984153      1\n",
       "1.753464      1\n",
       "1.056680      1\n",
       "2.205911      1\n",
       "1.791286      1\n",
       "1.117464      1\n",
       "2.693978      1\n",
       "1.172186      1\n",
       "2.641642      1\n",
       "1.718569      1\n",
       "1.526313      1\n",
       "1.830614      1\n",
       "2.001936      1\n",
       "1.367876      1\n",
       "2.174835      1\n",
       "1.849997      1\n",
       "1.207978      1\n",
       "1.964435      1\n",
       "2.747302      1\n",
       "1.507638      1\n",
       "1.909253      1\n",
       "2.472964      1\n",
       "1.002292      1\n",
       "2.147074      1\n",
       "2.803002      1\n",
       "1.931242      1\n",
       "1.029798      1\n",
       "1.723159      1\n",
       "1.639807      1\n",
       "1.400247      1\n",
       "2.994515      1\n",
       "1.868349      1\n",
       "2.707927      1\n",
       "1.568035      1\n",
       "2.832004      1\n",
       "1.087166      1\n",
       "2.503198      1\n",
       "2.469469      1\n",
       "2.405172      1\n",
       "1.651548      1\n",
       "2.766674      1\n",
       "2.279214      1\n",
       "1.985312      1\n",
       "1.944095      1\n",
       "2.035954      1\n",
       "2.452986      1\n",
       "1.622638      1\n",
       "1.221281      1\n",
       "2.413813      1\n",
       "2.442775      1\n",
       "2.168904      1\n",
       "2.196471      1\n",
       "1.919629      1\n",
       "1.844645      1\n",
       "1.996384      1\n",
       "2.265727      1\n",
       "1.259454      1\n",
       "1.833635      1\n",
       "2.999495      1\n",
       "1.962322      1\n",
       "1.163111      1\n",
       "1.204175      1\n",
       "1.622214      1\n",
       "1.400770      1\n",
       "2.056053      1\n",
       "1.983649      1\n",
       "1.199517      1\n",
       "2.386904      1\n",
       "2.165605      1\n",
       "1.660614      1\n",
       "1.855370      1\n",
       "2.154898      1\n",
       "1.398540      1\n",
       "1.522426      1\n",
       "2.606690      1\n",
       "2.456939      1\n",
       "2.978465      1\n",
       "1.992586      1\n",
       "1.302594      1\n",
       "1.278578      1\n",
       "1.846441      1\n",
       "1.995035      1\n",
       "1.606076      1\n",
       "1.568476      1\n",
       "2.166024      1\n",
       "1.744628      1\n",
       "1.921601      1\n",
       "2.088929      1\n",
       "2.559265      1\n",
       "2.192063      1\n",
       "1.146595      1\n",
       "2.976229      1\n",
       "2.845134      1\n",
       "1.809960      1\n",
       "1.999882      1\n",
       "2.010510      1\n",
       "2.778587      1\n",
       "2.136398      1\n",
       "2.184768      1\n",
       "2.035104      1\n",
       "2.905450      1\n",
       "2.159987      1\n",
       "1.307563      1\n",
       "1.336378      1\n",
       "2.452789      1\n",
       "2.740848      1\n",
       "1.855054      1\n",
       "2.535127      1\n",
       "2.083939      1\n",
       "1.337378      1\n",
       "1.992548      1\n",
       "1.873591      1\n",
       "1.994670      1\n",
       "1.946090      1\n",
       "1.026729      1\n",
       "2.045069      1\n",
       "2.509147      1\n",
       "1.771198      1\n",
       "2.504136      1\n",
       "1.505381      1\n",
       "1.846754      1\n",
       "2.598632      1\n",
       "2.843675      1\n",
       "2.777712      1\n",
       "2.715572      1\n",
       "1.630528      1\n",
       "2.287248      1\n",
       "1.776991      1\n",
       "1.406115      1\n",
       "1.530493      1\n",
       "1.459511      1\n",
       "2.348981      1\n",
       "2.680292      1\n",
       "2.205977      1\n",
       "2.166228      1\n",
       "2.432967      1\n",
       "2.777379      1\n",
       "1.372811      1\n",
       "1.689793      1\n",
       "2.771469      1\n",
       "1.155384      1\n",
       "2.160169      1\n",
       "1.850344      1\n",
       "2.034150      1\n",
       "2.081005      1\n",
       "1.608128      1\n",
       "2.715252      1\n",
       "2.279124      1\n",
       "2.497065      1\n",
       "1.117560      1\n",
       "1.911664      1\n",
       "2.962371      1\n",
       "1.930590      1\n",
       "1.535134      1\n",
       "2.102976      1\n",
       "2.091934      1\n",
       "2.094479      1\n",
       "2.939847      1\n",
       "2.358038      1\n",
       "1.955053      1\n",
       "2.112670      1\n",
       "1.051735      1\n",
       "1.220331      1\n",
       "2.925029      1\n",
       "2.858171      1\n",
       "2.852254      1\n",
       "1.798917      1\n",
       "1.722063      1\n",
       "1.827351      1\n",
       "2.135552      1\n",
       "2.021270      1\n",
       "2.235282      1\n",
       "2.010596      1\n",
       "1.274774      1\n",
       "1.893691      1\n",
       "2.854161      1\n",
       "1.229171      1\n",
       "1.163264      1\n",
       "1.271178      1\n",
       "2.117346      1\n",
       "2.952506      1\n",
       "1.746197      1\n",
       "1.249307      1\n",
       "1.335192      1\n",
       "2.104054      1\n",
       "2.041462      1\n",
       "2.785804      1\n",
       "2.973729      1\n",
       "2.988771      1\n",
       "2.659419      1\n",
       "2.768325      1\n",
       "2.839319      1\n",
       "2.269500      1\n",
       "1.513199      1\n",
       "1.326165      1\n",
       "2.773236      1\n",
       "2.779620      1\n",
       "2.574073      1\n",
       "1.383831      1\n",
       "1.157395      1\n",
       "2.415343      1\n",
       "2.745242      1\n",
       "1.026143      1\n",
       "2.358180      1\n",
       "2.438398      1\n",
       "2.191401      1\n",
       "1.001995      1\n",
       "2.627569      1\n",
       "2.104264      1\n",
       "1.931420      1\n",
       "1.972551      1\n",
       "1.084442      1\n",
       "2.655795      1\n",
       "2.967064      1\n",
       "1.796257      1\n",
       "1.997195      1\n",
       "1.358172      1\n",
       "1.193039      1\n",
       "1.039313      1\n",
       "1.655245      1\n",
       "1.003636      1\n",
       "2.793505      1\n",
       "2.401315      1\n",
       "2.110611      1\n",
       "2.480277      1\n",
       "2.224914      1\n",
       "2.151496      1\n",
       "1.882847      1\n",
       "2.600238      1\n",
       "2.642273      1\n",
       "2.923856      1\n",
       "1.506518      1\n",
       "1.808127      1\n",
       "1.947935      1\n",
       "1.872673      1\n",
       "2.471033      1\n",
       "1.889341      1\n",
       "1.468297      1\n",
       "1.998108      1\n",
       "2.548651      1\n",
       "2.977516      1\n",
       "2.022355      1\n",
       "2.364208      1\n",
       "2.326635      1\n",
       "2.506296      1\n",
       "2.428271      1\n",
       "2.519841      1\n",
       "2.776724      1\n",
       "1.186996      1\n",
       "1.603549      1\n",
       "2.133469      1\n",
       "2.183149      1\n",
       "1.172593      1\n",
       "1.911379      1\n",
       "2.869439      1\n",
       "1.572371      1\n",
       "1.440629      1\n",
       "1.005367      1\n",
       "1.046254      1\n",
       "1.399629      1\n",
       "1.567366      1\n",
       "2.210997      1\n",
       "2.218691      1\n",
       "2.691322      1\n",
       "2.929123      1\n",
       "2.530301      1\n",
       "2.263551      1\n",
       "2.668261      1\n",
       "2.791604      1\n",
       "2.856521      1\n",
       "2.257922      1\n",
       "2.042078      1\n",
       "2.280555      1\n",
       "2.313245      1\n",
       "2.765593      1\n",
       "2.677409      1\n",
       "1.385175      1\n",
       "1.687611      1\n",
       "1.095134      1\n",
       "1.618189      1\n",
       "2.500556      1\n",
       "2.714091      1\n",
       "2.697661      1\n",
       "2.290368      1\n",
       "1.025275      1\n",
       "2.515765      1\n",
       "2.039514      1\n",
       "1.904054      1\n",
       "1.779620      1\n",
       "1.033199      1\n",
       "1.383894      1\n",
       "2.524432      1\n",
       "2.014990      1\n",
       "2.096751      1\n",
       "2.073497      1\n",
       "1.234943      1\n",
       "1.613829      1\n",
       "2.654517      1\n",
       "2.895614      1\n",
       "2.416213      1\n",
       "2.121176      1\n",
       "2.362930      1\n",
       "2.434832      1\n",
       "1.001307      1\n",
       "1.403784      1\n",
       "1.979833      1\n",
       "2.379275      1\n",
       "2.649459      1\n",
       "2.885852      1\n",
       "2.325091      1\n",
       "2.533690      1\n",
       "1.941224      1\n",
       "1.935398      1\n",
       "1.618370      1\n",
       "1.551266      1\n",
       "1.440526      1\n",
       "1.759803      1\n",
       "2.090413      1\n",
       "2.806922      1\n",
       "2.616138      1\n",
       "2.297896      1\n",
       "2.708168      1\n",
       "2.530157      1\n",
       "2.140544      1\n",
       "2.480555      1\n",
       "1.991251      1\n",
       "1.183630      1\n",
       "1.953152      1\n",
       "1.162153      1\n",
       "1.880967      1\n",
       "2.652327      1\n",
       "1.022705      1\n",
       "1.107164      1\n",
       "2.623344      1\n",
       "1.166655      1\n",
       "1.048584      1\n",
       "2.151570      1\n",
       "2.152736      1\n",
       "1.813082      1\n",
       "2.277937      1\n",
       "2.172649      1\n",
       "2.174371      1\n",
       "2.851904      1\n",
       "1.275100      1\n",
       "1.725226      1\n",
       "2.054072      1\n",
       "1.645338      1\n",
       "2.023328      1\n",
       "1.111840      1\n",
       "2.822871      1\n",
       "2.048430      1\n",
       "2.030084      1\n",
       "2.490613      1\n",
       "2.161303      1\n",
       "2.377257      1\n",
       "1.555534      1\n",
       "1.340117      1\n",
       "1.430444      1\n",
       "2.165048      1\n",
       "2.117733      1\n",
       "2.141271      1\n",
       "2.075493      1\n",
       "1.972016      1\n",
       "1.021610      1\n",
       "1.541733      1\n",
       "1.619305      1\n",
       "1.295697      1\n",
       "2.040952      1\n",
       "2.358088      1\n",
       "2.816015      1\n",
       "2.684264      1\n",
       "2.077704      1\n",
       "1.152736      1\n",
       "2.154326      1\n",
       "2.165804      1\n",
       "2.078297      1\n",
       "2.092509      1\n",
       "2.939492      1\n",
       "2.478838      1\n",
       "1.970508      1\n",
       "2.316069      1\n",
       "2.173279      1\n",
       "2.208068      1\n",
       "1.478994      1\n",
       "1.515183      1\n",
       "2.020249      1\n",
       "2.089983      1\n",
       "2.530428      1\n",
       "2.363307      1\n",
       "1.745095      1\n",
       "1.879381      1\n",
       "1.279443      1\n",
       "2.738485      1\n",
       "2.045561      1\n",
       "2.375707      1\n",
       "1.962646      1\n",
       "1.016585      1\n",
       "1.368457      1\n",
       "1.530508      1\n",
       "2.003563      1\n",
       "2.017712      1\n",
       "1.014135      1\n",
       "1.003063      1\n",
       "1.120213      1\n",
       "1.800335      1\n",
       "2.008361      1\n",
       "2.005194      1\n",
       "2.003531      1\n",
       "2.740525      1\n",
       "2.949356      1\n",
       "2.318134      1\n",
       "2.462916      1\n",
       "1.983973      1\n",
       "1.999278      1\n",
       "1.015672      1\n",
       "1.142644      1\n",
       "1.292786      1\n",
       "1.179254      1\n",
       "1.000463      1\n",
       "2.065817      1\n",
       "2.155558      1\n",
       "2.111908      1\n",
       "2.101841      1\n",
       "1.254589      1\n",
       "1.520215      1\n",
       "1.483856      1\n",
       "2.001208      1\n",
       "2.292906      1\n",
       "2.357969      1\n",
       "2.338373      1\n",
       "2.104337      1\n",
       "2.164670      1\n",
       "2.170225      1\n",
       "2.040137      1\n",
       "2.049079      1\n",
       "2.807984      1\n",
       "2.867206      1\n",
       "2.960088      1\n",
       "2.514872      1\n",
       "2.194746      1\n",
       "2.240463      1\n",
       "1.279771      1\n",
       "1.344122      1\n",
       "2.038958      1\n",
       "2.028368      1\n",
       "2.019430      1\n",
       "1.726109      1\n",
       "1.732072      1\n",
       "1.225958      1\n",
       "1.693362      1\n",
       "2.104696      1\n",
       "1.842173      1\n",
       "2.011023      1\n",
       "1.375728      1\n",
       "1.533682      1\n",
       "2.022933      1\n",
       "2.002871      1\n",
       "2.013205      1\n",
       "2.002194      1\n",
       "1.125338      1\n",
       "1.014876      1\n",
       "2.660290      1\n",
       "2.302506      1\n",
       "2.133876      1\n",
       "2.060390      1\n",
       "1.892400      1\n",
       "1.796376      1\n",
       "2.041536      1\n",
       "2.006167      1\n",
       "2.357978      1\n",
       "2.229145      1\n",
       "2.357373      1\n",
       "2.828861      1\n",
       "2.284494      1\n",
       "1.968796      1\n",
       "1.458545      1\n",
       "1.560064      1\n",
       "1.809531      1\n",
       "1.591597      1\n",
       "1.711666      1\n",
       "1.013780      1\n",
       "1.413218      1\n",
       "1.238057      1\n",
       "2.164784      1\n",
       "2.085540      1\n",
       "2.006595      1\n",
       "2.018970      1\n",
       "2.102709      1\n",
       "2.099687      1\n",
       "2.144838      1\n",
       "2.109697      1\n",
       "1.981782      1\n",
       "1.984590      1\n",
       "1.006643      1\n",
       "1.870290      1\n",
       "1.381070      1\n",
       "1.251715      1\n",
       "1.345407      1\n",
       "1.486824      1\n",
       "1.591909      1\n",
       "1.336526      1\n",
       "1.362583      1\n",
       "2.145368      1\n",
       "2.080187      1\n",
       "2.299878      1\n",
       "2.193008      1\n",
       "2.718408      1\n",
       "2.795752      1\n",
       "2.531984      1\n",
       "2.543841      1\n",
       "2.024035      1\n",
       "2.038128      1\n",
       "2.715856      1\n",
       "2.501808      1\n",
       "2.116399      1\n",
       "2.128176      1\n",
       "2.165408      1\n",
       "2.156870      1\n",
       "2.042073      1\n",
       "2.115354      1\n",
       "2.092326      1\n",
       "2.151809      1\n",
       "2.902682      1\n",
       "2.966647      1\n",
       "2.565828      1\n",
       "2.730663      1\n",
       "1.784710      1\n",
       "1.824561      1\n",
       "2.310830      1\n",
       "2.364849      1\n",
       "2.173417      1\n",
       "2.106861      1\n",
       "2.146398      1\n",
       "2.224164      1\n",
       "1.662117      1\n",
       "1.491169      1\n",
       "1.834120      1\n",
       "1.508796      1\n",
       "2.002495      1\n",
       "2.007348      1\n",
       "2.081719      1\n",
       "2.079353      1\n",
       "2.436990      1\n",
       "2.444917      1\n",
       "2.098959      1\n",
       "2.503244      1\n",
       "1.885926      1\n",
       "1.959777      1\n",
       "1.831187      1\n",
       "1.895876      1\n",
       "1.270166      1\n",
       "1.153286      1\n",
       "2.732331      1\n",
       "2.628816      1\n",
       "2.017602      1\n",
       "2.067741      1\n",
       "2.435489      1\n",
       "2.640483      1\n",
       "1.967591      1\n",
       "2.626309      1\n",
       "1.006378      1\n",
       "1.011849      1\n",
       "1.175714      1\n",
       "1.590418      1\n",
       "1.128942      1\n",
       "1.448875      1\n",
       "1.366238      1\n",
       "1.023328      1\n",
       "1.197667      1\n",
       "2.838893      1\n",
       "2.181811      1\n",
       "2.774014      1\n",
       "1.666160      1\n",
       "1.471664      1\n",
       "1.347559      1\n",
       "1.338241      1\n",
       "2.679137      1\n",
       "2.578292      1\n",
       "1.302193      1\n",
       "2.408442      1\n",
       "1.705218      1\n",
       "2.374958      1\n",
       "2.869234      1\n",
       "2.987406      1\n",
       "2.737091      1\n",
       "2.623489      1\n",
       "2.612758      1\n",
       "2.687378      1\n",
       "1.852692      1\n",
       "2.865590      1\n",
       "1.003563      1\n",
       "1.077253      1\n",
       "2.714949      1\n",
       "2.154949      1\n",
       "2.893117      1\n",
       "2.709140      1\n",
       "1.570188      1\n",
       "1.412049      1\n",
       "1.156350      1\n",
       "1.154698      1\n",
       "2.691584      1\n",
       "2.709654      1\n",
       "1.485736      1\n",
       "2.874336      1\n",
       "2.641489      1\n",
       "2.417122      1\n",
       "2.900857      1\n",
       "2.953110      1\n",
       "2.617988      1\n",
       "2.550570      1\n",
       "2.653531      1\n",
       "1.698767      1\n",
       "2.848370      1\n",
       "2.835622      1\n",
       "1.050564      1\n",
       "1.068493      1\n",
       "2.613928      1\n",
       "1.239833      1\n",
       "2.861533      1\n",
       "2.832659      1\n",
       "2.418488      1\n",
       "2.304716      1\n",
       "2.763005      1\n",
       "2.652616      1\n",
       "2.553198      1\n",
       "2.180566      1\n",
       "2.209790      1\n",
       "1.444379      1\n",
       "1.604075      1\n",
       "1.528258      1\n",
       "1.228838      1\n",
       "1.615548      1\n",
       "1.945950      1\n",
       "1.709556      1\n",
       "2.507461      1\n",
       "2.644135      1\n",
       "2.605685      1\n",
       "2.217348      1\n",
       "1.657541      1\n",
       "1.817899      1\n",
       "2.509535      1\n",
       "2.578038      1\n",
       "2.501638      1\n",
       "2.250711      1\n",
       "2.366510      1\n",
       "2.309409      1\n",
       "2.436261      1\n",
       "2.833566      1\n",
       "2.724099      1\n",
       "2.989389      1\n",
       "2.559750      1\n",
       "2.635454      1\n",
       "2.625537      1\n",
       "2.884077      1\n",
       "1.919473      1\n",
       "2.310076      1\n",
       "2.686824      1\n",
       "1.621300      1\n",
       "1.517215      1\n",
       "1.796956      1\n",
       "2.085553      1\n",
       "2.837797      1\n",
       "1.000544      1\n",
       "1.005864      1\n",
       "2.319559      1\n",
       "2.069257      1\n",
       "2.956548      1\n",
       "2.777557      1\n",
       "1.295436      1\n",
       "1.241378      1\n",
       "1.313834      1\n",
       "1.124366      1\n",
       "2.673754      1\n",
       "2.704850      1\n",
       "1.607531      1\n",
       "2.748909      1\n",
       "2.351207      1\n",
       "2.404049      1\n",
       "2.923792      1\n",
       "2.955075      1\n",
       "2.554007      1\n",
       "2.511399      1\n",
       "2.653563      1\n",
       "2.588107      1\n",
       "2.325020      1\n",
       "2.836791      1\n",
       "1.019684      1\n",
       "1.032834      1\n",
       "1.653049      1\n",
       "1.204055      1\n",
       "2.691591      1\n",
       "2.531456      1\n",
       "2.226081      1\n",
       "2.164718      1\n",
       "2.770732      1\n",
       "2.814517      1\n",
       "1.626467      1\n",
       "1.480750      1\n",
       "1.526416      1\n",
       "1.482002      1\n",
       "1.610472      1\n",
       "1.530992      1\n",
       "1.484938      1\n",
       "1.910390      1\n",
       "1.411365      1\n",
       "2.417520      1\n",
       "2.688229      1\n",
       "2.695094      1\n",
       "2.618198      1\n",
       "2.555189      1\n",
       "1.419136      1\n",
       "1.422483      1\n",
       "2.426094      1\n",
       "2.495961      1\n",
       "1.797041      1\n",
       "1.768111      1\n",
       "2.365188      1\n",
       "2.299156      1\n",
       "2.684819      1\n",
       "2.841740      1\n",
       "2.796894      1\n",
       "2.987718      1\n",
       "2.675567      1\n",
       "2.770125      1\n",
       "2.621877      1\n",
       "2.720050      1\n",
       "2.436097      1\n",
       "2.535629      1\n",
       "2.678779      1\n",
       "2.569713      1\n",
       "1.759352      1\n",
       "1.837184      1\n",
       "2.856795      1\n",
       "2.846259      1\n",
       "1.067716      1\n",
       "1.029241      1\n",
       "1.074412      1\n",
       "1.030501      1\n",
       "2.699675      1\n",
       "2.830247      1\n",
       "2.305521      1\n",
       "2.155926      1\n",
       "2.784303      1\n",
       "2.786417      1\n",
       "2.707201      1\n",
       "2.709428      1\n",
       "1.525127      1\n",
       "1.554925      1\n",
       "1.170515      1\n",
       "1.436616      1\n",
       "1.242832      1\n",
       "1.542490      1\n",
       "1.205548      1\n",
       "1.301657      1\n",
       "2.704315      1\n",
       "2.639816      1\n",
       "2.708927      1\n",
       "2.704827      1\n",
       "1.395400      1\n",
       "2.611654      1\n",
       "2.868167      1\n",
       "2.247979      1\n",
       "2.702789      1\n",
       "1.663213      1\n",
       "2.414739      1\n",
       "2.351193      1\n",
       "2.896088      1\n",
       "2.862408      1\n",
       "2.887659      1\n",
       "2.893062      1\n",
       "2.619517      1\n",
       "2.682804      1\n",
       "2.552388      1\n",
       "2.617401      1\n",
       "2.654636      1\n",
       "2.569364      1\n",
       "1.322004      1\n",
       "1.292479      1\n",
       "2.839069      1\n",
       "2.843782      1\n",
       "2.858389      1\n",
       "2.864933      1\n",
       "1.031701      1\n",
       "1.000536      1\n",
       "1.020313      1\n",
       "1.063422      1\n",
       "2.451260      1\n",
       "2.613504      1\n",
       "1.042989      1\n",
       "1.237557      1\n",
       "2.833770      1\n",
       "2.816052      1\n",
       "2.682909      1\n",
       "2.640539      1\n",
       "2.472903      1\n",
       "2.372058      1\n",
       "2.387991      1\n",
       "2.322003      1\n",
       "2.737353      1\n",
       "2.739351      1\n",
       "2.632498      1\n",
       "2.632253      1\n",
       "2.577210      1\n",
       "2.419153      1\n",
       "2.609052      1\n",
       "2.476002      1\n",
       "2.225139      1\n",
       "2.556068      1\n",
       "1.423073      1\n",
       "1.299194      1\n",
       "1.679489      1\n",
       "1.495830      1\n",
       "1.817860      1\n",
       "1.967707      1\n",
       "1.441289      1\n",
       "1.144539      1\n",
       "1.353167      1\n",
       "1.409444      1\n",
       "1.959287      1\n",
       "1.931163      1\n",
       "1.651462      1\n",
       "1.683448      1\n",
       "2.395387      1\n",
       "2.523793      1\n",
       "2.638896      1\n",
       "2.666178      1\n",
       "2.495851      1\n",
       "2.609188      1\n",
       "2.471721      1\n",
       "2.447306      1\n",
       "1.674061      1\n",
       "1.678791      1\n",
       "1.777805      1\n",
       "1.733306      1\n",
       "2.435978      1\n",
       "2.909675      1\n",
       "2.751370      1\n",
       "2.887909      1\n",
       "2.411582      1\n",
       "2.386390      1\n",
       "2.232601      1\n",
       "1.755907      1\n",
       "2.336349      1\n",
       "2.562002      1\n",
       "2.305574      1\n",
       "2.319912      1\n",
       "2.701960      1\n",
       "2.704507      1\n",
       "1.115967      1\n",
       "2.094901      1\n",
       "2.984323      1\n",
       "2.347322      1\n",
       "2.331123      1\n",
       "1.757105      1\n",
       "2.847264      1\n",
       "2.884033      1\n",
       "2.506631      1\n",
       "2.815293      1\n",
       "2.593459      1\n",
       "2.487070      1\n",
       "2.651258      1\n",
       "2.768141      1\n",
       "1.716590      1\n",
       "2.474518      1\n",
       "2.748569      1\n",
       "2.827773      1\n",
       "2.632224      1\n",
       "2.868679      1\n",
       "2.930137      1\n",
       "2.961899      1\n",
       "2.550672      1\n",
       "2.584305      1\n",
       "2.621976      1\n",
       "2.722276      1\n",
       "2.634342      1\n",
       "2.619390      1\n",
       "2.786780      1\n",
       "2.863513      1\n",
       "Name: count, dtype: int64"
      ]
     },
     "execution_count": 102,
     "metadata": {},
     "output_type": "execute_result"
    }
   ],
   "source": [
    "colunas_numericas['Quant_agua_ingerida_diariamente'].value_counts()"
   ]
  },
  {
   "cell_type": "markdown",
   "metadata": {},
   "source": [
    "Chamando a função de cálculo de percentuais de pessoas"
   ]
  },
  {
   "cell_type": "code",
   "execution_count": 111,
   "metadata": {},
   "outputs": [
    {
     "name": "stdout",
     "output_type": "stream",
     "text": [
      "Das  2111  entrevistadas, 7.67 %  das pessoas consomem essa quantidade\n"
     ]
    }
   ],
   "source": [
    "calc_porcentagem_pessoas('Quant_agua_ingerida_diariamente', 162)"
   ]
  },
  {
   "cell_type": "markdown",
   "metadata": {},
   "source": [
    "                Conclusão do histograma de quantidade de água ingerida\n",
    "-> A maioria dos entrevistados (21,22%) consomem 2 litros de água por dia\n",
    "\n",
    "-> Em segundo lugar temos o grupo que ingere apenas 1 litro de água por\n",
    "dia (10% das pessoas)\n",
    "\n",
    "-> Ja á minoria das pessoas(7,67% das pessoas) consomem 3 litros de água por dia\n",
    "\n",
    "-> Nessa análise foram consideradas os totais de pessoas de cada faixa ou seja, a quantidade total de pessoas que ingerem 1, 2 ou 3 litros de água \n",
    "por dia\n"
   ]
  },
  {
   "cell_type": "markdown",
   "metadata": {},
   "source": [
    "Histograma das frequências de atividades fisicas"
   ]
  },
  {
   "cell_type": "markdown",
   "metadata": {},
   "source": [
    "Como a frequência de atividade fisica se refere a quantidade de vezes que uma\n",
    "pessoa prática exercicios fisicos ou vai á academia, precisamos converter esses valores de float para inteiros"
   ]
  },
  {
   "cell_type": "code",
   "execution_count": 14,
   "metadata": {},
   "outputs": [],
   "source": [
    "# Priemeiro vamos selecionar a coluna que queremos converter e depois usarameos a função astype\n",
    "# para converter todos os valores da coluna para inteiro\n",
    "colunas_numericas['Frequencia_de_atividade_fisica'] = colunas_numericas['Frequencia_de_atividade_fisica'].astype(int)"
   ]
  },
  {
   "cell_type": "code",
   "execution_count": 127,
   "metadata": {},
   "outputs": [
    {
     "data": {
      "image/png": "[encoded data removed]",
      "text/plain": [
       "<Figure size 640x480 with 1 Axes>"
      ]
     },
     "metadata": {},
     "output_type": "display_data"
    }
   ],
   "source": [
    "criar_histograma('Frequencia_de_atividade_fisica','black')"
   ]
  },
  {
   "cell_type": "markdown",
   "metadata": {},
   "source": [
    "Verificando os valores com mais precisão"
   ]
  },
  {
   "cell_type": "code",
   "execution_count": 129,
   "metadata": {},
   "outputs": [
    {
     "data": {
      "text/plain": [
       "Frequencia_de_atividade_fisica\n",
       "0    1011\n",
       "1     724\n",
       "2     301\n",
       "3      75\n",
       "Name: count, dtype: int64"
      ]
     },
     "execution_count": 129,
     "metadata": {},
     "output_type": "execute_result"
    }
   ],
   "source": [
    "colunas_numericas['Frequencia_de_atividade_fisica'].value_counts()"
   ]
  },
  {
   "cell_type": "markdown",
   "metadata": {},
   "source": [
    "Como nesse caso temos a contagem de pessoas que não praticam exercicios fisicos, vamos calcular manualmente a porcentagem de cada categoria, pois,\n",
    "a nossa função de calculos percentuais de pessoas filtra valores diferentes\n",
    "de 0."
   ]
  },
  {
   "cell_type": "code",
   "execution_count": 15,
   "metadata": {},
   "outputs": [
    {
     "name": "stdout",
     "output_type": "stream",
     "text": [
      "Porcentagem de pessoas que não praticam exercicios:  65.18\n",
      "Porcentagem de pesssoas que praticam apenas 1 vez:  46.68\n",
      "Porcentagem de pesssoas que praticam 2 vezes:  19.41\n",
      "Porcentagem de pessoas que praticam 3 vezes:  4.84\n"
     ]
    }
   ],
   "source": [
    "total_pessoas = colunas_numericas['Frequencia_de_atividade_fisica'].sum()\n",
    "\n",
    "nao_praticam_exercicio = (1011 / total_pessoas) * 100\n",
    "\n",
    "praticam_1_vez = (724 / total_pessoas) * 100\n",
    "\n",
    "praticam_2_vezes = (301 / total_pessoas) * 100  \n",
    "\n",
    "praticam_3_vezes = (75 / total_pessoas) * 100\n",
    "\n",
    "print('Porcentagem de pessoas que não praticam exercicios: ', round(nao_praticam_exercicio,2))\n",
    "\n",
    "print('Porcentagem de pesssoas que praticam apenas 1 vez: ', round(praticam_1_vez, 2))\n",
    "\n",
    "print('Porcentagem de pesssoas que praticam 2 vezes: ', round(praticam_2_vezes, 2))\n",
    "\n",
    "print('Porcentagem de pessoas que praticam 3 vezes: ', round(praticam_3_vezes, 2))"
   ]
  },
  {
   "cell_type": "markdown",
   "metadata": {},
   "source": [
    "                                                               Conclusão do histograma de frequências de atividades fisicas\n",
    "-> 65.18%% das pessoas não praticam atividades fisicas, que no caso desse histograma,\n",
    "é a maioria das pessoas.\n",
    "\n",
    "-> Das pessoas que praticam exercicios, 46.68% (que é a maioria do grupo dos que praticam \n",
    "exercicios) fazem exercicios 1 vez por semana.\n",
    "\n",
    "-> 19,41% das pessoas fazem exercicios 2 vezes por semana.\n",
    "\n",
    "-> Do grupo que pratica exercicios mais vezes durante a semana, apenas 4.84% das pessoas\n",
    "fazem exercicios 3 vezes por dia, que é a minoria das pessoas entrevistadas."
   ]
  },
  {
   "cell_type": "markdown",
   "metadata": {},
   "source": [
    "histograma do tempo em dispositivos eletrônicos"
   ]
  },
  {
   "cell_type": "code",
   "execution_count": 148,
   "metadata": {},
   "outputs": [
    {
     "data": {
      "image/png": "[encoded data removed]",
      "text/plain": [
       "<Figure size 640x480 with 1 Axes>"
      ]
     },
     "metadata": {},
     "output_type": "display_data"
    }
   ],
   "source": [
    "criar_histograma('Tempo_em_dispositivos_eletronicos','green')"
   ]
  },
  {
   "cell_type": "markdown",
   "metadata": {},
   "source": [
    "Visualizando os valores com mais precisão"
   ]
  },
  {
   "cell_type": "code",
   "execution_count": 155,
   "metadata": {},
   "outputs": [
    {
     "data": {
      "text/plain": [
       "Tempo_em_dispositivos_eletronicos\n",
       "0.000000    557\n",
       "1.000000    292\n",
       "2.000000    109\n",
       "0.630866      4\n",
       "1.119877      3\n",
       "0.002600      3\n",
       "0.828549      2\n",
       "0.105895      2\n",
       "0.369134      2\n",
       "1.339232      2\n",
       "0.555468      2\n",
       "0.374650      2\n",
       "0.479221      2\n",
       "1.592570      2\n",
       "1.365950      2\n",
       "1.415536      2\n",
       "1.358163      2\n",
       "1.875023      2\n",
       "0.677909      2\n",
       "0.997400      2\n",
       "0.469735      2\n",
       "0.371941      2\n",
       "0.009254      2\n",
       "0.832400      2\n",
       "0.265790      2\n",
       "0.625350      2\n",
       "0.465444      1\n",
       "0.484165      1\n",
       "0.455823      1\n",
       "0.413106      1\n",
       "0.912457      1\n",
       "0.931455      1\n",
       "0.897924      1\n",
       "0.906247      1\n",
       "0.599270      1\n",
       "0.646288      1\n",
       "0.586035      1\n",
       "0.256382      1\n",
       "1.547086      1\n",
       "1.906141      1\n",
       "1.639326      1\n",
       "0.714627      1\n",
       "0.474836      1\n",
       "1.488372      1\n",
       "0.556245      1\n",
       "1.894105      1\n",
       "1.839862      1\n",
       "1.380204      1\n",
       "1.273333      1\n",
       "0.220029      1\n",
       "0.038380      1\n",
       "1.679149      1\n",
       "0.875464      1\n",
       "1.009632      1\n",
       "0.152985      1\n",
       "0.635867      1\n",
       "0.097234      1\n",
       "1.366355      1\n",
       "0.720454      1\n",
       "0.322307      1\n",
       "0.939819      1\n",
       "0.456462      1\n",
       "1.164457      1\n",
       "0.331483      1\n",
       "0.133005      1\n",
       "1.593704      1\n",
       "1.329237      1\n",
       "1.673584      1\n",
       "0.466169      1\n",
       "0.930926      1\n",
       "0.744555      1\n",
       "1.708309      1\n",
       "1.616045      1\n",
       "1.241755      1\n",
       "0.276592      1\n",
       "0.196224      1\n",
       "0.071028      1\n",
       "0.625079      1\n",
       "1.679442      1\n",
       "0.814518      1\n",
       "0.096982      1\n",
       "0.930051      1\n",
       "1.466667      1\n",
       "1.162801      1\n",
       "0.327376      1\n",
       "0.704978      1\n",
       "0.370973      1\n",
       "0.560351      1\n",
       "1.525597      1\n",
       "1.683261      1\n",
       "0.128895      1\n",
       "1.884138      1\n",
       "0.907868      1\n",
       "1.743319      1\n",
       "1.894902      1\n",
       "1.612466      1\n",
       "0.844004      1\n",
       "1.250871      1\n",
       "1.391948      1\n",
       "0.220087      1\n",
       "0.284453      1\n",
       "0.745680      1\n",
       "0.504176      1\n",
       "0.751212      1\n",
       "0.076654      1\n",
       "0.646423      1\n",
       "0.128394      1\n",
       "0.861809      1\n",
       "0.000355      1\n",
       "0.267076      1\n",
       "1.672508      1\n",
       "0.427461      1\n",
       "1.099764      1\n",
       "1.001405      1\n",
       "1.718513      1\n",
       "1.064700      1\n",
       "1.990617      1\n",
       "1.561272      1\n",
       "1.267290      1\n",
       "0.065515      1\n",
       "0.897942      1\n",
       "0.984680      1\n",
       "0.858820      1\n",
       "1.258881      1\n",
       "0.453649      1\n",
       "1.443328      1\n",
       "1.843830      1\n",
       "1.253311      1\n",
       "1.550110      1\n",
       "1.403037      1\n",
       "0.378619      1\n",
       "0.174848      1\n",
       "1.807465      1\n",
       "0.417116      1\n",
       "1.425903      1\n",
       "0.071317      1\n",
       "0.956204      1\n",
       "1.030848      1\n",
       "0.773087      1\n",
       "0.714701      1\n",
       "0.613971      1\n",
       "0.089220      1\n",
       "1.300692      1\n",
       "1.958089      1\n",
       "1.972926      1\n",
       "1.626194      1\n",
       "0.403694      1\n",
       "1.510609      1\n",
       "0.384662      1\n",
       "1.128355      1\n",
       "0.007872      1\n",
       "0.588994      1\n",
       "0.039210      1\n",
       "1.608265      1\n",
       "1.672532      1\n",
       "1.151166      1\n",
       "0.513427      1\n",
       "0.800993      1\n",
       "0.560887      1\n",
       "1.747256      1\n",
       "1.487223      1\n",
       "0.554072      1\n",
       "0.142056      1\n",
       "0.707044      1\n",
       "0.628059      1\n",
       "0.335200      1\n",
       "0.315918      1\n",
       "0.879977      1\n",
       "1.893880      1\n",
       "0.196680      1\n",
       "0.273882      1\n",
       "1.597608      1\n",
       "1.944675      1\n",
       "1.056911      1\n",
       "1.887386      1\n",
       "0.480813      1\n",
       "1.285373      1\n",
       "1.657098      1\n",
       "0.008899      1\n",
       "1.720642      1\n",
       "1.112489      1\n",
       "0.160138      1\n",
       "1.690102      1\n",
       "1.453335      1\n",
       "0.096614      1\n",
       "0.117303      1\n",
       "0.426643      1\n",
       "1.194633      1\n",
       "0.004813      1\n",
       "0.142638      1\n",
       "0.798219      1\n",
       "1.983678      1\n",
       "0.961806      1\n",
       "0.366126      1\n",
       "0.173796      1\n",
       "0.388271      1\n",
       "1.376124      1\n",
       "1.980875      1\n",
       "0.225960      1\n",
       "0.360193      1\n",
       "0.305954      1\n",
       "0.686529      1\n",
       "0.453314      1\n",
       "0.143675      1\n",
       "0.678618      1\n",
       "0.673835      1\n",
       "0.307982      1\n",
       "0.459759      1\n",
       "1.650778      1\n",
       "0.967919      1\n",
       "0.622638      1\n",
       "0.426465      1\n",
       "0.014885      1\n",
       "0.817983      1\n",
       "0.894678      1\n",
       "0.022245      1\n",
       "0.561602      1\n",
       "0.808599      1\n",
       "0.018877      1\n",
       "0.923082      1\n",
       "1.783319      1\n",
       "0.978574      1\n",
       "1.344072      1\n",
       "0.395468      1\n",
       "0.213437      1\n",
       "1.765321      1\n",
       "0.057926      1\n",
       "0.965604      1\n",
       "1.306000      1\n",
       "0.024088      1\n",
       "0.879925      1\n",
       "1.286844      1\n",
       "0.166076      1\n",
       "0.516084      1\n",
       "0.480214      1\n",
       "0.953841      1\n",
       "0.793900      1\n",
       "0.871772      1\n",
       "0.471663      1\n",
       "1.409198      1\n",
       "1.899073      1\n",
       "1.191053      1\n",
       "0.926581      1\n",
       "0.470243      1\n",
       "0.153559      1\n",
       "0.572877      1\n",
       "0.248218      1\n",
       "0.044954      1\n",
       "1.082660      1\n",
       "0.776758      1\n",
       "0.833761      1\n",
       "0.139013      1\n",
       "0.975540      1\n",
       "1.967259      1\n",
       "1.905826      1\n",
       "0.256977      1\n",
       "1.043108      1\n",
       "0.207922      1\n",
       "0.549250      1\n",
       "0.806069      1\n",
       "0.990741      1\n",
       "0.276806      1\n",
       "0.783336      1\n",
       "0.330457      1\n",
       "0.598999      1\n",
       "0.127879      1\n",
       "0.086868      1\n",
       "0.492528      1\n",
       "1.466496      1\n",
       "0.208323      1\n",
       "0.271024      1\n",
       "1.102696      1\n",
       "0.681730      1\n",
       "0.939726      1\n",
       "0.888680      1\n",
       "1.502839      1\n",
       "0.311436      1\n",
       "0.150969      1\n",
       "1.301385      1\n",
       "1.898139      1\n",
       "1.827530      1\n",
       "1.969507      1\n",
       "1.915191      1\n",
       "1.165817      1\n",
       "1.618227      1\n",
       "0.435072      1\n",
       "1.110222      1\n",
       "1.772463      1\n",
       "1.890214      1\n",
       "0.001096      1\n",
       "0.003229      1\n",
       "1.753745      1\n",
       "1.619473      1\n",
       "0.370067      1\n",
       "0.916291      1\n",
       "0.303025      1\n",
       "0.017225      1\n",
       "0.226097      1\n",
       "0.393358      1\n",
       "1.801322      1\n",
       "1.626456      1\n",
       "1.405086      1\n",
       "0.797215      1\n",
       "0.908836      1\n",
       "0.973834      1\n",
       "1.443212      1\n",
       "0.987102      1\n",
       "1.409130      1\n",
       "1.581703      1\n",
       "0.999183      1\n",
       "0.854050      1\n",
       "1.323877      1\n",
       "0.509396      1\n",
       "0.786609      1\n",
       "0.552498      1\n",
       "1.540298      1\n",
       "1.611271      1\n",
       "0.658783      1\n",
       "0.453404      1\n",
       "0.322405      1\n",
       "0.761898      1\n",
       "0.785190      1\n",
       "1.939770      1\n",
       "1.541493      1\n",
       "0.947192      1\n",
       "1.922364      1\n",
       "0.434198      1\n",
       "0.891189      1\n",
       "0.854536      1\n",
       "1.481890      1\n",
       "1.506576      1\n",
       "0.613902      1\n",
       "0.890626      1\n",
       "1.043435      1\n",
       "1.127675      1\n",
       "1.517897      1\n",
       "0.681773      1\n",
       "0.999268      1\n",
       "0.519395      1\n",
       "0.133566      1\n",
       "0.417580      1\n",
       "0.429081      1\n",
       "0.938791      1\n",
       "0.651904      1\n",
       "0.845774      1\n",
       "0.440087      1\n",
       "0.075823      1\n",
       "0.203978      1\n",
       "0.084006      1\n",
       "0.648522      1\n",
       "0.155278      1\n",
       "0.276364      1\n",
       "0.663649      1\n",
       "0.739609      1\n",
       "0.688013      1\n",
       "1.503010      1\n",
       "0.707246      1\n",
       "0.173665      1\n",
       "0.306124      1\n",
       "1.269982      1\n",
       "1.692287      1\n",
       "0.333673      1\n",
       "0.020153      1\n",
       "1.444532      1\n",
       "1.228995      1\n",
       "0.975504      1\n",
       "1.732160      1\n",
       "0.799756      1\n",
       "0.124977      1\n",
       "0.962468      1\n",
       "1.971170      1\n",
       "1.066708      1\n",
       "0.418623      1\n",
       "1.114716      1\n",
       "1.094941      1\n",
       "0.969097      1\n",
       "1.011983      1\n",
       "0.879333      1\n",
       "0.827439      1\n",
       "0.726118      1\n",
       "0.608607      1\n",
       "0.003695      1\n",
       "1.886855      1\n",
       "0.790967      1\n",
       "0.027093      1\n",
       "0.965464      1\n",
       "0.860321      1\n",
       "0.746651      1\n",
       "0.464022      1\n",
       "1.796136      1\n",
       "0.688293      1\n",
       "0.779334      1\n",
       "0.568668      1\n",
       "1.413375      1\n",
       "1.206535      1\n",
       "0.395979      1\n",
       "1.343044      1\n",
       "1.019452      1\n",
       "0.673408      1\n",
       "0.997600      1\n",
       "1.313363      1\n",
       "0.575848      1\n",
       "0.441502      1\n",
       "1.895312      1\n",
       "0.819475      1\n",
       "1.462664      1\n",
       "1.544357      1\n",
       "0.089354      1\n",
       "0.908271      1\n",
       "0.163329      1\n",
       "1.344030      1\n",
       "0.839659      1\n",
       "0.604730      1\n",
       "0.328030      1\n",
       "1.944177      1\n",
       "1.667745      1\n",
       "0.954216      1\n",
       "1.365793      1\n",
       "1.029135      1\n",
       "0.290898      1\n",
       "0.524015      1\n",
       "0.936925      1\n",
       "0.864583      1\n",
       "1.103349      1\n",
       "1.358812      1\n",
       "0.235711      1\n",
       "0.517430      1\n",
       "1.261043      1\n",
       "1.749586      1\n",
       "0.544899      1\n",
       "0.721167      1\n",
       "0.704637      1\n",
       "1.040787      1\n",
       "0.481357      1\n",
       "0.518542      1\n",
       "0.121992      1\n",
       "0.426830      1\n",
       "0.971746      1\n",
       "0.107240      1\n",
       "0.933802      1\n",
       "0.905181      1\n",
       "0.805008      1\n",
       "0.017016      1\n",
       "0.176892      1\n",
       "1.212762      1\n",
       "0.646514      1\n",
       "0.934493      1\n",
       "0.487375      1\n",
       "0.880414      1\n",
       "0.037634      1\n",
       "0.218574      1\n",
       "0.606264      1\n",
       "0.632467      1\n",
       "0.993786      1\n",
       "1.528714      1\n",
       "0.691944      1\n",
       "0.023564      1\n",
       "1.619596      1\n",
       "1.564796      1\n",
       "0.413752      1\n",
       "1.482016      1\n",
       "1.338655      1\n",
       "0.070897      1\n",
       "1.237867      1\n",
       "1.777950      1\n",
       "1.350099      1\n",
       "0.105936      1\n",
       "0.522259      1\n",
       "0.092736      1\n",
       "1.281141      1\n",
       "1.707018      1\n",
       "0.505266      1\n",
       "1.206251      1\n",
       "0.526999      1\n",
       "0.732265      1\n",
       "0.508663      1\n",
       "0.769060      1\n",
       "0.621605      1\n",
       "1.609773      1\n",
       "1.441605      1\n",
       "1.616826      1\n",
       "0.128681      1\n",
       "0.233314      1\n",
       "0.676557      1\n",
       "0.103056      1\n",
       "1.817146      1\n",
       "0.329367      1\n",
       "1.595306      1\n",
       "1.882539      1\n",
       "0.537202      1\n",
       "1.758865      1\n",
       "0.680215      1\n",
       "0.360370      1\n",
       "0.853891      1\n",
       "1.727828      1\n",
       "0.585912      1\n",
       "1.066603      1\n",
       "0.969085      1\n",
       "1.060530      1\n",
       "1.256119      1\n",
       "1.604608      1\n",
       "0.335158      1\n",
       "0.169294      1\n",
       "1.281541      1\n",
       "0.669616      1\n",
       "1.978043      1\n",
       "0.572185      1\n",
       "1.771135      1\n",
       "0.889517      1\n",
       "1.731070      1\n",
       "0.894105      1\n",
       "0.839862      1\n",
       "0.459274      1\n",
       "0.301909      1\n",
       "1.220029      1\n",
       "0.320851      1\n",
       "0.569852      1\n",
       "0.808980      1\n",
       "0.077818      1\n",
       "0.802305      1\n",
       "1.676944      1\n",
       "1.554404      1\n",
       "0.186414      1\n",
       "1.014808      1\n",
       "0.048617      1\n",
       "0.169879      1\n",
       "0.434600      1\n",
       "0.178708      1\n",
       "0.537659      1\n",
       "0.468483      1\n",
       "0.838847      1\n",
       "0.786066      1\n",
       "1.865851      1\n",
       "1.946173      1\n",
       "0.548539      1\n",
       "0.905596      1\n",
       "0.202902      1\n",
       "1.584830      1\n",
       "1.596562      1\n",
       "1.594050      1\n",
       "1.509831      1\n",
       "0.707780      1\n",
       "0.584755      1\n",
       "0.616045      1\n",
       "1.094046      1\n",
       "0.078607      1\n",
       "1.382906      1\n",
       "1.516731      1\n",
       "0.289218      1\n",
       "1.632506      1\n",
       "1.529423      1\n",
       "0.013483      1\n",
       "0.167728      1\n",
       "1.082838      1\n",
       "0.212767      1\n",
       "1.612432      1\n",
       "1.460564      1\n",
       "1.252677      1\n",
       "1.195929      1\n",
       "1.032392      1\n",
       "0.133523      1\n",
       "0.733221      1\n",
       "0.615990      1\n",
       "1.393220      1\n",
       "1.292476      1\n",
       "0.903903      1\n",
       "0.732881      1\n",
       "1.287117      1\n",
       "1.402414      1\n",
       "0.317846      1\n",
       "0.105408      1\n",
       "0.195339      1\n",
       "1.426103      1\n",
       "0.896185      1\n",
       "0.196084      1\n",
       "1.659476      1\n",
       "0.406990      1\n",
       "0.920858      1\n",
       "0.122280      1\n",
       "1.224737      1\n",
       "1.229474      1\n",
       "0.544128      1\n",
       "0.175587      1\n",
       "1.157466      1\n",
       "0.363549      1\n",
       "0.920162      1\n",
       "0.518297      1\n",
       "0.831412      1\n",
       "0.175694      1\n",
       "0.413220      1\n",
       "0.676880      1\n",
       "0.579541      1\n",
       "0.756339      1\n",
       "0.261793      1\n",
       "1.546738      1\n",
       "0.741069      1\n",
       "1.475740      1\n",
       "1.541455      1\n",
       "1.376597      1\n",
       "1.560402      1\n",
       "0.061282      1\n",
       "0.598244      1\n",
       "0.144510      1\n",
       "1.223661      1\n",
       "1.285838      1\n",
       "1.914531      1\n",
       "0.467048      1\n",
       "0.931721      1\n",
       "0.652485      1\n",
       "0.552665      1\n",
       "1.425852      1\n",
       "0.645400      1\n",
       "1.767468      1\n",
       "1.670313      1\n",
       "0.221830      1\n",
       "0.885532      1\n",
       "0.319008      1\n",
       "0.313016      1\n",
       "0.304020      1\n",
       "1.355370      1\n",
       "1.331527      1\n",
       "1.809310      1\n",
       "1.917679      1\n",
       "0.951740      1\n",
       "0.720411      1\n",
       "1.108145      1\n",
       "1.928972      1\n",
       "0.292956      1\n",
       "0.114716      1\n",
       "0.315261      1\n",
       "0.890213      1\n",
       "1.444033      1\n",
       "0.613992      1\n",
       "0.001716      1\n",
       "0.976473      1\n",
       "0.360986      1\n",
       "0.754417      1\n",
       "0.739006      1\n",
       "0.707768      1\n",
       "0.396352      1\n",
       "0.716327      1\n",
       "0.631825      1\n",
       "0.863740      1\n",
       "1.384186      1\n",
       "1.690901      1\n",
       "1.493716      1\n",
       "0.696948      1\n",
       "0.000436      1\n",
       "1.073900      1\n",
       "0.424612      1\n",
       "0.489854      1\n",
       "1.759954      1\n",
       "0.947866      1\n",
       "0.390178      1\n",
       "1.875683      1\n",
       "0.677354      1\n",
       "1.836853      1\n",
       "0.738935      1\n",
       "0.545993      1\n",
       "0.357314      1\n",
       "0.232858      1\n",
       "1.035711      1\n",
       "1.360463      1\n",
       "0.261901      1\n",
       "0.001330      1\n",
       "0.857438      1\n",
       "0.066805      1\n",
       "0.101026      1\n",
       "1.135503      1\n",
       "0.069367      1\n",
       "0.428452      1\n",
       "0.504816      1\n",
       "0.974939      1\n",
       "0.620465      1\n",
       "0.768071      1\n",
       "1.261705      1\n",
       "0.340196      1\n",
       "0.731257      1\n",
       "0.687342      1\n",
       "0.157007      1\n",
       "0.200516      1\n",
       "0.419055      1\n",
       "0.072264      1\n",
       "0.739684      1\n",
       "0.500936      1\n",
       "0.100048      1\n",
       "1.588046      1\n",
       "1.992190      1\n",
       "1.431200      1\n",
       "1.382995      1\n",
       "0.725222      1\n",
       "1.251554      1\n",
       "0.849503      1\n",
       "0.000073      1\n",
       "1.040713      1\n",
       "0.176678      1\n",
       "0.010721      1\n",
       "0.081156      1\n",
       "0.262118      1\n",
       "1.073026      1\n",
       "1.899330      1\n",
       "0.474216      1\n",
       "1.749920      1\n",
       "1.191998      1\n",
       "0.127673      1\n",
       "1.090995      1\n",
       "1.480875      1\n",
       "0.008343      1\n",
       "1.432336      1\n",
       "0.002168      1\n",
       "0.001640      1\n",
       "0.449886      1\n",
       "0.460866      1\n",
       "1.003011      1\n",
       "0.553311      1\n",
       "0.754023      1\n",
       "0.715993      1\n",
       "1.163117      1\n",
       "1.368262      1\n",
       "0.325445      1\n",
       "0.114457      1\n",
       "0.001590      1\n",
       "0.001337      1\n",
       "0.394533      1\n",
       "0.138314      1\n",
       "0.051268      1\n",
       "1.022505      1\n",
       "0.047473      1\n",
       "0.310394      1\n",
       "0.111925      1\n",
       "0.345887      1\n",
       "1.333559      1\n",
       "0.067410      1\n",
       "0.202810      1\n",
       "0.764452      1\n",
       "0.690353      1\n",
       "0.391740      1\n",
       "0.690082      1\n",
       "0.295685      1\n",
       "0.682128      1\n",
       "0.264969      1\n",
       "0.343635      1\n",
       "1.140348      1\n",
       "1.416353      1\n",
       "1.915818      1\n",
       "1.668318      1\n",
       "0.631217      1\n",
       "0.631422      1\n",
       "0.936480      1\n",
       "0.838947      1\n",
       "0.412329      1\n",
       "1.098380      1\n",
       "1.707421      1\n",
       "0.862587      1\n",
       "1.665621      1\n",
       "1.465479      1\n",
       "1.439004      1\n",
       "0.511694      1\n",
       "0.062167      1\n",
       "0.380979      1\n",
       "0.247332      1\n",
       "0.276319      1\n",
       "0.076693      1\n",
       "0.413663      1\n",
       "0.778375      1\n",
       "0.386861      1\n",
       "1.150439      1\n",
       "0.917727      1\n",
       "0.090341      1\n",
       "0.173232      1\n",
       "0.593917      1\n",
       "0.376683      1\n",
       "0.921991      1\n",
       "1.556052      1\n",
       "0.026575      1\n",
       "0.038253      1\n",
       "0.972054      1\n",
       "0.785701      1\n",
       "0.052942      1\n",
       "0.079334      1\n",
       "0.688985      1\n",
       "1.220767      1\n",
       "0.618087      1\n",
       "0.847587      1\n",
       "1.742880      1\n",
       "1.578517      1\n",
       "0.555591      1\n",
       "0.758897      1\n",
       "1.339691      1\n",
       "0.188693      1\n",
       "0.281815      1\n",
       "0.063005      1\n",
       "1.198439      1\n",
       "0.291600      1\n",
       "0.477870      1\n",
       "1.152899      1\n",
       "0.217632      1\n",
       "0.527766      1\n",
       "0.185499      1\n",
       "1.015467      1\n",
       "0.001867      1\n",
       "0.001518      1\n",
       "0.356868      1\n",
       "0.228598      1\n",
       "0.020044      1\n",
       "0.145284      1\n",
       "0.196952      1\n",
       "0.078207      1\n",
       "0.646760      1\n",
       "1.551934      1\n",
       "0.619012      1\n",
       "0.023959      1\n",
       "0.056351      1\n",
       "0.442456      1\n",
       "0.531769      1\n",
       "0.150544      1\n",
       "0.362160      1\n",
       "0.315595      1\n",
       "0.034897      1\n",
       "1.058007      1\n",
       "1.217929      1\n",
       "0.378818      1\n",
       "0.636289      1\n",
       "1.122118      1\n",
       "0.819980      1\n",
       "1.239038      1\n",
       "1.041677      1\n",
       "0.534769      1\n",
       "0.735868      1\n",
       "0.939665      1\n",
       "0.138418      1\n",
       "0.734210      1\n",
       "0.444532      1\n",
       "0.317940      1\n",
       "0.886135      1\n",
       "0.479348      1\n",
       "0.492394      1\n",
       "0.942320      1\n",
       "0.803141      1\n",
       "0.998646      1\n",
       "0.671458      1\n",
       "0.627886      1\n",
       "0.526776      1\n",
       "0.037078      1\n",
       "0.138563      1\n",
       "0.802136      1\n",
       "0.410651      1\n",
       "0.962336      1\n",
       "0.583450      1\n",
       "0.824607      1\n",
       "0.813784      1\n",
       "0.957463      1\n",
       "0.019310      1\n",
       "0.110518      1\n",
       "0.881848      1\n",
       "0.753077      1\n",
       "0.366385      1\n",
       "0.959218      1\n",
       "0.425473      1\n",
       "0.251150      1\n",
       "0.869238      1\n",
       "0.825609      1\n",
       "0.735201      1\n",
       "0.573958      1\n",
       "0.625371      1\n",
       "0.673210      1\n",
       "0.156187      1\n",
       "0.204820      1\n",
       "0.692343      1\n",
       "0.543960      1\n",
       "0.766668      1\n",
       "0.816986      1\n",
       "0.539074      1\n",
       "0.553093      1\n",
       "0.619235      1\n",
       "0.655571      1\n",
       "0.923005      1\n",
       "0.893514      1\n",
       "0.914492      1\n",
       "0.101867      1\n",
       "0.250502      1\n",
       "0.393838      1\n",
       "0.519905      1\n",
       "0.604422      1\n",
       "0.912187      1\n",
       "0.200122      1\n",
       "0.436068      1\n",
       "0.639561      1\n",
       "0.926052      1\n",
       "0.906611      1\n",
       "0.925843      1\n",
       "0.368472      1\n",
       "0.357581      1\n",
       "0.199227      1\n",
       "0.481031      1\n",
       "0.629285      1\n",
       "0.930836      1\n",
       "0.668172      1\n",
       "0.463196      1\n",
       "0.664880      1\n",
       "0.685129      1\n",
       "0.723366      1\n",
       "0.705580      1\n",
       "0.870920      1\n",
       "0.862724      1\n",
       "0.153462      1\n",
       "0.169016      1\n",
       "0.237307      1\n",
       "0.088309      1\n",
       "0.162494      1\n",
       "0.096576      1\n",
       "0.546137      1\n",
       "0.733085      1\n",
       "0.540812      1\n",
       "0.438216      1\n",
       "0.937492      1\n",
       "0.887388      1\n",
       "0.587932      1\n",
       "0.803156      1\n",
       "0.695838      1\n",
       "0.768375      1\n",
       "0.947091      1\n",
       "0.010056      1\n",
       "0.051858      1\n",
       "0.929356      1\n",
       "0.852362      1\n",
       "0.707494      1\n",
       "0.552006      1\n",
       "0.339290      1\n",
       "0.243338      1\n",
       "0.858392      1\n",
       "0.832515      1\n",
       "0.913360      1\n",
       "0.639894      1\n",
       "0.655558      1\n",
       "0.252635      1\n",
       "0.258472      1\n",
       "0.554150      1\n",
       "0.465607      1\n",
       "0.918468      1\n",
       "0.890527      1\n",
       "0.922749      1\n",
       "0.711331      1\n",
       "0.603736      1\n",
       "0.735372      1\n",
       "0.835771      1\n",
       "0.933964      1\n",
       "0.941336      1\n",
       "0.125235      1\n",
       "0.101598      1\n",
       "0.412806      1\n",
       "0.663492      1\n",
       "0.747909      1\n",
       "0.657221      1\n",
       "0.472343      1\n",
       "0.445495      1\n",
       "0.604692      1\n",
       "0.775820      1\n",
       "0.910683      1\n",
       "0.873936      1\n",
       "0.451377      1\n",
       "0.413474      1\n",
       "0.380695      1\n",
       "0.462973      1\n",
       "0.930888      1\n",
       "0.673009      1\n",
       "0.737226      1\n",
       "0.652289      1\n",
       "0.966181      1\n",
       "0.968151      1\n",
       "0.760091      1\n",
       "0.729722      1\n",
       "0.804491      1\n",
       "0.775378      1\n",
       "0.167790      1\n",
       "0.283804      1\n",
       "0.081929      1\n",
       "0.088236      1\n",
       "0.153669      1\n",
       "0.127443      1\n",
       "0.683736      1\n",
       "0.770200      1\n",
       "0.508848      1\n",
       "0.396972      1\n",
       "0.950438      1\n",
       "0.926443      1\n",
       "0.586163      1\n",
       "0.723154      1\n",
       "0.845633      1\n",
       "0.991473      1\n",
       "0.763990      1\n",
       "0.789064      1\n",
       "0.923760      1\n",
       "0.946030      1\n",
       "0.127775      1\n",
       "0.079673      1\n",
       "0.167272      1\n",
       "0.228486      1\n",
       "0.896105      1\n",
       "0.823069      1\n",
       "0.896842      1\n",
       "0.764717      1\n",
       "0.575969      1\n",
       "0.450479      1\n",
       "0.952352      1\n",
       "0.947884      1\n",
       "0.322666      1\n",
       "0.452236      1\n",
       "0.278962      1\n",
       "0.269577      1\n",
       "0.878258      1\n",
       "0.868788      1\n",
       "0.835090      1\n",
       "0.849236      1\n",
       "0.731213      1\n",
       "0.786665      1\n",
       "0.927982      1\n",
       "0.686491      1\n",
       "0.773190      1\n",
       "0.742423      1\n",
       "0.779641      1\n",
       "0.807457      1\n",
       "0.140368      1\n",
       "0.151710      1\n",
       "0.196288      1\n",
       "0.200379      1\n",
       "0.629578      1\n",
       "0.419446      1\n",
       "0.539876      1\n",
       "0.541309      1\n",
       "0.792496      1\n",
       "0.773807      1\n",
       "0.713823      1\n",
       "0.786846      1\n",
       "0.912345      1\n",
       "0.566353      1\n",
       "0.543118      1\n",
       "0.670402      1\n",
       "0.778632      1\n",
       "0.429540      1\n",
       "0.543761      1\n",
       "0.672513      1\n",
       "0.688058      1\n",
       "0.900497      1\n",
       "0.885993      1\n",
       "0.840911      1\n",
       "0.870795      1\n",
       "0.656491      1\n",
       "0.843283      1\n",
       "0.076094      1\n",
       "0.064769      1\n",
       "0.140792      1\n",
       "0.244205      1\n",
       "0.402075      1\n",
       "0.597626      1\n",
       "0.548590      1\n",
       "0.546345      1\n",
       "0.565315      1\n",
       "0.582840      1\n",
       "0.763359      1\n",
       "0.946888      1\n",
       "0.215230      1\n",
       "0.384129      1\n",
       "0.447224      1\n",
       "0.434073      1\n",
       "0.662277      1\n",
       "0.899673      1\n",
       "0.534553      1\n",
       "0.840393      1\n",
       "0.911335      1\n",
       "0.926565      1\n",
       "0.939982      1\n",
       "0.858059      1\n",
       "0.461532      1\n",
       "0.383953      1\n",
       "0.224559      1\n",
       "0.276907      1\n",
       "0.218645      1\n",
       "0.174030      1\n",
       "0.433463      1\n",
       "0.486558      1\n",
       "0.780199      1\n",
       "0.818871      1\n",
       "0.927341      1\n",
       "0.921136      1\n",
       "0.692608      1\n",
       "0.573887      1\n",
       "0.516764      1\n",
       "0.210997      1\n",
       "0.675076      1\n",
       "0.900067      1\n",
       "0.836151      1\n",
       "0.857718      1\n",
       "0.711724      1\n",
       "0.740331      1\n",
       "0.863043      1\n",
       "0.680746      1\n",
       "0.838957      1\n",
       "1.340107      1\n",
       "0.589980      1\n",
       "1.374650      1\n",
       "1.283673      1\n",
       "0.062488      1\n",
       "0.094213      1\n",
       "0.738269      1\n",
       "0.860497      1\n",
       "0.478676      1\n",
       "0.555967      1\n",
       "0.928972      1\n",
       "0.714137      1\n",
       "0.294990      1\n",
       "0.599441      1\n",
       "0.503896      1\n",
       "0.561661      1\n",
       "0.662489      1\n",
       "0.902825      1\n",
       "0.901071      1\n",
       "0.269560      1\n",
       "0.028583      1\n",
       "0.138629      1\n",
       "0.080128      1\n",
       "0.224655      1\n",
       "0.232108      1\n",
       "0.123861      1\n",
       "0.091711      1\n",
       "0.178301      1\n",
       "0.171034      1\n",
       "0.097760      1\n",
       "0.813235      1\n",
       "Name: count, dtype: int64"
      ]
     },
     "execution_count": 155,
     "metadata": {},
     "output_type": "execute_result"
    }
   ],
   "source": [
    "colunas_numericas['Tempo_em_dispositivos_eletronicos'].value_counts()"
   ]
  },
  {
   "cell_type": "markdown",
   "metadata": {},
   "source": [
    "Vamos novamente fazer manualmente já que nesse caso também consideramos quem também não\n",
    "utiliza dispositivos eletrônicos. Nesse caso também vamos considerar na análise, apenas\n",
    "o total que é formado pelas faixas de tempo que representam as categorias 0 (não utilizam\n",
    "dispositivos eletronicos), 1 hora, 2 horas."
   ]
  },
  {
   "cell_type": "code",
   "execution_count": 16,
   "metadata": {},
   "outputs": [
    {
     "name": "stdout",
     "output_type": "stream",
     "text": [
      "Porcentagem das pessoas que não utilizam dispositivos eletrônicos:  40.11\n",
      "Porcentagem das pessoas que utilizam dispositivos eletrônicos por 1 hora:  21.03\n",
      "Porcentagem das pessoas que utilzam dispositivos eletrônicos durante 2 horas:  7.85\n",
      "Total de entrevistados:  1388.75\n"
     ]
    }
   ],
   "source": [
    "total_pessoas = colunas_numericas['Tempo_em_dispositivos_eletronicos'].sum()\n",
    "\n",
    "nao_utilzam = (557 / total_pessoas) * 100\n",
    "\n",
    "utilizam_1_hora = (292 / total_pessoas) * 100\n",
    "\n",
    "utilizam_2_horas = (109 / total_pessoas) * 100\n",
    "\n",
    "print('Porcentagem das pessoas que não utilizam dispositivos eletrônicos: ', round(nao_utilzam, 2))\n",
    "\n",
    "print('Porcentagem das pessoas que utilizam dispositivos eletrônicos por 1 hora: ', round(utilizam_1_hora, 2))\n",
    "\n",
    "print('Porcentagem das pessoas que utilzam dispositivos eletrônicos durante 2 horas: ', round(utilizam_2_horas, 2))\n",
    "\n",
    "print('Total de entrevistados: ', round(total_pessoas, 2))"
   ]
  },
  {
   "cell_type": "markdown",
   "metadata": {},
   "source": [
    "                                                       Conclusão do histograma de tempo em dispositivos eletrônicos\n",
    "-> A maioria das pessoas (40,11 %) não utilizam dispositivos eletrônicos\n",
    "\n",
    "-> Do grupo que utiliza dispositivos eletrônicos, a maioria utiliza por \n",
    "apenas 1 hora, sendo 21,03% das pessoas\n",
    "\n",
    "-> Ja a minoria dos entrevistados utilizam dispositivos eletrônicos por 2 horas.\n",
    "\n",
    "-> Vale lembrar que utilizamos o total de cada faixa de horário no calculo das\n",
    "porcentagens"
   ]
  },
  {
   "cell_type": "markdown",
   "metadata": {},
   "source": [
    "Boxplot: Identifcar outliers e comparar a distribuição de variáveis \n",
    "numéricas entre grupos (por exemplo, homens e mulheres)."
   ]
  },
  {
   "cell_type": "markdown",
   "metadata": {},
   "source": [
    "A minha idéia é criar uma função que cria subplots que irá colocar \n",
    "2 boxplots um do lado do outro para verificarmos a distribuição dos\n",
    "dados entre os grupos de variáveis numéricas."
   ]
  },
  {
   "cell_type": "code",
   "execution_count": 17,
   "metadata": {},
   "outputs": [],
   "source": [
    "\n",
    "# Função que irá criar os subplots de boxplot: A função ira receber\n",
    "# como argumento o nome das colunas que serão analisadas no subplot\n",
    "def criar_boxplot(coluna1, coluna2 ):\n",
    "    \n",
    "    # Ira definir o tamanho da imagem que ira conter os 2 boxplots\n",
    "    plt.figure(figsize=(15,6))\n",
    "    \n",
    "    # Os nossos subplots irão ter 1 linha 2 e colunas\n",
    "    \n",
    "    # O primeiro subplot irá ocupar o 1° espaço (que está sendo representado\n",
    "    #  pelo último valor da função)\n",
    "    plt.subplot(1,2,1)\n",
    "    \n",
    "    # Ira definir o titulo do gráfico alinhado a esquerda e com tamanho da fonte 14\n",
    "    # o name serve para capturar o nome da 1° coluna\n",
    "    plt.title(f'Boxplot da coluna {colunas_numericas[coluna1].name}', fontsize=14, loc='center')\n",
    "\n",
    "    # Ira definir o rótulo do eixo usando o nome da 1° coluna\n",
    "    plt.xlabel(colunas_numericas[coluna1].name)\n",
    "    \n",
    "    # função que irá criar o boxplot: A função receberá como argumento\n",
    "    # a base de dados analisada e a 1° coluna como valor do eixo X.\n",
    "    sns.boxplot(data=colunas_numericas, x=coluna1)\n",
    "    \n",
    "    # O segundo subplot irá ocupar o 2° espaço da imagem\n",
    "    plt.subplot(1,2, 2)\n",
    "    \n",
    "     # Ira definir o titulo do gráfico alinhado a esquerda e com tamanho da fonte 14\n",
    "     # O name serve para capturar o nome da 2° coluna\n",
    "    plt.title(f'Boxplot da coluna {colunas_numericas[coluna2].name}', fontsize=14, loc='center')\n",
    "    \n",
    "    # Ira definir o rótulo do eixo usando o nome da 2° coluna\n",
    "    plt.xlabel(colunas_numericas[coluna2].name)\n",
    "    \n",
    "    # função que irá criar o boxplot: A função receberá como argumento\n",
    "    # a base de dados analisada e a 2° coluna como valor do eixo X.\n",
    "    sns.boxplot(data=colunas_numericas, x=coluna2)\n",
    "    \n",
    "    # Ira exibir os gráficos\n",
    "    plt.show()\n",
    "    \n",
    "    \n",
    "    "
   ]
  },
  {
   "cell_type": "markdown",
   "metadata": {},
   "source": [
    "Boxplot de frequencia de atividades fisicas e quantidade de águas \n",
    "ingeridas"
   ]
  },
  {
   "cell_type": "code",
   "execution_count": 21,
   "metadata": {},
   "outputs": [
    {
     "data": {
      "image/png": "[encoded data removed]",
      "text/plain": [
       "<Figure size 1500x600 with 2 Axes>"
      ]
     },
     "metadata": {},
     "output_type": "display_data"
    }
   ],
   "source": [
    "\n",
    "criar_boxplot('Frequencia_de_atividade_fisica', 'Quant_agua_ingerida_diariamente')"
   ]
  },
  {
   "cell_type": "markdown",
   "metadata": {},
   "source": [
    "Como a coluna de atividades fisícas é do tipo inteiro, o boxplot teve \n",
    "dificuldades em traçar a linha da mediana, então, resolvi chamar a\n",
    "função de imprimirValores para descobrir a mediana da coluna."
   ]
  },
  {
   "cell_type": "code",
   "execution_count": 24,
   "metadata": {},
   "outputs": [
    {
     "name": "stdout",
     "output_type": "stream",
     "text": [
      "Média dos valores da coluna de  Frequencia_de_atividade_fisica :  1.01\n",
      "Mediana dos valores da coluna de  Frequencia_de_atividade_fisica :  1.0\n",
      "Moda dos valores da coluna de  Frequencia_de_atividade_fisica :  0    0.0\n",
      "Name: Frequencia_de_atividade_fisica, dtype: float64\n"
     ]
    }
   ],
   "source": [
    "imprimirValores('Frequencia_de_atividade_fisica')"
   ]
  },
  {
   "cell_type": "markdown",
   "metadata": {},
   "source": [
    "                            Conclusão do boxplot\n",
    "-> O boxplot de atividades fisicas indica que o menor valor da coluna é 0\n",
    "(pessoas que não praticam atividade fisica) e o maior valor é 2 (pessoas\n",
    "que praticam exercicios fisicos 2 vezes na semana).\n",
    "\n",
    "-> O boxplot de atividades fisicas tem o valor 1 como mediana. Há poucos \n",
    " outliers (valor fora do padrão) no 3 (que é a minoria das pessoas,\n",
    " que como verificamos anteriormente, praticam exercicios fisicos 3\n",
    " vezes na semana ).\n",
    "\n",
    " -> O boxplot de quantidade de água ingerida indica que o menor valor\n",
    " da coluna é 1 (litro) e o maior valor é 3 (litros)\n",
    "\n",
    " -> A mediana da coluna de aguas ingeridas é de 2 litros e não\n",
    " há valores fora do pradrão, ou seja, não há outliers.\n",
    "\n",
    " -> A parte das distribuições está balanceada, ou seja, eles possuem\n",
    " quase os mesmos numeros de pessoas, porém, a coluna sobre a quantidade\n",
    " de águas ingeridas possui um pouco mais de pessoas. É possivel observar\n",
    " a diferença se percebemos que o primeiro boxplot vai de 0 a 1 e o segundo\n",
    " vai de 1.50 a 2.50"
   ]
  },
  {
   "cell_type": "markdown",
   "metadata": {},
   "source": [
    "Boxplot do consumo de vegetais e peso"
   ]
  },
  {
   "cell_type": "code",
   "execution_count": 25,
   "metadata": {},
   "outputs": [
    {
     "data": {
      "image/png": "[encoded data removed]",
      "text/plain": [
       "<Figure size 1500x600 with 2 Axes>"
      ]
     },
     "metadata": {},
     "output_type": "display_data"
    }
   ],
   "source": [
    "criar_boxplot('Come_vegetais_nas_refeiçoes', 'Peso')"
   ]
  },
  {
   "cell_type": "markdown",
   "metadata": {},
   "source": [
    "Como a coluna de consumo vegetais é do tipo inteiro vamos usar a coluna de imprimir valores para \n",
    "verificar de forma exata a mediana. Como falamos anteriormente o o boxplot tem dificuldades em\n",
    "traçar a linha da mediana das colunas de tipo inteiro"
   ]
  },
  {
   "cell_type": "code",
   "execution_count": 26,
   "metadata": {},
   "outputs": [
    {
     "name": "stdout",
     "output_type": "stream",
     "text": [
      "Média dos valores da coluna de  Come_vegetais_nas_refeiçoes :  2.42\n",
      "Mediana dos valores da coluna de  Come_vegetais_nas_refeiçoes :  2.39\n",
      "Moda dos valores da coluna de  Come_vegetais_nas_refeiçoes :  0    3.0\n",
      "Name: Come_vegetais_nas_refeiçoes, dtype: float64\n"
     ]
    }
   ],
   "source": [
    "imprimirValores('Come_vegetais_nas_refeiçoes')"
   ]
  },
  {
   "cell_type": "markdown",
   "metadata": {},
   "source": [
    "Como a linha da mediana do boxplot de peso está um pouco ácima do 80, também vamos usar\n",
    "a função imprimirValores para ver o valor de forma exata"
   ]
  },
  {
   "cell_type": "code",
   "execution_count": 28,
   "metadata": {},
   "outputs": [
    {
     "name": "stdout",
     "output_type": "stream",
     "text": [
      "Média dos valores da coluna de  Peso :  86.59\n",
      "Mediana dos valores da coluna de  Peso :  83.0\n",
      "Moda dos valores da coluna de  Peso :  0    80.0\n",
      "Name: Peso, dtype: float64\n"
     ]
    }
   ],
   "source": [
    "imprimirValores('Peso')"
   ]
  },
  {
   "cell_type": "markdown",
   "metadata": {},
   "source": [
    "          Conclusão do boxplot\n",
    "-> o boxplot de quantidade de vegetais indica que o maior valor de vegetais\n",
    "consumidom é o 3 e o menor valor é o 1. A mediana da coluna de vegetais é 2.39.\n",
    "\n",
    "-> Não há outliers na coluna de quantidade de vegetais, o que indica que os \n",
    "valores estão bem distribuidos nessa coluna.\n",
    "\n",
    "-> O menor valor da coluna de peso é 40 e o maior valor é o 160. O valor\n",
    "da mediana, ou seja, o valor que divide os em 50% é o 83.\n",
    "\n",
    "-> Podemos observar que há pequenos outliers que se encontram acima do maior\n",
    "valor, 0 160 (que representam uma minoria de pessoas que possuem peso superior a 160), entretanto, ainda podemos considerar que a coluna de peso é bem\n",
    "distribuida.\n",
    "\n",
    "-> Concluindo: se formos comaparar, ambas variaveis estão bem distribuidas,\n",
    "mas, vale lembrar que a coluna de peso possui uma pequena assimetria, representada pelos outliers.\n",
    "\n",
    "Assimetria: Se refere a falta de simetria em uma distribuição de dados.\n",
    "Imagine um gráfico de barras: se ele for perfeitamente simétrico, \n",
    "significará que há mais valores concentrados em uma determinada região\n",
    "do gráfico e menos em outra."
   ]
  },
  {
   "cell_type": "markdown",
   "metadata": {},
   "source": [
    "Gráficos de barras: Verificar a frequência de categorias para variáveis categóricas"
   ]
  },
  {
   "cell_type": "markdown",
   "metadata": {},
   "source": [
    "Primeiro, Vamos visualizar as colunas categóricas para facilitar o nosso processo de análise"
   ]
  },
  {
   "cell_type": "code",
   "execution_count": 27,
   "metadata": {},
   "outputs": [
    {
     "data": {
      "text/plain": [
       "Index(['Genero', 'Historico_Familiar', 'Frequencia_em_alimentos_caloricos',\n",
       "       'Come_algo_entre_as_refeiçoes', 'Fuma', 'Monitora_calorias_diariamente',\n",
       "       'Frequencia_que_ingere_alcool', 'Transporte_utilizado',\n",
       "       'Nivel_Obesidade'],\n",
       "      dtype='object')"
      ]
     },
     "execution_count": 27,
     "metadata": {},
     "output_type": "execute_result"
    }
   ],
   "source": [
    "colunas_categoricas.columns"
   ]
  },
  {
   "cell_type": "markdown",
   "metadata": {},
   "source": [
    "Nesse caso não irei criar uma função, pois, cada coluna terá uma quantidade diferente de\n",
    "valores únicos, ou seja, cada gráfico terá as suas particularidades em sua construção"
   ]
  },
  {
   "cell_type": "markdown",
   "metadata": {},
   "source": [
    "Grafico de barras da coluna de gênero"
   ]
  },
  {
   "cell_type": "code",
   "execution_count": 47,
   "metadata": {},
   "outputs": [
    {
     "name": "stderr",
     "output_type": "stream",
     "text": [
      "C:\\Users\\caike\\AppData\\Local\\Temp\\ipykernel_13496\\2070640652.py:13: FutureWarning: \n",
      "\n",
      "Passing `palette` without assigning `hue` is deprecated and will be removed in v0.14.0. Assign the `x` variable to `hue` and set `legend=False` for the same effect.\n",
      "\n",
      "  sns.countplot(data=colunas_categoricas, x='Genero', palette=['pink', 'blue'], width=0.1)\n"
     ]
    },
    {
     "data": {
      "image/png": "[encoded data removed]",
      "text/plain": [
       "<Figure size 640x480 with 1 Axes>"
      ]
     },
     "metadata": {},
     "output_type": "display_data"
    }
   ],
   "source": [
    "# Ira definir o titulo do gráfico\n",
    "plt.title('Distribuição por gênero', fontsize=14, loc='center')\n",
    "\n",
    "# Ira definir o rótulo do eixo x\n",
    "plt.xlabel('Gêneros')\n",
    "\n",
    "# Ira definir o rótulo do eixo y\n",
    "plt.ylabel('Distribuição (quantidade de pessoas)')\n",
    "\n",
    "# O countplot serve é uma função da biblioteca seaborn que permite visualizar\n",
    "# a contagem de observações para cada categoria de uma variável categórica.\n",
    "# Em outras palavras ele cria um gráfico de barras que representa a frequência de uma determinada categoria.\n",
    "sns.countplot(data=colunas_categoricas, x='Genero', palette=['pink', 'blue'], width=0.1)\n",
    "\n",
    "# Irá definir a legenda do gráfico\n",
    "plt.legend(labels=['Mulheres', 'Homens'], loc='center')\n",
    "\n",
    "# Ira exibir o gráfico \n",
    "plt.show()"
   ]
  },
  {
   "cell_type": "markdown",
   "metadata": {},
   "source": [
    "Vamos usar o value_counts para visulizar os valores exatos"
   ]
  },
  {
   "cell_type": "code",
   "execution_count": 21,
   "metadata": {},
   "outputs": [
    {
     "data": {
      "text/plain": [
       "Genero\n",
       "Male      1068\n",
       "Female    1043\n",
       "Name: count, dtype: int64"
      ]
     },
     "execution_count": 21,
     "metadata": {},
     "output_type": "execute_result"
    }
   ],
   "source": [
    "colunas_categoricas['Genero'].value_counts()"
   ]
  },
  {
   "cell_type": "markdown",
   "metadata": {},
   "source": [
    "Chamando a função de calculo de porcentagens"
   ]
  },
  {
   "cell_type": "code",
   "execution_count": 26,
   "metadata": {},
   "outputs": [
    {
     "data": {
      "text/plain": [
       "2.3969319271332696"
      ]
     },
     "execution_count": 26,
     "metadata": {},
     "output_type": "execute_result"
    }
   ],
   "source": [
    "calc_diferenca_percentual(1068, 1043)"
   ]
  },
  {
   "cell_type": "markdown",
   "metadata": {},
   "source": [
    "Conclusão do gráfico de distribuição de gêneros:\n",
    "\n",
    "-> É possivel notar pelo gráfico que a distribuição está bem equilibrada\n",
    "\n",
    "->É possivel notar que há mais homens do que mulheres, onde o grupo dos \n",
    " homens é 2,39% maior que o grupo das mulheres."
   ]
  },
  {
   "cell_type": "markdown",
   "metadata": {},
   "source": [
    "Gráfico de barras da coluna de históricos familiar"
   ]
  },
  {
   "cell_type": "code",
   "execution_count": 44,
   "metadata": {},
   "outputs": [
    {
     "name": "stderr",
     "output_type": "stream",
     "text": [
      "C:\\Users\\caike\\AppData\\Local\\Temp\\ipykernel_13496\\3376729490.py:7: FutureWarning: \n",
      "\n",
      "Passing `palette` without assigning `hue` is deprecated and will be removed in v0.14.0. Assign the `x` variable to `hue` and set `legend=False` for the same effect.\n",
      "\n",
      "  sns.countplot(data=colunas_categoricas, x='Historico_Familiar' , width=0.1, palette=['blue', 'red'])\n"
     ]
    },
    {
     "data": {
      "image/png": "[encoded data removed]",
      "text/plain": [
       "<Figure size 640x480 with 1 Axes>"
      ]
     },
     "metadata": {},
     "output_type": "display_data"
    }
   ],
   "source": [
    "\n",
    "plt.title('Distribuição dos históricos familiares', fontsize=14, loc='center')\n",
    "\n",
    "plt.xlabel('Histórico familiar')\n",
    "\n",
    "plt.ylabel('Quantidade de pessoas')\n",
    "\n",
    "sns.countplot(data=colunas_categoricas, x='Historico_Familiar' , width=0.1, palette=['blue', 'red'])\n",
    "\n",
    "plt.legend(labels=['Possui histórico', 'Não possui histórico'],loc='upper right')\n",
    "plt.show()"
   ]
  },
  {
   "cell_type": "markdown",
   "metadata": {},
   "source": [
    "Usando o value_counts para visualizar os valores de forma mais exata"
   ]
  },
  {
   "cell_type": "code",
   "execution_count": 49,
   "metadata": {},
   "outputs": [
    {
     "data": {
      "text/plain": [
       "Historico_Familiar\n",
       "yes    1726\n",
       "no      385\n",
       "Name: count, dtype: int64"
      ]
     },
     "execution_count": 49,
     "metadata": {},
     "output_type": "execute_result"
    }
   ],
   "source": [
    "colunas_categoricas['Historico_Familiar'].value_counts()"
   ]
  },
  {
   "cell_type": "markdown",
   "metadata": {},
   "source": [
    "Chamando a função de diferenças percentuais"
   ]
  },
  {
   "cell_type": "code",
   "execution_count": 50,
   "metadata": {},
   "outputs": [
    {
     "data": {
      "text/plain": [
       "348.31168831168833"
      ]
     },
     "execution_count": 50,
     "metadata": {},
     "output_type": "execute_result"
    }
   ],
   "source": [
    "calc_diferenca_percentual(1726, 385)"
   ]
  },
  {
   "cell_type": "markdown",
   "metadata": {},
   "source": [
    "Conclusão do gráfico de barras dos históricos familiares:\n",
    "\n",
    "-> É possivel notar que a quantidade de pessoas com histórico familaires de\n",
    "obesidade é muito maior do que as pessoas que não possuem um histórico de \n",
    "obesidade\n",
    "\n",
    "-> Podemos observar que o grupo de pessoas que possuem o historico de obesidade\n",
    "´348% maior que o grupo que não possui históricos de obesidade"
   ]
  }
 ],
 "metadata": {
  "kernelspec": {
   "display_name": "Python 3",
   "language": "python",
   "name": "python3"
  },
  "language_info": {
   "codemirror_mode": {
    "name": "ipython",
    "version": 3
   },
   "file_extension": ".py",
   "mimetype": "text/x-python",
   "name": "python",
   "nbconvert_exporter": "python",
   "pygments_lexer": "ipython3",
   "version": "3.12.8"
  }
 },
 "nbformat": 4,
 "nbformat_minor": 2
}
